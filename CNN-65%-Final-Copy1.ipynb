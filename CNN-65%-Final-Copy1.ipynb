{
 "cells": [
  {
   "cell_type": "code",
   "execution_count": null,
   "id": "1a25adb9",
   "metadata": {},
   "outputs": [],
   "source": [
    "\n",
    "import numpy as np\n",
    "\n",
    "\n",
    "import tensorflow as tf\n",
    "from tensorflow.keras.preprocessing.image import ImageDataGenerator\n",
    "import matplotlib.pyplot as plt\n",
    "import numpy as np\n",
    "import pandas as pd\n",
    "import tensorflow as tf\n",
    "\n",
    "from sklearn.metrics import accuracy_score, precision_score, recall_score\n",
    "from sklearn.model_selection import train_test_split\n",
    "from tensorflow.keras import layers, losses\n",
    "from tensorflow.keras.datasets import fashion_mnist\n",
    "from tensorflow.keras.models import Model"
   ]
  },
  {
   "cell_type": "code",
   "execution_count": 2,
   "id": "ee9e2c08",
   "metadata": {},
   "outputs": [],
   "source": [
    "import pandas as pd"
   ]
  },
  {
   "cell_type": "code",
   "execution_count": 3,
   "id": "761ad16f",
   "metadata": {},
   "outputs": [],
   "source": [
    "from tensorflow.keras.layers import Activation, Conv2D, MaxPooling2D, Dense, Flatten, Dropout, BatchNormalization"
   ]
  },
  {
   "cell_type": "code",
   "execution_count": 4,
   "id": "d1f8c806",
   "metadata": {},
   "outputs": [],
   "source": [
    "train_path= './train'\n",
    "test_path= './test'"
   ]
  },
  {
   "cell_type": "code",
   "execution_count": 5,
   "id": "cb17d462",
   "metadata": {},
   "outputs": [
    {
     "name": "stdout",
     "output_type": "stream",
     "text": [
      "Found 28709 images belonging to 7 classes.\n",
      "Found 7178 images belonging to 7 classes.\n"
     ]
    }
   ],
   "source": [
    "train_datagen = ImageDataGenerator(rescale=1.0/255,\n",
    "                                   zoom_range= 0.2,\n",
    "                                   horizontal_flip=True,\n",
    "                                   shear_range=0.2)\n",
    "\n",
    "test_datagen = ImageDataGenerator(rescale=1.0/255)\n",
    "\n",
    "#Read our images to the data augmentations\n",
    "#Generates batches of augmented data\n",
    "train = train_datagen.flow_from_directory(train_path,\n",
    "                                          color_mode = 'grayscale',\n",
    "                                          target_size = (48, 48),\n",
    "                                          batch_size = 64,\n",
    "                                          shuffle=True,\n",
    "                                          class_mode = 'categorical')\n",
    "\n",
    "\n",
    "\n",
    "test = test_datagen.flow_from_directory(test_path,\n",
    "                                        color_mode = 'grayscale',\n",
    "                                        target_size = (48, 48),\n",
    "                                        batch_size = 64,\n",
    "                                        shuffle=True,\n",
    "                                        class_mode = 'categorical')"
   ]
  },
  {
   "cell_type": "code",
   "execution_count": 12,
   "id": "5338f02b",
   "metadata": {},
   "outputs": [],
   "source": [
    "from tensorflow.keras.callbacks import ModelCheckpoint\n",
    "from sklearn.utils import class_weight\n",
    "\n",
    "class_weights = class_weight.compute_class_weight(class_weight='balanced', \n",
    "                                                  classes=np.unique(train.classes), \n",
    "                                                  y=train.classes)\n",
    "class_weights = dict(zip(np.unique(train.classes),class_weights))\n",
    "\n",
    "filepath = '/my_best_model.epoch{epoch:02d}-loss{val_loss:.2f}.hdf5' #saves our best model to this location with custom name\n",
    "callbacks = [tf.keras.callbacks.ReduceLROnPlateau(monitor='val_loss', factor=0.2,patience=5, min_delta=0.0001, verbose=1),\n",
    "             tf.keras.callbacks.ModelCheckpoint(filepath=filepath, monitor='val_loss',verbose=1, save_best_only=True, mode='min'),\n",
    "             tf.keras.callbacks.EarlyStopping(monitor='val_loss', min_delta=0, patience=3, verbose=1,restore_best_weights=True)]\n",
    "\n",
    "\n",
    "model.compile(optimizer=tf.keras.optimizers.Adam(learning_rate=0.0001),\n",
    "              loss='categorical_crossentropy',\n",
    "              metrics=['accuracy'])"
   ]
  },
  {
   "cell_type": "code",
   "execution_count": 13,
   "id": "82fbc7d2",
   "metadata": {},
   "outputs": [
    {
     "name": "stdout",
     "output_type": "stream",
     "text": [
      "{0: 1.0266046844269623, 1: 9.406618610747051, 2: 1.0010460615781582, 3: 0.5684387684387684, 4: 0.8260394187886635, 5: 0.8491274770777877, 6: 1.293372978330405}\n",
      "{0: 1.0266046844269623, 1: 9.406618610747051, 2: 1.4, 3: 0.5684387684387684, 4: 0.8260394187886635, 5: 1.2, 6: 1.293372978330405}\n"
     ]
    }
   ],
   "source": [
    "print(class_weights)\n",
    "class_weights[2] = 1.4\n",
    "class_weights[5] = 1.2\n",
    "print(class_weights)"
   ]
  },
  {
   "cell_type": "code",
   "execution_count": 11,
   "id": "441e8040",
   "metadata": {},
   "outputs": [
    {
     "name": "stdout",
     "output_type": "stream",
     "text": [
      "Model: \"sequential_2\"\n",
      "_________________________________________________________________\n",
      "Layer (type)                 Output Shape              Param #   \n",
      "=================================================================\n",
      "conv2d_8 (Conv2D)            (None, 46, 46, 32)        320       \n",
      "_________________________________________________________________\n",
      "max_pooling2d_8 (MaxPooling2 (None, 23, 23, 32)        0         \n",
      "_________________________________________________________________\n",
      "batch_normalization_10 (Batc (None, 23, 23, 32)        128       \n",
      "_________________________________________________________________\n",
      "dropout_10 (Dropout)         (None, 23, 23, 32)        0         \n",
      "_________________________________________________________________\n",
      "conv2d_9 (Conv2D)            (None, 21, 21, 64)        18496     \n",
      "_________________________________________________________________\n",
      "max_pooling2d_9 (MaxPooling2 (None, 10, 10, 64)        0         \n",
      "_________________________________________________________________\n",
      "batch_normalization_11 (Batc (None, 10, 10, 64)        256       \n",
      "_________________________________________________________________\n",
      "dropout_11 (Dropout)         (None, 10, 10, 64)        0         \n",
      "_________________________________________________________________\n",
      "conv2d_10 (Conv2D)           (None, 8, 8, 64)          36928     \n",
      "_________________________________________________________________\n",
      "max_pooling2d_10 (MaxPooling (None, 4, 4, 64)          0         \n",
      "_________________________________________________________________\n",
      "batch_normalization_12 (Batc (None, 4, 4, 64)          256       \n",
      "_________________________________________________________________\n",
      "dropout_12 (Dropout)         (None, 4, 4, 64)          0         \n",
      "_________________________________________________________________\n",
      "conv2d_11 (Conv2D)           (None, 2, 2, 256)         147712    \n",
      "_________________________________________________________________\n",
      "max_pooling2d_11 (MaxPooling (None, 1, 1, 256)         0         \n",
      "_________________________________________________________________\n",
      "batch_normalization_13 (Batc (None, 1, 1, 256)         1024      \n",
      "_________________________________________________________________\n",
      "dropout_13 (Dropout)         (None, 1, 1, 256)         0         \n",
      "_________________________________________________________________\n",
      "flatten_2 (Flatten)          (None, 256)               0         \n",
      "_________________________________________________________________\n",
      "dense_4 (Dense)              (None, 64)                16448     \n",
      "_________________________________________________________________\n",
      "batch_normalization_14 (Batc (None, 64)                256       \n",
      "_________________________________________________________________\n",
      "dropout_14 (Dropout)         (None, 64)                0         \n",
      "_________________________________________________________________\n",
      "dense_5 (Dense)              (None, 7)                 455       \n",
      "=================================================================\n",
      "Total params: 222,279\n",
      "Trainable params: 221,319\n",
      "Non-trainable params: 960\n",
      "_________________________________________________________________\n"
     ]
    }
   ],
   "source": [
    "model = tf.keras.models.Sequential()\n",
    "model.add(layers.Conv2D(32,(3,3),strides=(1,1),padding=\"valid\",activation=\"relu\",input_shape=(48,48,1)))\n",
    "model.add(layers.MaxPool2D(2,2))\n",
    "model.add(BatchNormalization())\n",
    "model.add(Dropout(0.15))\n",
    "\n",
    "model.add(layers.Conv2D(64,(3,3),activation=\"relu\"))\n",
    "model.add(layers.MaxPool2D(2,2))\n",
    "model.add(BatchNormalization())\n",
    "model.add(Dropout(0.15))\n",
    "\n",
    "model.add(layers.Conv2D(64,(3,3),activation=\"relu\"))\n",
    "model.add(layers.MaxPool2D(2,2))\n",
    "model.add(BatchNormalization())\n",
    "model.add(Dropout(0.15))\n",
    "\n",
    "model.add(layers.Conv2D(256,(3,3),activation=\"relu\"))\n",
    "model.add(layers.MaxPool2D(2,2))\n",
    "model.add(BatchNormalization())\n",
    "model.add(Dropout(0.15))\n",
    "\n",
    "model.add(layers.Flatten())\n",
    "model.add(layers.Dense(64,activation=\"relu\"))\n",
    "model.add(BatchNormalization())\n",
    "model.add(Dropout(0.2))\n",
    "\n",
    "\n",
    "model.add(layers.Dense(7,activation=\"softmax\"))\n",
    "\n",
    "#loss = tf.keras.losses.SparseCategoricalCrossentropy(from_logits=True)\n",
    "optim = tf.keras.optimizers.Adam(lr=0.001)\n",
    "metrics = [\"accuracy\"]\n",
    "#model.compile(optimizer = optim, loss=loss,metrics=metrics)\n",
    "batch_size = 64\n",
    "epochs = 50\n",
    "\n",
    "model.summary()"
   ]
  },
  {
   "cell_type": "code",
   "execution_count": 14,
   "id": "12b6dd20",
   "metadata": {
    "scrolled": true
   },
   "outputs": [
    {
     "name": "stderr",
     "output_type": "stream",
     "text": [
      "2022-03-02 18:00:31.235470: I tensorflow/core/kernels/data/shuffle_dataset_op.cc:143] Filling up shuffle buffer (this may take a while): 338 of 449\n",
      "2022-03-02 18:00:34.498999: I tensorflow/core/kernels/data/shuffle_dataset_op.cc:193] Shuffle buffer filled.\n"
     ]
    },
    {
     "name": "stdout",
     "output_type": "stream",
     "text": [
      "Train for 449 steps, validate for 113 steps\n",
      "Epoch 1/100\n"
     ]
    },
    {
     "name": "stderr",
     "output_type": "stream",
     "text": [
      "2022-03-02 18:00:46.025320: I tensorflow/core/kernels/data/shuffle_dataset_op.cc:143] Filling up shuffle buffer (this may take a while): 353 of 449\n",
      "2022-03-02 18:00:48.854107: I tensorflow/core/kernels/data/shuffle_dataset_op.cc:193] Shuffle buffer filled.\n"
     ]
    },
    {
     "name": "stdout",
     "output_type": "stream",
     "text": [
      "449/449 [==============================] - 215s 479ms/step - loss: 2.2160 - accuracy: 0.2013 - val_loss: 1.9265 - val_accuracy: 0.2419\n",
      "Epoch 2/100\n"
     ]
    },
    {
     "name": "stderr",
     "output_type": "stream",
     "text": [
      "2022-03-02 18:04:19.676685: I tensorflow/core/kernels/data/shuffle_dataset_op.cc:143] Filling up shuffle buffer (this may take a while): 351 of 449\n",
      "2022-03-02 18:04:22.451759: I tensorflow/core/kernels/data/shuffle_dataset_op.cc:193] Shuffle buffer filled.\n"
     ]
    },
    {
     "name": "stdout",
     "output_type": "stream",
     "text": [
      "449/449 [==============================] - 217s 484ms/step - loss: 1.9757 - accuracy: 0.2465 - val_loss: 1.7519 - val_accuracy: 0.3231\n",
      "Epoch 3/100\n"
     ]
    },
    {
     "name": "stderr",
     "output_type": "stream",
     "text": [
      "2022-03-02 18:07:57.114752: I tensorflow/core/kernels/data/shuffle_dataset_op.cc:143] Filling up shuffle buffer (this may take a while): 354 of 449\n",
      "2022-03-02 18:07:59.835203: I tensorflow/core/kernels/data/shuffle_dataset_op.cc:193] Shuffle buffer filled.\n"
     ]
    },
    {
     "name": "stdout",
     "output_type": "stream",
     "text": [
      "449/449 [==============================] - 221s 493ms/step - loss: 1.8683 - accuracy: 0.2917 - val_loss: 1.6529 - val_accuracy: 0.3749\n",
      "Epoch 4/100\n"
     ]
    },
    {
     "name": "stderr",
     "output_type": "stream",
     "text": [
      "2022-03-02 18:11:38.593345: I tensorflow/core/kernels/data/shuffle_dataset_op.cc:143] Filling up shuffle buffer (this may take a while): 338 of 449\n",
      "2022-03-02 18:11:41.784751: I tensorflow/core/kernels/data/shuffle_dataset_op.cc:193] Shuffle buffer filled.\n"
     ]
    },
    {
     "name": "stdout",
     "output_type": "stream",
     "text": [
      "449/449 [==============================] - 224s 498ms/step - loss: 1.7871 - accuracy: 0.3252 - val_loss: 1.6266 - val_accuracy: 0.3784\n",
      "Epoch 5/100\n"
     ]
    },
    {
     "name": "stderr",
     "output_type": "stream",
     "text": [
      "2022-03-02 18:15:22.247896: I tensorflow/core/kernels/data/shuffle_dataset_op.cc:143] Filling up shuffle buffer (this may take a while): 350 of 449\n",
      "2022-03-02 18:15:25.067909: I tensorflow/core/kernels/data/shuffle_dataset_op.cc:193] Shuffle buffer filled.\n"
     ]
    },
    {
     "name": "stdout",
     "output_type": "stream",
     "text": [
      "449/449 [==============================] - 223s 497ms/step - loss: 1.7146 - accuracy: 0.3526 - val_loss: 1.5595 - val_accuracy: 0.4037\n",
      "Epoch 6/100\n"
     ]
    },
    {
     "name": "stderr",
     "output_type": "stream",
     "text": [
      "2022-03-02 18:19:05.286475: I tensorflow/core/kernels/data/shuffle_dataset_op.cc:143] Filling up shuffle buffer (this may take a while): 352 of 449\n",
      "2022-03-02 18:19:08.054018: I tensorflow/core/kernels/data/shuffle_dataset_op.cc:193] Shuffle buffer filled.\n"
     ]
    },
    {
     "name": "stdout",
     "output_type": "stream",
     "text": [
      "449/449 [==============================] - 225s 502ms/step - loss: 1.6613 - accuracy: 0.3729 - val_loss: 1.4834 - val_accuracy: 0.4347\n",
      "Epoch 7/100\n"
     ]
    },
    {
     "name": "stderr",
     "output_type": "stream",
     "text": [
      "2022-03-02 18:22:50.586007: I tensorflow/core/kernels/data/shuffle_dataset_op.cc:143] Filling up shuffle buffer (this may take a while): 354 of 449\n",
      "2022-03-02 18:22:53.266967: I tensorflow/core/kernels/data/shuffle_dataset_op.cc:193] Shuffle buffer filled.\n"
     ]
    },
    {
     "name": "stdout",
     "output_type": "stream",
     "text": [
      "449/449 [==============================] - 225s 501ms/step - loss: 1.6077 - accuracy: 0.3883 - val_loss: 1.4774 - val_accuracy: 0.4429\n",
      "Epoch 8/100\n"
     ]
    },
    {
     "name": "stderr",
     "output_type": "stream",
     "text": [
      "2022-03-02 18:26:35.343057: I tensorflow/core/kernels/data/shuffle_dataset_op.cc:143] Filling up shuffle buffer (this may take a while): 350 of 449\n",
      "2022-03-02 18:26:38.185744: I tensorflow/core/kernels/data/shuffle_dataset_op.cc:193] Shuffle buffer filled.\n"
     ]
    },
    {
     "name": "stdout",
     "output_type": "stream",
     "text": [
      "449/449 [==============================] - 241s 537ms/step - loss: 1.5747 - accuracy: 0.3994 - val_loss: 1.4505 - val_accuracy: 0.4549\n",
      "Epoch 9/100\n"
     ]
    },
    {
     "name": "stderr",
     "output_type": "stream",
     "text": [
      "2022-03-02 18:30:36.531425: I tensorflow/core/kernels/data/shuffle_dataset_op.cc:143] Filling up shuffle buffer (this may take a while): 337 of 449\n",
      "2022-03-02 18:30:39.832449: I tensorflow/core/kernels/data/shuffle_dataset_op.cc:193] Shuffle buffer filled.\n"
     ]
    },
    {
     "name": "stdout",
     "output_type": "stream",
     "text": [
      "449/449 [==============================] - 234s 520ms/step - loss: 1.5459 - accuracy: 0.4121 - val_loss: 1.3846 - val_accuracy: 0.4696\n",
      "Epoch 10/100\n"
     ]
    },
    {
     "name": "stderr",
     "output_type": "stream",
     "text": [
      "2022-03-02 18:34:30.117327: I tensorflow/core/kernels/data/shuffle_dataset_op.cc:143] Filling up shuffle buffer (this may take a while): 338 of 449\n",
      "2022-03-02 18:34:33.261441: I tensorflow/core/kernels/data/shuffle_dataset_op.cc:193] Shuffle buffer filled.\n"
     ]
    },
    {
     "name": "stdout",
     "output_type": "stream",
     "text": [
      "449/449 [==============================] - 229s 511ms/step - loss: 1.5097 - accuracy: 0.4240 - val_loss: 1.3802 - val_accuracy: 0.4826\n",
      "Epoch 11/100\n"
     ]
    },
    {
     "name": "stderr",
     "output_type": "stream",
     "text": [
      "2022-03-02 18:38:19.428923: I tensorflow/core/kernels/data/shuffle_dataset_op.cc:143] Filling up shuffle buffer (this may take a while): 351 of 449\n",
      "2022-03-02 18:38:22.227274: I tensorflow/core/kernels/data/shuffle_dataset_op.cc:193] Shuffle buffer filled.\n"
     ]
    },
    {
     "name": "stdout",
     "output_type": "stream",
     "text": [
      "449/449 [==============================] - 230s 512ms/step - loss: 1.4774 - accuracy: 0.4331 - val_loss: 1.3291 - val_accuracy: 0.4987\n",
      "Epoch 12/100\n"
     ]
    },
    {
     "name": "stderr",
     "output_type": "stream",
     "text": [
      "2022-03-02 18:42:09.184931: I tensorflow/core/kernels/data/shuffle_dataset_op.cc:143] Filling up shuffle buffer (this may take a while): 349 of 449\n",
      "2022-03-02 18:42:12.014842: I tensorflow/core/kernels/data/shuffle_dataset_op.cc:193] Shuffle buffer filled.\n"
     ]
    },
    {
     "name": "stdout",
     "output_type": "stream",
     "text": [
      "449/449 [==============================] - 230s 513ms/step - loss: 1.4518 - accuracy: 0.4471 - val_loss: 1.3138 - val_accuracy: 0.4987\n",
      "Epoch 13/100\n"
     ]
    },
    {
     "name": "stderr",
     "output_type": "stream",
     "text": [
      "2022-03-02 18:45:59.516270: I tensorflow/core/kernels/data/shuffle_dataset_op.cc:143] Filling up shuffle buffer (this may take a while): 347 of 449\n",
      "2022-03-02 18:46:02.443848: I tensorflow/core/kernels/data/shuffle_dataset_op.cc:193] Shuffle buffer filled.\n"
     ]
    },
    {
     "name": "stdout",
     "output_type": "stream",
     "text": [
      "449/449 [==============================] - 230s 512ms/step - loss: 1.4297 - accuracy: 0.4546 - val_loss: 1.2900 - val_accuracy: 0.5107\n",
      "Epoch 14/100\n"
     ]
    },
    {
     "name": "stderr",
     "output_type": "stream",
     "text": [
      "2022-03-02 18:49:49.205285: I tensorflow/core/kernels/data/shuffle_dataset_op.cc:143] Filling up shuffle buffer (this may take a while): 347 of 449\n",
      "2022-03-02 18:49:52.225099: I tensorflow/core/kernels/data/shuffle_dataset_op.cc:193] Shuffle buffer filled.\n"
     ]
    },
    {
     "name": "stdout",
     "output_type": "stream",
     "text": [
      "449/449 [==============================] - 231s 515ms/step - loss: 1.3988 - accuracy: 0.4687 - val_loss: 1.2670 - val_accuracy: 0.5194\n",
      "Epoch 15/100\n"
     ]
    },
    {
     "name": "stderr",
     "output_type": "stream",
     "text": [
      "2022-03-02 18:53:40.496077: I tensorflow/core/kernels/data/shuffle_dataset_op.cc:143] Filling up shuffle buffer (this may take a while): 348 of 449\n",
      "2022-03-02 18:53:43.362231: I tensorflow/core/kernels/data/shuffle_dataset_op.cc:193] Shuffle buffer filled.\n"
     ]
    },
    {
     "name": "stdout",
     "output_type": "stream",
     "text": [
      "449/449 [==============================] - 237s 528ms/step - loss: 1.3828 - accuracy: 0.4727 - val_loss: 1.2519 - val_accuracy: 0.5240\n",
      "Epoch 16/100\n"
     ]
    },
    {
     "name": "stderr",
     "output_type": "stream",
     "text": [
      "2022-03-02 18:57:37.348276: I tensorflow/core/kernels/data/shuffle_dataset_op.cc:143] Filling up shuffle buffer (this may take a while): 348 of 449\n",
      "2022-03-02 18:57:40.229730: I tensorflow/core/kernels/data/shuffle_dataset_op.cc:193] Shuffle buffer filled.\n"
     ]
    },
    {
     "name": "stdout",
     "output_type": "stream",
     "text": [
      "449/449 [==============================] - 239s 533ms/step - loss: 1.3636 - accuracy: 0.4824 - val_loss: 1.2783 - val_accuracy: 0.5128\n",
      "Epoch 17/100\n"
     ]
    },
    {
     "name": "stderr",
     "output_type": "stream",
     "text": [
      "2022-03-02 19:01:36.649341: I tensorflow/core/kernels/data/shuffle_dataset_op.cc:143] Filling up shuffle buffer (this may take a while): 323 of 449\n",
      "2022-03-02 19:01:40.302512: I tensorflow/core/kernels/data/shuffle_dataset_op.cc:193] Shuffle buffer filled.\n"
     ]
    },
    {
     "name": "stdout",
     "output_type": "stream",
     "text": [
      "449/449 [==============================] - 235s 524ms/step - loss: 1.3511 - accuracy: 0.4858 - val_loss: 1.2267 - val_accuracy: 0.5359\n",
      "Epoch 18/100\n"
     ]
    },
    {
     "name": "stderr",
     "output_type": "stream",
     "text": [
      "2022-03-02 19:05:31.764254: I tensorflow/core/kernels/data/shuffle_dataset_op.cc:143] Filling up shuffle buffer (this may take a while): 351 of 449\n",
      "2022-03-02 19:05:34.603707: I tensorflow/core/kernels/data/shuffle_dataset_op.cc:193] Shuffle buffer filled.\n"
     ]
    },
    {
     "name": "stdout",
     "output_type": "stream",
     "text": [
      "449/449 [==============================] - 230s 512ms/step - loss: 1.3350 - accuracy: 0.4933 - val_loss: 1.2157 - val_accuracy: 0.5391\n",
      "Epoch 19/100\n"
     ]
    },
    {
     "name": "stderr",
     "output_type": "stream",
     "text": [
      "2022-03-02 19:09:21.598764: I tensorflow/core/kernels/data/shuffle_dataset_op.cc:143] Filling up shuffle buffer (this may take a while): 346 of 449\n",
      "2022-03-02 19:09:24.552598: I tensorflow/core/kernels/data/shuffle_dataset_op.cc:193] Shuffle buffer filled.\n"
     ]
    },
    {
     "name": "stdout",
     "output_type": "stream",
     "text": [
      "449/449 [==============================] - 230s 513ms/step - loss: 1.3251 - accuracy: 0.4963 - val_loss: 1.2193 - val_accuracy: 0.5396\n",
      "Epoch 20/100\n"
     ]
    },
    {
     "name": "stderr",
     "output_type": "stream",
     "text": [
      "2022-03-02 19:13:11.728061: I tensorflow/core/kernels/data/shuffle_dataset_op.cc:143] Filling up shuffle buffer (this may take a while): 348 of 449\n",
      "2022-03-02 19:13:14.597736: I tensorflow/core/kernels/data/shuffle_dataset_op.cc:193] Shuffle buffer filled.\n"
     ]
    },
    {
     "name": "stdout",
     "output_type": "stream",
     "text": [
      "449/449 [==============================] - 230s 512ms/step - loss: 1.3158 - accuracy: 0.4990 - val_loss: 1.1919 - val_accuracy: 0.5529\n",
      "Epoch 21/100\n"
     ]
    },
    {
     "name": "stderr",
     "output_type": "stream",
     "text": [
      "2022-03-02 19:17:01.743533: I tensorflow/core/kernels/data/shuffle_dataset_op.cc:143] Filling up shuffle buffer (this may take a while): 352 of 449\n",
      "2022-03-02 19:17:04.543777: I tensorflow/core/kernels/data/shuffle_dataset_op.cc:193] Shuffle buffer filled.\n"
     ]
    },
    {
     "name": "stdout",
     "output_type": "stream",
     "text": [
      "449/449 [==============================] - 232s 516ms/step - loss: 1.2987 - accuracy: 0.5067 - val_loss: 1.1867 - val_accuracy: 0.5479\n",
      "Epoch 22/100\n"
     ]
    },
    {
     "name": "stderr",
     "output_type": "stream",
     "text": [
      "2022-03-02 19:20:53.331624: I tensorflow/core/kernels/data/shuffle_dataset_op.cc:143] Filling up shuffle buffer (this may take a while): 349 of 449\n",
      "2022-03-02 19:20:56.192939: I tensorflow/core/kernels/data/shuffle_dataset_op.cc:193] Shuffle buffer filled.\n"
     ]
    },
    {
     "name": "stdout",
     "output_type": "stream",
     "text": [
      "449/449 [==============================] - 230s 513ms/step - loss: 1.2826 - accuracy: 0.5109 - val_loss: 1.1891 - val_accuracy: 0.5499\n",
      "Epoch 23/100\n"
     ]
    },
    {
     "name": "stderr",
     "output_type": "stream",
     "text": [
      "2022-03-02 19:24:43.601419: I tensorflow/core/kernels/data/shuffle_dataset_op.cc:143] Filling up shuffle buffer (this may take a while): 349 of 449\n",
      "2022-03-02 19:24:46.494389: I tensorflow/core/kernels/data/shuffle_dataset_op.cc:193] Shuffle buffer filled.\n"
     ]
    },
    {
     "name": "stdout",
     "output_type": "stream",
     "text": [
      "449/449 [==============================] - 232s 516ms/step - loss: 1.2776 - accuracy: 0.5164 - val_loss: 1.1630 - val_accuracy: 0.5612\n",
      "Epoch 24/100\n"
     ]
    },
    {
     "name": "stderr",
     "output_type": "stream",
     "text": [
      "2022-03-02 19:28:35.205611: I tensorflow/core/kernels/data/shuffle_dataset_op.cc:143] Filling up shuffle buffer (this may take a while): 351 of 449\n",
      "2022-03-02 19:28:37.967369: I tensorflow/core/kernels/data/shuffle_dataset_op.cc:193] Shuffle buffer filled.\n"
     ]
    },
    {
     "name": "stdout",
     "output_type": "stream",
     "text": [
      "449/449 [==============================] - 229s 510ms/step - loss: 1.2653 - accuracy: 0.5207 - val_loss: 1.1911 - val_accuracy: 0.5546\n",
      "Epoch 25/100\n"
     ]
    },
    {
     "name": "stderr",
     "output_type": "stream",
     "text": [
      "2022-03-02 19:32:24.370492: I tensorflow/core/kernels/data/shuffle_dataset_op.cc:143] Filling up shuffle buffer (this may take a while): 337 of 449\n",
      "2022-03-02 19:32:27.569696: I tensorflow/core/kernels/data/shuffle_dataset_op.cc:193] Shuffle buffer filled.\n"
     ]
    },
    {
     "name": "stdout",
     "output_type": "stream",
     "text": [
      "449/449 [==============================] - 230s 513ms/step - loss: 1.2625 - accuracy: 0.5214 - val_loss: 1.1652 - val_accuracy: 0.5656\n",
      "Epoch 26/100\n"
     ]
    },
    {
     "name": "stderr",
     "output_type": "stream",
     "text": [
      "2022-03-02 19:36:14.725358: I tensorflow/core/kernels/data/shuffle_dataset_op.cc:143] Filling up shuffle buffer (this may take a while): 346 of 449\n",
      "2022-03-02 19:36:17.663508: I tensorflow/core/kernels/data/shuffle_dataset_op.cc:193] Shuffle buffer filled.\n"
     ]
    },
    {
     "name": "stdout",
     "output_type": "stream",
     "text": [
      "449/449 [==============================] - 230s 511ms/step - loss: 1.2510 - accuracy: 0.5251 - val_loss: 1.1512 - val_accuracy: 0.5670\n",
      "Epoch 27/100\n"
     ]
    },
    {
     "name": "stderr",
     "output_type": "stream",
     "text": [
      "2022-03-02 19:40:04.358886: I tensorflow/core/kernels/data/shuffle_dataset_op.cc:143] Filling up shuffle buffer (this may take a while): 348 of 449\n",
      "2022-03-02 19:40:07.225698: I tensorflow/core/kernels/data/shuffle_dataset_op.cc:193] Shuffle buffer filled.\n"
     ]
    },
    {
     "name": "stdout",
     "output_type": "stream",
     "text": [
      "449/449 [==============================] - 232s 516ms/step - loss: 1.2441 - accuracy: 0.5274 - val_loss: 1.1485 - val_accuracy: 0.5663\n",
      "Epoch 28/100\n"
     ]
    },
    {
     "name": "stderr",
     "output_type": "stream",
     "text": [
      "2022-03-02 19:43:56.216179: I tensorflow/core/kernels/data/shuffle_dataset_op.cc:143] Filling up shuffle buffer (this may take a while): 339 of 449\n",
      "2022-03-02 19:43:59.379934: I tensorflow/core/kernels/data/shuffle_dataset_op.cc:193] Shuffle buffer filled.\n"
     ]
    },
    {
     "name": "stdout",
     "output_type": "stream",
     "text": [
      "449/449 [==============================] - 230s 512ms/step - loss: 1.2310 - accuracy: 0.5344 - val_loss: 1.1413 - val_accuracy: 0.5708\n",
      "Epoch 29/100\n"
     ]
    },
    {
     "name": "stderr",
     "output_type": "stream",
     "text": [
      "2022-03-02 19:47:46.228158: I tensorflow/core/kernels/data/shuffle_dataset_op.cc:143] Filling up shuffle buffer (this may take a while): 349 of 449\n",
      "2022-03-02 19:47:49.057747: I tensorflow/core/kernels/data/shuffle_dataset_op.cc:193] Shuffle buffer filled.\n"
     ]
    },
    {
     "name": "stdout",
     "output_type": "stream",
     "text": [
      "449/449 [==============================] - 231s 514ms/step - loss: 1.2231 - accuracy: 0.5367 - val_loss: 1.1349 - val_accuracy: 0.5736\n",
      "Epoch 30/100\n"
     ]
    },
    {
     "name": "stderr",
     "output_type": "stream",
     "text": [
      "2022-03-02 19:51:36.997082: I tensorflow/core/kernels/data/shuffle_dataset_op.cc:143] Filling up shuffle buffer (this may take a while): 348 of 449\n",
      "2022-03-02 19:51:39.888189: I tensorflow/core/kernels/data/shuffle_dataset_op.cc:193] Shuffle buffer filled.\n"
     ]
    },
    {
     "name": "stdout",
     "output_type": "stream",
     "text": [
      "449/449 [==============================] - 232s 517ms/step - loss: 1.2202 - accuracy: 0.5365 - val_loss: 1.1229 - val_accuracy: 0.5756\n",
      "Epoch 31/100\n"
     ]
    },
    {
     "name": "stderr",
     "output_type": "stream",
     "text": [
      "2022-03-02 19:55:29.064811: I tensorflow/core/kernels/data/shuffle_dataset_op.cc:143] Filling up shuffle buffer (this may take a while): 335 of 449\n",
      "2022-03-02 19:55:32.315162: I tensorflow/core/kernels/data/shuffle_dataset_op.cc:193] Shuffle buffer filled.\n"
     ]
    },
    {
     "name": "stdout",
     "output_type": "stream",
     "text": [
      "449/449 [==============================] - 229s 510ms/step - loss: 1.2070 - accuracy: 0.5451 - val_loss: 1.1127 - val_accuracy: 0.5819\n",
      "Epoch 32/100\n"
     ]
    },
    {
     "name": "stderr",
     "output_type": "stream",
     "text": [
      "2022-03-02 19:59:17.986186: I tensorflow/core/kernels/data/shuffle_dataset_op.cc:143] Filling up shuffle buffer (this may take a while): 328 of 449\n",
      "2022-03-02 19:59:21.513043: I tensorflow/core/kernels/data/shuffle_dataset_op.cc:193] Shuffle buffer filled.\n"
     ]
    },
    {
     "name": "stdout",
     "output_type": "stream",
     "text": [
      "449/449 [==============================] - 229s 509ms/step - loss: 1.1995 - accuracy: 0.5462 - val_loss: 1.1183 - val_accuracy: 0.5779\n",
      "Epoch 33/100\n"
     ]
    },
    {
     "name": "stderr",
     "output_type": "stream",
     "text": [
      "2022-03-02 20:03:06.724854: I tensorflow/core/kernels/data/shuffle_dataset_op.cc:143] Filling up shuffle buffer (this may take a while): 352 of 449\n",
      "2022-03-02 20:03:09.477355: I tensorflow/core/kernels/data/shuffle_dataset_op.cc:193] Shuffle buffer filled.\n"
     ]
    },
    {
     "name": "stdout",
     "output_type": "stream",
     "text": [
      "449/449 [==============================] - 228s 507ms/step - loss: 1.1956 - accuracy: 0.5468 - val_loss: 1.1116 - val_accuracy: 0.5784\n",
      "Epoch 34/100\n"
     ]
    },
    {
     "name": "stderr",
     "output_type": "stream",
     "text": [
      "2022-03-02 20:06:54.256913: I tensorflow/core/kernels/data/shuffle_dataset_op.cc:143] Filling up shuffle buffer (this may take a while): 335 of 449\n",
      "2022-03-02 20:06:57.723322: I tensorflow/core/kernels/data/shuffle_dataset_op.cc:193] Shuffle buffer filled.\n"
     ]
    },
    {
     "name": "stdout",
     "output_type": "stream",
     "text": [
      "449/449 [==============================] - 230s 513ms/step - loss: 1.1912 - accuracy: 0.5483 - val_loss: 1.1050 - val_accuracy: 0.5843\n",
      "Epoch 35/100\n"
     ]
    },
    {
     "name": "stderr",
     "output_type": "stream",
     "text": [
      "2022-03-02 20:10:44.546062: I tensorflow/core/kernels/data/shuffle_dataset_op.cc:143] Filling up shuffle buffer (this may take a while): 349 of 449\n",
      "2022-03-02 20:10:47.397894: I tensorflow/core/kernels/data/shuffle_dataset_op.cc:193] Shuffle buffer filled.\n"
     ]
    },
    {
     "name": "stdout",
     "output_type": "stream",
     "text": [
      "449/449 [==============================] - 230s 511ms/step - loss: 1.1814 - accuracy: 0.5499 - val_loss: 1.1021 - val_accuracy: 0.5879\n",
      "Epoch 36/100\n"
     ]
    },
    {
     "name": "stderr",
     "output_type": "stream",
     "text": [
      "2022-03-02 20:14:34.171288: I tensorflow/core/kernels/data/shuffle_dataset_op.cc:143] Filling up shuffle buffer (this may take a while): 348 of 449\n",
      "2022-03-02 20:14:37.035603: I tensorflow/core/kernels/data/shuffle_dataset_op.cc:193] Shuffle buffer filled.\n"
     ]
    },
    {
     "name": "stdout",
     "output_type": "stream",
     "text": [
      "449/449 [==============================] - 229s 509ms/step - loss: 1.1747 - accuracy: 0.5539 - val_loss: 1.1051 - val_accuracy: 0.5872\n",
      "Epoch 37/100\n"
     ]
    },
    {
     "name": "stderr",
     "output_type": "stream",
     "text": [
      "2022-03-02 20:18:22.824382: I tensorflow/core/kernels/data/shuffle_dataset_op.cc:143] Filling up shuffle buffer (this may take a while): 343 of 449\n",
      "2022-03-02 20:18:25.868371: I tensorflow/core/kernels/data/shuffle_dataset_op.cc:193] Shuffle buffer filled.\n"
     ]
    },
    {
     "name": "stdout",
     "output_type": "stream",
     "text": [
      "449/449 [==============================] - 230s 512ms/step - loss: 1.1744 - accuracy: 0.5554 - val_loss: 1.0951 - val_accuracy: 0.5931\n",
      "Epoch 38/100\n"
     ]
    },
    {
     "name": "stderr",
     "output_type": "stream",
     "text": [
      "2022-03-02 20:22:12.696139: I tensorflow/core/kernels/data/shuffle_dataset_op.cc:143] Filling up shuffle buffer (this may take a while): 346 of 449\n",
      "2022-03-02 20:22:15.647055: I tensorflow/core/kernels/data/shuffle_dataset_op.cc:193] Shuffle buffer filled.\n"
     ]
    },
    {
     "name": "stdout",
     "output_type": "stream",
     "text": [
      "449/449 [==============================] - 230s 512ms/step - loss: 1.1642 - accuracy: 0.5602 - val_loss: 1.0908 - val_accuracy: 0.5922\n",
      "Epoch 39/100\n"
     ]
    },
    {
     "name": "stderr",
     "output_type": "stream",
     "text": [
      "2022-03-02 20:26:02.466381: I tensorflow/core/kernels/data/shuffle_dataset_op.cc:143] Filling up shuffle buffer (this may take a while): 342 of 449\n",
      "2022-03-02 20:26:05.535011: I tensorflow/core/kernels/data/shuffle_dataset_op.cc:193] Shuffle buffer filled.\n"
     ]
    },
    {
     "name": "stdout",
     "output_type": "stream",
     "text": [
      "449/449 [==============================] - 231s 513ms/step - loss: 1.1572 - accuracy: 0.5631 - val_loss: 1.0949 - val_accuracy: 0.5918\n",
      "Epoch 40/100\n"
     ]
    },
    {
     "name": "stderr",
     "output_type": "stream",
     "text": [
      "2022-03-02 20:29:53.001975: I tensorflow/core/kernels/data/shuffle_dataset_op.cc:143] Filling up shuffle buffer (this may take a while): 339 of 449\n",
      "2022-03-02 20:29:56.124682: I tensorflow/core/kernels/data/shuffle_dataset_op.cc:193] Shuffle buffer filled.\n"
     ]
    },
    {
     "name": "stdout",
     "output_type": "stream",
     "text": [
      "449/449 [==============================] - 229s 511ms/step - loss: 1.1555 - accuracy: 0.5627 - val_loss: 1.0975 - val_accuracy: 0.5904\n",
      "Epoch 41/100\n"
     ]
    },
    {
     "name": "stderr",
     "output_type": "stream",
     "text": [
      "2022-03-02 20:33:42.263321: I tensorflow/core/kernels/data/shuffle_dataset_op.cc:143] Filling up shuffle buffer (this may take a while): 347 of 449\n",
      "2022-03-02 20:33:45.181748: I tensorflow/core/kernels/data/shuffle_dataset_op.cc:193] Shuffle buffer filled.\n"
     ]
    },
    {
     "name": "stdout",
     "output_type": "stream",
     "text": [
      "449/449 [==============================] - 228s 507ms/step - loss: 1.1517 - accuracy: 0.5643 - val_loss: 1.0948 - val_accuracy: 0.5921\n",
      "Epoch 42/100\n"
     ]
    },
    {
     "name": "stderr",
     "output_type": "stream",
     "text": [
      "2022-03-02 20:37:30.116860: I tensorflow/core/kernels/data/shuffle_dataset_op.cc:143] Filling up shuffle buffer (this may take a while): 346 of 449\n",
      "2022-03-02 20:37:33.089331: I tensorflow/core/kernels/data/shuffle_dataset_op.cc:193] Shuffle buffer filled.\n"
     ]
    },
    {
     "name": "stdout",
     "output_type": "stream",
     "text": [
      "449/449 [==============================] - 228s 508ms/step - loss: 1.1463 - accuracy: 0.5664 - val_loss: 1.0864 - val_accuracy: 0.5922\n",
      "Epoch 43/100\n"
     ]
    },
    {
     "name": "stderr",
     "output_type": "stream",
     "text": [
      "2022-03-02 20:41:18.295650: I tensorflow/core/kernels/data/shuffle_dataset_op.cc:143] Filling up shuffle buffer (this may take a while): 343 of 449\n",
      "2022-03-02 20:41:21.417404: I tensorflow/core/kernels/data/shuffle_dataset_op.cc:193] Shuffle buffer filled.\n"
     ]
    },
    {
     "name": "stdout",
     "output_type": "stream",
     "text": [
      "449/449 [==============================] - 230s 512ms/step - loss: 1.1408 - accuracy: 0.5715 - val_loss: 1.0900 - val_accuracy: 0.5880\n",
      "Epoch 44/100\n"
     ]
    },
    {
     "name": "stderr",
     "output_type": "stream",
     "text": [
      "2022-03-02 20:45:08.242511: I tensorflow/core/kernels/data/shuffle_dataset_op.cc:143] Filling up shuffle buffer (this may take a while): 348 of 449\n",
      "2022-03-02 20:45:11.117269: I tensorflow/core/kernels/data/shuffle_dataset_op.cc:193] Shuffle buffer filled.\n"
     ]
    },
    {
     "name": "stdout",
     "output_type": "stream",
     "text": [
      "449/449 [==============================] - 228s 508ms/step - loss: 1.1353 - accuracy: 0.5707 - val_loss: 1.0800 - val_accuracy: 0.5970\n",
      "Epoch 45/100\n"
     ]
    },
    {
     "name": "stderr",
     "output_type": "stream",
     "text": [
      "2022-03-02 20:48:56.543265: I tensorflow/core/kernels/data/shuffle_dataset_op.cc:143] Filling up shuffle buffer (this may take a while): 347 of 449\n",
      "2022-03-02 20:48:59.455831: I tensorflow/core/kernels/data/shuffle_dataset_op.cc:193] Shuffle buffer filled.\n"
     ]
    },
    {
     "name": "stdout",
     "output_type": "stream",
     "text": [
      "449/449 [==============================] - 228s 507ms/step - loss: 1.1313 - accuracy: 0.5741 - val_loss: 1.0685 - val_accuracy: 0.6024\n",
      "Epoch 46/100\n"
     ]
    },
    {
     "name": "stderr",
     "output_type": "stream",
     "text": [
      "2022-03-02 20:52:44.280862: I tensorflow/core/kernels/data/shuffle_dataset_op.cc:143] Filling up shuffle buffer (this may take a while): 343 of 449\n",
      "2022-03-02 20:52:47.338344: I tensorflow/core/kernels/data/shuffle_dataset_op.cc:193] Shuffle buffer filled.\n"
     ]
    },
    {
     "name": "stdout",
     "output_type": "stream",
     "text": [
      "449/449 [==============================] - 230s 513ms/step - loss: 1.1246 - accuracy: 0.5785 - val_loss: 1.0943 - val_accuracy: 0.5933\n",
      "Epoch 47/100\n"
     ]
    },
    {
     "name": "stderr",
     "output_type": "stream",
     "text": [
      "2022-03-02 20:56:34.664848: I tensorflow/core/kernels/data/shuffle_dataset_op.cc:143] Filling up shuffle buffer (this may take a while): 342 of 449\n",
      "2022-03-02 20:56:37.771640: I tensorflow/core/kernels/data/shuffle_dataset_op.cc:193] Shuffle buffer filled.\n"
     ]
    },
    {
     "name": "stdout",
     "output_type": "stream",
     "text": [
      "449/449 [==============================] - 228s 509ms/step - loss: 1.1202 - accuracy: 0.5776 - val_loss: 1.0770 - val_accuracy: 0.6006\n",
      "Epoch 48/100\n"
     ]
    },
    {
     "name": "stderr",
     "output_type": "stream",
     "text": [
      "2022-03-02 21:00:23.109637: I tensorflow/core/kernels/data/shuffle_dataset_op.cc:143] Filling up shuffle buffer (this may take a while): 345 of 449\n",
      "2022-03-02 21:00:26.074348: I tensorflow/core/kernels/data/shuffle_dataset_op.cc:193] Shuffle buffer filled.\n"
     ]
    },
    {
     "name": "stdout",
     "output_type": "stream",
     "text": [
      "449/449 [==============================] - 229s 510ms/step - loss: 1.1210 - accuracy: 0.5760 - val_loss: 1.0653 - val_accuracy: 0.6046\n",
      "Epoch 49/100\n"
     ]
    },
    {
     "name": "stderr",
     "output_type": "stream",
     "text": [
      "2022-03-02 21:04:12.192109: I tensorflow/core/kernels/data/shuffle_dataset_op.cc:143] Filling up shuffle buffer (this may take a while): 340 of 449\n",
      "2022-03-02 21:04:15.309414: I tensorflow/core/kernels/data/shuffle_dataset_op.cc:193] Shuffle buffer filled.\n"
     ]
    },
    {
     "name": "stdout",
     "output_type": "stream",
     "text": [
      "449/449 [==============================] - 229s 509ms/step - loss: 1.1185 - accuracy: 0.5775 - val_loss: 1.0645 - val_accuracy: 0.6045\n",
      "Epoch 50/100\n"
     ]
    },
    {
     "name": "stderr",
     "output_type": "stream",
     "text": [
      "2022-03-02 21:08:00.835423: I tensorflow/core/kernels/data/shuffle_dataset_op.cc:143] Filling up shuffle buffer (this may take a while): 346 of 449\n",
      "2022-03-02 21:08:03.785384: I tensorflow/core/kernels/data/shuffle_dataset_op.cc:193] Shuffle buffer filled.\n"
     ]
    },
    {
     "name": "stdout",
     "output_type": "stream",
     "text": [
      "449/449 [==============================] - 226s 503ms/step - loss: 1.1100 - accuracy: 0.5803 - val_loss: 1.0598 - val_accuracy: 0.6021\n",
      "Epoch 51/100\n"
     ]
    },
    {
     "name": "stderr",
     "output_type": "stream",
     "text": [
      "2022-03-02 21:11:46.792892: I tensorflow/core/kernels/data/shuffle_dataset_op.cc:143] Filling up shuffle buffer (this may take a while): 345 of 449\n",
      "2022-03-02 21:11:49.730525: I tensorflow/core/kernels/data/shuffle_dataset_op.cc:193] Shuffle buffer filled.\n"
     ]
    },
    {
     "name": "stdout",
     "output_type": "stream",
     "text": [
      "449/449 [==============================] - 231s 514ms/step - loss: 1.1125 - accuracy: 0.5834 - val_loss: 1.0551 - val_accuracy: 0.6038\n",
      "Epoch 52/100\n"
     ]
    },
    {
     "name": "stderr",
     "output_type": "stream",
     "text": [
      "2022-03-02 21:15:37.474239: I tensorflow/core/kernels/data/shuffle_dataset_op.cc:143] Filling up shuffle buffer (this may take a while): 337 of 449\n",
      "2022-03-02 21:15:40.669133: I tensorflow/core/kernels/data/shuffle_dataset_op.cc:193] Shuffle buffer filled.\n"
     ]
    },
    {
     "name": "stdout",
     "output_type": "stream",
     "text": [
      "449/449 [==============================] - 1225s 3s/step - loss: 1.1042 - accuracy: 0.5846 - val_loss: 1.0568 - val_accuracy: 0.6014\n",
      "Epoch 53/100\n"
     ]
    },
    {
     "name": "stderr",
     "output_type": "stream",
     "text": [
      "2022-03-02 21:36:02.678423: I tensorflow/core/kernels/data/shuffle_dataset_op.cc:143] Filling up shuffle buffer (this may take a while): 335 of 449\n",
      "2022-03-02 21:36:06.001716: I tensorflow/core/kernels/data/shuffle_dataset_op.cc:193] Shuffle buffer filled.\n"
     ]
    },
    {
     "name": "stdout",
     "output_type": "stream",
     "text": [
      "449/449 [==============================] - 593s 1s/step - loss: 1.1015 - accuracy: 0.5787 - val_loss: 1.0623 - val_accuracy: 0.6038\n",
      "Epoch 54/100\n"
     ]
    },
    {
     "name": "stderr",
     "output_type": "stream",
     "text": [
      "2022-03-02 21:45:55.234257: I tensorflow/core/kernels/data/shuffle_dataset_op.cc:143] Filling up shuffle buffer (this may take a while): 340 of 449\n",
      "2022-03-02 21:45:58.407412: I tensorflow/core/kernels/data/shuffle_dataset_op.cc:193] Shuffle buffer filled.\n"
     ]
    },
    {
     "name": "stdout",
     "output_type": "stream",
     "text": [
      "449/449 [==============================] - 3382s 8s/step - loss: 1.0993 - accuracy: 0.5844 - val_loss: 1.0583 - val_accuracy: 0.6112\n",
      "Epoch 55/100\n"
     ]
    },
    {
     "name": "stderr",
     "output_type": "stream",
     "text": [
      "2022-03-02 22:42:17.530885: I tensorflow/core/kernels/data/shuffle_dataset_op.cc:143] Filling up shuffle buffer (this may take a while): 345 of 449\n",
      "2022-03-02 22:42:20.484604: I tensorflow/core/kernels/data/shuffle_dataset_op.cc:193] Shuffle buffer filled.\n"
     ]
    },
    {
     "name": "stdout",
     "output_type": "stream",
     "text": [
      "449/449 [==============================] - 1669s 4s/step - loss: 1.0985 - accuracy: 0.5849 - val_loss: 1.0518 - val_accuracy: 0.6082\n",
      "Epoch 56/100\n"
     ]
    },
    {
     "name": "stderr",
     "output_type": "stream",
     "text": [
      "2022-03-02 23:10:06.570976: I tensorflow/core/kernels/data/shuffle_dataset_op.cc:143] Filling up shuffle buffer (this may take a while): 325 of 449\n",
      "2022-03-02 23:10:10.109033: I tensorflow/core/kernels/data/shuffle_dataset_op.cc:193] Shuffle buffer filled.\n"
     ]
    },
    {
     "name": "stdout",
     "output_type": "stream",
     "text": [
      "449/449 [==============================] - 217s 484ms/step - loss: 1.0921 - accuracy: 0.5888 - val_loss: 1.0467 - val_accuracy: 0.6089\n",
      "Epoch 57/100\n"
     ]
    },
    {
     "name": "stderr",
     "output_type": "stream",
     "text": [
      "2022-03-02 23:13:43.935335: I tensorflow/core/kernels/data/shuffle_dataset_op.cc:143] Filling up shuffle buffer (this may take a while): 338 of 449\n",
      "2022-03-02 23:13:47.116187: I tensorflow/core/kernels/data/shuffle_dataset_op.cc:193] Shuffle buffer filled.\n"
     ]
    },
    {
     "name": "stdout",
     "output_type": "stream",
     "text": [
      "449/449 [==============================] - 220s 490ms/step - loss: 1.0892 - accuracy: 0.5894 - val_loss: 1.0510 - val_accuracy: 0.6078\n",
      "Epoch 58/100\n"
     ]
    },
    {
     "name": "stderr",
     "output_type": "stream",
     "text": [
      "2022-03-02 23:17:24.095529: I tensorflow/core/kernels/data/shuffle_dataset_op.cc:143] Filling up shuffle buffer (this may take a while): 346 of 449\n",
      "2022-03-02 23:17:27.050580: I tensorflow/core/kernels/data/shuffle_dataset_op.cc:193] Shuffle buffer filled.\n"
     ]
    },
    {
     "name": "stdout",
     "output_type": "stream",
     "text": [
      "449/449 [==============================] - 220s 490ms/step - loss: 1.0886 - accuracy: 0.5895 - val_loss: 1.0561 - val_accuracy: 0.6043\n",
      "Epoch 59/100\n"
     ]
    },
    {
     "name": "stderr",
     "output_type": "stream",
     "text": [
      "2022-03-02 23:21:04.060781: I tensorflow/core/kernels/data/shuffle_dataset_op.cc:143] Filling up shuffle buffer (this may take a while): 352 of 449\n",
      "2022-03-02 23:21:06.829664: I tensorflow/core/kernels/data/shuffle_dataset_op.cc:193] Shuffle buffer filled.\n"
     ]
    },
    {
     "name": "stdout",
     "output_type": "stream",
     "text": [
      "449/449 [==============================] - 220s 491ms/step - loss: 1.0809 - accuracy: 0.5931 - val_loss: 1.0628 - val_accuracy: 0.6013\n",
      "Epoch 60/100\n"
     ]
    },
    {
     "name": "stderr",
     "output_type": "stream",
     "text": [
      "2022-03-02 23:24:44.523294: I tensorflow/core/kernels/data/shuffle_dataset_op.cc:143] Filling up shuffle buffer (this may take a while): 350 of 449\n",
      "2022-03-02 23:24:47.336131: I tensorflow/core/kernels/data/shuffle_dataset_op.cc:193] Shuffle buffer filled.\n"
     ]
    },
    {
     "name": "stdout",
     "output_type": "stream",
     "text": [
      "449/449 [==============================] - 222s 493ms/step - loss: 1.0722 - accuracy: 0.5961 - val_loss: 1.0497 - val_accuracy: 0.6094\n",
      "Epoch 61/100\n"
     ]
    },
    {
     "name": "stderr",
     "output_type": "stream",
     "text": [
      "2022-03-02 23:28:26.098361: I tensorflow/core/kernels/data/shuffle_dataset_op.cc:143] Filling up shuffle buffer (this may take a while): 349 of 449\n",
      "2022-03-02 23:28:28.956273: I tensorflow/core/kernels/data/shuffle_dataset_op.cc:193] Shuffle buffer filled.\n"
     ]
    },
    {
     "name": "stdout",
     "output_type": "stream",
     "text": [
      "298/449 [==================>...........] - ETA: 1:09 - loss: 1.0673 - accuracy: 0.5985"
     ]
    },
    {
     "ename": "KeyboardInterrupt",
     "evalue": "",
     "output_type": "error",
     "traceback": [
      "\u001b[0;31m---------------------------------------------------------------------------\u001b[0m",
      "\u001b[0;31mKeyboardInterrupt\u001b[0m                         Traceback (most recent call last)",
      "\u001b[0;32m/var/folders/9l/k6j31k710z57q2x__1_jhz4w0000gn/T/ipykernel_29476/2459353282.py\u001b[0m in \u001b[0;36m<module>\u001b[0;34m\u001b[0m\n\u001b[0;32m----> 1\u001b[0;31m \u001b[0mmodel\u001b[0m\u001b[0;34m.\u001b[0m\u001b[0mfit\u001b[0m\u001b[0;34m(\u001b[0m\u001b[0mtrain\u001b[0m\u001b[0;34m,\u001b[0m\u001b[0mepochs\u001b[0m\u001b[0;34m=\u001b[0m\u001b[0;36m100\u001b[0m\u001b[0;34m,\u001b[0m\u001b[0mvalidation_data\u001b[0m\u001b[0;34m=\u001b[0m\u001b[0mtest\u001b[0m\u001b[0;34m,\u001b[0m\u001b[0mverbose\u001b[0m\u001b[0;34m=\u001b[0m\u001b[0;36m1\u001b[0m\u001b[0;34m,\u001b[0m\u001b[0mclass_weight\u001b[0m\u001b[0;34m=\u001b[0m\u001b[0mclass_weights\u001b[0m\u001b[0;34m)\u001b[0m\u001b[0;34m\u001b[0m\u001b[0;34m\u001b[0m\u001b[0m\n\u001b[0m",
      "\u001b[0;32m~/opt/anaconda3/envs/tf/lib/python3.7/site-packages/tensorflow_core/python/keras/engine/training.py\u001b[0m in \u001b[0;36mfit\u001b[0;34m(self, x, y, batch_size, epochs, verbose, callbacks, validation_split, validation_data, shuffle, class_weight, sample_weight, initial_epoch, steps_per_epoch, validation_steps, validation_freq, max_queue_size, workers, use_multiprocessing, **kwargs)\u001b[0m\n\u001b[1;32m    726\u001b[0m         \u001b[0mmax_queue_size\u001b[0m\u001b[0;34m=\u001b[0m\u001b[0mmax_queue_size\u001b[0m\u001b[0;34m,\u001b[0m\u001b[0;34m\u001b[0m\u001b[0;34m\u001b[0m\u001b[0m\n\u001b[1;32m    727\u001b[0m         \u001b[0mworkers\u001b[0m\u001b[0;34m=\u001b[0m\u001b[0mworkers\u001b[0m\u001b[0;34m,\u001b[0m\u001b[0;34m\u001b[0m\u001b[0;34m\u001b[0m\u001b[0m\n\u001b[0;32m--> 728\u001b[0;31m         use_multiprocessing=use_multiprocessing)\n\u001b[0m\u001b[1;32m    729\u001b[0m \u001b[0;34m\u001b[0m\u001b[0m\n\u001b[1;32m    730\u001b[0m   def evaluate(self,\n",
      "\u001b[0;32m~/opt/anaconda3/envs/tf/lib/python3.7/site-packages/tensorflow_core/python/keras/engine/training_v2.py\u001b[0m in \u001b[0;36mfit\u001b[0;34m(self, model, x, y, batch_size, epochs, verbose, callbacks, validation_split, validation_data, shuffle, class_weight, sample_weight, initial_epoch, steps_per_epoch, validation_steps, validation_freq, **kwargs)\u001b[0m\n\u001b[1;32m    322\u001b[0m                 \u001b[0mmode\u001b[0m\u001b[0;34m=\u001b[0m\u001b[0mModeKeys\u001b[0m\u001b[0;34m.\u001b[0m\u001b[0mTRAIN\u001b[0m\u001b[0;34m,\u001b[0m\u001b[0;34m\u001b[0m\u001b[0;34m\u001b[0m\u001b[0m\n\u001b[1;32m    323\u001b[0m                 \u001b[0mtraining_context\u001b[0m\u001b[0;34m=\u001b[0m\u001b[0mtraining_context\u001b[0m\u001b[0;34m,\u001b[0m\u001b[0;34m\u001b[0m\u001b[0;34m\u001b[0m\u001b[0m\n\u001b[0;32m--> 324\u001b[0;31m                 total_epochs=epochs)\n\u001b[0m\u001b[1;32m    325\u001b[0m             \u001b[0mcbks\u001b[0m\u001b[0;34m.\u001b[0m\u001b[0mmake_logs\u001b[0m\u001b[0;34m(\u001b[0m\u001b[0mmodel\u001b[0m\u001b[0;34m,\u001b[0m \u001b[0mepoch_logs\u001b[0m\u001b[0;34m,\u001b[0m \u001b[0mtraining_result\u001b[0m\u001b[0;34m,\u001b[0m \u001b[0mModeKeys\u001b[0m\u001b[0;34m.\u001b[0m\u001b[0mTRAIN\u001b[0m\u001b[0;34m)\u001b[0m\u001b[0;34m\u001b[0m\u001b[0;34m\u001b[0m\u001b[0m\n\u001b[1;32m    326\u001b[0m \u001b[0;34m\u001b[0m\u001b[0m\n",
      "\u001b[0;32m~/opt/anaconda3/envs/tf/lib/python3.7/site-packages/tensorflow_core/python/keras/engine/training_v2.py\u001b[0m in \u001b[0;36mrun_one_epoch\u001b[0;34m(model, iterator, execution_function, dataset_size, batch_size, strategy, steps_per_epoch, num_samples, mode, training_context, total_epochs)\u001b[0m\n\u001b[1;32m    121\u001b[0m         step=step, mode=mode, size=current_batch_size) as batch_logs:\n\u001b[1;32m    122\u001b[0m       \u001b[0;32mtry\u001b[0m\u001b[0;34m:\u001b[0m\u001b[0;34m\u001b[0m\u001b[0;34m\u001b[0m\u001b[0m\n\u001b[0;32m--> 123\u001b[0;31m         \u001b[0mbatch_outs\u001b[0m \u001b[0;34m=\u001b[0m \u001b[0mexecution_function\u001b[0m\u001b[0;34m(\u001b[0m\u001b[0miterator\u001b[0m\u001b[0;34m)\u001b[0m\u001b[0;34m\u001b[0m\u001b[0;34m\u001b[0m\u001b[0m\n\u001b[0m\u001b[1;32m    124\u001b[0m       \u001b[0;32mexcept\u001b[0m \u001b[0;34m(\u001b[0m\u001b[0mStopIteration\u001b[0m\u001b[0;34m,\u001b[0m \u001b[0merrors\u001b[0m\u001b[0;34m.\u001b[0m\u001b[0mOutOfRangeError\u001b[0m\u001b[0;34m)\u001b[0m\u001b[0;34m:\u001b[0m\u001b[0;34m\u001b[0m\u001b[0;34m\u001b[0m\u001b[0m\n\u001b[1;32m    125\u001b[0m         \u001b[0;31m# TODO(kaftan): File bug about tf function and errors.OutOfRangeError?\u001b[0m\u001b[0;34m\u001b[0m\u001b[0;34m\u001b[0m\u001b[0;34m\u001b[0m\u001b[0m\n",
      "\u001b[0;32m~/opt/anaconda3/envs/tf/lib/python3.7/site-packages/tensorflow_core/python/keras/engine/training_v2_utils.py\u001b[0m in \u001b[0;36mexecution_function\u001b[0;34m(input_fn)\u001b[0m\n\u001b[1;32m     84\u001b[0m     \u001b[0;31m# `numpy` translates Tensors to values in Eager mode.\u001b[0m\u001b[0;34m\u001b[0m\u001b[0;34m\u001b[0m\u001b[0;34m\u001b[0m\u001b[0m\n\u001b[1;32m     85\u001b[0m     return nest.map_structure(_non_none_constant_value,\n\u001b[0;32m---> 86\u001b[0;31m                               distributed_function(input_fn))\n\u001b[0m\u001b[1;32m     87\u001b[0m \u001b[0;34m\u001b[0m\u001b[0m\n\u001b[1;32m     88\u001b[0m   \u001b[0;32mreturn\u001b[0m \u001b[0mexecution_function\u001b[0m\u001b[0;34m\u001b[0m\u001b[0;34m\u001b[0m\u001b[0m\n",
      "\u001b[0;32m~/opt/anaconda3/envs/tf/lib/python3.7/site-packages/tensorflow_core/python/eager/def_function.py\u001b[0m in \u001b[0;36m__call__\u001b[0;34m(self, *args, **kwds)\u001b[0m\n\u001b[1;32m    455\u001b[0m \u001b[0;34m\u001b[0m\u001b[0m\n\u001b[1;32m    456\u001b[0m     \u001b[0mtracing_count\u001b[0m \u001b[0;34m=\u001b[0m \u001b[0mself\u001b[0m\u001b[0;34m.\u001b[0m\u001b[0m_get_tracing_count\u001b[0m\u001b[0;34m(\u001b[0m\u001b[0;34m)\u001b[0m\u001b[0;34m\u001b[0m\u001b[0;34m\u001b[0m\u001b[0m\n\u001b[0;32m--> 457\u001b[0;31m     \u001b[0mresult\u001b[0m \u001b[0;34m=\u001b[0m \u001b[0mself\u001b[0m\u001b[0;34m.\u001b[0m\u001b[0m_call\u001b[0m\u001b[0;34m(\u001b[0m\u001b[0;34m*\u001b[0m\u001b[0margs\u001b[0m\u001b[0;34m,\u001b[0m \u001b[0;34m**\u001b[0m\u001b[0mkwds\u001b[0m\u001b[0;34m)\u001b[0m\u001b[0;34m\u001b[0m\u001b[0;34m\u001b[0m\u001b[0m\n\u001b[0m\u001b[1;32m    458\u001b[0m     \u001b[0;32mif\u001b[0m \u001b[0mtracing_count\u001b[0m \u001b[0;34m==\u001b[0m \u001b[0mself\u001b[0m\u001b[0;34m.\u001b[0m\u001b[0m_get_tracing_count\u001b[0m\u001b[0;34m(\u001b[0m\u001b[0;34m)\u001b[0m\u001b[0;34m:\u001b[0m\u001b[0;34m\u001b[0m\u001b[0;34m\u001b[0m\u001b[0m\n\u001b[1;32m    459\u001b[0m       \u001b[0mself\u001b[0m\u001b[0;34m.\u001b[0m\u001b[0m_call_counter\u001b[0m\u001b[0;34m.\u001b[0m\u001b[0mcalled_without_tracing\u001b[0m\u001b[0;34m(\u001b[0m\u001b[0;34m)\u001b[0m\u001b[0;34m\u001b[0m\u001b[0;34m\u001b[0m\u001b[0m\n",
      "\u001b[0;32m~/opt/anaconda3/envs/tf/lib/python3.7/site-packages/tensorflow_core/python/eager/def_function.py\u001b[0m in \u001b[0;36m_call\u001b[0;34m(self, *args, **kwds)\u001b[0m\n\u001b[1;32m    485\u001b[0m       \u001b[0;31m# In this case we have created variables on the first call, so we run the\u001b[0m\u001b[0;34m\u001b[0m\u001b[0;34m\u001b[0m\u001b[0;34m\u001b[0m\u001b[0m\n\u001b[1;32m    486\u001b[0m       \u001b[0;31m# defunned version which is guaranteed to never create variables.\u001b[0m\u001b[0;34m\u001b[0m\u001b[0;34m\u001b[0m\u001b[0;34m\u001b[0m\u001b[0m\n\u001b[0;32m--> 487\u001b[0;31m       \u001b[0;32mreturn\u001b[0m \u001b[0mself\u001b[0m\u001b[0;34m.\u001b[0m\u001b[0m_stateless_fn\u001b[0m\u001b[0;34m(\u001b[0m\u001b[0;34m*\u001b[0m\u001b[0margs\u001b[0m\u001b[0;34m,\u001b[0m \u001b[0;34m**\u001b[0m\u001b[0mkwds\u001b[0m\u001b[0;34m)\u001b[0m  \u001b[0;31m# pylint: disable=not-callable\u001b[0m\u001b[0;34m\u001b[0m\u001b[0;34m\u001b[0m\u001b[0m\n\u001b[0m\u001b[1;32m    488\u001b[0m     \u001b[0;32melif\u001b[0m \u001b[0mself\u001b[0m\u001b[0;34m.\u001b[0m\u001b[0m_stateful_fn\u001b[0m \u001b[0;32mis\u001b[0m \u001b[0;32mnot\u001b[0m \u001b[0;32mNone\u001b[0m\u001b[0;34m:\u001b[0m\u001b[0;34m\u001b[0m\u001b[0;34m\u001b[0m\u001b[0m\n\u001b[1;32m    489\u001b[0m       \u001b[0;31m# Release the lock early so that multiple threads can perform the call\u001b[0m\u001b[0;34m\u001b[0m\u001b[0;34m\u001b[0m\u001b[0;34m\u001b[0m\u001b[0m\n",
      "\u001b[0;32m~/opt/anaconda3/envs/tf/lib/python3.7/site-packages/tensorflow_core/python/eager/function.py\u001b[0m in \u001b[0;36m__call__\u001b[0;34m(self, *args, **kwargs)\u001b[0m\n\u001b[1;32m   1821\u001b[0m     \u001b[0;34m\"\"\"Calls a graph function specialized to the inputs.\"\"\"\u001b[0m\u001b[0;34m\u001b[0m\u001b[0;34m\u001b[0m\u001b[0m\n\u001b[1;32m   1822\u001b[0m     \u001b[0mgraph_function\u001b[0m\u001b[0;34m,\u001b[0m \u001b[0margs\u001b[0m\u001b[0;34m,\u001b[0m \u001b[0mkwargs\u001b[0m \u001b[0;34m=\u001b[0m \u001b[0mself\u001b[0m\u001b[0;34m.\u001b[0m\u001b[0m_maybe_define_function\u001b[0m\u001b[0;34m(\u001b[0m\u001b[0margs\u001b[0m\u001b[0;34m,\u001b[0m \u001b[0mkwargs\u001b[0m\u001b[0;34m)\u001b[0m\u001b[0;34m\u001b[0m\u001b[0;34m\u001b[0m\u001b[0m\n\u001b[0;32m-> 1823\u001b[0;31m     \u001b[0;32mreturn\u001b[0m \u001b[0mgraph_function\u001b[0m\u001b[0;34m.\u001b[0m\u001b[0m_filtered_call\u001b[0m\u001b[0;34m(\u001b[0m\u001b[0margs\u001b[0m\u001b[0;34m,\u001b[0m \u001b[0mkwargs\u001b[0m\u001b[0;34m)\u001b[0m  \u001b[0;31m# pylint: disable=protected-access\u001b[0m\u001b[0;34m\u001b[0m\u001b[0;34m\u001b[0m\u001b[0m\n\u001b[0m\u001b[1;32m   1824\u001b[0m \u001b[0;34m\u001b[0m\u001b[0m\n\u001b[1;32m   1825\u001b[0m   \u001b[0;34m@\u001b[0m\u001b[0mproperty\u001b[0m\u001b[0;34m\u001b[0m\u001b[0;34m\u001b[0m\u001b[0m\n",
      "\u001b[0;32m~/opt/anaconda3/envs/tf/lib/python3.7/site-packages/tensorflow_core/python/eager/function.py\u001b[0m in \u001b[0;36m_filtered_call\u001b[0;34m(self, args, kwargs)\u001b[0m\n\u001b[1;32m   1139\u001b[0m          if isinstance(t, (ops.Tensor,\n\u001b[1;32m   1140\u001b[0m                            resource_variable_ops.BaseResourceVariable))),\n\u001b[0;32m-> 1141\u001b[0;31m         self.captured_inputs)\n\u001b[0m\u001b[1;32m   1142\u001b[0m \u001b[0;34m\u001b[0m\u001b[0m\n\u001b[1;32m   1143\u001b[0m   \u001b[0;32mdef\u001b[0m \u001b[0m_call_flat\u001b[0m\u001b[0;34m(\u001b[0m\u001b[0mself\u001b[0m\u001b[0;34m,\u001b[0m \u001b[0margs\u001b[0m\u001b[0;34m,\u001b[0m \u001b[0mcaptured_inputs\u001b[0m\u001b[0;34m,\u001b[0m \u001b[0mcancellation_manager\u001b[0m\u001b[0;34m=\u001b[0m\u001b[0;32mNone\u001b[0m\u001b[0;34m)\u001b[0m\u001b[0;34m:\u001b[0m\u001b[0;34m\u001b[0m\u001b[0;34m\u001b[0m\u001b[0m\n",
      "\u001b[0;32m~/opt/anaconda3/envs/tf/lib/python3.7/site-packages/tensorflow_core/python/eager/function.py\u001b[0m in \u001b[0;36m_call_flat\u001b[0;34m(self, args, captured_inputs, cancellation_manager)\u001b[0m\n\u001b[1;32m   1222\u001b[0m     \u001b[0;32mif\u001b[0m \u001b[0mexecuting_eagerly\u001b[0m\u001b[0;34m:\u001b[0m\u001b[0;34m\u001b[0m\u001b[0;34m\u001b[0m\u001b[0m\n\u001b[1;32m   1223\u001b[0m       flat_outputs = forward_function.call(\n\u001b[0;32m-> 1224\u001b[0;31m           ctx, args, cancellation_manager=cancellation_manager)\n\u001b[0m\u001b[1;32m   1225\u001b[0m     \u001b[0;32melse\u001b[0m\u001b[0;34m:\u001b[0m\u001b[0;34m\u001b[0m\u001b[0;34m\u001b[0m\u001b[0m\n\u001b[1;32m   1226\u001b[0m       \u001b[0mgradient_name\u001b[0m \u001b[0;34m=\u001b[0m \u001b[0mself\u001b[0m\u001b[0;34m.\u001b[0m\u001b[0m_delayed_rewrite_functions\u001b[0m\u001b[0;34m.\u001b[0m\u001b[0mregister\u001b[0m\u001b[0;34m(\u001b[0m\u001b[0;34m)\u001b[0m\u001b[0;34m\u001b[0m\u001b[0;34m\u001b[0m\u001b[0m\n",
      "\u001b[0;32m~/opt/anaconda3/envs/tf/lib/python3.7/site-packages/tensorflow_core/python/eager/function.py\u001b[0m in \u001b[0;36mcall\u001b[0;34m(self, ctx, args, cancellation_manager)\u001b[0m\n\u001b[1;32m    509\u001b[0m               \u001b[0minputs\u001b[0m\u001b[0;34m=\u001b[0m\u001b[0margs\u001b[0m\u001b[0;34m,\u001b[0m\u001b[0;34m\u001b[0m\u001b[0;34m\u001b[0m\u001b[0m\n\u001b[1;32m    510\u001b[0m               \u001b[0mattrs\u001b[0m\u001b[0;34m=\u001b[0m\u001b[0;34m(\u001b[0m\u001b[0;34m\"executor_type\"\u001b[0m\u001b[0;34m,\u001b[0m \u001b[0mexecutor_type\u001b[0m\u001b[0;34m,\u001b[0m \u001b[0;34m\"config_proto\"\u001b[0m\u001b[0;34m,\u001b[0m \u001b[0mconfig\u001b[0m\u001b[0;34m)\u001b[0m\u001b[0;34m,\u001b[0m\u001b[0;34m\u001b[0m\u001b[0;34m\u001b[0m\u001b[0m\n\u001b[0;32m--> 511\u001b[0;31m               ctx=ctx)\n\u001b[0m\u001b[1;32m    512\u001b[0m         \u001b[0;32melse\u001b[0m\u001b[0;34m:\u001b[0m\u001b[0;34m\u001b[0m\u001b[0;34m\u001b[0m\u001b[0m\n\u001b[1;32m    513\u001b[0m           outputs = execute.execute_with_cancellation(\n",
      "\u001b[0;32m~/opt/anaconda3/envs/tf/lib/python3.7/site-packages/tensorflow_core/python/eager/execute.py\u001b[0m in \u001b[0;36mquick_execute\u001b[0;34m(op_name, num_outputs, inputs, attrs, ctx, name)\u001b[0m\n\u001b[1;32m     59\u001b[0m     tensors = pywrap_tensorflow.TFE_Py_Execute(ctx._handle, device_name,\n\u001b[1;32m     60\u001b[0m                                                \u001b[0mop_name\u001b[0m\u001b[0;34m,\u001b[0m \u001b[0minputs\u001b[0m\u001b[0;34m,\u001b[0m \u001b[0mattrs\u001b[0m\u001b[0;34m,\u001b[0m\u001b[0;34m\u001b[0m\u001b[0;34m\u001b[0m\u001b[0m\n\u001b[0;32m---> 61\u001b[0;31m                                                num_outputs)\n\u001b[0m\u001b[1;32m     62\u001b[0m   \u001b[0;32mexcept\u001b[0m \u001b[0mcore\u001b[0m\u001b[0;34m.\u001b[0m\u001b[0m_NotOkStatusException\u001b[0m \u001b[0;32mas\u001b[0m \u001b[0me\u001b[0m\u001b[0;34m:\u001b[0m\u001b[0;34m\u001b[0m\u001b[0;34m\u001b[0m\u001b[0m\n\u001b[1;32m     63\u001b[0m     \u001b[0;32mif\u001b[0m \u001b[0mname\u001b[0m \u001b[0;32mis\u001b[0m \u001b[0;32mnot\u001b[0m \u001b[0;32mNone\u001b[0m\u001b[0;34m:\u001b[0m\u001b[0;34m\u001b[0m\u001b[0;34m\u001b[0m\u001b[0m\n",
      "\u001b[0;31mKeyboardInterrupt\u001b[0m: "
     ]
    }
   ],
   "source": [
    "model.fit(train,epochs=100,validation_data=test,verbose=1,class_weight=class_weights)\n"
   ]
  },
  {
   "cell_type": "code",
   "execution_count": 15,
   "id": "0f7633a2",
   "metadata": {},
   "outputs": [
    {
     "name": "stderr",
     "output_type": "stream",
     "text": [
      "2022-03-02 23:47:48.494431: I tensorflow/core/kernels/data/shuffle_dataset_op.cc:143] Filling up shuffle buffer (this may take a while): 333 of 449\n",
      "2022-03-02 23:47:51.824787: I tensorflow/core/kernels/data/shuffle_dataset_op.cc:193] Shuffle buffer filled.\n"
     ]
    },
    {
     "name": "stdout",
     "output_type": "stream",
     "text": [
      "Train for 449 steps, validate for 113 steps\n",
      "Epoch 1/250\n"
     ]
    },
    {
     "name": "stderr",
     "output_type": "stream",
     "text": [
      "2022-03-02 23:48:01.903681: I tensorflow/core/kernels/data/shuffle_dataset_op.cc:143] Filling up shuffle buffer (this may take a while): 350 of 449\n",
      "2022-03-02 23:48:04.731033: I tensorflow/core/kernels/data/shuffle_dataset_op.cc:193] Shuffle buffer filled.\n"
     ]
    },
    {
     "name": "stdout",
     "output_type": "stream",
     "text": [
      "449/449 [==============================] - 216s 481ms/step - loss: 1.0741 - accuracy: 0.5941 - val_loss: 1.0584 - val_accuracy: 0.6050\n",
      "Epoch 2/250\n"
     ]
    },
    {
     "name": "stderr",
     "output_type": "stream",
     "text": [
      "2022-03-02 23:51:37.854243: I tensorflow/core/kernels/data/shuffle_dataset_op.cc:143] Filling up shuffle buffer (this may take a while): 345 of 449\n",
      "2022-03-02 23:51:40.876467: I tensorflow/core/kernels/data/shuffle_dataset_op.cc:193] Shuffle buffer filled.\n"
     ]
    },
    {
     "name": "stdout",
     "output_type": "stream",
     "text": [
      "449/449 [==============================] - 216s 482ms/step - loss: 1.0726 - accuracy: 0.5924 - val_loss: 1.0545 - val_accuracy: 0.6088\n",
      "Epoch 3/250\n"
     ]
    },
    {
     "name": "stderr",
     "output_type": "stream",
     "text": [
      "2022-03-02 23:55:14.186641: I tensorflow/core/kernels/data/shuffle_dataset_op.cc:143] Filling up shuffle buffer (this may take a while): 343 of 449\n",
      "2022-03-02 23:55:17.205717: I tensorflow/core/kernels/data/shuffle_dataset_op.cc:193] Shuffle buffer filled.\n"
     ]
    },
    {
     "name": "stdout",
     "output_type": "stream",
     "text": [
      "449/449 [==============================] - 220s 490ms/step - loss: 1.0668 - accuracy: 0.5937 - val_loss: 1.0439 - val_accuracy: 0.6127\n",
      "Epoch 4/250\n"
     ]
    },
    {
     "name": "stderr",
     "output_type": "stream",
     "text": [
      "2022-03-02 23:58:54.048169: I tensorflow/core/kernels/data/shuffle_dataset_op.cc:143] Filling up shuffle buffer (this may take a while): 345 of 449\n",
      "2022-03-02 23:58:57.015781: I tensorflow/core/kernels/data/shuffle_dataset_op.cc:193] Shuffle buffer filled.\n"
     ]
    },
    {
     "name": "stdout",
     "output_type": "stream",
     "text": [
      "449/449 [==============================] - 671s 1s/step - loss: 1.0608 - accuracy: 0.5974 - val_loss: 1.0376 - val_accuracy: 0.6169\n",
      "Epoch 5/250\n"
     ]
    },
    {
     "name": "stderr",
     "output_type": "stream",
     "text": [
      "2022-03-03 00:10:04.656754: I tensorflow/core/kernels/data/shuffle_dataset_op.cc:143] Filling up shuffle buffer (this may take a while): 339 of 449\n",
      "2022-03-03 00:10:07.848900: I tensorflow/core/kernels/data/shuffle_dataset_op.cc:193] Shuffle buffer filled.\n"
     ]
    },
    {
     "name": "stdout",
     "output_type": "stream",
     "text": [
      "449/449 [==============================] - 217s 483ms/step - loss: 1.0620 - accuracy: 0.6018 - val_loss: 1.0409 - val_accuracy: 0.6121\n",
      "Epoch 6/250\n"
     ]
    },
    {
     "name": "stderr",
     "output_type": "stream",
     "text": [
      "2022-03-03 00:13:41.509177: I tensorflow/core/kernels/data/shuffle_dataset_op.cc:143] Filling up shuffle buffer (this may take a while): 345 of 449\n",
      "2022-03-03 00:13:44.476895: I tensorflow/core/kernels/data/shuffle_dataset_op.cc:193] Shuffle buffer filled.\n"
     ]
    },
    {
     "name": "stdout",
     "output_type": "stream",
     "text": [
      "449/449 [==============================] - 221s 492ms/step - loss: 1.0562 - accuracy: 0.6007 - val_loss: 1.0382 - val_accuracy: 0.6166\n",
      "Epoch 7/250\n"
     ]
    },
    {
     "name": "stderr",
     "output_type": "stream",
     "text": [
      "2022-03-03 00:17:22.498230: I tensorflow/core/kernels/data/shuffle_dataset_op.cc:143] Filling up shuffle buffer (this may take a while): 340 of 449\n",
      "2022-03-03 00:17:25.661495: I tensorflow/core/kernels/data/shuffle_dataset_op.cc:193] Shuffle buffer filled.\n"
     ]
    },
    {
     "name": "stdout",
     "output_type": "stream",
     "text": [
      "449/449 [==============================] - 223s 496ms/step - loss: 1.0514 - accuracy: 0.6058 - val_loss: 1.0313 - val_accuracy: 0.6160\n",
      "Epoch 8/250\n"
     ]
    },
    {
     "name": "stderr",
     "output_type": "stream",
     "text": [
      "2022-03-03 00:21:05.254746: I tensorflow/core/kernels/data/shuffle_dataset_op.cc:143] Filling up shuffle buffer (this may take a while): 348 of 449\n",
      "2022-03-03 00:21:08.157059: I tensorflow/core/kernels/data/shuffle_dataset_op.cc:193] Shuffle buffer filled.\n"
     ]
    },
    {
     "name": "stdout",
     "output_type": "stream",
     "text": [
      "449/449 [==============================] - 223s 497ms/step - loss: 1.0514 - accuracy: 0.6022 - val_loss: 1.0341 - val_accuracy: 0.6137\n",
      "Epoch 9/250\n"
     ]
    },
    {
     "name": "stderr",
     "output_type": "stream",
     "text": [
      "2022-03-03 00:24:48.191635: I tensorflow/core/kernels/data/shuffle_dataset_op.cc:143] Filling up shuffle buffer (this may take a while): 349 of 449\n",
      "2022-03-03 00:24:51.072849: I tensorflow/core/kernels/data/shuffle_dataset_op.cc:193] Shuffle buffer filled.\n"
     ]
    },
    {
     "name": "stdout",
     "output_type": "stream",
     "text": [
      "449/449 [==============================] - 224s 498ms/step - loss: 1.0465 - accuracy: 0.6061 - val_loss: 1.0578 - val_accuracy: 0.6025\n",
      "Epoch 10/250\n"
     ]
    },
    {
     "name": "stderr",
     "output_type": "stream",
     "text": [
      "2022-03-03 00:28:31.825609: I tensorflow/core/kernels/data/shuffle_dataset_op.cc:143] Filling up shuffle buffer (this may take a while): 343 of 449\n",
      "2022-03-03 00:28:34.871115: I tensorflow/core/kernels/data/shuffle_dataset_op.cc:193] Shuffle buffer filled.\n"
     ]
    },
    {
     "name": "stdout",
     "output_type": "stream",
     "text": [
      "449/449 [==============================] - 225s 502ms/step - loss: 1.0442 - accuracy: 0.6043 - val_loss: 1.0241 - val_accuracy: 0.6193\n",
      "Epoch 11/250\n"
     ]
    },
    {
     "name": "stderr",
     "output_type": "stream",
     "text": [
      "2022-03-03 00:32:17.320814: I tensorflow/core/kernels/data/shuffle_dataset_op.cc:143] Filling up shuffle buffer (this may take a while): 347 of 449\n",
      "2022-03-03 00:32:20.268461: I tensorflow/core/kernels/data/shuffle_dataset_op.cc:193] Shuffle buffer filled.\n"
     ]
    },
    {
     "name": "stdout",
     "output_type": "stream",
     "text": [
      "449/449 [==============================] - 226s 502ms/step - loss: 1.0387 - accuracy: 0.6075 - val_loss: 1.0474 - val_accuracy: 0.6103\n",
      "Epoch 12/250\n"
     ]
    },
    {
     "name": "stderr",
     "output_type": "stream",
     "text": [
      "2022-03-03 00:36:02.828185: I tensorflow/core/kernels/data/shuffle_dataset_op.cc:143] Filling up shuffle buffer (this may take a while): 329 of 449\n",
      "2022-03-03 00:36:06.272782: I tensorflow/core/kernels/data/shuffle_dataset_op.cc:193] Shuffle buffer filled.\n"
     ]
    },
    {
     "name": "stdout",
     "output_type": "stream",
     "text": [
      "449/449 [==============================] - 227s 507ms/step - loss: 1.0398 - accuracy: 0.6081 - val_loss: 1.0351 - val_accuracy: 0.6155\n",
      "Epoch 13/250\n"
     ]
    },
    {
     "name": "stderr",
     "output_type": "stream",
     "text": [
      "2022-03-03 00:39:50.248639: I tensorflow/core/kernels/data/shuffle_dataset_op.cc:143] Filling up shuffle buffer (this may take a while): 344 of 449\n",
      "2022-03-03 00:39:53.257209: I tensorflow/core/kernels/data/shuffle_dataset_op.cc:193] Shuffle buffer filled.\n"
     ]
    },
    {
     "name": "stdout",
     "output_type": "stream",
     "text": [
      "449/449 [==============================] - 228s 508ms/step - loss: 1.0341 - accuracy: 0.6077 - val_loss: 1.0225 - val_accuracy: 0.6205\n",
      "Epoch 14/250\n"
     ]
    },
    {
     "name": "stderr",
     "output_type": "stream",
     "text": [
      "2022-03-03 00:43:38.477843: I tensorflow/core/kernels/data/shuffle_dataset_op.cc:143] Filling up shuffle buffer (this may take a while): 334 of 449\n",
      "2022-03-03 00:43:41.784978: I tensorflow/core/kernels/data/shuffle_dataset_op.cc:193] Shuffle buffer filled.\n"
     ]
    },
    {
     "name": "stdout",
     "output_type": "stream",
     "text": [
      "449/449 [==============================] - 229s 510ms/step - loss: 1.0367 - accuracy: 0.6085 - val_loss: 1.0224 - val_accuracy: 0.6212\n",
      "Epoch 15/250\n"
     ]
    },
    {
     "name": "stderr",
     "output_type": "stream",
     "text": [
      "2022-03-03 00:47:27.282137: I tensorflow/core/kernels/data/shuffle_dataset_op.cc:143] Filling up shuffle buffer (this may take a while): 343 of 449\n",
      "2022-03-03 00:47:30.336652: I tensorflow/core/kernels/data/shuffle_dataset_op.cc:193] Shuffle buffer filled.\n"
     ]
    },
    {
     "name": "stdout",
     "output_type": "stream",
     "text": [
      "449/449 [==============================] - 228s 507ms/step - loss: 1.0341 - accuracy: 0.6101 - val_loss: 1.0135 - val_accuracy: 0.6245\n",
      "Epoch 16/250\n"
     ]
    },
    {
     "name": "stderr",
     "output_type": "stream",
     "text": [
      "2022-03-03 00:51:14.995068: I tensorflow/core/kernels/data/shuffle_dataset_op.cc:143] Filling up shuffle buffer (this may take a while): 341 of 449\n",
      "2022-03-03 00:51:18.092274: I tensorflow/core/kernels/data/shuffle_dataset_op.cc:193] Shuffle buffer filled.\n"
     ]
    },
    {
     "name": "stdout",
     "output_type": "stream",
     "text": [
      "449/449 [==============================] - 227s 506ms/step - loss: 1.0308 - accuracy: 0.6093 - val_loss: 1.0148 - val_accuracy: 0.6229\n",
      "Epoch 17/250\n"
     ]
    },
    {
     "name": "stderr",
     "output_type": "stream",
     "text": [
      "2022-03-03 00:55:02.406414: I tensorflow/core/kernels/data/shuffle_dataset_op.cc:143] Filling up shuffle buffer (this may take a while): 325 of 449\n",
      "2022-03-03 00:55:05.953642: I tensorflow/core/kernels/data/shuffle_dataset_op.cc:193] Shuffle buffer filled.\n"
     ]
    },
    {
     "name": "stdout",
     "output_type": "stream",
     "text": [
      "449/449 [==============================] - 229s 509ms/step - loss: 1.0280 - accuracy: 0.6144 - val_loss: 1.0260 - val_accuracy: 0.6148\n",
      "Epoch 18/250\n"
     ]
    },
    {
     "name": "stderr",
     "output_type": "stream",
     "text": [
      "2022-03-03 00:58:50.990109: I tensorflow/core/kernels/data/shuffle_dataset_op.cc:143] Filling up shuffle buffer (this may take a while): 331 of 449\n",
      "2022-03-03 00:58:54.423977: I tensorflow/core/kernels/data/shuffle_dataset_op.cc:193] Shuffle buffer filled.\n"
     ]
    },
    {
     "name": "stdout",
     "output_type": "stream",
     "text": [
      "449/449 [==============================] - 228s 507ms/step - loss: 1.0218 - accuracy: 0.6160 - val_loss: 1.0299 - val_accuracy: 0.6227\n",
      "Epoch 19/250\n"
     ]
    },
    {
     "name": "stderr",
     "output_type": "stream",
     "text": [
      "2022-03-03 01:02:38.645093: I tensorflow/core/kernels/data/shuffle_dataset_op.cc:143] Filling up shuffle buffer (this may take a while): 340 of 449\n",
      "2022-03-03 01:02:41.785606: I tensorflow/core/kernels/data/shuffle_dataset_op.cc:193] Shuffle buffer filled.\n"
     ]
    },
    {
     "name": "stdout",
     "output_type": "stream",
     "text": [
      "449/449 [==============================] - 228s 508ms/step - loss: 1.0182 - accuracy: 0.6154 - val_loss: 1.0318 - val_accuracy: 0.6158\n",
      "Epoch 20/250\n"
     ]
    },
    {
     "name": "stderr",
     "output_type": "stream",
     "text": [
      "2022-03-03 01:06:26.914422: I tensorflow/core/kernels/data/shuffle_dataset_op.cc:143] Filling up shuffle buffer (this may take a while): 342 of 449\n",
      "2022-03-03 01:06:29.995725: I tensorflow/core/kernels/data/shuffle_dataset_op.cc:193] Shuffle buffer filled.\n"
     ]
    },
    {
     "name": "stdout",
     "output_type": "stream",
     "text": [
      "449/449 [==============================] - 229s 509ms/step - loss: 1.0205 - accuracy: 0.6163 - val_loss: 1.0148 - val_accuracy: 0.6282\n",
      "Epoch 21/250\n"
     ]
    },
    {
     "name": "stderr",
     "output_type": "stream",
     "text": [
      "2022-03-03 01:10:15.469551: I tensorflow/core/kernels/data/shuffle_dataset_op.cc:143] Filling up shuffle buffer (this may take a while): 335 of 449\n",
      "2022-03-03 01:10:18.752507: I tensorflow/core/kernels/data/shuffle_dataset_op.cc:193] Shuffle buffer filled.\n"
     ]
    },
    {
     "name": "stdout",
     "output_type": "stream",
     "text": [
      "449/449 [==============================] - 227s 506ms/step - loss: 1.0222 - accuracy: 0.6167 - val_loss: 1.0324 - val_accuracy: 0.6174\n",
      "Epoch 22/250\n"
     ]
    },
    {
     "name": "stderr",
     "output_type": "stream",
     "text": [
      "2022-03-03 01:14:02.858422: I tensorflow/core/kernels/data/shuffle_dataset_op.cc:143] Filling up shuffle buffer (this may take a while): 342 of 449\n",
      "2022-03-03 01:14:05.946553: I tensorflow/core/kernels/data/shuffle_dataset_op.cc:193] Shuffle buffer filled.\n"
     ]
    },
    {
     "name": "stdout",
     "output_type": "stream",
     "text": [
      "449/449 [==============================] - 228s 508ms/step - loss: 1.0180 - accuracy: 0.6177 - val_loss: 1.0157 - val_accuracy: 0.6225\n",
      "Epoch 23/250\n"
     ]
    },
    {
     "name": "stderr",
     "output_type": "stream",
     "text": [
      "2022-03-03 01:17:50.985148: I tensorflow/core/kernels/data/shuffle_dataset_op.cc:143] Filling up shuffle buffer (this may take a while): 347 of 449\n",
      "2022-03-03 01:17:53.880267: I tensorflow/core/kernels/data/shuffle_dataset_op.cc:193] Shuffle buffer filled.\n"
     ]
    },
    {
     "name": "stdout",
     "output_type": "stream",
     "text": [
      "449/449 [==============================] - 229s 509ms/step - loss: 1.0164 - accuracy: 0.6187 - val_loss: 1.0320 - val_accuracy: 0.6163\n",
      "Epoch 24/250\n"
     ]
    },
    {
     "name": "stderr",
     "output_type": "stream",
     "text": [
      "2022-03-03 01:21:39.679325: I tensorflow/core/kernels/data/shuffle_dataset_op.cc:143] Filling up shuffle buffer (this may take a while): 338 of 449\n",
      "2022-03-03 01:21:42.892643: I tensorflow/core/kernels/data/shuffle_dataset_op.cc:193] Shuffle buffer filled.\n"
     ]
    },
    {
     "name": "stdout",
     "output_type": "stream",
     "text": [
      "449/449 [==============================] - 230s 511ms/step - loss: 1.0135 - accuracy: 0.6201 - val_loss: 1.0321 - val_accuracy: 0.6236\n",
      "Epoch 25/250\n"
     ]
    },
    {
     "name": "stderr",
     "output_type": "stream",
     "text": [
      "2022-03-03 01:25:29.294991: I tensorflow/core/kernels/data/shuffle_dataset_op.cc:143] Filling up shuffle buffer (this may take a while): 343 of 449\n",
      "2022-03-03 01:25:32.366667: I tensorflow/core/kernels/data/shuffle_dataset_op.cc:193] Shuffle buffer filled.\n"
     ]
    },
    {
     "name": "stdout",
     "output_type": "stream",
     "text": [
      "449/449 [==============================] - 227s 506ms/step - loss: 1.0088 - accuracy: 0.6171 - val_loss: 1.0815 - val_accuracy: 0.6049\n",
      "Epoch 26/250\n"
     ]
    },
    {
     "name": "stderr",
     "output_type": "stream",
     "text": [
      "2022-03-03 01:29:16.622269: I tensorflow/core/kernels/data/shuffle_dataset_op.cc:143] Filling up shuffle buffer (this may take a while): 344 of 449\n",
      "2022-03-03 01:29:19.608374: I tensorflow/core/kernels/data/shuffle_dataset_op.cc:193] Shuffle buffer filled.\n"
     ]
    },
    {
     "name": "stdout",
     "output_type": "stream",
     "text": [
      "449/449 [==============================] - 228s 508ms/step - loss: 1.0039 - accuracy: 0.6209 - val_loss: 1.0081 - val_accuracy: 0.6314\n",
      "Epoch 27/250\n"
     ]
    },
    {
     "name": "stderr",
     "output_type": "stream",
     "text": [
      "2022-03-03 01:33:04.634824: I tensorflow/core/kernels/data/shuffle_dataset_op.cc:143] Filling up shuffle buffer (this may take a while): 342 of 449\n",
      "2022-03-03 01:33:07.705933: I tensorflow/core/kernels/data/shuffle_dataset_op.cc:193] Shuffle buffer filled.\n"
     ]
    },
    {
     "name": "stdout",
     "output_type": "stream",
     "text": [
      "449/449 [==============================] - 229s 510ms/step - loss: 1.0017 - accuracy: 0.6219 - val_loss: 1.0097 - val_accuracy: 0.6276\n",
      "Epoch 28/250\n"
     ]
    },
    {
     "name": "stderr",
     "output_type": "stream",
     "text": [
      "2022-03-03 01:36:53.495990: I tensorflow/core/kernels/data/shuffle_dataset_op.cc:143] Filling up shuffle buffer (this may take a while): 345 of 449\n",
      "2022-03-03 01:36:56.481937: I tensorflow/core/kernels/data/shuffle_dataset_op.cc:193] Shuffle buffer filled.\n"
     ]
    },
    {
     "name": "stdout",
     "output_type": "stream",
     "text": [
      "449/449 [==============================] - 228s 508ms/step - loss: 0.9993 - accuracy: 0.6248 - val_loss: 1.0107 - val_accuracy: 0.6276\n",
      "Epoch 29/250\n"
     ]
    },
    {
     "name": "stderr",
     "output_type": "stream",
     "text": [
      "2022-03-03 01:40:41.534333: I tensorflow/core/kernels/data/shuffle_dataset_op.cc:143] Filling up shuffle buffer (this may take a while): 340 of 449\n",
      "2022-03-03 01:40:44.686551: I tensorflow/core/kernels/data/shuffle_dataset_op.cc:193] Shuffle buffer filled.\n"
     ]
    },
    {
     "name": "stdout",
     "output_type": "stream",
     "text": [
      "449/449 [==============================] - 228s 507ms/step - loss: 1.0043 - accuracy: 0.6265 - val_loss: 1.0093 - val_accuracy: 0.6314\n",
      "Epoch 30/250\n"
     ]
    },
    {
     "name": "stderr",
     "output_type": "stream",
     "text": [
      "2022-03-03 01:44:29.142441: I tensorflow/core/kernels/data/shuffle_dataset_op.cc:143] Filling up shuffle buffer (this may take a while): 349 of 449\n",
      "2022-03-03 01:44:32.020250: I tensorflow/core/kernels/data/shuffle_dataset_op.cc:193] Shuffle buffer filled.\n"
     ]
    },
    {
     "name": "stdout",
     "output_type": "stream",
     "text": [
      "449/449 [==============================] - 228s 509ms/step - loss: 1.0008 - accuracy: 0.6202 - val_loss: 1.0287 - val_accuracy: 0.6193\n",
      "Epoch 31/250\n"
     ]
    },
    {
     "name": "stderr",
     "output_type": "stream",
     "text": [
      "2022-03-03 01:48:17.541263: I tensorflow/core/kernels/data/shuffle_dataset_op.cc:143] Filling up shuffle buffer (this may take a while): 342 of 449\n",
      "2022-03-03 01:48:20.577685: I tensorflow/core/kernels/data/shuffle_dataset_op.cc:193] Shuffle buffer filled.\n"
     ]
    },
    {
     "name": "stdout",
     "output_type": "stream",
     "text": [
      "449/449 [==============================] - 228s 509ms/step - loss: 0.9974 - accuracy: 0.6250 - val_loss: 1.0099 - val_accuracy: 0.6275\n",
      "Epoch 32/250\n"
     ]
    },
    {
     "name": "stderr",
     "output_type": "stream",
     "text": [
      "2022-03-03 01:52:05.917798: I tensorflow/core/kernels/data/shuffle_dataset_op.cc:143] Filling up shuffle buffer (this may take a while): 340 of 449\n",
      "2022-03-03 01:52:09.071898: I tensorflow/core/kernels/data/shuffle_dataset_op.cc:193] Shuffle buffer filled.\n"
     ]
    },
    {
     "name": "stdout",
     "output_type": "stream",
     "text": [
      "449/449 [==============================] - 228s 508ms/step - loss: 0.9960 - accuracy: 0.6258 - val_loss: 1.0097 - val_accuracy: 0.6293\n",
      "Epoch 33/250\n"
     ]
    },
    {
     "name": "stderr",
     "output_type": "stream",
     "text": [
      "2022-03-03 01:55:53.882980: I tensorflow/core/kernels/data/shuffle_dataset_op.cc:143] Filling up shuffle buffer (this may take a while): 346 of 449\n",
      "2022-03-03 01:55:56.825043: I tensorflow/core/kernels/data/shuffle_dataset_op.cc:193] Shuffle buffer filled.\n"
     ]
    },
    {
     "name": "stdout",
     "output_type": "stream",
     "text": [
      "449/449 [==============================] - 227s 506ms/step - loss: 0.9967 - accuracy: 0.6258 - val_loss: 1.0206 - val_accuracy: 0.6232\n",
      "Epoch 34/250\n"
     ]
    },
    {
     "name": "stderr",
     "output_type": "stream",
     "text": [
      "2022-03-03 01:59:41.043461: I tensorflow/core/kernels/data/shuffle_dataset_op.cc:143] Filling up shuffle buffer (this may take a while): 343 of 449\n",
      "2022-03-03 01:59:44.060260: I tensorflow/core/kernels/data/shuffle_dataset_op.cc:193] Shuffle buffer filled.\n"
     ]
    },
    {
     "name": "stdout",
     "output_type": "stream",
     "text": [
      "449/449 [==============================] - 230s 512ms/step - loss: 0.9930 - accuracy: 0.6228 - val_loss: 1.0407 - val_accuracy: 0.6126\n",
      "Epoch 35/250\n"
     ]
    },
    {
     "name": "stderr",
     "output_type": "stream",
     "text": [
      "2022-03-03 02:03:30.744567: I tensorflow/core/kernels/data/shuffle_dataset_op.cc:143] Filling up shuffle buffer (this may take a while): 343 of 449\n",
      "2022-03-03 02:03:33.789928: I tensorflow/core/kernels/data/shuffle_dataset_op.cc:193] Shuffle buffer filled.\n"
     ]
    },
    {
     "name": "stdout",
     "output_type": "stream",
     "text": [
      "449/449 [==============================] - 226s 504ms/step - loss: 0.9883 - accuracy: 0.6277 - val_loss: 1.0066 - val_accuracy: 0.6290\n",
      "Epoch 36/250\n"
     ]
    },
    {
     "name": "stderr",
     "output_type": "stream",
     "text": [
      "2022-03-03 02:07:17.042806: I tensorflow/core/kernels/data/shuffle_dataset_op.cc:143] Filling up shuffle buffer (this may take a while): 345 of 449\n",
      "2022-03-03 02:07:19.983908: I tensorflow/core/kernels/data/shuffle_dataset_op.cc:193] Shuffle buffer filled.\n"
     ]
    },
    {
     "name": "stdout",
     "output_type": "stream",
     "text": [
      "449/449 [==============================] - 348s 774ms/step - loss: 0.9870 - accuracy: 0.6301 - val_loss: 1.0020 - val_accuracy: 0.6314\n",
      "Epoch 37/250\n"
     ]
    },
    {
     "name": "stderr",
     "output_type": "stream",
     "text": [
      "2022-03-03 02:13:04.688006: I tensorflow/core/kernels/data/shuffle_dataset_op.cc:143] Filling up shuffle buffer (this may take a while): 343 of 449\n",
      "2022-03-03 02:13:07.734739: I tensorflow/core/kernels/data/shuffle_dataset_op.cc:193] Shuffle buffer filled.\n"
     ]
    },
    {
     "name": "stdout",
     "output_type": "stream",
     "text": [
      "449/449 [==============================] - 220s 490ms/step - loss: 0.9878 - accuracy: 0.6299 - val_loss: 1.0038 - val_accuracy: 0.6308\n",
      "Epoch 38/250\n"
     ]
    },
    {
     "name": "stderr",
     "output_type": "stream",
     "text": [
      "2022-03-03 02:16:44.637939: I tensorflow/core/kernels/data/shuffle_dataset_op.cc:143] Filling up shuffle buffer (this may take a while): 344 of 449\n",
      "2022-03-03 02:16:47.639968: I tensorflow/core/kernels/data/shuffle_dataset_op.cc:193] Shuffle buffer filled.\n"
     ]
    },
    {
     "name": "stdout",
     "output_type": "stream",
     "text": [
      "449/449 [==============================] - 225s 501ms/step - loss: 0.9830 - accuracy: 0.6294 - val_loss: 1.0057 - val_accuracy: 0.6340\n",
      "Epoch 39/250\n"
     ]
    },
    {
     "name": "stderr",
     "output_type": "stream",
     "text": [
      "2022-03-03 02:20:29.541385: I tensorflow/core/kernels/data/shuffle_dataset_op.cc:143] Filling up shuffle buffer (this may take a while): 345 of 449\n",
      "2022-03-03 02:20:32.499772: I tensorflow/core/kernels/data/shuffle_dataset_op.cc:193] Shuffle buffer filled.\n"
     ]
    },
    {
     "name": "stdout",
     "output_type": "stream",
     "text": [
      "449/449 [==============================] - 226s 503ms/step - loss: 0.9842 - accuracy: 0.6321 - val_loss: 1.0077 - val_accuracy: 0.6303\n",
      "Epoch 40/250\n"
     ]
    },
    {
     "name": "stderr",
     "output_type": "stream",
     "text": [
      "2022-03-03 02:24:15.450532: I tensorflow/core/kernels/data/shuffle_dataset_op.cc:143] Filling up shuffle buffer (this may take a while): 347 of 449\n",
      "2022-03-03 02:24:18.378083: I tensorflow/core/kernels/data/shuffle_dataset_op.cc:193] Shuffle buffer filled.\n"
     ]
    },
    {
     "name": "stdout",
     "output_type": "stream",
     "text": [
      "449/449 [==============================] - 226s 504ms/step - loss: 0.9820 - accuracy: 0.6301 - val_loss: 1.0049 - val_accuracy: 0.6273\n",
      "Epoch 41/250\n"
     ]
    },
    {
     "name": "stderr",
     "output_type": "stream",
     "text": [
      "2022-03-03 02:28:01.624903: I tensorflow/core/kernels/data/shuffle_dataset_op.cc:143] Filling up shuffle buffer (this may take a while): 342 of 449\n",
      "2022-03-03 02:28:04.695378: I tensorflow/core/kernels/data/shuffle_dataset_op.cc:193] Shuffle buffer filled.\n"
     ]
    },
    {
     "name": "stdout",
     "output_type": "stream",
     "text": [
      "449/449 [==============================] - 226s 504ms/step - loss: 0.9702 - accuracy: 0.6345 - val_loss: 1.0207 - val_accuracy: 0.6247\n",
      "Epoch 42/250\n"
     ]
    },
    {
     "name": "stderr",
     "output_type": "stream",
     "text": [
      "2022-03-03 02:31:48.110287: I tensorflow/core/kernels/data/shuffle_dataset_op.cc:143] Filling up shuffle buffer (this may take a while): 347 of 449\n",
      "2022-03-03 02:31:51.002975: I tensorflow/core/kernels/data/shuffle_dataset_op.cc:193] Shuffle buffer filled.\n"
     ]
    },
    {
     "name": "stdout",
     "output_type": "stream",
     "text": [
      "449/449 [==============================] - 226s 504ms/step - loss: 0.9723 - accuracy: 0.6336 - val_loss: 1.0167 - val_accuracy: 0.6227\n",
      "Epoch 43/250\n"
     ]
    },
    {
     "name": "stderr",
     "output_type": "stream",
     "text": [
      "2022-03-03 02:35:34.589944: I tensorflow/core/kernels/data/shuffle_dataset_op.cc:143] Filling up shuffle buffer (this may take a while): 344 of 449\n",
      "2022-03-03 02:35:37.558139: I tensorflow/core/kernels/data/shuffle_dataset_op.cc:193] Shuffle buffer filled.\n"
     ]
    },
    {
     "name": "stdout",
     "output_type": "stream",
     "text": [
      "449/449 [==============================] - 509s 1s/step - loss: 0.9653 - accuracy: 0.6375 - val_loss: 0.9981 - val_accuracy: 0.6297\n",
      "Epoch 44/250\n"
     ]
    },
    {
     "name": "stderr",
     "output_type": "stream",
     "text": [
      "2022-03-03 02:44:03.643608: I tensorflow/core/kernels/data/shuffle_dataset_op.cc:143] Filling up shuffle buffer (this may take a while): 345 of 449\n",
      "2022-03-03 02:44:06.646196: I tensorflow/core/kernels/data/shuffle_dataset_op.cc:193] Shuffle buffer filled.\n"
     ]
    },
    {
     "name": "stdout",
     "output_type": "stream",
     "text": [
      "449/449 [==============================] - 219s 487ms/step - loss: 0.9680 - accuracy: 0.6375 - val_loss: 1.0143 - val_accuracy: 0.6257\n",
      "Epoch 45/250\n"
     ]
    },
    {
     "name": "stderr",
     "output_type": "stream",
     "text": [
      "2022-03-03 02:47:42.240435: I tensorflow/core/kernels/data/shuffle_dataset_op.cc:143] Filling up shuffle buffer (this may take a while): 338 of 449\n",
      "2022-03-03 02:47:45.492427: I tensorflow/core/kernels/data/shuffle_dataset_op.cc:193] Shuffle buffer filled.\n"
     ]
    },
    {
     "name": "stdout",
     "output_type": "stream",
     "text": [
      "449/449 [==============================] - 224s 500ms/step - loss: 0.9705 - accuracy: 0.6347 - val_loss: 1.0088 - val_accuracy: 0.6294\n",
      "Epoch 46/250\n"
     ]
    },
    {
     "name": "stderr",
     "output_type": "stream",
     "text": [
      "2022-03-03 02:51:26.546137: I tensorflow/core/kernels/data/shuffle_dataset_op.cc:143] Filling up shuffle buffer (this may take a while): 348 of 449\n",
      "2022-03-03 02:51:29.441542: I tensorflow/core/kernels/data/shuffle_dataset_op.cc:193] Shuffle buffer filled.\n"
     ]
    },
    {
     "name": "stdout",
     "output_type": "stream",
     "text": [
      "449/449 [==============================] - 226s 502ms/step - loss: 0.9702 - accuracy: 0.6364 - val_loss: 0.9981 - val_accuracy: 0.6303\n",
      "Epoch 47/250\n"
     ]
    },
    {
     "name": "stderr",
     "output_type": "stream",
     "text": [
      "2022-03-03 02:55:12.065383: I tensorflow/core/kernels/data/shuffle_dataset_op.cc:143] Filling up shuffle buffer (this may take a while): 345 of 449\n",
      "2022-03-03 02:55:14.998030: I tensorflow/core/kernels/data/shuffle_dataset_op.cc:193] Shuffle buffer filled.\n"
     ]
    },
    {
     "name": "stdout",
     "output_type": "stream",
     "text": [
      "449/449 [==============================] - 226s 503ms/step - loss: 0.9673 - accuracy: 0.6363 - val_loss: 1.0199 - val_accuracy: 0.6226\n",
      "Epoch 48/250\n"
     ]
    },
    {
     "name": "stderr",
     "output_type": "stream",
     "text": [
      "2022-03-03 02:58:58.105065: I tensorflow/core/kernels/data/shuffle_dataset_op.cc:143] Filling up shuffle buffer (this may take a while): 343 of 449\n",
      "2022-03-03 02:59:01.279436: I tensorflow/core/kernels/data/shuffle_dataset_op.cc:193] Shuffle buffer filled.\n"
     ]
    },
    {
     "name": "stdout",
     "output_type": "stream",
     "text": [
      "449/449 [==============================] - 226s 503ms/step - loss: 0.9665 - accuracy: 0.6358 - val_loss: 1.0098 - val_accuracy: 0.6276\n",
      "Epoch 49/250\n"
     ]
    },
    {
     "name": "stderr",
     "output_type": "stream",
     "text": [
      "2022-03-03 03:02:43.952789: I tensorflow/core/kernels/data/shuffle_dataset_op.cc:143] Filling up shuffle buffer (this may take a while): 342 of 449\n",
      "2022-03-03 03:02:47.049400: I tensorflow/core/kernels/data/shuffle_dataset_op.cc:193] Shuffle buffer filled.\n"
     ]
    },
    {
     "name": "stdout",
     "output_type": "stream",
     "text": [
      "449/449 [==============================] - 225s 501ms/step - loss: 0.9637 - accuracy: 0.6356 - val_loss: 1.0069 - val_accuracy: 0.6322\n",
      "Epoch 50/250\n"
     ]
    },
    {
     "name": "stderr",
     "output_type": "stream",
     "text": [
      "2022-03-03 03:06:28.844150: I tensorflow/core/kernels/data/shuffle_dataset_op.cc:143] Filling up shuffle buffer (this may take a while): 350 of 449\n",
      "2022-03-03 03:06:31.659521: I tensorflow/core/kernels/data/shuffle_dataset_op.cc:193] Shuffle buffer filled.\n"
     ]
    },
    {
     "name": "stdout",
     "output_type": "stream",
     "text": [
      "449/449 [==============================] - 224s 499ms/step - loss: 0.9613 - accuracy: 0.6388 - val_loss: 1.0226 - val_accuracy: 0.6194\n",
      "Epoch 51/250\n"
     ]
    },
    {
     "name": "stderr",
     "output_type": "stream",
     "text": [
      "2022-03-03 03:10:12.876481: I tensorflow/core/kernels/data/shuffle_dataset_op.cc:143] Filling up shuffle buffer (this may take a while): 343 of 449\n",
      "2022-03-03 03:10:15.868585: I tensorflow/core/kernels/data/shuffle_dataset_op.cc:193] Shuffle buffer filled.\n"
     ]
    },
    {
     "name": "stdout",
     "output_type": "stream",
     "text": [
      "449/449 [==============================] - 224s 498ms/step - loss: 0.9596 - accuracy: 0.6385 - val_loss: 1.0311 - val_accuracy: 0.6188\n",
      "Epoch 52/250\n"
     ]
    },
    {
     "name": "stderr",
     "output_type": "stream",
     "text": [
      "2022-03-03 03:13:56.666650: I tensorflow/core/kernels/data/shuffle_dataset_op.cc:143] Filling up shuffle buffer (this may take a while): 332 of 449\n",
      "2022-03-03 03:14:00.105392: I tensorflow/core/kernels/data/shuffle_dataset_op.cc:193] Shuffle buffer filled.\n"
     ]
    },
    {
     "name": "stdout",
     "output_type": "stream",
     "text": [
      "449/449 [==============================] - 225s 502ms/step - loss: 0.9602 - accuracy: 0.6391 - val_loss: 1.0004 - val_accuracy: 0.6321\n",
      "Epoch 53/250\n"
     ]
    },
    {
     "name": "stderr",
     "output_type": "stream",
     "text": [
      "2022-03-03 03:17:42.125838: I tensorflow/core/kernels/data/shuffle_dataset_op.cc:143] Filling up shuffle buffer (this may take a while): 341 of 449\n",
      "2022-03-03 03:17:45.222660: I tensorflow/core/kernels/data/shuffle_dataset_op.cc:193] Shuffle buffer filled.\n"
     ]
    },
    {
     "name": "stdout",
     "output_type": "stream",
     "text": [
      "449/449 [==============================] - 224s 498ms/step - loss: 0.9587 - accuracy: 0.6394 - val_loss: 0.9970 - val_accuracy: 0.6293\n",
      "Epoch 54/250\n"
     ]
    },
    {
     "name": "stderr",
     "output_type": "stream",
     "text": [
      "2022-03-03 03:21:25.927283: I tensorflow/core/kernels/data/shuffle_dataset_op.cc:143] Filling up shuffle buffer (this may take a while): 348 of 449\n",
      "2022-03-03 03:21:28.817465: I tensorflow/core/kernels/data/shuffle_dataset_op.cc:193] Shuffle buffer filled.\n"
     ]
    },
    {
     "name": "stdout",
     "output_type": "stream",
     "text": [
      "449/449 [==============================] - 223s 498ms/step - loss: 0.9539 - accuracy: 0.6417 - val_loss: 1.0098 - val_accuracy: 0.6241\n",
      "Epoch 55/250\n"
     ]
    },
    {
     "name": "stderr",
     "output_type": "stream",
     "text": [
      "2022-03-03 03:25:09.400025: I tensorflow/core/kernels/data/shuffle_dataset_op.cc:143] Filling up shuffle buffer (this may take a while): 345 of 449\n",
      "2022-03-03 03:25:12.340499: I tensorflow/core/kernels/data/shuffle_dataset_op.cc:193] Shuffle buffer filled.\n"
     ]
    },
    {
     "name": "stdout",
     "output_type": "stream",
     "text": [
      "449/449 [==============================] - 224s 500ms/step - loss: 0.9580 - accuracy: 0.6423 - val_loss: 1.0042 - val_accuracy: 0.6286\n",
      "Epoch 56/250\n"
     ]
    },
    {
     "name": "stderr",
     "output_type": "stream",
     "text": [
      "2022-03-03 03:28:53.818516: I tensorflow/core/kernels/data/shuffle_dataset_op.cc:143] Filling up shuffle buffer (this may take a while): 348 of 449\n",
      "2022-03-03 03:28:56.695200: I tensorflow/core/kernels/data/shuffle_dataset_op.cc:193] Shuffle buffer filled.\n"
     ]
    },
    {
     "name": "stdout",
     "output_type": "stream",
     "text": [
      "449/449 [==============================] - 223s 497ms/step - loss: 0.9526 - accuracy: 0.6432 - val_loss: 1.0020 - val_accuracy: 0.6293\n",
      "Epoch 57/250\n"
     ]
    },
    {
     "name": "stderr",
     "output_type": "stream",
     "text": [
      "2022-03-03 03:32:37.089496: I tensorflow/core/kernels/data/shuffle_dataset_op.cc:143] Filling up shuffle buffer (this may take a while): 344 of 449\n",
      "2022-03-03 03:32:40.094088: I tensorflow/core/kernels/data/shuffle_dataset_op.cc:193] Shuffle buffer filled.\n"
     ]
    },
    {
     "name": "stdout",
     "output_type": "stream",
     "text": [
      "449/449 [==============================] - 223s 496ms/step - loss: 0.9463 - accuracy: 0.6444 - val_loss: 1.0200 - val_accuracy: 0.6213\n",
      "Epoch 58/250\n"
     ]
    },
    {
     "name": "stderr",
     "output_type": "stream",
     "text": [
      "2022-03-03 03:36:19.854072: I tensorflow/core/kernels/data/shuffle_dataset_op.cc:143] Filling up shuffle buffer (this may take a while): 348 of 449\n",
      "2022-03-03 03:36:22.755553: I tensorflow/core/kernels/data/shuffle_dataset_op.cc:193] Shuffle buffer filled.\n"
     ]
    },
    {
     "name": "stdout",
     "output_type": "stream",
     "text": [
      "449/449 [==============================] - 224s 499ms/step - loss: 0.9531 - accuracy: 0.6421 - val_loss: 0.9937 - val_accuracy: 0.6340\n",
      "Epoch 59/250\n"
     ]
    },
    {
     "name": "stderr",
     "output_type": "stream",
     "text": [
      "2022-03-03 03:40:04.096064: I tensorflow/core/kernels/data/shuffle_dataset_op.cc:143] Filling up shuffle buffer (this may take a while): 345 of 449\n",
      "2022-03-03 03:40:07.044456: I tensorflow/core/kernels/data/shuffle_dataset_op.cc:193] Shuffle buffer filled.\n"
     ]
    },
    {
     "name": "stdout",
     "output_type": "stream",
     "text": [
      "449/449 [==============================] - 224s 500ms/step - loss: 0.9428 - accuracy: 0.6435 - val_loss: 1.0000 - val_accuracy: 0.6340\n",
      "Epoch 60/250\n"
     ]
    },
    {
     "name": "stderr",
     "output_type": "stream",
     "text": [
      "2022-03-03 03:43:48.434980: I tensorflow/core/kernels/data/shuffle_dataset_op.cc:143] Filling up shuffle buffer (this may take a while): 349 of 449\n",
      "2022-03-03 03:43:51.240101: I tensorflow/core/kernels/data/shuffle_dataset_op.cc:193] Shuffle buffer filled.\n"
     ]
    },
    {
     "name": "stdout",
     "output_type": "stream",
     "text": [
      "449/449 [==============================] - 225s 502ms/step - loss: 0.9418 - accuracy: 0.6484 - val_loss: 1.0112 - val_accuracy: 0.6230\n",
      "Epoch 61/250\n"
     ]
    },
    {
     "name": "stderr",
     "output_type": "stream",
     "text": [
      "2022-03-03 03:47:33.682202: I tensorflow/core/kernels/data/shuffle_dataset_op.cc:143] Filling up shuffle buffer (this may take a while): 339 of 449\n",
      "2022-03-03 03:47:36.834867: I tensorflow/core/kernels/data/shuffle_dataset_op.cc:193] Shuffle buffer filled.\n"
     ]
    },
    {
     "name": "stdout",
     "output_type": "stream",
     "text": [
      "449/449 [==============================] - 226s 504ms/step - loss: 0.9467 - accuracy: 0.6462 - val_loss: 0.9944 - val_accuracy: 0.6395\n",
      "Epoch 62/250\n"
     ]
    },
    {
     "name": "stderr",
     "output_type": "stream",
     "text": [
      "2022-03-03 03:51:20.058794: I tensorflow/core/kernels/data/shuffle_dataset_op.cc:143] Filling up shuffle buffer (this may take a while): 340 of 449\n",
      "2022-03-03 03:51:23.200784: I tensorflow/core/kernels/data/shuffle_dataset_op.cc:193] Shuffle buffer filled.\n"
     ]
    },
    {
     "name": "stdout",
     "output_type": "stream",
     "text": [
      "449/449 [==============================] - 228s 507ms/step - loss: 0.9423 - accuracy: 0.6468 - val_loss: 0.9908 - val_accuracy: 0.6333\n",
      "Epoch 63/250\n"
     ]
    },
    {
     "name": "stderr",
     "output_type": "stream",
     "text": [
      "2022-03-03 03:55:07.911162: I tensorflow/core/kernels/data/shuffle_dataset_op.cc:143] Filling up shuffle buffer (this may take a while): 349 of 449\n",
      "2022-03-03 03:55:10.786972: I tensorflow/core/kernels/data/shuffle_dataset_op.cc:193] Shuffle buffer filled.\n"
     ]
    },
    {
     "name": "stdout",
     "output_type": "stream",
     "text": [
      "449/449 [==============================] - 226s 504ms/step - loss: 0.9449 - accuracy: 0.6413 - val_loss: 0.9942 - val_accuracy: 0.6358\n",
      "Epoch 64/250\n"
     ]
    },
    {
     "name": "stderr",
     "output_type": "stream",
     "text": [
      "2022-03-03 03:58:54.063524: I tensorflow/core/kernels/data/shuffle_dataset_op.cc:143] Filling up shuffle buffer (this may take a while): 343 of 449\n",
      "2022-03-03 03:58:57.053646: I tensorflow/core/kernels/data/shuffle_dataset_op.cc:193] Shuffle buffer filled.\n"
     ]
    },
    {
     "name": "stdout",
     "output_type": "stream",
     "text": [
      "449/449 [==============================] - 225s 501ms/step - loss: 0.9364 - accuracy: 0.6487 - val_loss: 1.0352 - val_accuracy: 0.6206\n",
      "Epoch 65/250\n"
     ]
    },
    {
     "name": "stderr",
     "output_type": "stream",
     "text": [
      "2022-03-03 04:02:38.910461: I tensorflow/core/kernels/data/shuffle_dataset_op.cc:143] Filling up shuffle buffer (this may take a while): 343 of 449\n",
      "2022-03-03 04:02:42.030494: I tensorflow/core/kernels/data/shuffle_dataset_op.cc:193] Shuffle buffer filled.\n"
     ]
    },
    {
     "name": "stdout",
     "output_type": "stream",
     "text": [
      "449/449 [==============================] - 225s 501ms/step - loss: 0.9389 - accuracy: 0.6494 - val_loss: 1.0337 - val_accuracy: 0.6261\n",
      "Epoch 66/250\n"
     ]
    },
    {
     "name": "stderr",
     "output_type": "stream",
     "text": [
      "2022-03-03 04:06:24.084889: I tensorflow/core/kernels/data/shuffle_dataset_op.cc:143] Filling up shuffle buffer (this may take a while): 351 of 449\n",
      "2022-03-03 04:06:26.872122: I tensorflow/core/kernels/data/shuffle_dataset_op.cc:193] Shuffle buffer filled.\n"
     ]
    },
    {
     "name": "stdout",
     "output_type": "stream",
     "text": [
      "449/449 [==============================] - 225s 502ms/step - loss: 0.9378 - accuracy: 0.6452 - val_loss: 1.0028 - val_accuracy: 0.6287\n",
      "Epoch 67/250\n"
     ]
    },
    {
     "name": "stderr",
     "output_type": "stream",
     "text": [
      "2022-03-03 04:10:09.499707: I tensorflow/core/kernels/data/shuffle_dataset_op.cc:143] Filling up shuffle buffer (this may take a while): 341 of 449\n",
      "2022-03-03 04:10:12.581715: I tensorflow/core/kernels/data/shuffle_dataset_op.cc:193] Shuffle buffer filled.\n"
     ]
    },
    {
     "name": "stdout",
     "output_type": "stream",
     "text": [
      "449/449 [==============================] - 224s 499ms/step - loss: 0.9340 - accuracy: 0.6463 - val_loss: 1.0133 - val_accuracy: 0.6264\n",
      "Epoch 68/250\n"
     ]
    },
    {
     "name": "stderr",
     "output_type": "stream",
     "text": [
      "2022-03-03 04:13:53.701316: I tensorflow/core/kernels/data/shuffle_dataset_op.cc:143] Filling up shuffle buffer (this may take a while): 352 of 449\n",
      "2022-03-03 04:13:56.443304: I tensorflow/core/kernels/data/shuffle_dataset_op.cc:193] Shuffle buffer filled.\n"
     ]
    },
    {
     "name": "stdout",
     "output_type": "stream",
     "text": [
      "449/449 [==============================] - 225s 501ms/step - loss: 0.9367 - accuracy: 0.6482 - val_loss: 1.0138 - val_accuracy: 0.6261\n",
      "Epoch 69/250\n"
     ]
    },
    {
     "name": "stderr",
     "output_type": "stream",
     "text": [
      "2022-03-03 04:17:38.516006: I tensorflow/core/kernels/data/shuffle_dataset_op.cc:143] Filling up shuffle buffer (this may take a while): 344 of 449\n",
      "2022-03-03 04:17:41.528083: I tensorflow/core/kernels/data/shuffle_dataset_op.cc:193] Shuffle buffer filled.\n"
     ]
    },
    {
     "name": "stdout",
     "output_type": "stream",
     "text": [
      "449/449 [==============================] - 224s 498ms/step - loss: 0.9261 - accuracy: 0.6536 - val_loss: 1.0110 - val_accuracy: 0.6276\n",
      "Epoch 70/250\n"
     ]
    },
    {
     "name": "stderr",
     "output_type": "stream",
     "text": [
      "2022-03-03 04:21:22.336123: I tensorflow/core/kernels/data/shuffle_dataset_op.cc:143] Filling up shuffle buffer (this may take a while): 348 of 449\n",
      "2022-03-03 04:21:25.234347: I tensorflow/core/kernels/data/shuffle_dataset_op.cc:193] Shuffle buffer filled.\n"
     ]
    },
    {
     "name": "stdout",
     "output_type": "stream",
     "text": [
      "449/449 [==============================] - 224s 498ms/step - loss: 0.9352 - accuracy: 0.6510 - val_loss: 1.0073 - val_accuracy: 0.6312\n",
      "Epoch 71/250\n"
     ]
    },
    {
     "name": "stderr",
     "output_type": "stream",
     "text": [
      "2022-03-03 04:25:06.151476: I tensorflow/core/kernels/data/shuffle_dataset_op.cc:143] Filling up shuffle buffer (this may take a while): 343 of 449\n",
      "2022-03-03 04:25:09.172652: I tensorflow/core/kernels/data/shuffle_dataset_op.cc:193] Shuffle buffer filled.\n"
     ]
    },
    {
     "name": "stdout",
     "output_type": "stream",
     "text": [
      "449/449 [==============================] - 225s 501ms/step - loss: 0.9279 - accuracy: 0.6512 - val_loss: 1.0034 - val_accuracy: 0.6308\n",
      "Epoch 72/250\n"
     ]
    },
    {
     "name": "stderr",
     "output_type": "stream",
     "text": [
      "2022-03-03 04:28:51.054885: I tensorflow/core/kernels/data/shuffle_dataset_op.cc:143] Filling up shuffle buffer (this may take a while): 347 of 449\n",
      "2022-03-03 04:28:53.935126: I tensorflow/core/kernels/data/shuffle_dataset_op.cc:193] Shuffle buffer filled.\n"
     ]
    },
    {
     "name": "stdout",
     "output_type": "stream",
     "text": [
      "449/449 [==============================] - 223s 498ms/step - loss: 0.9302 - accuracy: 0.6510 - val_loss: 1.0244 - val_accuracy: 0.6233\n",
      "Epoch 73/250\n"
     ]
    },
    {
     "name": "stderr",
     "output_type": "stream",
     "text": [
      "2022-03-03 04:32:34.454425: I tensorflow/core/kernels/data/shuffle_dataset_op.cc:143] Filling up shuffle buffer (this may take a while): 344 of 449\n",
      "2022-03-03 04:32:37.425749: I tensorflow/core/kernels/data/shuffle_dataset_op.cc:193] Shuffle buffer filled.\n"
     ]
    },
    {
     "name": "stdout",
     "output_type": "stream",
     "text": [
      "449/449 [==============================] - 223s 498ms/step - loss: 0.9251 - accuracy: 0.6519 - val_loss: 0.9947 - val_accuracy: 0.6376\n",
      "Epoch 74/250\n"
     ]
    },
    {
     "name": "stderr",
     "output_type": "stream",
     "text": [
      "2022-03-03 04:36:17.907561: I tensorflow/core/kernels/data/shuffle_dataset_op.cc:143] Filling up shuffle buffer (this may take a while): 349 of 449\n",
      "2022-03-03 04:36:20.726142: I tensorflow/core/kernels/data/shuffle_dataset_op.cc:193] Shuffle buffer filled.\n"
     ]
    },
    {
     "name": "stdout",
     "output_type": "stream",
     "text": [
      "449/449 [==============================] - 224s 499ms/step - loss: 0.9341 - accuracy: 0.6482 - val_loss: 1.0032 - val_accuracy: 0.6310\n",
      "Epoch 75/250\n"
     ]
    },
    {
     "name": "stderr",
     "output_type": "stream",
     "text": [
      "2022-03-03 04:40:01.994422: I tensorflow/core/kernels/data/shuffle_dataset_op.cc:143] Filling up shuffle buffer (this may take a while): 343 of 449\n",
      "2022-03-03 04:40:05.001226: I tensorflow/core/kernels/data/shuffle_dataset_op.cc:193] Shuffle buffer filled.\n"
     ]
    },
    {
     "name": "stdout",
     "output_type": "stream",
     "text": [
      "449/449 [==============================] - 223s 498ms/step - loss: 0.9270 - accuracy: 0.6527 - val_loss: 1.0286 - val_accuracy: 0.6229\n",
      "Epoch 76/250\n"
     ]
    },
    {
     "name": "stderr",
     "output_type": "stream",
     "text": [
      "2022-03-03 04:43:45.376517: I tensorflow/core/kernels/data/shuffle_dataset_op.cc:143] Filling up shuffle buffer (this may take a while): 349 of 449\n",
      "2022-03-03 04:43:48.208503: I tensorflow/core/kernels/data/shuffle_dataset_op.cc:193] Shuffle buffer filled.\n"
     ]
    },
    {
     "name": "stdout",
     "output_type": "stream",
     "text": [
      "449/449 [==============================] - 223s 497ms/step - loss: 0.9224 - accuracy: 0.6557 - val_loss: 1.0056 - val_accuracy: 0.6346\n",
      "Epoch 77/250\n"
     ]
    },
    {
     "name": "stderr",
     "output_type": "stream",
     "text": [
      "2022-03-03 04:47:28.361739: I tensorflow/core/kernels/data/shuffle_dataset_op.cc:143] Filling up shuffle buffer (this may take a while): 345 of 449\n",
      "2022-03-03 04:47:31.301466: I tensorflow/core/kernels/data/shuffle_dataset_op.cc:193] Shuffle buffer filled.\n"
     ]
    },
    {
     "name": "stdout",
     "output_type": "stream",
     "text": [
      "449/449 [==============================] - 224s 498ms/step - loss: 0.9236 - accuracy: 0.6527 - val_loss: 0.9985 - val_accuracy: 0.6369\n",
      "Epoch 78/250\n"
     ]
    },
    {
     "name": "stderr",
     "output_type": "stream",
     "text": [
      "2022-03-03 04:51:11.879398: I tensorflow/core/kernels/data/shuffle_dataset_op.cc:143] Filling up shuffle buffer (this may take a while): 341 of 449\n",
      "2022-03-03 04:51:14.971897: I tensorflow/core/kernels/data/shuffle_dataset_op.cc:193] Shuffle buffer filled.\n"
     ]
    },
    {
     "name": "stdout",
     "output_type": "stream",
     "text": [
      "449/449 [==============================] - 225s 500ms/step - loss: 0.9208 - accuracy: 0.6539 - val_loss: 0.9990 - val_accuracy: 0.6390\n",
      "Epoch 79/250\n"
     ]
    },
    {
     "name": "stderr",
     "output_type": "stream",
     "text": [
      "2022-03-03 04:54:56.515804: I tensorflow/core/kernels/data/shuffle_dataset_op.cc:143] Filling up shuffle buffer (this may take a while): 345 of 449\n",
      "2022-03-03 04:54:59.482088: I tensorflow/core/kernels/data/shuffle_dataset_op.cc:193] Shuffle buffer filled.\n"
     ]
    },
    {
     "name": "stdout",
     "output_type": "stream",
     "text": [
      "449/449 [==============================] - 224s 499ms/step - loss: 0.9164 - accuracy: 0.6569 - val_loss: 1.0528 - val_accuracy: 0.6070\n",
      "Epoch 80/250\n"
     ]
    },
    {
     "name": "stderr",
     "output_type": "stream",
     "text": [
      "2022-03-03 04:58:40.434798: I tensorflow/core/kernels/data/shuffle_dataset_op.cc:143] Filling up shuffle buffer (this may take a while): 345 of 449\n",
      "2022-03-03 04:58:43.382702: I tensorflow/core/kernels/data/shuffle_dataset_op.cc:193] Shuffle buffer filled.\n"
     ]
    },
    {
     "name": "stdout",
     "output_type": "stream",
     "text": [
      "449/449 [==============================] - 225s 501ms/step - loss: 0.9165 - accuracy: 0.6570 - val_loss: 0.9918 - val_accuracy: 0.6376\n",
      "Epoch 81/250\n"
     ]
    },
    {
     "name": "stderr",
     "output_type": "stream",
     "text": [
      "2022-03-03 05:02:25.427494: I tensorflow/core/kernels/data/shuffle_dataset_op.cc:143] Filling up shuffle buffer (this may take a while): 344 of 449\n",
      "2022-03-03 05:02:28.435183: I tensorflow/core/kernels/data/shuffle_dataset_op.cc:193] Shuffle buffer filled.\n"
     ]
    },
    {
     "name": "stdout",
     "output_type": "stream",
     "text": [
      "449/449 [==============================] - 225s 501ms/step - loss: 0.9160 - accuracy: 0.6534 - val_loss: 1.0107 - val_accuracy: 0.6325\n",
      "Epoch 82/250\n"
     ]
    },
    {
     "name": "stderr",
     "output_type": "stream",
     "text": [
      "2022-03-03 05:06:10.175455: I tensorflow/core/kernels/data/shuffle_dataset_op.cc:143] Filling up shuffle buffer (this may take a while): 346 of 449\n",
      "2022-03-03 05:06:13.126802: I tensorflow/core/kernels/data/shuffle_dataset_op.cc:193] Shuffle buffer filled.\n"
     ]
    },
    {
     "name": "stdout",
     "output_type": "stream",
     "text": [
      "449/449 [==============================] - 224s 499ms/step - loss: 0.9163 - accuracy: 0.6568 - val_loss: 0.9997 - val_accuracy: 0.6390\n",
      "Epoch 83/250\n"
     ]
    },
    {
     "name": "stderr",
     "output_type": "stream",
     "text": [
      "2022-03-03 05:09:54.338382: I tensorflow/core/kernels/data/shuffle_dataset_op.cc:143] Filling up shuffle buffer (this may take a while): 345 of 449\n",
      "2022-03-03 05:09:57.297201: I tensorflow/core/kernels/data/shuffle_dataset_op.cc:193] Shuffle buffer filled.\n"
     ]
    },
    {
     "name": "stdout",
     "output_type": "stream",
     "text": [
      "449/449 [==============================] - 224s 498ms/step - loss: 0.9163 - accuracy: 0.6570 - val_loss: 0.9942 - val_accuracy: 0.6415\n",
      "Epoch 84/250\n"
     ]
    },
    {
     "name": "stderr",
     "output_type": "stream",
     "text": [
      "2022-03-03 05:13:37.948581: I tensorflow/core/kernels/data/shuffle_dataset_op.cc:143] Filling up shuffle buffer (this may take a while): 347 of 449\n",
      "2022-03-03 05:13:40.826713: I tensorflow/core/kernels/data/shuffle_dataset_op.cc:193] Shuffle buffer filled.\n"
     ]
    },
    {
     "name": "stdout",
     "output_type": "stream",
     "text": [
      "449/449 [==============================] - 225s 502ms/step - loss: 0.9141 - accuracy: 0.6564 - val_loss: 1.0006 - val_accuracy: 0.6349\n",
      "Epoch 85/250\n"
     ]
    },
    {
     "name": "stderr",
     "output_type": "stream",
     "text": [
      "2022-03-03 05:17:23.164169: I tensorflow/core/kernels/data/shuffle_dataset_op.cc:143] Filling up shuffle buffer (this may take a while): 345 of 449\n",
      "2022-03-03 05:17:26.122891: I tensorflow/core/kernels/data/shuffle_dataset_op.cc:193] Shuffle buffer filled.\n"
     ]
    },
    {
     "name": "stdout",
     "output_type": "stream",
     "text": [
      "449/449 [==============================] - 225s 500ms/step - loss: 0.9163 - accuracy: 0.6542 - val_loss: 1.0162 - val_accuracy: 0.6337\n",
      "Epoch 86/250\n"
     ]
    },
    {
     "name": "stderr",
     "output_type": "stream",
     "text": [
      "2022-03-03 05:21:07.748754: I tensorflow/core/kernels/data/shuffle_dataset_op.cc:143] Filling up shuffle buffer (this may take a while): 346 of 449\n",
      "2022-03-03 05:21:10.673232: I tensorflow/core/kernels/data/shuffle_dataset_op.cc:193] Shuffle buffer filled.\n"
     ]
    },
    {
     "name": "stdout",
     "output_type": "stream",
     "text": [
      "449/449 [==============================] - 224s 498ms/step - loss: 0.9027 - accuracy: 0.6593 - val_loss: 0.9939 - val_accuracy: 0.6371\n",
      "Epoch 87/250\n"
     ]
    },
    {
     "name": "stderr",
     "output_type": "stream",
     "text": [
      "2022-03-03 05:24:51.400133: I tensorflow/core/kernels/data/shuffle_dataset_op.cc:143] Filling up shuffle buffer (this may take a while): 345 of 449\n",
      "2022-03-03 05:24:54.336218: I tensorflow/core/kernels/data/shuffle_dataset_op.cc:193] Shuffle buffer filled.\n"
     ]
    },
    {
     "name": "stdout",
     "output_type": "stream",
     "text": [
      "449/449 [==============================] - 225s 501ms/step - loss: 0.9119 - accuracy: 0.6548 - val_loss: 1.0081 - val_accuracy: 0.6310\n",
      "Epoch 88/250\n"
     ]
    },
    {
     "name": "stderr",
     "output_type": "stream",
     "text": [
      "2022-03-03 05:28:36.357470: I tensorflow/core/kernels/data/shuffle_dataset_op.cc:143] Filling up shuffle buffer (this may take a while): 341 of 449\n",
      "2022-03-03 05:28:39.475514: I tensorflow/core/kernels/data/shuffle_dataset_op.cc:193] Shuffle buffer filled.\n"
     ]
    },
    {
     "name": "stdout",
     "output_type": "stream",
     "text": [
      "449/449 [==============================] - 224s 499ms/step - loss: 0.9089 - accuracy: 0.6577 - val_loss: 0.9975 - val_accuracy: 0.6389\n",
      "Epoch 89/250\n"
     ]
    },
    {
     "name": "stderr",
     "output_type": "stream",
     "text": [
      "2022-03-03 05:32:20.326244: I tensorflow/core/kernels/data/shuffle_dataset_op.cc:143] Filling up shuffle buffer (this may take a while): 346 of 449\n",
      "2022-03-03 05:32:23.283684: I tensorflow/core/kernels/data/shuffle_dataset_op.cc:193] Shuffle buffer filled.\n"
     ]
    },
    {
     "name": "stdout",
     "output_type": "stream",
     "text": [
      "449/449 [==============================] - 223s 498ms/step - loss: 0.9067 - accuracy: 0.6609 - val_loss: 1.0212 - val_accuracy: 0.6239\n",
      "Epoch 90/250\n"
     ]
    },
    {
     "name": "stderr",
     "output_type": "stream",
     "text": [
      "2022-03-03 05:36:03.821227: I tensorflow/core/kernels/data/shuffle_dataset_op.cc:143] Filling up shuffle buffer (this may take a while): 344 of 449\n",
      "2022-03-03 05:36:06.789808: I tensorflow/core/kernels/data/shuffle_dataset_op.cc:193] Shuffle buffer filled.\n"
     ]
    },
    {
     "name": "stdout",
     "output_type": "stream",
     "text": [
      "449/449 [==============================] - 223s 498ms/step - loss: 0.9075 - accuracy: 0.6583 - val_loss: 0.9921 - val_accuracy: 0.6374\n",
      "Epoch 91/250\n"
     ]
    },
    {
     "name": "stderr",
     "output_type": "stream",
     "text": [
      "2022-03-03 05:39:47.237654: I tensorflow/core/kernels/data/shuffle_dataset_op.cc:143] Filling up shuffle buffer (this may take a while): 345 of 449\n",
      "2022-03-03 05:39:50.223193: I tensorflow/core/kernels/data/shuffle_dataset_op.cc:193] Shuffle buffer filled.\n"
     ]
    },
    {
     "name": "stdout",
     "output_type": "stream",
     "text": [
      "449/449 [==============================] - 224s 500ms/step - loss: 0.9050 - accuracy: 0.6602 - val_loss: 1.0137 - val_accuracy: 0.6365\n",
      "Epoch 92/250\n"
     ]
    },
    {
     "name": "stderr",
     "output_type": "stream",
     "text": [
      "2022-03-03 05:43:31.545450: I tensorflow/core/kernels/data/shuffle_dataset_op.cc:143] Filling up shuffle buffer (this may take a while): 348 of 449\n",
      "2022-03-03 05:43:34.393239: I tensorflow/core/kernels/data/shuffle_dataset_op.cc:193] Shuffle buffer filled.\n"
     ]
    },
    {
     "name": "stdout",
     "output_type": "stream",
     "text": [
      "449/449 [==============================] - 223s 498ms/step - loss: 0.9056 - accuracy: 0.6592 - val_loss: 0.9967 - val_accuracy: 0.6376\n",
      "Epoch 93/250\n"
     ]
    },
    {
     "name": "stderr",
     "output_type": "stream",
     "text": [
      "2022-03-03 05:47:14.957609: I tensorflow/core/kernels/data/shuffle_dataset_op.cc:143] Filling up shuffle buffer (this may take a while): 348 of 449\n",
      "2022-03-03 05:47:17.825982: I tensorflow/core/kernels/data/shuffle_dataset_op.cc:193] Shuffle buffer filled.\n"
     ]
    },
    {
     "name": "stdout",
     "output_type": "stream",
     "text": [
      "449/449 [==============================] - 224s 498ms/step - loss: 0.9019 - accuracy: 0.6606 - val_loss: 1.0119 - val_accuracy: 0.6354\n",
      "Epoch 94/250\n"
     ]
    },
    {
     "name": "stderr",
     "output_type": "stream",
     "text": [
      "2022-03-03 05:50:58.535971: I tensorflow/core/kernels/data/shuffle_dataset_op.cc:143] Filling up shuffle buffer (this may take a while): 324 of 449\n",
      "2022-03-03 05:51:02.136439: I tensorflow/core/kernels/data/shuffle_dataset_op.cc:193] Shuffle buffer filled.\n"
     ]
    },
    {
     "name": "stdout",
     "output_type": "stream",
     "text": [
      "449/449 [==============================] - 225s 502ms/step - loss: 0.8985 - accuracy: 0.6618 - val_loss: 0.9995 - val_accuracy: 0.6379\n",
      "Epoch 95/250\n"
     ]
    },
    {
     "name": "stderr",
     "output_type": "stream",
     "text": [
      "2022-03-03 05:54:43.873491: I tensorflow/core/kernels/data/shuffle_dataset_op.cc:143] Filling up shuffle buffer (this may take a while): 351 of 449\n",
      "2022-03-03 05:54:46.673144: I tensorflow/core/kernels/data/shuffle_dataset_op.cc:193] Shuffle buffer filled.\n"
     ]
    },
    {
     "name": "stdout",
     "output_type": "stream",
     "text": [
      "449/449 [==============================] - 224s 499ms/step - loss: 0.9029 - accuracy: 0.6633 - val_loss: 1.0214 - val_accuracy: 0.6243\n",
      "Epoch 96/250\n"
     ]
    },
    {
     "name": "stderr",
     "output_type": "stream",
     "text": [
      "2022-03-03 05:58:27.802214: I tensorflow/core/kernels/data/shuffle_dataset_op.cc:143] Filling up shuffle buffer (this may take a while): 345 of 449\n",
      "2022-03-03 05:58:30.774611: I tensorflow/core/kernels/data/shuffle_dataset_op.cc:193] Shuffle buffer filled.\n"
     ]
    },
    {
     "name": "stdout",
     "output_type": "stream",
     "text": [
      "449/449 [==============================] - 225s 501ms/step - loss: 0.9022 - accuracy: 0.6609 - val_loss: 0.9919 - val_accuracy: 0.6422\n",
      "Epoch 97/250\n"
     ]
    },
    {
     "name": "stderr",
     "output_type": "stream",
     "text": [
      "2022-03-03 06:02:12.983364: I tensorflow/core/kernels/data/shuffle_dataset_op.cc:143] Filling up shuffle buffer (this may take a while): 344 of 449\n",
      "2022-03-03 06:02:15.995504: I tensorflow/core/kernels/data/shuffle_dataset_op.cc:193] Shuffle buffer filled.\n"
     ]
    },
    {
     "name": "stdout",
     "output_type": "stream",
     "text": [
      "449/449 [==============================] - 224s 499ms/step - loss: 0.8961 - accuracy: 0.6605 - val_loss: 1.0059 - val_accuracy: 0.6368\n",
      "Epoch 98/250\n"
     ]
    },
    {
     "name": "stderr",
     "output_type": "stream",
     "text": [
      "2022-03-03 06:05:56.973231: I tensorflow/core/kernels/data/shuffle_dataset_op.cc:143] Filling up shuffle buffer (this may take a while): 346 of 449\n",
      "2022-03-03 06:05:59.895281: I tensorflow/core/kernels/data/shuffle_dataset_op.cc:193] Shuffle buffer filled.\n"
     ]
    },
    {
     "name": "stdout",
     "output_type": "stream",
     "text": [
      "449/449 [==============================] - 224s 499ms/step - loss: 0.8950 - accuracy: 0.6657 - val_loss: 0.9946 - val_accuracy: 0.6378\n",
      "Epoch 99/250\n"
     ]
    },
    {
     "name": "stderr",
     "output_type": "stream",
     "text": [
      "2022-03-03 06:09:41.137529: I tensorflow/core/kernels/data/shuffle_dataset_op.cc:143] Filling up shuffle buffer (this may take a while): 343 of 449\n",
      "2022-03-03 06:09:44.146550: I tensorflow/core/kernels/data/shuffle_dataset_op.cc:193] Shuffle buffer filled.\n"
     ]
    },
    {
     "name": "stdout",
     "output_type": "stream",
     "text": [
      "449/449 [==============================] - 225s 501ms/step - loss: 0.8948 - accuracy: 0.6666 - val_loss: 1.0159 - val_accuracy: 0.6336\n",
      "Epoch 100/250\n"
     ]
    },
    {
     "name": "stderr",
     "output_type": "stream",
     "text": [
      "2022-03-03 06:13:25.912559: I tensorflow/core/kernels/data/shuffle_dataset_op.cc:143] Filling up shuffle buffer (this may take a while): 350 of 449\n",
      "2022-03-03 06:13:28.707147: I tensorflow/core/kernels/data/shuffle_dataset_op.cc:193] Shuffle buffer filled.\n"
     ]
    },
    {
     "name": "stdout",
     "output_type": "stream",
     "text": [
      "449/449 [==============================] - 224s 498ms/step - loss: 0.8956 - accuracy: 0.6645 - val_loss: 0.9891 - val_accuracy: 0.6441\n",
      "Epoch 101/250\n"
     ]
    },
    {
     "name": "stderr",
     "output_type": "stream",
     "text": [
      "2022-03-03 06:17:09.663399: I tensorflow/core/kernels/data/shuffle_dataset_op.cc:143] Filling up shuffle buffer (this may take a while): 345 of 449\n",
      "2022-03-03 06:17:12.635906: I tensorflow/core/kernels/data/shuffle_dataset_op.cc:193] Shuffle buffer filled.\n"
     ]
    },
    {
     "name": "stdout",
     "output_type": "stream",
     "text": [
      "449/449 [==============================] - 225s 500ms/step - loss: 0.8937 - accuracy: 0.6638 - val_loss: 1.0091 - val_accuracy: 0.6337\n",
      "Epoch 102/250\n"
     ]
    },
    {
     "name": "stderr",
     "output_type": "stream",
     "text": [
      "2022-03-03 06:20:54.251159: I tensorflow/core/kernels/data/shuffle_dataset_op.cc:143] Filling up shuffle buffer (this may take a while): 319 of 449\n",
      "2022-03-03 06:20:58.312736: I tensorflow/core/kernels/data/shuffle_dataset_op.cc:193] Shuffle buffer filled.\n"
     ]
    },
    {
     "name": "stdout",
     "output_type": "stream",
     "text": [
      "449/449 [==============================] - 226s 504ms/step - loss: 0.8925 - accuracy: 0.6634 - val_loss: 1.0019 - val_accuracy: 0.6339\n",
      "Epoch 103/250\n"
     ]
    },
    {
     "name": "stderr",
     "output_type": "stream",
     "text": [
      "2022-03-03 06:24:40.658086: I tensorflow/core/kernels/data/shuffle_dataset_op.cc:143] Filling up shuffle buffer (this may take a while): 342 of 449\n",
      "2022-03-03 06:24:43.716823: I tensorflow/core/kernels/data/shuffle_dataset_op.cc:193] Shuffle buffer filled.\n"
     ]
    },
    {
     "name": "stdout",
     "output_type": "stream",
     "text": [
      "449/449 [==============================] - 224s 499ms/step - loss: 0.8863 - accuracy: 0.6668 - val_loss: 0.9922 - val_accuracy: 0.6404\n",
      "Epoch 104/250\n"
     ]
    },
    {
     "name": "stderr",
     "output_type": "stream",
     "text": [
      "2022-03-03 06:28:24.772404: I tensorflow/core/kernels/data/shuffle_dataset_op.cc:143] Filling up shuffle buffer (this may take a while): 351 of 449\n",
      "2022-03-03 06:28:27.539868: I tensorflow/core/kernels/data/shuffle_dataset_op.cc:193] Shuffle buffer filled.\n"
     ]
    },
    {
     "name": "stdout",
     "output_type": "stream",
     "text": [
      "449/449 [==============================] - 224s 498ms/step - loss: 0.8897 - accuracy: 0.6645 - val_loss: 1.0195 - val_accuracy: 0.6294\n",
      "Epoch 105/250\n"
     ]
    },
    {
     "name": "stderr",
     "output_type": "stream",
     "text": [
      "2022-03-03 06:32:08.536158: I tensorflow/core/kernels/data/shuffle_dataset_op.cc:143] Filling up shuffle buffer (this may take a while): 342 of 449\n",
      "2022-03-03 06:32:11.605064: I tensorflow/core/kernels/data/shuffle_dataset_op.cc:193] Shuffle buffer filled.\n"
     ]
    },
    {
     "name": "stdout",
     "output_type": "stream",
     "text": [
      "449/449 [==============================] - 225s 501ms/step - loss: 0.8924 - accuracy: 0.6669 - val_loss: 1.0050 - val_accuracy: 0.6374\n",
      "Epoch 106/250\n"
     ]
    },
    {
     "name": "stderr",
     "output_type": "stream",
     "text": [
      "2022-03-03 06:35:53.422508: I tensorflow/core/kernels/data/shuffle_dataset_op.cc:143] Filling up shuffle buffer (this may take a while): 352 of 449\n",
      "2022-03-03 06:35:56.184468: I tensorflow/core/kernels/data/shuffle_dataset_op.cc:193] Shuffle buffer filled.\n"
     ]
    },
    {
     "name": "stdout",
     "output_type": "stream",
     "text": [
      "449/449 [==============================] - 223s 497ms/step - loss: 0.8857 - accuracy: 0.6677 - val_loss: 0.9989 - val_accuracy: 0.6374\n",
      "Epoch 107/250\n"
     ]
    },
    {
     "name": "stderr",
     "output_type": "stream",
     "text": [
      "2022-03-03 06:39:36.408152: I tensorflow/core/kernels/data/shuffle_dataset_op.cc:143] Filling up shuffle buffer (this may take a while): 343 of 449\n",
      "2022-03-03 06:39:39.402286: I tensorflow/core/kernels/data/shuffle_dataset_op.cc:193] Shuffle buffer filled.\n"
     ]
    },
    {
     "name": "stdout",
     "output_type": "stream",
     "text": [
      "449/449 [==============================] - 224s 498ms/step - loss: 0.8880 - accuracy: 0.6674 - val_loss: 1.0036 - val_accuracy: 0.6340\n",
      "Epoch 108/250\n"
     ]
    },
    {
     "name": "stderr",
     "output_type": "stream",
     "text": [
      "2022-03-03 06:43:20.145418: I tensorflow/core/kernels/data/shuffle_dataset_op.cc:143] Filling up shuffle buffer (this may take a while): 351 of 449\n",
      "2022-03-03 06:43:22.905328: I tensorflow/core/kernels/data/shuffle_dataset_op.cc:193] Shuffle buffer filled.\n"
     ]
    },
    {
     "name": "stdout",
     "output_type": "stream",
     "text": [
      "449/449 [==============================] - 223s 498ms/step - loss: 0.8828 - accuracy: 0.6708 - val_loss: 0.9928 - val_accuracy: 0.6390\n",
      "Epoch 109/250\n"
     ]
    },
    {
     "name": "stderr",
     "output_type": "stream",
     "text": [
      "2022-03-03 06:47:03.541818: I tensorflow/core/kernels/data/shuffle_dataset_op.cc:143] Filling up shuffle buffer (this may take a while): 346 of 449\n",
      "2022-03-03 06:47:06.407678: I tensorflow/core/kernels/data/shuffle_dataset_op.cc:193] Shuffle buffer filled.\n"
     ]
    },
    {
     "name": "stdout",
     "output_type": "stream",
     "text": [
      "449/449 [==============================] - 224s 499ms/step - loss: 0.8815 - accuracy: 0.6684 - val_loss: 1.0012 - val_accuracy: 0.6337\n",
      "Epoch 110/250\n"
     ]
    },
    {
     "name": "stderr",
     "output_type": "stream",
     "text": [
      "2022-03-03 06:50:47.780159: I tensorflow/core/kernels/data/shuffle_dataset_op.cc:143] Filling up shuffle buffer (this may take a while): 339 of 449\n",
      "2022-03-03 06:50:50.887763: I tensorflow/core/kernels/data/shuffle_dataset_op.cc:193] Shuffle buffer filled.\n"
     ]
    },
    {
     "name": "stdout",
     "output_type": "stream",
     "text": [
      "449/449 [==============================] - 223s 497ms/step - loss: 0.8815 - accuracy: 0.6698 - val_loss: 0.9900 - val_accuracy: 0.6381\n",
      "Epoch 111/250\n"
     ]
    },
    {
     "name": "stderr",
     "output_type": "stream",
     "text": [
      "2022-03-03 06:54:31.136570: I tensorflow/core/kernels/data/shuffle_dataset_op.cc:143] Filling up shuffle buffer (this may take a while): 346 of 449\n",
      "2022-03-03 06:54:34.035099: I tensorflow/core/kernels/data/shuffle_dataset_op.cc:193] Shuffle buffer filled.\n"
     ]
    },
    {
     "name": "stdout",
     "output_type": "stream",
     "text": [
      "449/449 [==============================] - 223s 497ms/step - loss: 0.8801 - accuracy: 0.6722 - val_loss: 0.9947 - val_accuracy: 0.6392\n",
      "Epoch 112/250\n"
     ]
    },
    {
     "name": "stderr",
     "output_type": "stream",
     "text": [
      "2022-03-03 06:58:14.332230: I tensorflow/core/kernels/data/shuffle_dataset_op.cc:143] Filling up shuffle buffer (this may take a while): 346 of 449\n",
      "2022-03-03 06:58:17.249242: I tensorflow/core/kernels/data/shuffle_dataset_op.cc:193] Shuffle buffer filled.\n"
     ]
    },
    {
     "name": "stdout",
     "output_type": "stream",
     "text": [
      "449/449 [==============================] - 224s 500ms/step - loss: 0.8862 - accuracy: 0.6705 - val_loss: 1.0031 - val_accuracy: 0.6335\n",
      "Epoch 113/250\n"
     ]
    },
    {
     "name": "stderr",
     "output_type": "stream",
     "text": [
      "2022-03-03 07:01:58.783877: I tensorflow/core/kernels/data/shuffle_dataset_op.cc:143] Filling up shuffle buffer (this may take a while): 344 of 449\n",
      "2022-03-03 07:02:01.789723: I tensorflow/core/kernels/data/shuffle_dataset_op.cc:193] Shuffle buffer filled.\n"
     ]
    },
    {
     "name": "stdout",
     "output_type": "stream",
     "text": [
      "449/449 [==============================] - 227s 506ms/step - loss: 0.8730 - accuracy: 0.6733 - val_loss: 0.9892 - val_accuracy: 0.6417\n",
      "Epoch 114/250\n"
     ]
    },
    {
     "name": "stderr",
     "output_type": "stream",
     "text": [
      "2022-03-03 07:05:45.764692: I tensorflow/core/kernels/data/shuffle_dataset_op.cc:143] Filling up shuffle buffer (this may take a while): 341 of 449\n",
      "2022-03-03 07:05:48.867994: I tensorflow/core/kernels/data/shuffle_dataset_op.cc:193] Shuffle buffer filled.\n"
     ]
    },
    {
     "name": "stdout",
     "output_type": "stream",
     "text": [
      "449/449 [==============================] - 227s 506ms/step - loss: 0.8784 - accuracy: 0.6725 - val_loss: 0.9964 - val_accuracy: 0.6382\n",
      "Epoch 115/250\n"
     ]
    },
    {
     "name": "stderr",
     "output_type": "stream",
     "text": [
      "2022-03-03 07:09:33.032813: I tensorflow/core/kernels/data/shuffle_dataset_op.cc:143] Filling up shuffle buffer (this may take a while): 341 of 449\n",
      "2022-03-03 07:09:36.176910: I tensorflow/core/kernels/data/shuffle_dataset_op.cc:193] Shuffle buffer filled.\n"
     ]
    },
    {
     "name": "stdout",
     "output_type": "stream",
     "text": [
      "449/449 [==============================] - 229s 510ms/step - loss: 0.8755 - accuracy: 0.6694 - val_loss: 1.0173 - val_accuracy: 0.6321\n",
      "Epoch 116/250\n"
     ]
    },
    {
     "name": "stderr",
     "output_type": "stream",
     "text": [
      "2022-03-03 07:13:22.033846: I tensorflow/core/kernels/data/shuffle_dataset_op.cc:143] Filling up shuffle buffer (this may take a while): 347 of 449\n",
      "2022-03-03 07:13:25.001357: I tensorflow/core/kernels/data/shuffle_dataset_op.cc:193] Shuffle buffer filled.\n"
     ]
    },
    {
     "name": "stdout",
     "output_type": "stream",
     "text": [
      "449/449 [==============================] - 228s 508ms/step - loss: 0.8782 - accuracy: 0.6697 - val_loss: 0.9972 - val_accuracy: 0.6399\n",
      "Epoch 117/250\n"
     ]
    },
    {
     "name": "stderr",
     "output_type": "stream",
     "text": [
      "2022-03-03 07:17:10.146927: I tensorflow/core/kernels/data/shuffle_dataset_op.cc:143] Filling up shuffle buffer (this may take a while): 338 of 449\n",
      "2022-03-03 07:17:13.323170: I tensorflow/core/kernels/data/shuffle_dataset_op.cc:193] Shuffle buffer filled.\n"
     ]
    },
    {
     "name": "stdout",
     "output_type": "stream",
     "text": [
      "449/449 [==============================] - 229s 510ms/step - loss: 0.8719 - accuracy: 0.6730 - val_loss: 0.9919 - val_accuracy: 0.6413\n",
      "Epoch 118/250\n"
     ]
    },
    {
     "name": "stderr",
     "output_type": "stream",
     "text": [
      "2022-03-03 07:20:58.985881: I tensorflow/core/kernels/data/shuffle_dataset_op.cc:143] Filling up shuffle buffer (this may take a while): 318 of 449\n",
      "2022-03-03 07:21:02.897988: I tensorflow/core/kernels/data/shuffle_dataset_op.cc:193] Shuffle buffer filled.\n"
     ]
    },
    {
     "name": "stdout",
     "output_type": "stream",
     "text": [
      "449/449 [==============================] - 229s 510ms/step - loss: 0.8646 - accuracy: 0.6772 - val_loss: 0.9991 - val_accuracy: 0.6383\n",
      "Epoch 119/250\n"
     ]
    },
    {
     "name": "stderr",
     "output_type": "stream",
     "text": [
      "2022-03-03 07:24:48.044098: I tensorflow/core/kernels/data/shuffle_dataset_op.cc:143] Filling up shuffle buffer (this may take a while): 343 of 449\n",
      "2022-03-03 07:24:51.081228: I tensorflow/core/kernels/data/shuffle_dataset_op.cc:193] Shuffle buffer filled.\n"
     ]
    },
    {
     "name": "stdout",
     "output_type": "stream",
     "text": [
      "449/449 [==============================] - 227s 506ms/step - loss: 0.8761 - accuracy: 0.6743 - val_loss: 1.0106 - val_accuracy: 0.6357\n",
      "Epoch 120/250\n"
     ]
    },
    {
     "name": "stderr",
     "output_type": "stream",
     "text": [
      "2022-03-03 07:28:35.345261: I tensorflow/core/kernels/data/shuffle_dataset_op.cc:143] Filling up shuffle buffer (this may take a while): 346 of 449\n",
      "2022-03-03 07:28:38.301888: I tensorflow/core/kernels/data/shuffle_dataset_op.cc:193] Shuffle buffer filled.\n"
     ]
    },
    {
     "name": "stdout",
     "output_type": "stream",
     "text": [
      "449/449 [==============================] - 227s 505ms/step - loss: 0.8748 - accuracy: 0.6708 - val_loss: 1.0123 - val_accuracy: 0.6376\n",
      "Epoch 121/250\n"
     ]
    },
    {
     "name": "stderr",
     "output_type": "stream",
     "text": [
      "2022-03-03 07:32:22.152449: I tensorflow/core/kernels/data/shuffle_dataset_op.cc:143] Filling up shuffle buffer (this may take a while): 342 of 449\n",
      "2022-03-03 07:32:25.171896: I tensorflow/core/kernels/data/shuffle_dataset_op.cc:193] Shuffle buffer filled.\n"
     ]
    },
    {
     "name": "stdout",
     "output_type": "stream",
     "text": [
      "449/449 [==============================] - 226s 504ms/step - loss: 0.8806 - accuracy: 0.6723 - val_loss: 1.0046 - val_accuracy: 0.6421\n",
      "Epoch 122/250\n"
     ]
    },
    {
     "name": "stderr",
     "output_type": "stream",
     "text": [
      "2022-03-03 07:36:08.354620: I tensorflow/core/kernels/data/shuffle_dataset_op.cc:143] Filling up shuffle buffer (this may take a while): 346 of 449\n",
      "2022-03-03 07:36:11.283152: I tensorflow/core/kernels/data/shuffle_dataset_op.cc:193] Shuffle buffer filled.\n"
     ]
    },
    {
     "name": "stdout",
     "output_type": "stream",
     "text": [
      "449/449 [==============================] - 226s 503ms/step - loss: 0.8677 - accuracy: 0.6727 - val_loss: 0.9936 - val_accuracy: 0.6413\n",
      "Epoch 123/250\n"
     ]
    },
    {
     "name": "stderr",
     "output_type": "stream",
     "text": [
      "2022-03-03 07:39:54.231393: I tensorflow/core/kernels/data/shuffle_dataset_op.cc:143] Filling up shuffle buffer (this may take a while): 342 of 449\n",
      "2022-03-03 07:39:57.282945: I tensorflow/core/kernels/data/shuffle_dataset_op.cc:193] Shuffle buffer filled.\n"
     ]
    },
    {
     "name": "stdout",
     "output_type": "stream",
     "text": [
      "449/449 [==============================] - 230s 511ms/step - loss: 0.8741 - accuracy: 0.6728 - val_loss: 1.0002 - val_accuracy: 0.6396\n",
      "Epoch 124/250\n"
     ]
    },
    {
     "name": "stderr",
     "output_type": "stream",
     "text": [
      "2022-03-03 07:43:43.774936: I tensorflow/core/kernels/data/shuffle_dataset_op.cc:143] Filling up shuffle buffer (this may take a while): 342 of 449\n",
      "2022-03-03 07:43:46.913641: I tensorflow/core/kernels/data/shuffle_dataset_op.cc:193] Shuffle buffer filled.\n"
     ]
    },
    {
     "name": "stdout",
     "output_type": "stream",
     "text": [
      "449/449 [==============================] - 228s 507ms/step - loss: 0.8718 - accuracy: 0.6716 - val_loss: 1.0191 - val_accuracy: 0.6329\n",
      "Epoch 125/250\n"
     ]
    },
    {
     "name": "stderr",
     "output_type": "stream",
     "text": [
      "2022-03-03 07:47:31.387154: I tensorflow/core/kernels/data/shuffle_dataset_op.cc:143] Filling up shuffle buffer (this may take a while): 343 of 449\n",
      "2022-03-03 07:47:34.424921: I tensorflow/core/kernels/data/shuffle_dataset_op.cc:193] Shuffle buffer filled.\n"
     ]
    },
    {
     "name": "stdout",
     "output_type": "stream",
     "text": [
      "449/449 [==============================] - 229s 510ms/step - loss: 0.8669 - accuracy: 0.6744 - val_loss: 0.9866 - val_accuracy: 0.6428\n",
      "Epoch 126/250\n"
     ]
    },
    {
     "name": "stderr",
     "output_type": "stream",
     "text": [
      "2022-03-03 07:51:20.449790: I tensorflow/core/kernels/data/shuffle_dataset_op.cc:143] Filling up shuffle buffer (this may take a while): 340 of 449\n",
      "2022-03-03 07:51:23.548156: I tensorflow/core/kernels/data/shuffle_dataset_op.cc:193] Shuffle buffer filled.\n"
     ]
    },
    {
     "name": "stdout",
     "output_type": "stream",
     "text": [
      "449/449 [==============================] - 227s 506ms/step - loss: 0.8721 - accuracy: 0.6696 - val_loss: 1.0029 - val_accuracy: 0.6381\n",
      "Epoch 127/250\n"
     ]
    },
    {
     "name": "stderr",
     "output_type": "stream",
     "text": [
      "2022-03-03 07:55:07.717296: I tensorflow/core/kernels/data/shuffle_dataset_op.cc:143] Filling up shuffle buffer (this may take a while): 348 of 449\n",
      "2022-03-03 07:55:10.547527: I tensorflow/core/kernels/data/shuffle_dataset_op.cc:193] Shuffle buffer filled.\n"
     ]
    },
    {
     "name": "stdout",
     "output_type": "stream",
     "text": [
      "449/449 [==============================] - 226s 503ms/step - loss: 0.8634 - accuracy: 0.6747 - val_loss: 0.9899 - val_accuracy: 0.6417\n",
      "Epoch 128/250\n"
     ]
    },
    {
     "name": "stderr",
     "output_type": "stream",
     "text": [
      "2022-03-03 07:58:53.797992: I tensorflow/core/kernels/data/shuffle_dataset_op.cc:143] Filling up shuffle buffer (this may take a while): 342 of 449\n",
      "2022-03-03 07:58:56.860526: I tensorflow/core/kernels/data/shuffle_dataset_op.cc:193] Shuffle buffer filled.\n"
     ]
    },
    {
     "name": "stdout",
     "output_type": "stream",
     "text": [
      "449/449 [==============================] - 225s 502ms/step - loss: 0.8680 - accuracy: 0.6712 - val_loss: 0.9897 - val_accuracy: 0.6452\n",
      "Epoch 129/250\n"
     ]
    },
    {
     "name": "stderr",
     "output_type": "stream",
     "text": [
      "2022-03-03 08:02:39.133614: I tensorflow/core/kernels/data/shuffle_dataset_op.cc:143] Filling up shuffle buffer (this may take a while): 348 of 449\n",
      "2022-03-03 08:02:42.026801: I tensorflow/core/kernels/data/shuffle_dataset_op.cc:193] Shuffle buffer filled.\n"
     ]
    },
    {
     "name": "stdout",
     "output_type": "stream",
     "text": [
      "449/449 [==============================] - 225s 501ms/step - loss: 0.8648 - accuracy: 0.6754 - val_loss: 0.9978 - val_accuracy: 0.6389\n",
      "Epoch 130/250\n"
     ]
    },
    {
     "name": "stderr",
     "output_type": "stream",
     "text": [
      "2022-03-03 08:06:24.008520: I tensorflow/core/kernels/data/shuffle_dataset_op.cc:143] Filling up shuffle buffer (this may take a while): 345 of 449\n",
      "2022-03-03 08:06:26.949851: I tensorflow/core/kernels/data/shuffle_dataset_op.cc:193] Shuffle buffer filled.\n"
     ]
    },
    {
     "name": "stdout",
     "output_type": "stream",
     "text": [
      "449/449 [==============================] - 225s 501ms/step - loss: 0.8627 - accuracy: 0.6755 - val_loss: 1.0006 - val_accuracy: 0.6385\n",
      "Epoch 131/250\n"
     ]
    },
    {
     "name": "stderr",
     "output_type": "stream",
     "text": [
      "2022-03-03 08:10:08.794207: I tensorflow/core/kernels/data/shuffle_dataset_op.cc:143] Filling up shuffle buffer (this may take a while): 343 of 449\n",
      "2022-03-03 08:10:11.844810: I tensorflow/core/kernels/data/shuffle_dataset_op.cc:193] Shuffle buffer filled.\n"
     ]
    },
    {
     "name": "stdout",
     "output_type": "stream",
     "text": [
      "449/449 [==============================] - 226s 503ms/step - loss: 0.8710 - accuracy: 0.6718 - val_loss: 0.9896 - val_accuracy: 0.6441\n",
      "Epoch 132/250\n"
     ]
    },
    {
     "name": "stderr",
     "output_type": "stream",
     "text": [
      "2022-03-03 08:13:54.513391: I tensorflow/core/kernels/data/shuffle_dataset_op.cc:143] Filling up shuffle buffer (this may take a while): 350 of 449\n",
      "2022-03-03 08:13:57.332703: I tensorflow/core/kernels/data/shuffle_dataset_op.cc:193] Shuffle buffer filled.\n"
     ]
    },
    {
     "name": "stdout",
     "output_type": "stream",
     "text": [
      "449/449 [==============================] - 225s 500ms/step - loss: 0.8631 - accuracy: 0.6762 - val_loss: 0.9858 - val_accuracy: 0.6449\n",
      "Epoch 133/250\n"
     ]
    },
    {
     "name": "stderr",
     "output_type": "stream",
     "text": [
      "2022-03-03 08:17:39.213674: I tensorflow/core/kernels/data/shuffle_dataset_op.cc:143] Filling up shuffle buffer (this may take a while): 346 of 449\n",
      "2022-03-03 08:17:42.137298: I tensorflow/core/kernels/data/shuffle_dataset_op.cc:193] Shuffle buffer filled.\n"
     ]
    },
    {
     "name": "stdout",
     "output_type": "stream",
     "text": [
      "449/449 [==============================] - 225s 500ms/step - loss: 0.8570 - accuracy: 0.6771 - val_loss: 1.0263 - val_accuracy: 0.6360\n",
      "Epoch 134/250\n"
     ]
    },
    {
     "name": "stderr",
     "output_type": "stream",
     "text": [
      "2022-03-03 08:21:23.766369: I tensorflow/core/kernels/data/shuffle_dataset_op.cc:143] Filling up shuffle buffer (this may take a while): 345 of 449\n",
      "2022-03-03 08:21:26.750575: I tensorflow/core/kernels/data/shuffle_dataset_op.cc:193] Shuffle buffer filled.\n"
     ]
    },
    {
     "name": "stdout",
     "output_type": "stream",
     "text": [
      "449/449 [==============================] - 227s 505ms/step - loss: 0.8637 - accuracy: 0.6770 - val_loss: 0.9981 - val_accuracy: 0.6407\n",
      "Epoch 135/250\n"
     ]
    },
    {
     "name": "stderr",
     "output_type": "stream",
     "text": [
      "2022-03-03 08:25:10.733167: I tensorflow/core/kernels/data/shuffle_dataset_op.cc:143] Filling up shuffle buffer (this may take a while): 342 of 449\n",
      "2022-03-03 08:25:13.974100: I tensorflow/core/kernels/data/shuffle_dataset_op.cc:193] Shuffle buffer filled.\n"
     ]
    },
    {
     "name": "stdout",
     "output_type": "stream",
     "text": [
      "449/449 [==============================] - 229s 511ms/step - loss: 0.8618 - accuracy: 0.6780 - val_loss: 0.9933 - val_accuracy: 0.6439\n",
      "Epoch 136/250\n"
     ]
    },
    {
     "name": "stderr",
     "output_type": "stream",
     "text": [
      "2022-03-03 08:28:59.966046: I tensorflow/core/kernels/data/shuffle_dataset_op.cc:143] Filling up shuffle buffer (this may take a while): 340 of 449\n",
      "2022-03-03 08:29:03.107549: I tensorflow/core/kernels/data/shuffle_dataset_op.cc:193] Shuffle buffer filled.\n"
     ]
    },
    {
     "name": "stdout",
     "output_type": "stream",
     "text": [
      "449/449 [==============================] - 229s 509ms/step - loss: 0.8583 - accuracy: 0.6791 - val_loss: 0.9977 - val_accuracy: 0.6418\n",
      "Epoch 137/250\n"
     ]
    },
    {
     "name": "stderr",
     "output_type": "stream",
     "text": [
      "2022-03-03 08:32:48.552813: I tensorflow/core/kernels/data/shuffle_dataset_op.cc:143] Filling up shuffle buffer (this may take a while): 347 of 449\n",
      "2022-03-03 08:32:51.493277: I tensorflow/core/kernels/data/shuffle_dataset_op.cc:193] Shuffle buffer filled.\n"
     ]
    },
    {
     "name": "stdout",
     "output_type": "stream",
     "text": [
      "449/449 [==============================] - 227s 506ms/step - loss: 0.8585 - accuracy: 0.6790 - val_loss: 0.9968 - val_accuracy: 0.6431\n",
      "Epoch 138/250\n"
     ]
    },
    {
     "name": "stderr",
     "output_type": "stream",
     "text": [
      "2022-03-03 08:36:35.762582: I tensorflow/core/kernels/data/shuffle_dataset_op.cc:143] Filling up shuffle buffer (this may take a while): 342 of 449\n",
      "2022-03-03 08:36:38.811882: I tensorflow/core/kernels/data/shuffle_dataset_op.cc:193] Shuffle buffer filled.\n"
     ]
    },
    {
     "name": "stdout",
     "output_type": "stream",
     "text": [
      "449/449 [==============================] - 228s 508ms/step - loss: 0.8548 - accuracy: 0.6785 - val_loss: 0.9891 - val_accuracy: 0.6450\n",
      "Epoch 139/250\n"
     ]
    },
    {
     "name": "stderr",
     "output_type": "stream",
     "text": [
      "2022-03-03 08:40:23.843566: I tensorflow/core/kernels/data/shuffle_dataset_op.cc:143] Filling up shuffle buffer (this may take a while): 345 of 449\n",
      "2022-03-03 08:40:26.839021: I tensorflow/core/kernels/data/shuffle_dataset_op.cc:193] Shuffle buffer filled.\n"
     ]
    },
    {
     "name": "stdout",
     "output_type": "stream",
     "text": [
      "449/449 [==============================] - 227s 505ms/step - loss: 0.8561 - accuracy: 0.6796 - val_loss: 1.0093 - val_accuracy: 0.6390\n",
      "Epoch 140/250\n"
     ]
    },
    {
     "name": "stderr",
     "output_type": "stream",
     "text": [
      "2022-03-03 08:44:10.568116: I tensorflow/core/kernels/data/shuffle_dataset_op.cc:143] Filling up shuffle buffer (this may take a while): 346 of 449\n",
      "2022-03-03 08:44:13.489573: I tensorflow/core/kernels/data/shuffle_dataset_op.cc:193] Shuffle buffer filled.\n"
     ]
    },
    {
     "name": "stdout",
     "output_type": "stream",
     "text": [
      "449/449 [==============================] - 224s 500ms/step - loss: 0.8497 - accuracy: 0.6817 - val_loss: 0.9976 - val_accuracy: 0.6411\n",
      "Epoch 141/250\n"
     ]
    },
    {
     "name": "stderr",
     "output_type": "stream",
     "text": [
      "2022-03-03 08:47:54.940768: I tensorflow/core/kernels/data/shuffle_dataset_op.cc:143] Filling up shuffle buffer (this may take a while): 345 of 449\n",
      "2022-03-03 08:47:57.891582: I tensorflow/core/kernels/data/shuffle_dataset_op.cc:193] Shuffle buffer filled.\n"
     ]
    },
    {
     "name": "stdout",
     "output_type": "stream",
     "text": [
      "449/449 [==============================] - 226s 503ms/step - loss: 0.8528 - accuracy: 0.6791 - val_loss: 0.9923 - val_accuracy: 0.6422\n",
      "Epoch 142/250\n"
     ]
    },
    {
     "name": "stderr",
     "output_type": "stream",
     "text": [
      "2022-03-03 08:51:40.618875: I tensorflow/core/kernels/data/shuffle_dataset_op.cc:143] Filling up shuffle buffer (this may take a while): 341 of 449\n",
      "2022-03-03 08:51:43.694293: I tensorflow/core/kernels/data/shuffle_dataset_op.cc:193] Shuffle buffer filled.\n"
     ]
    },
    {
     "name": "stdout",
     "output_type": "stream",
     "text": [
      "449/449 [==============================] - 224s 500ms/step - loss: 0.8539 - accuracy: 0.6792 - val_loss: 0.9971 - val_accuracy: 0.6421\n",
      "Epoch 143/250\n"
     ]
    },
    {
     "name": "stderr",
     "output_type": "stream",
     "text": [
      "2022-03-03 08:55:24.997683: I tensorflow/core/kernels/data/shuffle_dataset_op.cc:143] Filling up shuffle buffer (this may take a while): 351 of 449\n",
      "2022-03-03 08:55:27.763094: I tensorflow/core/kernels/data/shuffle_dataset_op.cc:193] Shuffle buffer filled.\n"
     ]
    },
    {
     "name": "stdout",
     "output_type": "stream",
     "text": [
      "449/449 [==============================] - 224s 499ms/step - loss: 0.8528 - accuracy: 0.6815 - val_loss: 1.0051 - val_accuracy: 0.6408\n",
      "Epoch 144/250\n"
     ]
    },
    {
     "name": "stderr",
     "output_type": "stream",
     "text": [
      "2022-03-03 08:59:09.015656: I tensorflow/core/kernels/data/shuffle_dataset_op.cc:143] Filling up shuffle buffer (this may take a while): 341 of 449\n",
      "2022-03-03 08:59:12.141028: I tensorflow/core/kernels/data/shuffle_dataset_op.cc:193] Shuffle buffer filled.\n"
     ]
    },
    {
     "name": "stdout",
     "output_type": "stream",
     "text": [
      "449/449 [==============================] - 225s 501ms/step - loss: 0.8552 - accuracy: 0.6784 - val_loss: 1.0413 - val_accuracy: 0.6278\n",
      "Epoch 145/250\n"
     ]
    },
    {
     "name": "stderr",
     "output_type": "stream",
     "text": [
      "2022-03-03 09:02:54.164226: I tensorflow/core/kernels/data/shuffle_dataset_op.cc:143] Filling up shuffle buffer (this may take a while): 347 of 449\n",
      "2022-03-03 09:02:57.084413: I tensorflow/core/kernels/data/shuffle_dataset_op.cc:193] Shuffle buffer filled.\n"
     ]
    },
    {
     "name": "stdout",
     "output_type": "stream",
     "text": [
      "449/449 [==============================] - 224s 499ms/step - loss: 0.8528 - accuracy: 0.6839 - val_loss: 0.9989 - val_accuracy: 0.6411\n",
      "Epoch 146/250\n"
     ]
    },
    {
     "name": "stderr",
     "output_type": "stream",
     "text": [
      "2022-03-03 09:06:38.063563: I tensorflow/core/kernels/data/shuffle_dataset_op.cc:143] Filling up shuffle buffer (this may take a while): 345 of 449\n",
      "2022-03-03 09:06:41.008622: I tensorflow/core/kernels/data/shuffle_dataset_op.cc:193] Shuffle buffer filled.\n"
     ]
    },
    {
     "name": "stdout",
     "output_type": "stream",
     "text": [
      "449/449 [==============================] - 224s 499ms/step - loss: 0.8482 - accuracy: 0.6812 - val_loss: 0.9865 - val_accuracy: 0.6434\n",
      "Epoch 147/250\n"
     ]
    },
    {
     "name": "stderr",
     "output_type": "stream",
     "text": [
      "2022-03-03 09:10:22.292126: I tensorflow/core/kernels/data/shuffle_dataset_op.cc:143] Filling up shuffle buffer (this may take a while): 346 of 449\n",
      "2022-03-03 09:10:25.218755: I tensorflow/core/kernels/data/shuffle_dataset_op.cc:193] Shuffle buffer filled.\n"
     ]
    },
    {
     "name": "stdout",
     "output_type": "stream",
     "text": [
      "449/449 [==============================] - 224s 499ms/step - loss: 0.8534 - accuracy: 0.6805 - val_loss: 1.0004 - val_accuracy: 0.6378\n",
      "Epoch 148/250\n"
     ]
    },
    {
     "name": "stderr",
     "output_type": "stream",
     "text": [
      "2022-03-03 09:14:06.484075: I tensorflow/core/kernels/data/shuffle_dataset_op.cc:143] Filling up shuffle buffer (this may take a while): 319 of 449\n",
      "2022-03-03 09:14:10.186052: I tensorflow/core/kernels/data/shuffle_dataset_op.cc:193] Shuffle buffer filled.\n"
     ]
    },
    {
     "name": "stdout",
     "output_type": "stream",
     "text": [
      "449/449 [==============================] - 225s 500ms/step - loss: 0.8507 - accuracy: 0.6811 - val_loss: 1.0016 - val_accuracy: 0.6392\n",
      "Epoch 149/250\n"
     ]
    },
    {
     "name": "stderr",
     "output_type": "stream",
     "text": [
      "2022-03-03 09:17:51.029049: I tensorflow/core/kernels/data/shuffle_dataset_op.cc:143] Filling up shuffle buffer (this may take a while): 346 of 449\n",
      "2022-03-03 09:17:53.939990: I tensorflow/core/kernels/data/shuffle_dataset_op.cc:193] Shuffle buffer filled.\n"
     ]
    },
    {
     "name": "stdout",
     "output_type": "stream",
     "text": [
      "449/449 [==============================] - 224s 498ms/step - loss: 0.8522 - accuracy: 0.6823 - val_loss: 1.0119 - val_accuracy: 0.6375\n",
      "Epoch 150/250\n"
     ]
    },
    {
     "name": "stderr",
     "output_type": "stream",
     "text": [
      "2022-03-03 09:21:34.835560: I tensorflow/core/kernels/data/shuffle_dataset_op.cc:143] Filling up shuffle buffer (this may take a while): 345 of 449\n",
      "2022-03-03 09:21:37.784669: I tensorflow/core/kernels/data/shuffle_dataset_op.cc:193] Shuffle buffer filled.\n"
     ]
    },
    {
     "name": "stdout",
     "output_type": "stream",
     "text": [
      "449/449 [==============================] - 225s 500ms/step - loss: 0.8503 - accuracy: 0.6795 - val_loss: 0.9998 - val_accuracy: 0.6408\n",
      "Epoch 151/250\n"
     ]
    },
    {
     "name": "stderr",
     "output_type": "stream",
     "text": [
      "2022-03-03 09:25:19.545742: I tensorflow/core/kernels/data/shuffle_dataset_op.cc:143] Filling up shuffle buffer (this may take a while): 345 of 449\n",
      "2022-03-03 09:25:22.488482: I tensorflow/core/kernels/data/shuffle_dataset_op.cc:193] Shuffle buffer filled.\n"
     ]
    },
    {
     "name": "stdout",
     "output_type": "stream",
     "text": [
      "449/449 [==============================] - 224s 500ms/step - loss: 0.8475 - accuracy: 0.6825 - val_loss: 0.9859 - val_accuracy: 0.6463\n",
      "Epoch 152/250\n"
     ]
    },
    {
     "name": "stderr",
     "output_type": "stream",
     "text": [
      "2022-03-03 09:29:03.825254: I tensorflow/core/kernels/data/shuffle_dataset_op.cc:143] Filling up shuffle buffer (this may take a while): 347 of 449\n",
      "2022-03-03 09:29:06.717434: I tensorflow/core/kernels/data/shuffle_dataset_op.cc:193] Shuffle buffer filled.\n"
     ]
    },
    {
     "name": "stdout",
     "output_type": "stream",
     "text": [
      "449/449 [==============================] - 223s 497ms/step - loss: 0.8475 - accuracy: 0.6851 - val_loss: 0.9904 - val_accuracy: 0.6441\n",
      "Epoch 153/250\n"
     ]
    },
    {
     "name": "stderr",
     "output_type": "stream",
     "text": [
      "2022-03-03 09:32:46.868304: I tensorflow/core/kernels/data/shuffle_dataset_op.cc:143] Filling up shuffle buffer (this may take a while): 344 of 449\n",
      "2022-03-03 09:32:49.874478: I tensorflow/core/kernels/data/shuffle_dataset_op.cc:193] Shuffle buffer filled.\n"
     ]
    },
    {
     "name": "stdout",
     "output_type": "stream",
     "text": [
      "449/449 [==============================] - 225s 502ms/step - loss: 0.8438 - accuracy: 0.6822 - val_loss: 1.0001 - val_accuracy: 0.6439\n",
      "Epoch 154/250\n"
     ]
    },
    {
     "name": "stderr",
     "output_type": "stream",
     "text": [
      "2022-03-03 09:36:32.169861: I tensorflow/core/kernels/data/shuffle_dataset_op.cc:143] Filling up shuffle buffer (this may take a while): 347 of 449\n",
      "2022-03-03 09:36:35.058866: I tensorflow/core/kernels/data/shuffle_dataset_op.cc:193] Shuffle buffer filled.\n"
     ]
    },
    {
     "name": "stdout",
     "output_type": "stream",
     "text": [
      "449/449 [==============================] - 223s 497ms/step - loss: 0.8488 - accuracy: 0.6822 - val_loss: 0.9957 - val_accuracy: 0.6417\n",
      "Epoch 155/250\n"
     ]
    },
    {
     "name": "stderr",
     "output_type": "stream",
     "text": [
      "2022-03-03 09:40:15.420803: I tensorflow/core/kernels/data/shuffle_dataset_op.cc:143] Filling up shuffle buffer (this may take a while): 344 of 449\n",
      "2022-03-03 09:40:18.386018: I tensorflow/core/kernels/data/shuffle_dataset_op.cc:193] Shuffle buffer filled.\n"
     ]
    },
    {
     "name": "stdout",
     "output_type": "stream",
     "text": [
      "449/449 [==============================] - 224s 500ms/step - loss: 0.8474 - accuracy: 0.6792 - val_loss: 1.0062 - val_accuracy: 0.6421\n",
      "Epoch 156/250\n"
     ]
    },
    {
     "name": "stderr",
     "output_type": "stream",
     "text": [
      "2022-03-03 09:43:59.793536: I tensorflow/core/kernels/data/shuffle_dataset_op.cc:143] Filling up shuffle buffer (this may take a while): 348 of 449\n",
      "2022-03-03 09:44:02.670752: I tensorflow/core/kernels/data/shuffle_dataset_op.cc:193] Shuffle buffer filled.\n"
     ]
    },
    {
     "name": "stdout",
     "output_type": "stream",
     "text": [
      "449/449 [==============================] - 223s 498ms/step - loss: 0.8469 - accuracy: 0.6840 - val_loss: 1.0029 - val_accuracy: 0.6403\n",
      "Epoch 157/250\n"
     ]
    },
    {
     "name": "stderr",
     "output_type": "stream",
     "text": [
      "2022-03-03 09:47:43.204770: I tensorflow/core/kernels/data/shuffle_dataset_op.cc:143] Filling up shuffle buffer (this may take a while): 346 of 449\n",
      "2022-03-03 09:47:46.100709: I tensorflow/core/kernels/data/shuffle_dataset_op.cc:193] Shuffle buffer filled.\n"
     ]
    },
    {
     "name": "stdout",
     "output_type": "stream",
     "text": [
      "449/449 [==============================] - 224s 498ms/step - loss: 0.8408 - accuracy: 0.6854 - val_loss: 0.9961 - val_accuracy: 0.6420\n",
      "Epoch 158/250\n"
     ]
    },
    {
     "name": "stderr",
     "output_type": "stream",
     "text": [
      "2022-03-03 09:51:26.843096: I tensorflow/core/kernels/data/shuffle_dataset_op.cc:143] Filling up shuffle buffer (this may take a while): 340 of 449\n",
      "2022-03-03 09:51:29.977528: I tensorflow/core/kernels/data/shuffle_dataset_op.cc:193] Shuffle buffer filled.\n"
     ]
    },
    {
     "name": "stdout",
     "output_type": "stream",
     "text": [
      "449/449 [==============================] - 223s 497ms/step - loss: 0.8497 - accuracy: 0.6839 - val_loss: 0.9995 - val_accuracy: 0.6407\n",
      "Epoch 159/250\n"
     ]
    },
    {
     "name": "stderr",
     "output_type": "stream",
     "text": [
      "2022-03-03 09:55:10.181044: I tensorflow/core/kernels/data/shuffle_dataset_op.cc:143] Filling up shuffle buffer (this may take a while): 351 of 449\n",
      "2022-03-03 09:55:12.975684: I tensorflow/core/kernels/data/shuffle_dataset_op.cc:193] Shuffle buffer filled.\n"
     ]
    },
    {
     "name": "stdout",
     "output_type": "stream",
     "text": [
      "449/449 [==============================] - 224s 499ms/step - loss: 0.8470 - accuracy: 0.6837 - val_loss: 0.9986 - val_accuracy: 0.6406\n",
      "Epoch 160/250\n"
     ]
    },
    {
     "name": "stderr",
     "output_type": "stream",
     "text": [
      "2022-03-03 09:58:54.333247: I tensorflow/core/kernels/data/shuffle_dataset_op.cc:143] Filling up shuffle buffer (this may take a while): 344 of 449\n",
      "2022-03-03 09:58:57.310124: I tensorflow/core/kernels/data/shuffle_dataset_op.cc:193] Shuffle buffer filled.\n"
     ]
    },
    {
     "name": "stdout",
     "output_type": "stream",
     "text": [
      "449/449 [==============================] - 225s 500ms/step - loss: 0.8371 - accuracy: 0.6858 - val_loss: 1.0023 - val_accuracy: 0.6435\n",
      "Epoch 161/250\n"
     ]
    },
    {
     "name": "stderr",
     "output_type": "stream",
     "text": [
      "2022-03-03 10:02:39.048366: I tensorflow/core/kernels/data/shuffle_dataset_op.cc:143] Filling up shuffle buffer (this may take a while): 348 of 449\n",
      "2022-03-03 10:02:41.925697: I tensorflow/core/kernels/data/shuffle_dataset_op.cc:193] Shuffle buffer filled.\n"
     ]
    },
    {
     "name": "stdout",
     "output_type": "stream",
     "text": [
      "449/449 [==============================] - 224s 499ms/step - loss: 0.8310 - accuracy: 0.6910 - val_loss: 1.0137 - val_accuracy: 0.6378\n",
      "Epoch 162/250\n"
     ]
    },
    {
     "name": "stderr",
     "output_type": "stream",
     "text": [
      "2022-03-03 10:06:23.153917: I tensorflow/core/kernels/data/shuffle_dataset_op.cc:143] Filling up shuffle buffer (this may take a while): 345 of 449\n",
      "2022-03-03 10:06:26.101820: I tensorflow/core/kernels/data/shuffle_dataset_op.cc:193] Shuffle buffer filled.\n"
     ]
    },
    {
     "name": "stdout",
     "output_type": "stream",
     "text": [
      "449/449 [==============================] - 224s 499ms/step - loss: 0.8438 - accuracy: 0.6833 - val_loss: 1.0090 - val_accuracy: 0.6402\n",
      "Epoch 163/250\n"
     ]
    },
    {
     "name": "stderr",
     "output_type": "stream",
     "text": [
      "2022-03-03 10:10:07.087709: I tensorflow/core/kernels/data/shuffle_dataset_op.cc:143] Filling up shuffle buffer (this may take a while): 343 of 449\n",
      "2022-03-03 10:10:10.267134: I tensorflow/core/kernels/data/shuffle_dataset_op.cc:193] Shuffle buffer filled.\n"
     ]
    },
    {
     "name": "stdout",
     "output_type": "stream",
     "text": [
      "449/449 [==============================] - 225s 501ms/step - loss: 0.8396 - accuracy: 0.6866 - val_loss: 0.9989 - val_accuracy: 0.6408\n",
      "Epoch 164/250\n"
     ]
    },
    {
     "name": "stderr",
     "output_type": "stream",
     "text": [
      "2022-03-03 10:13:52.076779: I tensorflow/core/kernels/data/shuffle_dataset_op.cc:143] Filling up shuffle buffer (this may take a while): 343 of 449\n",
      "2022-03-03 10:13:55.080304: I tensorflow/core/kernels/data/shuffle_dataset_op.cc:193] Shuffle buffer filled.\n"
     ]
    },
    {
     "name": "stdout",
     "output_type": "stream",
     "text": [
      "449/449 [==============================] - 225s 502ms/step - loss: 0.8368 - accuracy: 0.6874 - val_loss: 1.0112 - val_accuracy: 0.6406\n",
      "Epoch 165/250\n"
     ]
    },
    {
     "name": "stderr",
     "output_type": "stream",
     "text": [
      "2022-03-03 10:17:37.287610: I tensorflow/core/kernels/data/shuffle_dataset_op.cc:143] Filling up shuffle buffer (this may take a while): 348 of 449\n",
      "2022-03-03 10:17:40.150259: I tensorflow/core/kernels/data/shuffle_dataset_op.cc:193] Shuffle buffer filled.\n"
     ]
    },
    {
     "name": "stdout",
     "output_type": "stream",
     "text": [
      "449/449 [==============================] - 224s 499ms/step - loss: 0.8434 - accuracy: 0.6858 - val_loss: 1.0107 - val_accuracy: 0.6371\n",
      "Epoch 166/250\n"
     ]
    },
    {
     "name": "stderr",
     "output_type": "stream",
     "text": [
      "2022-03-03 10:21:21.488764: I tensorflow/core/kernels/data/shuffle_dataset_op.cc:143] Filling up shuffle buffer (this may take a while): 344 of 449\n",
      "2022-03-03 10:21:24.499042: I tensorflow/core/kernels/data/shuffle_dataset_op.cc:193] Shuffle buffer filled.\n"
     ]
    },
    {
     "name": "stdout",
     "output_type": "stream",
     "text": [
      "449/449 [==============================] - 226s 502ms/step - loss: 0.8411 - accuracy: 0.6855 - val_loss: 1.0021 - val_accuracy: 0.6429\n",
      "Epoch 167/250\n"
     ]
    },
    {
     "name": "stderr",
     "output_type": "stream",
     "text": [
      "2022-03-03 10:25:07.014704: I tensorflow/core/kernels/data/shuffle_dataset_op.cc:143] Filling up shuffle buffer (this may take a while): 346 of 449\n",
      "2022-03-03 10:25:09.926406: I tensorflow/core/kernels/data/shuffle_dataset_op.cc:193] Shuffle buffer filled.\n"
     ]
    },
    {
     "name": "stdout",
     "output_type": "stream",
     "text": [
      "449/449 [==============================] - 225s 502ms/step - loss: 0.8414 - accuracy: 0.6861 - val_loss: 0.9999 - val_accuracy: 0.6414\n",
      "Epoch 168/250\n"
     ]
    },
    {
     "name": "stderr",
     "output_type": "stream",
     "text": [
      "2022-03-03 10:28:52.317214: I tensorflow/core/kernels/data/shuffle_dataset_op.cc:143] Filling up shuffle buffer (this may take a while): 347 of 449\n",
      "2022-03-03 10:28:55.219087: I tensorflow/core/kernels/data/shuffle_dataset_op.cc:193] Shuffle buffer filled.\n"
     ]
    },
    {
     "name": "stdout",
     "output_type": "stream",
     "text": [
      "449/449 [==============================] - 224s 499ms/step - loss: 0.8337 - accuracy: 0.6850 - val_loss: 0.9966 - val_accuracy: 0.6439\n",
      "Epoch 169/250\n"
     ]
    },
    {
     "name": "stderr",
     "output_type": "stream",
     "text": [
      "2022-03-03 10:32:36.536070: I tensorflow/core/kernels/data/shuffle_dataset_op.cc:143] Filling up shuffle buffer (this may take a while): 348 of 449\n",
      "2022-03-03 10:32:39.415385: I tensorflow/core/kernels/data/shuffle_dataset_op.cc:193] Shuffle buffer filled.\n"
     ]
    },
    {
     "name": "stdout",
     "output_type": "stream",
     "text": [
      "449/449 [==============================] - 225s 500ms/step - loss: 0.8333 - accuracy: 0.6880 - val_loss: 1.0040 - val_accuracy: 0.6390\n",
      "Epoch 170/250\n"
     ]
    },
    {
     "name": "stderr",
     "output_type": "stream",
     "text": [
      "2022-03-03 10:36:21.033179: I tensorflow/core/kernels/data/shuffle_dataset_op.cc:143] Filling up shuffle buffer (this may take a while): 347 of 449\n",
      "2022-03-03 10:36:23.944171: I tensorflow/core/kernels/data/shuffle_dataset_op.cc:193] Shuffle buffer filled.\n"
     ]
    },
    {
     "name": "stdout",
     "output_type": "stream",
     "text": [
      "449/449 [==============================] - 224s 499ms/step - loss: 0.8319 - accuracy: 0.6873 - val_loss: 1.0322 - val_accuracy: 0.6307\n",
      "Epoch 171/250\n"
     ]
    },
    {
     "name": "stderr",
     "output_type": "stream",
     "text": [
      "2022-03-03 10:40:04.971795: I tensorflow/core/kernels/data/shuffle_dataset_op.cc:143] Filling up shuffle buffer (this may take a while): 335 of 449\n",
      "2022-03-03 10:40:08.436462: I tensorflow/core/kernels/data/shuffle_dataset_op.cc:193] Shuffle buffer filled.\n"
     ]
    },
    {
     "name": "stdout",
     "output_type": "stream",
     "text": [
      "449/449 [==============================] - 225s 501ms/step - loss: 0.8324 - accuracy: 0.6893 - val_loss: 1.0112 - val_accuracy: 0.6369\n",
      "Epoch 172/250\n"
     ]
    },
    {
     "name": "stderr",
     "output_type": "stream",
     "text": [
      "2022-03-03 10:43:49.998129: I tensorflow/core/kernels/data/shuffle_dataset_op.cc:143] Filling up shuffle buffer (this may take a while): 345 of 449\n",
      "2022-03-03 10:43:52.979155: I tensorflow/core/kernels/data/shuffle_dataset_op.cc:193] Shuffle buffer filled.\n"
     ]
    },
    {
     "name": "stdout",
     "output_type": "stream",
     "text": [
      "449/449 [==============================] - 224s 499ms/step - loss: 0.8306 - accuracy: 0.6866 - val_loss: 1.0295 - val_accuracy: 0.6305\n",
      "Epoch 173/250\n"
     ]
    },
    {
     "name": "stderr",
     "output_type": "stream",
     "text": [
      "2022-03-03 10:47:34.181169: I tensorflow/core/kernels/data/shuffle_dataset_op.cc:143] Filling up shuffle buffer (this may take a while): 348 of 449\n",
      "2022-03-03 10:47:37.068844: I tensorflow/core/kernels/data/shuffle_dataset_op.cc:193] Shuffle buffer filled.\n"
     ]
    },
    {
     "name": "stdout",
     "output_type": "stream",
     "text": [
      "449/449 [==============================] - 224s 499ms/step - loss: 0.8376 - accuracy: 0.6858 - val_loss: 1.0043 - val_accuracy: 0.6393\n",
      "Epoch 174/250\n"
     ]
    },
    {
     "name": "stderr",
     "output_type": "stream",
     "text": [
      "2022-03-03 10:51:18.119542: I tensorflow/core/kernels/data/shuffle_dataset_op.cc:143] Filling up shuffle buffer (this may take a while): 342 of 449\n",
      "2022-03-03 10:51:21.195976: I tensorflow/core/kernels/data/shuffle_dataset_op.cc:193] Shuffle buffer filled.\n"
     ]
    },
    {
     "name": "stdout",
     "output_type": "stream",
     "text": [
      "449/449 [==============================] - 225s 502ms/step - loss: 0.8332 - accuracy: 0.6847 - val_loss: 1.0170 - val_accuracy: 0.6349\n",
      "Epoch 175/250\n"
     ]
    },
    {
     "name": "stderr",
     "output_type": "stream",
     "text": [
      "2022-03-03 10:55:03.334283: I tensorflow/core/kernels/data/shuffle_dataset_op.cc:143] Filling up shuffle buffer (this may take a while): 349 of 449\n",
      "2022-03-03 10:55:06.228580: I tensorflow/core/kernels/data/shuffle_dataset_op.cc:193] Shuffle buffer filled.\n"
     ]
    },
    {
     "name": "stdout",
     "output_type": "stream",
     "text": [
      "449/449 [==============================] - 225s 501ms/step - loss: 0.8311 - accuracy: 0.6866 - val_loss: 1.0244 - val_accuracy: 0.6350\n",
      "Epoch 176/250\n"
     ]
    },
    {
     "name": "stderr",
     "output_type": "stream",
     "text": [
      "2022-03-03 10:58:48.084306: I tensorflow/core/kernels/data/shuffle_dataset_op.cc:143] Filling up shuffle buffer (this may take a while): 344 of 449\n",
      "2022-03-03 10:58:51.073558: I tensorflow/core/kernels/data/shuffle_dataset_op.cc:193] Shuffle buffer filled.\n"
     ]
    },
    {
     "name": "stdout",
     "output_type": "stream",
     "text": [
      "449/449 [==============================] - 224s 500ms/step - loss: 0.8285 - accuracy: 0.6916 - val_loss: 0.9963 - val_accuracy: 0.6402\n",
      "Epoch 177/250\n"
     ]
    },
    {
     "name": "stderr",
     "output_type": "stream",
     "text": [
      "2022-03-03 11:02:32.393858: I tensorflow/core/kernels/data/shuffle_dataset_op.cc:143] Filling up shuffle buffer (this may take a while): 346 of 449\n",
      "2022-03-03 11:02:35.333003: I tensorflow/core/kernels/data/shuffle_dataset_op.cc:193] Shuffle buffer filled.\n"
     ]
    },
    {
     "name": "stdout",
     "output_type": "stream",
     "text": [
      "449/449 [==============================] - 224s 498ms/step - loss: 0.8256 - accuracy: 0.6915 - val_loss: 0.9894 - val_accuracy: 0.6464\n",
      "Epoch 178/250\n"
     ]
    },
    {
     "name": "stderr",
     "output_type": "stream",
     "text": [
      "2022-03-03 11:06:16.205406: I tensorflow/core/kernels/data/shuffle_dataset_op.cc:143] Filling up shuffle buffer (this may take a while): 346 of 449\n",
      "2022-03-03 11:06:19.126982: I tensorflow/core/kernels/data/shuffle_dataset_op.cc:193] Shuffle buffer filled.\n"
     ]
    },
    {
     "name": "stdout",
     "output_type": "stream",
     "text": [
      "449/449 [==============================] - 225s 500ms/step - loss: 0.8320 - accuracy: 0.6878 - val_loss: 1.0303 - val_accuracy: 0.6326\n",
      "Epoch 179/250\n"
     ]
    },
    {
     "name": "stderr",
     "output_type": "stream",
     "text": [
      "2022-03-03 11:10:00.843327: I tensorflow/core/kernels/data/shuffle_dataset_op.cc:143] Filling up shuffle buffer (this may take a while): 343 of 449\n",
      "2022-03-03 11:10:03.884799: I tensorflow/core/kernels/data/shuffle_dataset_op.cc:193] Shuffle buffer filled.\n"
     ]
    },
    {
     "name": "stdout",
     "output_type": "stream",
     "text": [
      "449/449 [==============================] - 224s 498ms/step - loss: 0.8276 - accuracy: 0.6886 - val_loss: 1.0040 - val_accuracy: 0.6390\n",
      "Epoch 180/250\n"
     ]
    },
    {
     "name": "stderr",
     "output_type": "stream",
     "text": [
      "2022-03-03 11:13:44.481777: I tensorflow/core/kernels/data/shuffle_dataset_op.cc:143] Filling up shuffle buffer (this may take a while): 348 of 449\n",
      "2022-03-03 11:13:47.354001: I tensorflow/core/kernels/data/shuffle_dataset_op.cc:193] Shuffle buffer filled.\n"
     ]
    },
    {
     "name": "stdout",
     "output_type": "stream",
     "text": [
      "449/449 [==============================] - 225s 501ms/step - loss: 0.8296 - accuracy: 0.6877 - val_loss: 1.0113 - val_accuracy: 0.6371\n",
      "Epoch 181/250\n"
     ]
    },
    {
     "name": "stderr",
     "output_type": "stream",
     "text": [
      "2022-03-03 11:17:29.339712: I tensorflow/core/kernels/data/shuffle_dataset_op.cc:143] Filling up shuffle buffer (this may take a while): 344 of 449\n",
      "2022-03-03 11:17:32.346061: I tensorflow/core/kernels/data/shuffle_dataset_op.cc:193] Shuffle buffer filled.\n"
     ]
    },
    {
     "name": "stdout",
     "output_type": "stream",
     "text": [
      "449/449 [==============================] - 224s 499ms/step - loss: 0.8314 - accuracy: 0.6890 - val_loss: 1.0263 - val_accuracy: 0.6321\n",
      "Epoch 182/250\n"
     ]
    },
    {
     "name": "stderr",
     "output_type": "stream",
     "text": [
      "2022-03-03 11:21:13.425763: I tensorflow/core/kernels/data/shuffle_dataset_op.cc:143] Filling up shuffle buffer (this may take a while): 347 of 449\n",
      "2022-03-03 11:21:16.319603: I tensorflow/core/kernels/data/shuffle_dataset_op.cc:193] Shuffle buffer filled.\n"
     ]
    },
    {
     "name": "stdout",
     "output_type": "stream",
     "text": [
      "449/449 [==============================] - 223s 497ms/step - loss: 0.8260 - accuracy: 0.6940 - val_loss: 0.9986 - val_accuracy: 0.6414\n",
      "Epoch 183/250\n"
     ]
    },
    {
     "name": "stderr",
     "output_type": "stream",
     "text": [
      "2022-03-03 11:24:56.698672: I tensorflow/core/kernels/data/shuffle_dataset_op.cc:143] Filling up shuffle buffer (this may take a while): 344 of 449\n",
      "2022-03-03 11:24:59.688224: I tensorflow/core/kernels/data/shuffle_dataset_op.cc:193] Shuffle buffer filled.\n"
     ]
    },
    {
     "name": "stdout",
     "output_type": "stream",
     "text": [
      "449/449 [==============================] - 224s 499ms/step - loss: 0.8242 - accuracy: 0.6891 - val_loss: 0.9939 - val_accuracy: 0.6397\n",
      "Epoch 184/250\n"
     ]
    },
    {
     "name": "stderr",
     "output_type": "stream",
     "text": [
      "2022-03-03 11:28:40.655297: I tensorflow/core/kernels/data/shuffle_dataset_op.cc:143] Filling up shuffle buffer (this may take a while): 329 of 449\n",
      "2022-03-03 11:28:44.061126: I tensorflow/core/kernels/data/shuffle_dataset_op.cc:193] Shuffle buffer filled.\n"
     ]
    },
    {
     "name": "stdout",
     "output_type": "stream",
     "text": [
      "449/449 [==============================] - 225s 501ms/step - loss: 0.8287 - accuracy: 0.6915 - val_loss: 1.0130 - val_accuracy: 0.6358\n",
      "Epoch 185/250\n"
     ]
    },
    {
     "name": "stderr",
     "output_type": "stream",
     "text": [
      "2022-03-03 11:32:25.444793: I tensorflow/core/kernels/data/shuffle_dataset_op.cc:143] Filling up shuffle buffer (this may take a while): 342 of 449\n",
      "2022-03-03 11:32:28.489900: I tensorflow/core/kernels/data/shuffle_dataset_op.cc:193] Shuffle buffer filled.\n"
     ]
    },
    {
     "name": "stdout",
     "output_type": "stream",
     "text": [
      "449/449 [==============================] - 224s 499ms/step - loss: 0.8256 - accuracy: 0.6902 - val_loss: 0.9963 - val_accuracy: 0.6429\n",
      "Epoch 186/250\n"
     ]
    },
    {
     "name": "stderr",
     "output_type": "stream",
     "text": [
      "2022-03-03 11:36:09.522432: I tensorflow/core/kernels/data/shuffle_dataset_op.cc:143] Filling up shuffle buffer (this may take a while): 349 of 449\n",
      "2022-03-03 11:36:12.366844: I tensorflow/core/kernels/data/shuffle_dataset_op.cc:193] Shuffle buffer filled.\n"
     ]
    },
    {
     "name": "stdout",
     "output_type": "stream",
     "text": [
      "449/449 [==============================] - 225s 502ms/step - loss: 0.8283 - accuracy: 0.6891 - val_loss: 0.9991 - val_accuracy: 0.6435\n",
      "Epoch 187/250\n"
     ]
    },
    {
     "name": "stderr",
     "output_type": "stream",
     "text": [
      "2022-03-03 11:39:54.966462: I tensorflow/core/kernels/data/shuffle_dataset_op.cc:143] Filling up shuffle buffer (this may take a while): 334 of 449\n",
      "2022-03-03 11:39:58.291803: I tensorflow/core/kernels/data/shuffle_dataset_op.cc:193] Shuffle buffer filled.\n"
     ]
    },
    {
     "name": "stdout",
     "output_type": "stream",
     "text": [
      "449/449 [==============================] - 229s 511ms/step - loss: 0.8330 - accuracy: 0.6891 - val_loss: 0.9992 - val_accuracy: 0.6418\n",
      "Epoch 188/250\n"
     ]
    },
    {
     "name": "stderr",
     "output_type": "stream",
     "text": [
      "2022-03-03 11:43:44.322515: I tensorflow/core/kernels/data/shuffle_dataset_op.cc:143] Filling up shuffle buffer (this may take a while): 344 of 449\n",
      "2022-03-03 11:43:47.462171: I tensorflow/core/kernels/data/shuffle_dataset_op.cc:193] Shuffle buffer filled.\n"
     ]
    },
    {
     "name": "stdout",
     "output_type": "stream",
     "text": [
      "449/449 [==============================] - 229s 510ms/step - loss: 0.8286 - accuracy: 0.6891 - val_loss: 0.9927 - val_accuracy: 0.6474\n",
      "Epoch 189/250\n"
     ]
    },
    {
     "name": "stderr",
     "output_type": "stream",
     "text": [
      "2022-03-03 11:47:33.473293: I tensorflow/core/kernels/data/shuffle_dataset_op.cc:143] Filling up shuffle buffer (this may take a while): 339 of 449\n",
      "2022-03-03 11:47:36.639550: I tensorflow/core/kernels/data/shuffle_dataset_op.cc:193] Shuffle buffer filled.\n"
     ]
    },
    {
     "name": "stdout",
     "output_type": "stream",
     "text": [
      "449/449 [==============================] - 229s 509ms/step - loss: 0.8338 - accuracy: 0.6905 - val_loss: 0.9940 - val_accuracy: 0.6471\n",
      "Epoch 190/250\n"
     ]
    },
    {
     "name": "stderr",
     "output_type": "stream",
     "text": [
      "2022-03-03 11:51:22.203748: I tensorflow/core/kernels/data/shuffle_dataset_op.cc:143] Filling up shuffle buffer (this may take a while): 338 of 449\n",
      "2022-03-03 11:51:25.438294: I tensorflow/core/kernels/data/shuffle_dataset_op.cc:193] Shuffle buffer filled.\n"
     ]
    },
    {
     "name": "stdout",
     "output_type": "stream",
     "text": [
      "449/449 [==============================] - 229s 510ms/step - loss: 0.8248 - accuracy: 0.6909 - val_loss: 0.9979 - val_accuracy: 0.6427\n",
      "Epoch 191/250\n"
     ]
    },
    {
     "name": "stderr",
     "output_type": "stream",
     "text": [
      "2022-03-03 11:55:11.146101: I tensorflow/core/kernels/data/shuffle_dataset_op.cc:143] Filling up shuffle buffer (this may take a while): 345 of 449\n",
      "2022-03-03 11:55:14.127145: I tensorflow/core/kernels/data/shuffle_dataset_op.cc:193] Shuffle buffer filled.\n"
     ]
    },
    {
     "name": "stdout",
     "output_type": "stream",
     "text": [
      "449/449 [==============================] - 230s 512ms/step - loss: 0.8225 - accuracy: 0.6915 - val_loss: 1.0106 - val_accuracy: 0.6372\n",
      "Epoch 192/250\n"
     ]
    },
    {
     "name": "stderr",
     "output_type": "stream",
     "text": [
      "2022-03-03 11:59:00.994913: I tensorflow/core/kernels/data/shuffle_dataset_op.cc:143] Filling up shuffle buffer (this may take a while): 340 of 449\n",
      "2022-03-03 11:59:04.095788: I tensorflow/core/kernels/data/shuffle_dataset_op.cc:193] Shuffle buffer filled.\n"
     ]
    },
    {
     "name": "stdout",
     "output_type": "stream",
     "text": [
      "449/449 [==============================] - 228s 508ms/step - loss: 0.8162 - accuracy: 0.6959 - val_loss: 0.9982 - val_accuracy: 0.6407\n",
      "Epoch 193/250\n"
     ]
    },
    {
     "name": "stderr",
     "output_type": "stream",
     "text": [
      "2022-03-03 12:02:49.158744: I tensorflow/core/kernels/data/shuffle_dataset_op.cc:143] Filling up shuffle buffer (this may take a while): 342 of 449\n",
      "2022-03-03 12:02:52.955995: I tensorflow/core/kernels/data/shuffle_dataset_op.cc:193] Shuffle buffer filled.\n"
     ]
    },
    {
     "name": "stdout",
     "output_type": "stream",
     "text": [
      "449/449 [==============================] - 228s 507ms/step - loss: 0.8132 - accuracy: 0.6964 - val_loss: 1.0010 - val_accuracy: 0.6427\n",
      "Epoch 194/250\n"
     ]
    },
    {
     "name": "stderr",
     "output_type": "stream",
     "text": [
      "2022-03-03 12:06:36.885669: I tensorflow/core/kernels/data/shuffle_dataset_op.cc:143] Filling up shuffle buffer (this may take a while): 345 of 449\n",
      "2022-03-03 12:06:39.870972: I tensorflow/core/kernels/data/shuffle_dataset_op.cc:193] Shuffle buffer filled.\n"
     ]
    },
    {
     "name": "stdout",
     "output_type": "stream",
     "text": [
      "449/449 [==============================] - 229s 510ms/step - loss: 0.8220 - accuracy: 0.6950 - val_loss: 1.0052 - val_accuracy: 0.6420\n",
      "Epoch 195/250\n"
     ]
    },
    {
     "name": "stderr",
     "output_type": "stream",
     "text": [
      "2022-03-03 12:10:25.785509: I tensorflow/core/kernels/data/shuffle_dataset_op.cc:143] Filling up shuffle buffer (this may take a while): 339 of 449\n",
      "2022-03-03 12:10:28.974203: I tensorflow/core/kernels/data/shuffle_dataset_op.cc:193] Shuffle buffer filled.\n"
     ]
    },
    {
     "name": "stdout",
     "output_type": "stream",
     "text": [
      "449/449 [==============================] - 228s 508ms/step - loss: 0.8178 - accuracy: 0.6947 - val_loss: 1.0029 - val_accuracy: 0.6449\n",
      "Epoch 196/250\n"
     ]
    },
    {
     "name": "stderr",
     "output_type": "stream",
     "text": [
      "2022-03-03 12:14:13.884526: I tensorflow/core/kernels/data/shuffle_dataset_op.cc:143] Filling up shuffle buffer (this may take a while): 344 of 449\n",
      "2022-03-03 12:14:16.957922: I tensorflow/core/kernels/data/shuffle_dataset_op.cc:193] Shuffle buffer filled.\n"
     ]
    },
    {
     "name": "stdout",
     "output_type": "stream",
     "text": [
      "449/449 [==============================] - 230s 512ms/step - loss: 0.8217 - accuracy: 0.6908 - val_loss: 1.0411 - val_accuracy: 0.6322\n",
      "Epoch 197/250\n"
     ]
    },
    {
     "name": "stderr",
     "output_type": "stream",
     "text": [
      "2022-03-03 12:18:03.608230: I tensorflow/core/kernels/data/shuffle_dataset_op.cc:143] Filling up shuffle buffer (this may take a while): 341 of 449\n",
      "2022-03-03 12:18:06.692595: I tensorflow/core/kernels/data/shuffle_dataset_op.cc:193] Shuffle buffer filled.\n"
     ]
    },
    {
     "name": "stdout",
     "output_type": "stream",
     "text": [
      "449/449 [==============================] - 228s 508ms/step - loss: 0.8219 - accuracy: 0.6933 - val_loss: 1.0204 - val_accuracy: 0.6386\n",
      "Epoch 198/250\n"
     ]
    },
    {
     "name": "stderr",
     "output_type": "stream",
     "text": [
      "2022-03-03 12:21:51.738953: I tensorflow/core/kernels/data/shuffle_dataset_op.cc:143] Filling up shuffle buffer (this may take a while): 341 of 449\n",
      "2022-03-03 12:21:54.854890: I tensorflow/core/kernels/data/shuffle_dataset_op.cc:193] Shuffle buffer filled.\n"
     ]
    },
    {
     "name": "stdout",
     "output_type": "stream",
     "text": [
      "449/449 [==============================] - 228s 508ms/step - loss: 0.8191 - accuracy: 0.6950 - val_loss: 1.0016 - val_accuracy: 0.6424\n",
      "Epoch 199/250\n"
     ]
    },
    {
     "name": "stderr",
     "output_type": "stream",
     "text": [
      "2022-03-03 12:25:39.918551: I tensorflow/core/kernels/data/shuffle_dataset_op.cc:143] Filling up shuffle buffer (this may take a while): 345 of 449\n",
      "2022-03-03 12:25:42.878171: I tensorflow/core/kernels/data/shuffle_dataset_op.cc:193] Shuffle buffer filled.\n"
     ]
    },
    {
     "name": "stdout",
     "output_type": "stream",
     "text": [
      "449/449 [==============================] - 227s 506ms/step - loss: 0.8167 - accuracy: 0.6949 - val_loss: 0.9993 - val_accuracy: 0.6407\n",
      "Epoch 200/250\n"
     ]
    },
    {
     "name": "stderr",
     "output_type": "stream",
     "text": [
      "2022-03-03 12:29:27.056494: I tensorflow/core/kernels/data/shuffle_dataset_op.cc:143] Filling up shuffle buffer (this may take a while): 343 of 449\n",
      "2022-03-03 12:29:30.095182: I tensorflow/core/kernels/data/shuffle_dataset_op.cc:193] Shuffle buffer filled.\n"
     ]
    },
    {
     "name": "stdout",
     "output_type": "stream",
     "text": [
      "449/449 [==============================] - 227s 505ms/step - loss: 0.8178 - accuracy: 0.6959 - val_loss: 1.0131 - val_accuracy: 0.6371\n",
      "Epoch 201/250\n"
     ]
    },
    {
     "name": "stderr",
     "output_type": "stream",
     "text": [
      "2022-03-03 12:33:13.655053: I tensorflow/core/kernels/data/shuffle_dataset_op.cc:143] Filling up shuffle buffer (this may take a while): 345 of 449\n",
      "2022-03-03 12:33:16.626854: I tensorflow/core/kernels/data/shuffle_dataset_op.cc:193] Shuffle buffer filled.\n"
     ]
    },
    {
     "name": "stdout",
     "output_type": "stream",
     "text": [
      "449/449 [==============================] - 227s 507ms/step - loss: 0.8215 - accuracy: 0.6910 - val_loss: 0.9956 - val_accuracy: 0.6414\n",
      "Epoch 202/250\n"
     ]
    },
    {
     "name": "stderr",
     "output_type": "stream",
     "text": [
      "2022-03-03 12:37:01.081849: I tensorflow/core/kernels/data/shuffle_dataset_op.cc:143] Filling up shuffle buffer (this may take a while): 340 of 449\n",
      "2022-03-03 12:37:04.359449: I tensorflow/core/kernels/data/shuffle_dataset_op.cc:193] Shuffle buffer filled.\n"
     ]
    },
    {
     "name": "stdout",
     "output_type": "stream",
     "text": [
      "449/449 [==============================] - 228s 508ms/step - loss: 0.8189 - accuracy: 0.6900 - val_loss: 0.9927 - val_accuracy: 0.6466\n",
      "Epoch 203/250\n"
     ]
    },
    {
     "name": "stderr",
     "output_type": "stream",
     "text": [
      "2022-03-03 12:40:48.951761: I tensorflow/core/kernels/data/shuffle_dataset_op.cc:143] Filling up shuffle buffer (this may take a while): 340 of 449\n",
      "2022-03-03 12:40:52.103927: I tensorflow/core/kernels/data/shuffle_dataset_op.cc:193] Shuffle buffer filled.\n"
     ]
    },
    {
     "name": "stdout",
     "output_type": "stream",
     "text": [
      "449/449 [==============================] - 229s 510ms/step - loss: 0.8144 - accuracy: 0.6934 - val_loss: 1.0004 - val_accuracy: 0.6470\n",
      "Epoch 204/250\n"
     ]
    },
    {
     "name": "stderr",
     "output_type": "stream",
     "text": [
      "2022-03-03 12:44:37.821321: I tensorflow/core/kernels/data/shuffle_dataset_op.cc:143] Filling up shuffle buffer (this may take a while): 341 of 449\n",
      "2022-03-03 12:44:40.904626: I tensorflow/core/kernels/data/shuffle_dataset_op.cc:193] Shuffle buffer filled.\n"
     ]
    },
    {
     "name": "stdout",
     "output_type": "stream",
     "text": [
      "449/449 [==============================] - 228s 507ms/step - loss: 0.8219 - accuracy: 0.6925 - val_loss: 1.0052 - val_accuracy: 0.6422\n",
      "Epoch 205/250\n"
     ]
    },
    {
     "name": "stderr",
     "output_type": "stream",
     "text": [
      "2022-03-03 12:48:25.582796: I tensorflow/core/kernels/data/shuffle_dataset_op.cc:143] Filling up shuffle buffer (this may take a while): 344 of 449\n",
      "2022-03-03 12:48:28.599185: I tensorflow/core/kernels/data/shuffle_dataset_op.cc:193] Shuffle buffer filled.\n"
     ]
    },
    {
     "name": "stdout",
     "output_type": "stream",
     "text": [
      "449/449 [==============================] - 230s 512ms/step - loss: 0.8252 - accuracy: 0.6921 - val_loss: 1.0432 - val_accuracy: 0.6335\n",
      "Epoch 206/250\n"
     ]
    },
    {
     "name": "stderr",
     "output_type": "stream",
     "text": [
      "2022-03-03 12:52:15.684181: I tensorflow/core/kernels/data/shuffle_dataset_op.cc:143] Filling up shuffle buffer (this may take a while): 338 of 449\n",
      "2022-03-03 12:52:18.887947: I tensorflow/core/kernels/data/shuffle_dataset_op.cc:193] Shuffle buffer filled.\n"
     ]
    },
    {
     "name": "stdout",
     "output_type": "stream",
     "text": [
      "449/449 [==============================] - 231s 516ms/step - loss: 0.8170 - accuracy: 0.6947 - val_loss: 0.9994 - val_accuracy: 0.6434\n",
      "Epoch 207/250\n"
     ]
    },
    {
     "name": "stderr",
     "output_type": "stream",
     "text": [
      "2022-03-03 12:56:07.177510: I tensorflow/core/kernels/data/shuffle_dataset_op.cc:143] Filling up shuffle buffer (this may take a while): 345 of 449\n",
      "2022-03-03 12:56:10.182725: I tensorflow/core/kernels/data/shuffle_dataset_op.cc:193] Shuffle buffer filled.\n"
     ]
    },
    {
     "name": "stdout",
     "output_type": "stream",
     "text": [
      "449/449 [==============================] - 231s 515ms/step - loss: 0.8155 - accuracy: 0.6980 - val_loss: 1.0040 - val_accuracy: 0.6425\n",
      "Epoch 208/250\n"
     ]
    },
    {
     "name": "stderr",
     "output_type": "stream",
     "text": [
      "2022-03-03 12:59:58.364904: I tensorflow/core/kernels/data/shuffle_dataset_op.cc:143] Filling up shuffle buffer (this may take a while): 342 of 449\n",
      "2022-03-03 13:00:01.473120: I tensorflow/core/kernels/data/shuffle_dataset_op.cc:193] Shuffle buffer filled.\n"
     ]
    },
    {
     "name": "stdout",
     "output_type": "stream",
     "text": [
      "449/449 [==============================] - 229s 509ms/step - loss: 0.8143 - accuracy: 0.6936 - val_loss: 1.0028 - val_accuracy: 0.6428\n",
      "Epoch 209/250\n"
     ]
    },
    {
     "name": "stderr",
     "output_type": "stream",
     "text": [
      "2022-03-03 13:03:47.017911: I tensorflow/core/kernels/data/shuffle_dataset_op.cc:143] Filling up shuffle buffer (this may take a while): 347 of 449\n",
      "2022-03-03 13:03:49.953690: I tensorflow/core/kernels/data/shuffle_dataset_op.cc:193] Shuffle buffer filled.\n"
     ]
    },
    {
     "name": "stdout",
     "output_type": "stream",
     "text": [
      "449/449 [==============================] - 228s 508ms/step - loss: 0.8056 - accuracy: 0.6974 - val_loss: 1.0027 - val_accuracy: 0.6428\n",
      "Epoch 210/250\n"
     ]
    },
    {
     "name": "stderr",
     "output_type": "stream",
     "text": [
      "2022-03-03 13:07:35.077647: I tensorflow/core/kernels/data/shuffle_dataset_op.cc:143] Filling up shuffle buffer (this may take a while): 340 of 449\n",
      "2022-03-03 13:07:38.304483: I tensorflow/core/kernels/data/shuffle_dataset_op.cc:193] Shuffle buffer filled.\n"
     ]
    },
    {
     "name": "stdout",
     "output_type": "stream",
     "text": [
      "449/449 [==============================] - 229s 510ms/step - loss: 0.8148 - accuracy: 0.6954 - val_loss: 0.9988 - val_accuracy: 0.6474\n",
      "Epoch 211/250\n"
     ]
    },
    {
     "name": "stderr",
     "output_type": "stream",
     "text": [
      "2022-03-03 13:11:24.148190: I tensorflow/core/kernels/data/shuffle_dataset_op.cc:143] Filling up shuffle buffer (this may take a while): 343 of 449\n",
      "2022-03-03 13:11:27.206207: I tensorflow/core/kernels/data/shuffle_dataset_op.cc:193] Shuffle buffer filled.\n"
     ]
    },
    {
     "name": "stdout",
     "output_type": "stream",
     "text": [
      "449/449 [==============================] - 229s 509ms/step - loss: 0.8127 - accuracy: 0.6971 - val_loss: 1.0054 - val_accuracy: 0.6424\n",
      "Epoch 212/250\n"
     ]
    },
    {
     "name": "stderr",
     "output_type": "stream",
     "text": [
      "2022-03-03 13:15:12.667218: I tensorflow/core/kernels/data/shuffle_dataset_op.cc:143] Filling up shuffle buffer (this may take a while): 345 of 449\n",
      "2022-03-03 13:15:15.642294: I tensorflow/core/kernels/data/shuffle_dataset_op.cc:193] Shuffle buffer filled.\n"
     ]
    },
    {
     "name": "stdout",
     "output_type": "stream",
     "text": [
      "449/449 [==============================] - 228s 508ms/step - loss: 0.8067 - accuracy: 0.6980 - val_loss: 1.0255 - val_accuracy: 0.6335\n",
      "Epoch 213/250\n"
     ]
    },
    {
     "name": "stderr",
     "output_type": "stream",
     "text": [
      "2022-03-03 13:19:00.800268: I tensorflow/core/kernels/data/shuffle_dataset_op.cc:143] Filling up shuffle buffer (this may take a while): 344 of 449\n",
      "2022-03-03 13:19:03.820047: I tensorflow/core/kernels/data/shuffle_dataset_op.cc:193] Shuffle buffer filled.\n"
     ]
    },
    {
     "name": "stdout",
     "output_type": "stream",
     "text": [
      "449/449 [==============================] - 230s 512ms/step - loss: 0.8159 - accuracy: 0.6948 - val_loss: 1.0028 - val_accuracy: 0.6446\n",
      "Epoch 214/250\n"
     ]
    },
    {
     "name": "stderr",
     "output_type": "stream",
     "text": [
      "2022-03-03 13:22:50.714283: I tensorflow/core/kernels/data/shuffle_dataset_op.cc:143] Filling up shuffle buffer (this may take a while): 331 of 449\n",
      "2022-03-03 13:22:54.310103: I tensorflow/core/kernels/data/shuffle_dataset_op.cc:193] Shuffle buffer filled.\n"
     ]
    },
    {
     "name": "stdout",
     "output_type": "stream",
     "text": [
      "\r",
      "  1/449 [..............................] - ETA: 1:44:44"
     ]
    },
    {
     "ename": "KeyboardInterrupt",
     "evalue": "",
     "output_type": "error",
     "traceback": [
      "\u001b[0;31m---------------------------------------------------------------------------\u001b[0m",
      "\u001b[0;31mKeyboardInterrupt\u001b[0m                         Traceback (most recent call last)",
      "\u001b[0;32m/var/folders/9l/k6j31k710z57q2x__1_jhz4w0000gn/T/ipykernel_29476/1645700690.py\u001b[0m in \u001b[0;36m<module>\u001b[0;34m\u001b[0m\n\u001b[0;32m----> 1\u001b[0;31m \u001b[0mmodel\u001b[0m\u001b[0;34m.\u001b[0m\u001b[0mfit\u001b[0m\u001b[0;34m(\u001b[0m\u001b[0mtrain\u001b[0m\u001b[0;34m,\u001b[0m\u001b[0mepochs\u001b[0m\u001b[0;34m=\u001b[0m\u001b[0;36m250\u001b[0m\u001b[0;34m,\u001b[0m\u001b[0mvalidation_data\u001b[0m\u001b[0;34m=\u001b[0m\u001b[0mtest\u001b[0m\u001b[0;34m,\u001b[0m\u001b[0mverbose\u001b[0m\u001b[0;34m=\u001b[0m\u001b[0;36m1\u001b[0m\u001b[0;34m,\u001b[0m\u001b[0mclass_weight\u001b[0m\u001b[0;34m=\u001b[0m\u001b[0mclass_weights\u001b[0m\u001b[0;34m)\u001b[0m\u001b[0;34m\u001b[0m\u001b[0;34m\u001b[0m\u001b[0m\n\u001b[0m",
      "\u001b[0;32m~/opt/anaconda3/envs/tf/lib/python3.7/site-packages/tensorflow_core/python/keras/engine/training.py\u001b[0m in \u001b[0;36mfit\u001b[0;34m(self, x, y, batch_size, epochs, verbose, callbacks, validation_split, validation_data, shuffle, class_weight, sample_weight, initial_epoch, steps_per_epoch, validation_steps, validation_freq, max_queue_size, workers, use_multiprocessing, **kwargs)\u001b[0m\n\u001b[1;32m    726\u001b[0m         \u001b[0mmax_queue_size\u001b[0m\u001b[0;34m=\u001b[0m\u001b[0mmax_queue_size\u001b[0m\u001b[0;34m,\u001b[0m\u001b[0;34m\u001b[0m\u001b[0;34m\u001b[0m\u001b[0m\n\u001b[1;32m    727\u001b[0m         \u001b[0mworkers\u001b[0m\u001b[0;34m=\u001b[0m\u001b[0mworkers\u001b[0m\u001b[0;34m,\u001b[0m\u001b[0;34m\u001b[0m\u001b[0;34m\u001b[0m\u001b[0m\n\u001b[0;32m--> 728\u001b[0;31m         use_multiprocessing=use_multiprocessing)\n\u001b[0m\u001b[1;32m    729\u001b[0m \u001b[0;34m\u001b[0m\u001b[0m\n\u001b[1;32m    730\u001b[0m   def evaluate(self,\n",
      "\u001b[0;32m~/opt/anaconda3/envs/tf/lib/python3.7/site-packages/tensorflow_core/python/keras/engine/training_v2.py\u001b[0m in \u001b[0;36mfit\u001b[0;34m(self, model, x, y, batch_size, epochs, verbose, callbacks, validation_split, validation_data, shuffle, class_weight, sample_weight, initial_epoch, steps_per_epoch, validation_steps, validation_freq, **kwargs)\u001b[0m\n\u001b[1;32m    322\u001b[0m                 \u001b[0mmode\u001b[0m\u001b[0;34m=\u001b[0m\u001b[0mModeKeys\u001b[0m\u001b[0;34m.\u001b[0m\u001b[0mTRAIN\u001b[0m\u001b[0;34m,\u001b[0m\u001b[0;34m\u001b[0m\u001b[0;34m\u001b[0m\u001b[0m\n\u001b[1;32m    323\u001b[0m                 \u001b[0mtraining_context\u001b[0m\u001b[0;34m=\u001b[0m\u001b[0mtraining_context\u001b[0m\u001b[0;34m,\u001b[0m\u001b[0;34m\u001b[0m\u001b[0;34m\u001b[0m\u001b[0m\n\u001b[0;32m--> 324\u001b[0;31m                 total_epochs=epochs)\n\u001b[0m\u001b[1;32m    325\u001b[0m             \u001b[0mcbks\u001b[0m\u001b[0;34m.\u001b[0m\u001b[0mmake_logs\u001b[0m\u001b[0;34m(\u001b[0m\u001b[0mmodel\u001b[0m\u001b[0;34m,\u001b[0m \u001b[0mepoch_logs\u001b[0m\u001b[0;34m,\u001b[0m \u001b[0mtraining_result\u001b[0m\u001b[0;34m,\u001b[0m \u001b[0mModeKeys\u001b[0m\u001b[0;34m.\u001b[0m\u001b[0mTRAIN\u001b[0m\u001b[0;34m)\u001b[0m\u001b[0;34m\u001b[0m\u001b[0;34m\u001b[0m\u001b[0m\n\u001b[1;32m    326\u001b[0m \u001b[0;34m\u001b[0m\u001b[0m\n",
      "\u001b[0;32m~/opt/anaconda3/envs/tf/lib/python3.7/site-packages/tensorflow_core/python/keras/engine/training_v2.py\u001b[0m in \u001b[0;36mrun_one_epoch\u001b[0;34m(model, iterator, execution_function, dataset_size, batch_size, strategy, steps_per_epoch, num_samples, mode, training_context, total_epochs)\u001b[0m\n\u001b[1;32m    121\u001b[0m         step=step, mode=mode, size=current_batch_size) as batch_logs:\n\u001b[1;32m    122\u001b[0m       \u001b[0;32mtry\u001b[0m\u001b[0;34m:\u001b[0m\u001b[0;34m\u001b[0m\u001b[0;34m\u001b[0m\u001b[0m\n\u001b[0;32m--> 123\u001b[0;31m         \u001b[0mbatch_outs\u001b[0m \u001b[0;34m=\u001b[0m \u001b[0mexecution_function\u001b[0m\u001b[0;34m(\u001b[0m\u001b[0miterator\u001b[0m\u001b[0;34m)\u001b[0m\u001b[0;34m\u001b[0m\u001b[0;34m\u001b[0m\u001b[0m\n\u001b[0m\u001b[1;32m    124\u001b[0m       \u001b[0;32mexcept\u001b[0m \u001b[0;34m(\u001b[0m\u001b[0mStopIteration\u001b[0m\u001b[0;34m,\u001b[0m \u001b[0merrors\u001b[0m\u001b[0;34m.\u001b[0m\u001b[0mOutOfRangeError\u001b[0m\u001b[0;34m)\u001b[0m\u001b[0;34m:\u001b[0m\u001b[0;34m\u001b[0m\u001b[0;34m\u001b[0m\u001b[0m\n\u001b[1;32m    125\u001b[0m         \u001b[0;31m# TODO(kaftan): File bug about tf function and errors.OutOfRangeError?\u001b[0m\u001b[0;34m\u001b[0m\u001b[0;34m\u001b[0m\u001b[0;34m\u001b[0m\u001b[0m\n",
      "\u001b[0;32m~/opt/anaconda3/envs/tf/lib/python3.7/site-packages/tensorflow_core/python/keras/engine/training_v2_utils.py\u001b[0m in \u001b[0;36mexecution_function\u001b[0;34m(input_fn)\u001b[0m\n\u001b[1;32m     84\u001b[0m     \u001b[0;31m# `numpy` translates Tensors to values in Eager mode.\u001b[0m\u001b[0;34m\u001b[0m\u001b[0;34m\u001b[0m\u001b[0;34m\u001b[0m\u001b[0m\n\u001b[1;32m     85\u001b[0m     return nest.map_structure(_non_none_constant_value,\n\u001b[0;32m---> 86\u001b[0;31m                               distributed_function(input_fn))\n\u001b[0m\u001b[1;32m     87\u001b[0m \u001b[0;34m\u001b[0m\u001b[0m\n\u001b[1;32m     88\u001b[0m   \u001b[0;32mreturn\u001b[0m \u001b[0mexecution_function\u001b[0m\u001b[0;34m\u001b[0m\u001b[0;34m\u001b[0m\u001b[0m\n",
      "\u001b[0;32m~/opt/anaconda3/envs/tf/lib/python3.7/site-packages/tensorflow_core/python/eager/def_function.py\u001b[0m in \u001b[0;36m__call__\u001b[0;34m(self, *args, **kwds)\u001b[0m\n\u001b[1;32m    455\u001b[0m \u001b[0;34m\u001b[0m\u001b[0m\n\u001b[1;32m    456\u001b[0m     \u001b[0mtracing_count\u001b[0m \u001b[0;34m=\u001b[0m \u001b[0mself\u001b[0m\u001b[0;34m.\u001b[0m\u001b[0m_get_tracing_count\u001b[0m\u001b[0;34m(\u001b[0m\u001b[0;34m)\u001b[0m\u001b[0;34m\u001b[0m\u001b[0;34m\u001b[0m\u001b[0m\n\u001b[0;32m--> 457\u001b[0;31m     \u001b[0mresult\u001b[0m \u001b[0;34m=\u001b[0m \u001b[0mself\u001b[0m\u001b[0;34m.\u001b[0m\u001b[0m_call\u001b[0m\u001b[0;34m(\u001b[0m\u001b[0;34m*\u001b[0m\u001b[0margs\u001b[0m\u001b[0;34m,\u001b[0m \u001b[0;34m**\u001b[0m\u001b[0mkwds\u001b[0m\u001b[0;34m)\u001b[0m\u001b[0;34m\u001b[0m\u001b[0;34m\u001b[0m\u001b[0m\n\u001b[0m\u001b[1;32m    458\u001b[0m     \u001b[0;32mif\u001b[0m \u001b[0mtracing_count\u001b[0m \u001b[0;34m==\u001b[0m \u001b[0mself\u001b[0m\u001b[0;34m.\u001b[0m\u001b[0m_get_tracing_count\u001b[0m\u001b[0;34m(\u001b[0m\u001b[0;34m)\u001b[0m\u001b[0;34m:\u001b[0m\u001b[0;34m\u001b[0m\u001b[0;34m\u001b[0m\u001b[0m\n\u001b[1;32m    459\u001b[0m       \u001b[0mself\u001b[0m\u001b[0;34m.\u001b[0m\u001b[0m_call_counter\u001b[0m\u001b[0;34m.\u001b[0m\u001b[0mcalled_without_tracing\u001b[0m\u001b[0;34m(\u001b[0m\u001b[0;34m)\u001b[0m\u001b[0;34m\u001b[0m\u001b[0;34m\u001b[0m\u001b[0m\n",
      "\u001b[0;32m~/opt/anaconda3/envs/tf/lib/python3.7/site-packages/tensorflow_core/python/eager/def_function.py\u001b[0m in \u001b[0;36m_call\u001b[0;34m(self, *args, **kwds)\u001b[0m\n\u001b[1;32m    485\u001b[0m       \u001b[0;31m# In this case we have created variables on the first call, so we run the\u001b[0m\u001b[0;34m\u001b[0m\u001b[0;34m\u001b[0m\u001b[0;34m\u001b[0m\u001b[0m\n\u001b[1;32m    486\u001b[0m       \u001b[0;31m# defunned version which is guaranteed to never create variables.\u001b[0m\u001b[0;34m\u001b[0m\u001b[0;34m\u001b[0m\u001b[0;34m\u001b[0m\u001b[0m\n\u001b[0;32m--> 487\u001b[0;31m       \u001b[0;32mreturn\u001b[0m \u001b[0mself\u001b[0m\u001b[0;34m.\u001b[0m\u001b[0m_stateless_fn\u001b[0m\u001b[0;34m(\u001b[0m\u001b[0;34m*\u001b[0m\u001b[0margs\u001b[0m\u001b[0;34m,\u001b[0m \u001b[0;34m**\u001b[0m\u001b[0mkwds\u001b[0m\u001b[0;34m)\u001b[0m  \u001b[0;31m# pylint: disable=not-callable\u001b[0m\u001b[0;34m\u001b[0m\u001b[0;34m\u001b[0m\u001b[0m\n\u001b[0m\u001b[1;32m    488\u001b[0m     \u001b[0;32melif\u001b[0m \u001b[0mself\u001b[0m\u001b[0;34m.\u001b[0m\u001b[0m_stateful_fn\u001b[0m \u001b[0;32mis\u001b[0m \u001b[0;32mnot\u001b[0m \u001b[0;32mNone\u001b[0m\u001b[0;34m:\u001b[0m\u001b[0;34m\u001b[0m\u001b[0;34m\u001b[0m\u001b[0m\n\u001b[1;32m    489\u001b[0m       \u001b[0;31m# Release the lock early so that multiple threads can perform the call\u001b[0m\u001b[0;34m\u001b[0m\u001b[0;34m\u001b[0m\u001b[0;34m\u001b[0m\u001b[0m\n",
      "\u001b[0;32m~/opt/anaconda3/envs/tf/lib/python3.7/site-packages/tensorflow_core/python/eager/function.py\u001b[0m in \u001b[0;36m__call__\u001b[0;34m(self, *args, **kwargs)\u001b[0m\n\u001b[1;32m   1821\u001b[0m     \u001b[0;34m\"\"\"Calls a graph function specialized to the inputs.\"\"\"\u001b[0m\u001b[0;34m\u001b[0m\u001b[0;34m\u001b[0m\u001b[0m\n\u001b[1;32m   1822\u001b[0m     \u001b[0mgraph_function\u001b[0m\u001b[0;34m,\u001b[0m \u001b[0margs\u001b[0m\u001b[0;34m,\u001b[0m \u001b[0mkwargs\u001b[0m \u001b[0;34m=\u001b[0m \u001b[0mself\u001b[0m\u001b[0;34m.\u001b[0m\u001b[0m_maybe_define_function\u001b[0m\u001b[0;34m(\u001b[0m\u001b[0margs\u001b[0m\u001b[0;34m,\u001b[0m \u001b[0mkwargs\u001b[0m\u001b[0;34m)\u001b[0m\u001b[0;34m\u001b[0m\u001b[0;34m\u001b[0m\u001b[0m\n\u001b[0;32m-> 1823\u001b[0;31m     \u001b[0;32mreturn\u001b[0m \u001b[0mgraph_function\u001b[0m\u001b[0;34m.\u001b[0m\u001b[0m_filtered_call\u001b[0m\u001b[0;34m(\u001b[0m\u001b[0margs\u001b[0m\u001b[0;34m,\u001b[0m \u001b[0mkwargs\u001b[0m\u001b[0;34m)\u001b[0m  \u001b[0;31m# pylint: disable=protected-access\u001b[0m\u001b[0;34m\u001b[0m\u001b[0;34m\u001b[0m\u001b[0m\n\u001b[0m\u001b[1;32m   1824\u001b[0m \u001b[0;34m\u001b[0m\u001b[0m\n\u001b[1;32m   1825\u001b[0m   \u001b[0;34m@\u001b[0m\u001b[0mproperty\u001b[0m\u001b[0;34m\u001b[0m\u001b[0;34m\u001b[0m\u001b[0m\n",
      "\u001b[0;32m~/opt/anaconda3/envs/tf/lib/python3.7/site-packages/tensorflow_core/python/eager/function.py\u001b[0m in \u001b[0;36m_filtered_call\u001b[0;34m(self, args, kwargs)\u001b[0m\n\u001b[1;32m   1139\u001b[0m          if isinstance(t, (ops.Tensor,\n\u001b[1;32m   1140\u001b[0m                            resource_variable_ops.BaseResourceVariable))),\n\u001b[0;32m-> 1141\u001b[0;31m         self.captured_inputs)\n\u001b[0m\u001b[1;32m   1142\u001b[0m \u001b[0;34m\u001b[0m\u001b[0m\n\u001b[1;32m   1143\u001b[0m   \u001b[0;32mdef\u001b[0m \u001b[0m_call_flat\u001b[0m\u001b[0;34m(\u001b[0m\u001b[0mself\u001b[0m\u001b[0;34m,\u001b[0m \u001b[0margs\u001b[0m\u001b[0;34m,\u001b[0m \u001b[0mcaptured_inputs\u001b[0m\u001b[0;34m,\u001b[0m \u001b[0mcancellation_manager\u001b[0m\u001b[0;34m=\u001b[0m\u001b[0;32mNone\u001b[0m\u001b[0;34m)\u001b[0m\u001b[0;34m:\u001b[0m\u001b[0;34m\u001b[0m\u001b[0;34m\u001b[0m\u001b[0m\n",
      "\u001b[0;32m~/opt/anaconda3/envs/tf/lib/python3.7/site-packages/tensorflow_core/python/eager/function.py\u001b[0m in \u001b[0;36m_call_flat\u001b[0;34m(self, args, captured_inputs, cancellation_manager)\u001b[0m\n\u001b[1;32m   1222\u001b[0m     \u001b[0;32mif\u001b[0m \u001b[0mexecuting_eagerly\u001b[0m\u001b[0;34m:\u001b[0m\u001b[0;34m\u001b[0m\u001b[0;34m\u001b[0m\u001b[0m\n\u001b[1;32m   1223\u001b[0m       flat_outputs = forward_function.call(\n\u001b[0;32m-> 1224\u001b[0;31m           ctx, args, cancellation_manager=cancellation_manager)\n\u001b[0m\u001b[1;32m   1225\u001b[0m     \u001b[0;32melse\u001b[0m\u001b[0;34m:\u001b[0m\u001b[0;34m\u001b[0m\u001b[0;34m\u001b[0m\u001b[0m\n\u001b[1;32m   1226\u001b[0m       \u001b[0mgradient_name\u001b[0m \u001b[0;34m=\u001b[0m \u001b[0mself\u001b[0m\u001b[0;34m.\u001b[0m\u001b[0m_delayed_rewrite_functions\u001b[0m\u001b[0;34m.\u001b[0m\u001b[0mregister\u001b[0m\u001b[0;34m(\u001b[0m\u001b[0;34m)\u001b[0m\u001b[0;34m\u001b[0m\u001b[0;34m\u001b[0m\u001b[0m\n",
      "\u001b[0;32m~/opt/anaconda3/envs/tf/lib/python3.7/site-packages/tensorflow_core/python/eager/function.py\u001b[0m in \u001b[0;36mcall\u001b[0;34m(self, ctx, args, cancellation_manager)\u001b[0m\n\u001b[1;32m    509\u001b[0m               \u001b[0minputs\u001b[0m\u001b[0;34m=\u001b[0m\u001b[0margs\u001b[0m\u001b[0;34m,\u001b[0m\u001b[0;34m\u001b[0m\u001b[0;34m\u001b[0m\u001b[0m\n\u001b[1;32m    510\u001b[0m               \u001b[0mattrs\u001b[0m\u001b[0;34m=\u001b[0m\u001b[0;34m(\u001b[0m\u001b[0;34m\"executor_type\"\u001b[0m\u001b[0;34m,\u001b[0m \u001b[0mexecutor_type\u001b[0m\u001b[0;34m,\u001b[0m \u001b[0;34m\"config_proto\"\u001b[0m\u001b[0;34m,\u001b[0m \u001b[0mconfig\u001b[0m\u001b[0;34m)\u001b[0m\u001b[0;34m,\u001b[0m\u001b[0;34m\u001b[0m\u001b[0;34m\u001b[0m\u001b[0m\n\u001b[0;32m--> 511\u001b[0;31m               ctx=ctx)\n\u001b[0m\u001b[1;32m    512\u001b[0m         \u001b[0;32melse\u001b[0m\u001b[0;34m:\u001b[0m\u001b[0;34m\u001b[0m\u001b[0;34m\u001b[0m\u001b[0m\n\u001b[1;32m    513\u001b[0m           outputs = execute.execute_with_cancellation(\n",
      "\u001b[0;32m~/opt/anaconda3/envs/tf/lib/python3.7/site-packages/tensorflow_core/python/eager/execute.py\u001b[0m in \u001b[0;36mquick_execute\u001b[0;34m(op_name, num_outputs, inputs, attrs, ctx, name)\u001b[0m\n\u001b[1;32m     59\u001b[0m     tensors = pywrap_tensorflow.TFE_Py_Execute(ctx._handle, device_name,\n\u001b[1;32m     60\u001b[0m                                                \u001b[0mop_name\u001b[0m\u001b[0;34m,\u001b[0m \u001b[0minputs\u001b[0m\u001b[0;34m,\u001b[0m \u001b[0mattrs\u001b[0m\u001b[0;34m,\u001b[0m\u001b[0;34m\u001b[0m\u001b[0;34m\u001b[0m\u001b[0m\n\u001b[0;32m---> 61\u001b[0;31m                                                num_outputs)\n\u001b[0m\u001b[1;32m     62\u001b[0m   \u001b[0;32mexcept\u001b[0m \u001b[0mcore\u001b[0m\u001b[0;34m.\u001b[0m\u001b[0m_NotOkStatusException\u001b[0m \u001b[0;32mas\u001b[0m \u001b[0me\u001b[0m\u001b[0;34m:\u001b[0m\u001b[0;34m\u001b[0m\u001b[0;34m\u001b[0m\u001b[0m\n\u001b[1;32m     63\u001b[0m     \u001b[0;32mif\u001b[0m \u001b[0mname\u001b[0m \u001b[0;32mis\u001b[0m \u001b[0;32mnot\u001b[0m \u001b[0;32mNone\u001b[0m\u001b[0;34m:\u001b[0m\u001b[0;34m\u001b[0m\u001b[0;34m\u001b[0m\u001b[0m\n",
      "\u001b[0;31mKeyboardInterrupt\u001b[0m: "
     ]
    }
   ],
   "source": [
    "model.fit(train,epochs=250,validation_data=test,verbose=1,class_weight=class_weights)"
   ]
  },
  {
   "cell_type": "code",
   "execution_count": 10,
   "id": "a0c7565d",
   "metadata": {},
   "outputs": [
    {
     "name": "stdout",
     "output_type": "stream",
     "text": [
      "Epoch 1/50\n",
      "449/449 [==============================] - 30s 68ms/step - loss: 1.0376 - accuracy: 0.5715 - val_loss: 1.0742 - val_accuracy: 0.5946\n",
      "Epoch 2/50\n",
      "449/449 [==============================] - 30s 68ms/step - loss: 1.0296 - accuracy: 0.5780 - val_loss: 1.0755 - val_accuracy: 0.5936\n",
      "Epoch 3/50\n",
      "449/449 [==============================] - 30s 67ms/step - loss: 1.0160 - accuracy: 0.5796 - val_loss: 1.0773 - val_accuracy: 0.5982\n",
      "Epoch 4/50\n",
      "449/449 [==============================] - 30s 68ms/step - loss: 1.0238 - accuracy: 0.5783 - val_loss: 1.0858 - val_accuracy: 0.5924\n",
      "Epoch 5/50\n",
      "449/449 [==============================] - 30s 67ms/step - loss: 1.0288 - accuracy: 0.5765 - val_loss: 1.0864 - val_accuracy: 0.5918\n",
      "Epoch 6/50\n",
      "449/449 [==============================] - 31s 69ms/step - loss: 1.0296 - accuracy: 0.5766 - val_loss: 1.0837 - val_accuracy: 0.5978\n",
      "Epoch 7/50\n",
      "449/449 [==============================] - 30s 68ms/step - loss: 1.0158 - accuracy: 0.5779 - val_loss: 1.0893 - val_accuracy: 0.5907\n",
      "Epoch 8/50\n",
      "449/449 [==============================] - 31s 68ms/step - loss: 1.0141 - accuracy: 0.5786 - val_loss: 1.0605 - val_accuracy: 0.6016\n",
      "Epoch 9/50\n",
      "449/449 [==============================] - 30s 68ms/step - loss: 1.0176 - accuracy: 0.5825 - val_loss: 1.0777 - val_accuracy: 0.5993\n",
      "Epoch 10/50\n",
      "449/449 [==============================] - 31s 68ms/step - loss: 1.0047 - accuracy: 0.5791 - val_loss: 1.0629 - val_accuracy: 0.6006\n",
      "Epoch 11/50\n",
      "449/449 [==============================] - 30s 68ms/step - loss: 1.0082 - accuracy: 0.5793 - val_loss: 1.0736 - val_accuracy: 0.5956\n",
      "Epoch 12/50\n",
      "449/449 [==============================] - 30s 68ms/step - loss: 1.0126 - accuracy: 0.5845 - val_loss: 1.0618 - val_accuracy: 0.6013\n",
      "Epoch 13/50\n",
      "449/449 [==============================] - 31s 68ms/step - loss: 1.0169 - accuracy: 0.5782 - val_loss: 1.0608 - val_accuracy: 0.6002\n",
      "Epoch 14/50\n",
      "449/449 [==============================] - 30s 67ms/step - loss: 1.0110 - accuracy: 0.5856 - val_loss: 1.0783 - val_accuracy: 0.5985\n",
      "Epoch 15/50\n",
      "449/449 [==============================] - 31s 68ms/step - loss: 1.0066 - accuracy: 0.5853 - val_loss: 1.1003 - val_accuracy: 0.5890\n",
      "Epoch 16/50\n",
      "449/449 [==============================] - 31s 69ms/step - loss: 1.0072 - accuracy: 0.5810 - val_loss: 1.0646 - val_accuracy: 0.6013\n",
      "Epoch 17/50\n",
      "449/449 [==============================] - 31s 68ms/step - loss: 1.0085 - accuracy: 0.5870 - val_loss: 1.0833 - val_accuracy: 0.5954\n",
      "Epoch 18/50\n",
      "449/449 [==============================] - 30s 68ms/step - loss: 1.0067 - accuracy: 0.5835 - val_loss: 1.0732 - val_accuracy: 0.6006\n",
      "Epoch 19/50\n",
      "449/449 [==============================] - 31s 68ms/step - loss: 0.9999 - accuracy: 0.5859 - val_loss: 1.0762 - val_accuracy: 0.5975\n",
      "Epoch 20/50\n",
      "449/449 [==============================] - 30s 68ms/step - loss: 0.9930 - accuracy: 0.5898 - val_loss: 1.1445 - val_accuracy: 0.5660\n",
      "Epoch 21/50\n",
      "449/449 [==============================] - 30s 68ms/step - loss: 0.9932 - accuracy: 0.5879 - val_loss: 1.0555 - val_accuracy: 0.6028\n",
      "Epoch 22/50\n",
      "449/449 [==============================] - 31s 68ms/step - loss: 0.9935 - accuracy: 0.5876 - val_loss: 1.0661 - val_accuracy: 0.6007\n",
      "Epoch 23/50\n",
      "449/449 [==============================] - 31s 68ms/step - loss: 0.9877 - accuracy: 0.5893 - val_loss: 1.0689 - val_accuracy: 0.5950\n",
      "Epoch 24/50\n",
      "449/449 [==============================] - 31s 69ms/step - loss: 0.9872 - accuracy: 0.5926 - val_loss: 1.0527 - val_accuracy: 0.6030\n",
      "Epoch 25/50\n",
      "449/449 [==============================] - 31s 68ms/step - loss: 0.9998 - accuracy: 0.5865 - val_loss: 1.0510 - val_accuracy: 0.6032\n",
      "Epoch 26/50\n",
      "449/449 [==============================] - 31s 68ms/step - loss: 0.9838 - accuracy: 0.5929 - val_loss: 1.0653 - val_accuracy: 0.6021\n",
      "Epoch 27/50\n",
      "449/449 [==============================] - 31s 68ms/step - loss: 0.9824 - accuracy: 0.5906 - val_loss: 1.0440 - val_accuracy: 0.6112\n",
      "Epoch 28/50\n",
      "449/449 [==============================] - 31s 70ms/step - loss: 0.9968 - accuracy: 0.5894 - val_loss: 1.0504 - val_accuracy: 0.6076\n",
      "Epoch 29/50\n",
      "449/449 [==============================] - 31s 68ms/step - loss: 0.9840 - accuracy: 0.5907 - val_loss: 1.0546 - val_accuracy: 0.6035\n",
      "Epoch 30/50\n",
      "449/449 [==============================] - 31s 68ms/step - loss: 0.9882 - accuracy: 0.5903 - val_loss: 1.0473 - val_accuracy: 0.6041\n",
      "Epoch 31/50\n",
      "449/449 [==============================] - 30s 68ms/step - loss: 0.9887 - accuracy: 0.5903 - val_loss: 1.0996 - val_accuracy: 0.5885\n",
      "Epoch 32/50\n",
      "449/449 [==============================] - 30s 68ms/step - loss: 0.9760 - accuracy: 0.5912 - val_loss: 1.0436 - val_accuracy: 0.6078\n",
      "Epoch 33/50\n",
      "449/449 [==============================] - 30s 68ms/step - loss: 0.9770 - accuracy: 0.5942 - val_loss: 1.0545 - val_accuracy: 0.6037\n",
      "Epoch 34/50\n",
      "449/449 [==============================] - 30s 68ms/step - loss: 0.9756 - accuracy: 0.5959 - val_loss: 1.0543 - val_accuracy: 0.6063\n",
      "Epoch 35/50\n",
      "449/449 [==============================] - 31s 70ms/step - loss: 0.9733 - accuracy: 0.5940 - val_loss: 1.0485 - val_accuracy: 0.6095\n",
      "Epoch 36/50\n",
      "449/449 [==============================] - 31s 68ms/step - loss: 0.9855 - accuracy: 0.5920 - val_loss: 1.0553 - val_accuracy: 0.6013\n",
      "Epoch 37/50\n",
      "449/449 [==============================] - 31s 68ms/step - loss: 0.9771 - accuracy: 0.5994 - val_loss: 1.0450 - val_accuracy: 0.6052\n",
      "Epoch 38/50\n",
      "449/449 [==============================] - 31s 68ms/step - loss: 0.9680 - accuracy: 0.5966 - val_loss: 1.0379 - val_accuracy: 0.6070\n",
      "Epoch 39/50\n",
      "449/449 [==============================] - 31s 68ms/step - loss: 0.9698 - accuracy: 0.5984 - val_loss: 1.0447 - val_accuracy: 0.6073\n",
      "Epoch 40/50\n",
      "449/449 [==============================] - 31s 68ms/step - loss: 0.9716 - accuracy: 0.5995 - val_loss: 1.0352 - val_accuracy: 0.6077\n",
      "Epoch 41/50\n",
      "449/449 [==============================] - 31s 68ms/step - loss: 0.9649 - accuracy: 0.6010 - val_loss: 1.0689 - val_accuracy: 0.5981\n",
      "Epoch 42/50\n",
      "449/449 [==============================] - 31s 69ms/step - loss: 0.9626 - accuracy: 0.6008 - val_loss: 1.0253 - val_accuracy: 0.6140\n",
      "Epoch 43/50\n",
      "449/449 [==============================] - 31s 69ms/step - loss: 0.9599 - accuracy: 0.5991 - val_loss: 1.0699 - val_accuracy: 0.5985\n",
      "Epoch 44/50\n",
      "449/449 [==============================] - 30s 68ms/step - loss: 0.9567 - accuracy: 0.6008 - val_loss: 1.0346 - val_accuracy: 0.6138\n",
      "Epoch 45/50\n",
      "449/449 [==============================] - 31s 68ms/step - loss: 0.9518 - accuracy: 0.6027 - val_loss: 1.0320 - val_accuracy: 0.6109\n",
      "Epoch 46/50\n",
      "449/449 [==============================] - 31s 68ms/step - loss: 0.9532 - accuracy: 0.5988 - val_loss: 1.0669 - val_accuracy: 0.5968\n",
      "Epoch 47/50\n",
      "449/449 [==============================] - 31s 68ms/step - loss: 0.9600 - accuracy: 0.6032 - val_loss: 1.0519 - val_accuracy: 0.6043\n",
      "Epoch 48/50\n",
      "449/449 [==============================] - 31s 68ms/step - loss: 0.9684 - accuracy: 0.5995 - val_loss: 1.0512 - val_accuracy: 0.6020\n",
      "Epoch 49/50\n",
      "449/449 [==============================] - 31s 68ms/step - loss: 0.9597 - accuracy: 0.5985 - val_loss: 1.0773 - val_accuracy: 0.5963\n",
      "Epoch 50/50\n",
      "449/449 [==============================] - 30s 67ms/step - loss: 0.9593 - accuracy: 0.6026 - val_loss: 1.0722 - val_accuracy: 0.5979\n"
     ]
    },
    {
     "data": {
      "text/plain": [
       "<keras.callbacks.History at 0x2843a135040>"
      ]
     },
     "execution_count": 10,
     "metadata": {},
     "output_type": "execute_result"
    }
   ],
   "source": [
    "model.fit(train,epochs=50,validation_data=test,verbose=1,class_weight=class_weights)"
   ]
  },
  {
   "cell_type": "code",
   "execution_count": 11,
   "id": "29995242",
   "metadata": {},
   "outputs": [
    {
     "name": "stdout",
     "output_type": "stream",
     "text": [
      "Epoch 1/50\n",
      "449/449 [==============================] - 40s 89ms/step - loss: 0.9619 - accuracy: 0.6017 - val_loss: 1.0459 - val_accuracy: 0.6055\n",
      "Epoch 2/50\n",
      "449/449 [==============================] - 31s 69ms/step - loss: 0.9526 - accuracy: 0.6019 - val_loss: 1.0316 - val_accuracy: 0.6106\n",
      "Epoch 3/50\n",
      "449/449 [==============================] - 30s 68ms/step - loss: 0.9518 - accuracy: 0.6022 - val_loss: 1.0758 - val_accuracy: 0.6006\n",
      "Epoch 4/50\n",
      "449/449 [==============================] - 30s 67ms/step - loss: 0.9521 - accuracy: 0.6031 - val_loss: 1.0620 - val_accuracy: 0.6006\n",
      "Epoch 5/50\n",
      "449/449 [==============================] - 31s 68ms/step - loss: 0.9462 - accuracy: 0.6061 - val_loss: 1.0401 - val_accuracy: 0.6103\n",
      "Epoch 6/50\n",
      "449/449 [==============================] - 31s 69ms/step - loss: 0.9469 - accuracy: 0.6059 - val_loss: 1.0418 - val_accuracy: 0.6076\n",
      "Epoch 7/50\n",
      "449/449 [==============================] - 30s 67ms/step - loss: 0.9452 - accuracy: 0.6041 - val_loss: 1.0821 - val_accuracy: 0.5972\n",
      "Epoch 8/50\n",
      "449/449 [==============================] - 30s 67ms/step - loss: 0.9355 - accuracy: 0.6107 - val_loss: 1.0608 - val_accuracy: 0.6025\n",
      "Epoch 9/50\n",
      "449/449 [==============================] - 30s 68ms/step - loss: 0.9396 - accuracy: 0.6117 - val_loss: 1.0378 - val_accuracy: 0.6120\n",
      "Epoch 10/50\n",
      "449/449 [==============================] - 30s 67ms/step - loss: 0.9443 - accuracy: 0.6067 - val_loss: 1.0523 - val_accuracy: 0.6046\n",
      "Epoch 11/50\n",
      "449/449 [==============================] - 30s 67ms/step - loss: 0.9429 - accuracy: 0.6079 - val_loss: 1.0504 - val_accuracy: 0.6078\n",
      "Epoch 12/50\n",
      "449/449 [==============================] - 31s 70ms/step - loss: 0.9377 - accuracy: 0.6088 - val_loss: 1.0281 - val_accuracy: 0.6098\n",
      "Epoch 13/50\n",
      "449/449 [==============================] - 31s 69ms/step - loss: 0.9351 - accuracy: 0.6105 - val_loss: 1.0522 - val_accuracy: 0.6069\n",
      "Epoch 14/50\n",
      "449/449 [==============================] - 30s 67ms/step - loss: 0.9420 - accuracy: 0.6055 - val_loss: 1.0258 - val_accuracy: 0.6151\n",
      "Epoch 15/50\n",
      "449/449 [==============================] - 30s 67ms/step - loss: 0.9352 - accuracy: 0.6105 - val_loss: 1.0325 - val_accuracy: 0.6159\n",
      "Epoch 16/50\n",
      "449/449 [==============================] - 30s 67ms/step - loss: 0.9307 - accuracy: 0.6109 - val_loss: 1.0285 - val_accuracy: 0.6167\n",
      "Epoch 17/50\n",
      "449/449 [==============================] - 30s 67ms/step - loss: 0.9445 - accuracy: 0.6081 - val_loss: 1.0721 - val_accuracy: 0.5972\n",
      "Epoch 18/50\n",
      "449/449 [==============================] - 30s 68ms/step - loss: 0.9382 - accuracy: 0.6102 - val_loss: 1.0461 - val_accuracy: 0.6063\n",
      "Epoch 19/50\n",
      "449/449 [==============================] - 30s 67ms/step - loss: 0.9283 - accuracy: 0.6114 - val_loss: 1.0582 - val_accuracy: 0.6014\n",
      "Epoch 20/50\n",
      "449/449 [==============================] - 30s 67ms/step - loss: 0.9356 - accuracy: 0.6096 - val_loss: 1.0327 - val_accuracy: 0.6128\n",
      "Epoch 21/50\n",
      "449/449 [==============================] - 30s 67ms/step - loss: 0.9321 - accuracy: 0.6136 - val_loss: 1.0495 - val_accuracy: 0.6084\n",
      "Epoch 22/50\n",
      "449/449 [==============================] - 30s 68ms/step - loss: 0.9281 - accuracy: 0.6095 - val_loss: 1.0419 - val_accuracy: 0.6108\n",
      "Epoch 23/50\n",
      "449/449 [==============================] - 31s 68ms/step - loss: 0.9299 - accuracy: 0.6119 - val_loss: 1.0380 - val_accuracy: 0.6099\n",
      "Epoch 24/50\n",
      "449/449 [==============================] - 30s 67ms/step - loss: 0.9215 - accuracy: 0.6142 - val_loss: 1.0423 - val_accuracy: 0.6092\n",
      "Epoch 25/50\n",
      "449/449 [==============================] - 30s 68ms/step - loss: 0.9299 - accuracy: 0.6120 - val_loss: 1.0209 - val_accuracy: 0.6205\n",
      "Epoch 26/50\n",
      "449/449 [==============================] - 31s 68ms/step - loss: 0.9278 - accuracy: 0.6125 - val_loss: 1.0574 - val_accuracy: 0.6063\n",
      "Epoch 27/50\n",
      "449/449 [==============================] - 31s 69ms/step - loss: 0.9283 - accuracy: 0.6147 - val_loss: 1.0386 - val_accuracy: 0.6113\n",
      "Epoch 28/50\n",
      "449/449 [==============================] - 30s 67ms/step - loss: 0.9190 - accuracy: 0.6139 - val_loss: 1.0395 - val_accuracy: 0.6140\n",
      "Epoch 29/50\n",
      "449/449 [==============================] - 31s 68ms/step - loss: 0.9337 - accuracy: 0.6120 - val_loss: 1.0304 - val_accuracy: 0.6116\n",
      "Epoch 30/50\n",
      "449/449 [==============================] - 30s 68ms/step - loss: 0.9357 - accuracy: 0.6121 - val_loss: 1.0351 - val_accuracy: 0.6123\n",
      "Epoch 31/50\n",
      "449/449 [==============================] - 30s 68ms/step - loss: 0.9312 - accuracy: 0.6127 - val_loss: 1.0555 - val_accuracy: 0.6087\n",
      "Epoch 32/50\n",
      "449/449 [==============================] - 30s 67ms/step - loss: 0.9173 - accuracy: 0.6149 - val_loss: 1.0304 - val_accuracy: 0.6152\n",
      "Epoch 33/50\n",
      "449/449 [==============================] - 32s 71ms/step - loss: 0.9211 - accuracy: 0.6132 - val_loss: 1.0589 - val_accuracy: 0.6059\n",
      "Epoch 34/50\n",
      "449/449 [==============================] - 32s 70ms/step - loss: 0.9136 - accuracy: 0.6174 - val_loss: 1.0340 - val_accuracy: 0.6134\n",
      "Epoch 35/50\n",
      "449/449 [==============================] - 31s 69ms/step - loss: 0.9199 - accuracy: 0.6135 - val_loss: 1.0236 - val_accuracy: 0.6134\n",
      "Epoch 36/50\n",
      "449/449 [==============================] - 30s 67ms/step - loss: 0.9104 - accuracy: 0.6185 - val_loss: 1.0274 - val_accuracy: 0.6176\n",
      "Epoch 37/50\n",
      "449/449 [==============================] - 30s 68ms/step - loss: 0.9103 - accuracy: 0.6184 - val_loss: 1.0795 - val_accuracy: 0.5993\n",
      "Epoch 38/50\n",
      "449/449 [==============================] - 31s 68ms/step - loss: 0.9174 - accuracy: 0.6160 - val_loss: 1.0271 - val_accuracy: 0.6144\n",
      "Epoch 39/50\n",
      "449/449 [==============================] - 30s 68ms/step - loss: 0.9141 - accuracy: 0.6180 - val_loss: 1.0259 - val_accuracy: 0.6159\n",
      "Epoch 40/50\n",
      "449/449 [==============================] - 30s 67ms/step - loss: 0.9102 - accuracy: 0.6172 - val_loss: 1.0510 - val_accuracy: 0.6066\n",
      "Epoch 41/50\n",
      "449/449 [==============================] - 31s 70ms/step - loss: 0.9089 - accuracy: 0.6217 - val_loss: 1.0185 - val_accuracy: 0.6218\n",
      "Epoch 42/50\n",
      "449/449 [==============================] - 31s 69ms/step - loss: 0.9090 - accuracy: 0.6193 - val_loss: 1.0201 - val_accuracy: 0.6198\n",
      "Epoch 43/50\n",
      "449/449 [==============================] - 30s 67ms/step - loss: 0.8977 - accuracy: 0.6233 - val_loss: 1.0293 - val_accuracy: 0.6162\n",
      "Epoch 44/50\n",
      "449/449 [==============================] - 31s 70ms/step - loss: 0.9045 - accuracy: 0.6228 - val_loss: 1.0459 - val_accuracy: 0.6088\n",
      "Epoch 45/50\n",
      "449/449 [==============================] - 31s 70ms/step - loss: 0.9142 - accuracy: 0.6226 - val_loss: 1.0431 - val_accuracy: 0.6115\n",
      "Epoch 46/50\n",
      "449/449 [==============================] - 31s 68ms/step - loss: 0.9133 - accuracy: 0.6197 - val_loss: 1.0487 - val_accuracy: 0.6088\n",
      "Epoch 47/50\n",
      "449/449 [==============================] - 30s 67ms/step - loss: 0.9070 - accuracy: 0.6257 - val_loss: 1.0229 - val_accuracy: 0.6187\n",
      "Epoch 48/50\n",
      "449/449 [==============================] - 31s 68ms/step - loss: 0.8953 - accuracy: 0.6250 - val_loss: 1.0549 - val_accuracy: 0.6081\n",
      "Epoch 49/50\n",
      "449/449 [==============================] - 31s 68ms/step - loss: 0.9103 - accuracy: 0.6183 - val_loss: 1.0222 - val_accuracy: 0.6226\n",
      "Epoch 50/50\n",
      "449/449 [==============================] - 30s 67ms/step - loss: 0.9104 - accuracy: 0.6183 - val_loss: 1.0335 - val_accuracy: 0.6128\n"
     ]
    },
    {
     "data": {
      "text/plain": [
       "<keras.callbacks.History at 0x2843e6fde20>"
      ]
     },
     "execution_count": 11,
     "metadata": {},
     "output_type": "execute_result"
    }
   ],
   "source": [
    "model.fit(train,epochs=50,validation_data=test,verbose=1,class_weight=class_weights)"
   ]
  },
  {
   "cell_type": "code",
   "execution_count": 12,
   "id": "82a9c9fe",
   "metadata": {},
   "outputs": [
    {
     "name": "stdout",
     "output_type": "stream",
     "text": [
      "Epoch 1/250\n",
      "449/449 [==============================] - 54s 121ms/step - loss: 0.9092 - accuracy: 0.6217 - val_loss: 1.0333 - val_accuracy: 0.6145\n",
      "Epoch 2/250\n",
      "449/449 [==============================] - 56s 124ms/step - loss: 0.9089 - accuracy: 0.6231 - val_loss: 1.0141 - val_accuracy: 0.6177\n",
      "Epoch 3/250\n",
      "449/449 [==============================] - 56s 125ms/step - loss: 0.9067 - accuracy: 0.6235 - val_loss: 1.0571 - val_accuracy: 0.6031\n",
      "Epoch 4/250\n",
      "449/449 [==============================] - 57s 127ms/step - loss: 0.9037 - accuracy: 0.6242 - val_loss: 1.0263 - val_accuracy: 0.6160\n",
      "Epoch 5/250\n",
      "449/449 [==============================] - 55s 122ms/step - loss: 0.9038 - accuracy: 0.6228 - val_loss: 1.0737 - val_accuracy: 0.5949\n",
      "Epoch 6/250\n",
      "449/449 [==============================] - 55s 122ms/step - loss: 0.9150 - accuracy: 0.6168 - val_loss: 1.0263 - val_accuracy: 0.6165\n",
      "Epoch 7/250\n",
      "449/449 [==============================] - 55s 122ms/step - loss: 0.9027 - accuracy: 0.6223 - val_loss: 1.0386 - val_accuracy: 0.6121\n",
      "Epoch 8/250\n",
      "449/449 [==============================] - 55s 122ms/step - loss: 0.8994 - accuracy: 0.6265 - val_loss: 1.0366 - val_accuracy: 0.6145\n",
      "Epoch 9/250\n",
      "449/449 [==============================] - 55s 122ms/step - loss: 0.8898 - accuracy: 0.6258 - val_loss: 1.0167 - val_accuracy: 0.6191\n",
      "Epoch 10/250\n",
      "449/449 [==============================] - 52s 115ms/step - loss: 0.8988 - accuracy: 0.6229 - val_loss: 1.0158 - val_accuracy: 0.6215\n",
      "Epoch 11/250\n",
      "449/449 [==============================] - 52s 116ms/step - loss: 0.8958 - accuracy: 0.6250 - val_loss: 1.0181 - val_accuracy: 0.6198\n",
      "Epoch 12/250\n",
      "449/449 [==============================] - 52s 116ms/step - loss: 0.8972 - accuracy: 0.6252 - val_loss: 1.0501 - val_accuracy: 0.6066\n",
      "Epoch 13/250\n",
      "449/449 [==============================] - 52s 115ms/step - loss: 0.8977 - accuracy: 0.6231 - val_loss: 1.0272 - val_accuracy: 0.6167\n",
      "Epoch 14/250\n",
      "449/449 [==============================] - 51s 115ms/step - loss: 0.8976 - accuracy: 0.6243 - val_loss: 1.0450 - val_accuracy: 0.6084\n",
      "Epoch 15/250\n",
      "449/449 [==============================] - 51s 114ms/step - loss: 0.8980 - accuracy: 0.6264 - val_loss: 1.0280 - val_accuracy: 0.6170\n",
      "Epoch 16/250\n",
      "449/449 [==============================] - 51s 114ms/step - loss: 0.9016 - accuracy: 0.6256 - val_loss: 1.0222 - val_accuracy: 0.6181\n",
      "Epoch 17/250\n",
      "449/449 [==============================] - 52s 116ms/step - loss: 0.8957 - accuracy: 0.6266 - val_loss: 1.0271 - val_accuracy: 0.6147\n",
      "Epoch 18/250\n",
      "449/449 [==============================] - 52s 115ms/step - loss: 0.8865 - accuracy: 0.6253 - val_loss: 1.1261 - val_accuracy: 0.5791\n",
      "Epoch 19/250\n",
      "449/449 [==============================] - 51s 113ms/step - loss: 0.8882 - accuracy: 0.6249 - val_loss: 1.0150 - val_accuracy: 0.6165\n",
      "Epoch 20/250\n",
      "449/449 [==============================] - 51s 113ms/step - loss: 0.8877 - accuracy: 0.6298 - val_loss: 1.0391 - val_accuracy: 0.6105\n",
      "Epoch 21/250\n",
      "449/449 [==============================] - 53s 119ms/step - loss: 0.8826 - accuracy: 0.6297 - val_loss: 1.0115 - val_accuracy: 0.6252\n",
      "Epoch 22/250\n",
      "449/449 [==============================] - 53s 118ms/step - loss: 0.8929 - accuracy: 0.6282 - val_loss: 1.0549 - val_accuracy: 0.6087\n",
      "Epoch 23/250\n",
      "449/449 [==============================] - 53s 119ms/step - loss: 0.8835 - accuracy: 0.6328 - val_loss: 1.0231 - val_accuracy: 0.6190\n",
      "Epoch 24/250\n",
      "449/449 [==============================] - 52s 116ms/step - loss: 0.8962 - accuracy: 0.6262 - val_loss: 1.0143 - val_accuracy: 0.6198\n",
      "Epoch 25/250\n",
      "449/449 [==============================] - 52s 115ms/step - loss: 0.8889 - accuracy: 0.6300 - val_loss: 1.0124 - val_accuracy: 0.6254\n",
      "Epoch 26/250\n",
      "449/449 [==============================] - 52s 115ms/step - loss: 0.8876 - accuracy: 0.6289 - val_loss: 1.0125 - val_accuracy: 0.6250\n",
      "Epoch 27/250\n",
      "449/449 [==============================] - 52s 116ms/step - loss: 0.8833 - accuracy: 0.6337 - val_loss: 1.0078 - val_accuracy: 0.6239\n",
      "Epoch 28/250\n",
      "449/449 [==============================] - 52s 116ms/step - loss: 0.8791 - accuracy: 0.6313 - val_loss: 1.0041 - val_accuracy: 0.6248\n",
      "Epoch 29/250\n",
      "449/449 [==============================] - 52s 116ms/step - loss: 0.8785 - accuracy: 0.6326 - val_loss: 1.0084 - val_accuracy: 0.6248\n",
      "Epoch 30/250\n",
      "449/449 [==============================] - 51s 114ms/step - loss: 0.8770 - accuracy: 0.6329 - val_loss: 1.0114 - val_accuracy: 0.6258\n",
      "Epoch 31/250\n",
      "449/449 [==============================] - 51s 114ms/step - loss: 0.8831 - accuracy: 0.6320 - val_loss: 1.0257 - val_accuracy: 0.6166\n",
      "Epoch 32/250\n",
      "449/449 [==============================] - 52s 115ms/step - loss: 0.8824 - accuracy: 0.6306 - val_loss: 1.0277 - val_accuracy: 0.6158\n",
      "Epoch 33/250\n",
      "449/449 [==============================] - 52s 115ms/step - loss: 0.8895 - accuracy: 0.6312 - val_loss: 1.0301 - val_accuracy: 0.6142\n",
      "Epoch 34/250\n",
      "449/449 [==============================] - 52s 115ms/step - loss: 0.8846 - accuracy: 0.6300 - val_loss: 1.0524 - val_accuracy: 0.6034\n",
      "Epoch 35/250\n",
      "449/449 [==============================] - 51s 113ms/step - loss: 0.8867 - accuracy: 0.6321 - val_loss: 1.0300 - val_accuracy: 0.6148\n",
      "Epoch 36/250\n",
      "449/449 [==============================] - 51s 114ms/step - loss: 0.8773 - accuracy: 0.6299 - val_loss: 1.0159 - val_accuracy: 0.6186\n",
      "Epoch 37/250\n",
      "449/449 [==============================] - 52s 115ms/step - loss: 0.8759 - accuracy: 0.6334 - val_loss: 1.0433 - val_accuracy: 0.6121\n",
      "Epoch 38/250\n",
      "449/449 [==============================] - 52s 115ms/step - loss: 0.8704 - accuracy: 0.6334 - val_loss: 1.0187 - val_accuracy: 0.6227\n",
      "Epoch 39/250\n",
      "449/449 [==============================] - 53s 117ms/step - loss: 0.8805 - accuracy: 0.6329 - val_loss: 1.0456 - val_accuracy: 0.6131\n",
      "Epoch 40/250\n",
      "449/449 [==============================] - 52s 116ms/step - loss: 0.8660 - accuracy: 0.6366 - val_loss: 1.0162 - val_accuracy: 0.6236\n",
      "Epoch 41/250\n",
      "449/449 [==============================] - 52s 116ms/step - loss: 0.8613 - accuracy: 0.6400 - val_loss: 1.0714 - val_accuracy: 0.6049\n",
      "Epoch 42/250\n",
      "449/449 [==============================] - 52s 116ms/step - loss: 0.8745 - accuracy: 0.6306 - val_loss: 1.0101 - val_accuracy: 0.6218\n",
      "Epoch 43/250\n",
      "449/449 [==============================] - 53s 117ms/step - loss: 0.8858 - accuracy: 0.6329 - val_loss: 1.0205 - val_accuracy: 0.6181\n",
      "Epoch 44/250\n",
      "449/449 [==============================] - 53s 118ms/step - loss: 0.8830 - accuracy: 0.6310 - val_loss: 1.0099 - val_accuracy: 0.6268\n",
      "Epoch 45/250\n",
      "449/449 [==============================] - 51s 113ms/step - loss: 0.8727 - accuracy: 0.6341 - val_loss: 1.0135 - val_accuracy: 0.6220\n",
      "Epoch 46/250\n",
      "449/449 [==============================] - 52s 115ms/step - loss: 0.8665 - accuracy: 0.6368 - val_loss: 1.0158 - val_accuracy: 0.6187\n",
      "Epoch 47/250\n",
      "449/449 [==============================] - 52s 116ms/step - loss: 0.8794 - accuracy: 0.6322 - val_loss: 1.0156 - val_accuracy: 0.6193\n",
      "Epoch 48/250\n",
      "449/449 [==============================] - 52s 116ms/step - loss: 0.8656 - accuracy: 0.6383 - val_loss: 1.0248 - val_accuracy: 0.6198\n",
      "Epoch 49/250\n",
      "449/449 [==============================] - 55s 122ms/step - loss: 0.8661 - accuracy: 0.6357 - val_loss: 1.0073 - val_accuracy: 0.6282\n",
      "Epoch 50/250\n",
      "449/449 [==============================] - 54s 119ms/step - loss: 0.8659 - accuracy: 0.6390 - val_loss: 1.0207 - val_accuracy: 0.6199\n",
      "Epoch 51/250\n",
      "449/449 [==============================] - 53s 119ms/step - loss: 0.8636 - accuracy: 0.6397 - val_loss: 1.0285 - val_accuracy: 0.6180\n",
      "Epoch 52/250\n",
      "449/449 [==============================] - 53s 118ms/step - loss: 0.8659 - accuracy: 0.6357 - val_loss: 1.0240 - val_accuracy: 0.6202\n",
      "Epoch 53/250\n",
      "449/449 [==============================] - 54s 119ms/step - loss: 0.8559 - accuracy: 0.6395 - val_loss: 1.0291 - val_accuracy: 0.6181\n",
      "Epoch 54/250\n",
      "449/449 [==============================] - 53s 117ms/step - loss: 0.8620 - accuracy: 0.6367 - val_loss: 1.0031 - val_accuracy: 0.6280\n",
      "Epoch 55/250\n",
      "449/449 [==============================] - 52s 116ms/step - loss: 0.8670 - accuracy: 0.6329 - val_loss: 1.0153 - val_accuracy: 0.6190\n",
      "Epoch 56/250\n",
      "449/449 [==============================] - 53s 118ms/step - loss: 0.8636 - accuracy: 0.6403 - val_loss: 1.0114 - val_accuracy: 0.6230\n",
      "Epoch 57/250\n",
      "449/449 [==============================] - 53s 118ms/step - loss: 0.8587 - accuracy: 0.6389 - val_loss: 1.0085 - val_accuracy: 0.6269\n",
      "Epoch 58/250\n",
      "449/449 [==============================] - 53s 118ms/step - loss: 0.8606 - accuracy: 0.6400 - val_loss: 1.0042 - val_accuracy: 0.6225\n",
      "Epoch 59/250\n",
      "449/449 [==============================] - 53s 117ms/step - loss: 0.8660 - accuracy: 0.6359 - val_loss: 1.0123 - val_accuracy: 0.6232\n",
      "Epoch 60/250\n",
      "449/449 [==============================] - 53s 119ms/step - loss: 0.8649 - accuracy: 0.6354 - val_loss: 1.0055 - val_accuracy: 0.6237\n",
      "Epoch 61/250\n",
      "449/449 [==============================] - 53s 118ms/step - loss: 0.8539 - accuracy: 0.6418 - val_loss: 1.0036 - val_accuracy: 0.6275\n",
      "Epoch 62/250\n",
      "449/449 [==============================] - 53s 117ms/step - loss: 0.8690 - accuracy: 0.6437 - val_loss: 1.0124 - val_accuracy: 0.6247\n",
      "Epoch 63/250\n",
      "449/449 [==============================] - 54s 120ms/step - loss: 0.8653 - accuracy: 0.6392 - val_loss: 1.0366 - val_accuracy: 0.6158\n",
      "Epoch 64/250\n",
      "449/449 [==============================] - 53s 118ms/step - loss: 0.8631 - accuracy: 0.6374 - val_loss: 1.0134 - val_accuracy: 0.6245\n",
      "Epoch 65/250\n",
      "449/449 [==============================] - 52s 116ms/step - loss: 0.8617 - accuracy: 0.6404 - val_loss: 1.0236 - val_accuracy: 0.6181\n",
      "Epoch 66/250\n",
      "449/449 [==============================] - 53s 118ms/step - loss: 0.8585 - accuracy: 0.6401 - val_loss: 1.0189 - val_accuracy: 0.6212\n",
      "Epoch 67/250\n",
      "449/449 [==============================] - 52s 117ms/step - loss: 0.8541 - accuracy: 0.6404 - val_loss: 1.0202 - val_accuracy: 0.6208\n",
      "Epoch 68/250\n",
      "449/449 [==============================] - 52s 117ms/step - loss: 0.8523 - accuracy: 0.6424 - val_loss: 1.0169 - val_accuracy: 0.6226\n",
      "Epoch 69/250\n",
      "449/449 [==============================] - 51s 115ms/step - loss: 0.8620 - accuracy: 0.6389 - val_loss: 1.0016 - val_accuracy: 0.6276\n",
      "Epoch 70/250\n",
      "449/449 [==============================] - 51s 114ms/step - loss: 0.8565 - accuracy: 0.6397 - val_loss: 1.0266 - val_accuracy: 0.6218\n",
      "Epoch 71/250\n",
      "449/449 [==============================] - 51s 114ms/step - loss: 0.8523 - accuracy: 0.6420 - val_loss: 1.0111 - val_accuracy: 0.6232\n",
      "Epoch 72/250\n",
      "449/449 [==============================] - 51s 115ms/step - loss: 0.8636 - accuracy: 0.6411 - val_loss: 1.0035 - val_accuracy: 0.6298\n",
      "Epoch 73/250\n",
      "449/449 [==============================] - 51s 113ms/step - loss: 0.8498 - accuracy: 0.6413 - val_loss: 1.0129 - val_accuracy: 0.6255\n",
      "Epoch 74/250\n",
      "449/449 [==============================] - 55s 123ms/step - loss: 0.8574 - accuracy: 0.6439 - val_loss: 1.0136 - val_accuracy: 0.6265\n",
      "Epoch 75/250\n",
      "449/449 [==============================] - 54s 120ms/step - loss: 0.8508 - accuracy: 0.6413 - val_loss: 1.0361 - val_accuracy: 0.6208\n",
      "Epoch 76/250\n",
      "449/449 [==============================] - 52s 115ms/step - loss: 0.8449 - accuracy: 0.6435 - val_loss: 1.0338 - val_accuracy: 0.6176\n",
      "Epoch 77/250\n",
      "449/449 [==============================] - 50s 111ms/step - loss: 0.8494 - accuracy: 0.6424 - val_loss: 1.0000 - val_accuracy: 0.6303\n",
      "Epoch 78/250\n",
      "449/449 [==============================] - 50s 111ms/step - loss: 0.8466 - accuracy: 0.6439 - val_loss: 1.0258 - val_accuracy: 0.6227\n",
      "Epoch 79/250\n",
      "449/449 [==============================] - 50s 112ms/step - loss: 0.8492 - accuracy: 0.6444 - val_loss: 1.0429 - val_accuracy: 0.6160\n",
      "Epoch 80/250\n",
      "449/449 [==============================] - 52s 115ms/step - loss: 0.8515 - accuracy: 0.6447 - val_loss: 1.0307 - val_accuracy: 0.6208\n",
      "Epoch 81/250\n",
      "449/449 [==============================] - 51s 113ms/step - loss: 0.8479 - accuracy: 0.6443 - val_loss: 1.0111 - val_accuracy: 0.6319\n",
      "Epoch 82/250\n",
      "449/449 [==============================] - 50s 112ms/step - loss: 0.8385 - accuracy: 0.6462 - val_loss: 1.0529 - val_accuracy: 0.6141\n",
      "Epoch 83/250\n",
      "449/449 [==============================] - 51s 113ms/step - loss: 0.8592 - accuracy: 0.6419 - val_loss: 1.1193 - val_accuracy: 0.5925\n",
      "Epoch 84/250\n",
      "449/449 [==============================] - 51s 113ms/step - loss: 0.8522 - accuracy: 0.6445 - val_loss: 1.0064 - val_accuracy: 0.6301\n",
      "Epoch 85/250\n",
      "449/449 [==============================] - 50s 111ms/step - loss: 0.8437 - accuracy: 0.6468 - val_loss: 1.0083 - val_accuracy: 0.6305\n",
      "Epoch 86/250\n",
      "449/449 [==============================] - 50s 111ms/step - loss: 0.8516 - accuracy: 0.6448 - val_loss: 1.0126 - val_accuracy: 0.6275\n",
      "Epoch 87/250\n",
      "449/449 [==============================] - 50s 111ms/step - loss: 0.8452 - accuracy: 0.6463 - val_loss: 1.0145 - val_accuracy: 0.6259\n",
      "Epoch 88/250\n",
      "449/449 [==============================] - 50s 111ms/step - loss: 0.8516 - accuracy: 0.6443 - val_loss: 1.0779 - val_accuracy: 0.6016\n",
      "Epoch 89/250\n",
      "449/449 [==============================] - 51s 113ms/step - loss: 0.8439 - accuracy: 0.6427 - val_loss: 1.0577 - val_accuracy: 0.6128\n",
      "Epoch 90/250\n",
      "449/449 [==============================] - 51s 114ms/step - loss: 0.8542 - accuracy: 0.6437 - val_loss: 1.0382 - val_accuracy: 0.6149\n",
      "Epoch 91/250\n",
      "449/449 [==============================] - 50s 112ms/step - loss: 0.8517 - accuracy: 0.6424 - val_loss: 1.0010 - val_accuracy: 0.6245\n",
      "Epoch 92/250\n",
      "449/449 [==============================] - 50s 111ms/step - loss: 0.8541 - accuracy: 0.6416 - val_loss: 1.0402 - val_accuracy: 0.6173\n",
      "Epoch 93/250\n",
      "449/449 [==============================] - 50s 111ms/step - loss: 0.8536 - accuracy: 0.6458 - val_loss: 1.0101 - val_accuracy: 0.6266\n",
      "Epoch 94/250\n",
      "449/449 [==============================] - 51s 114ms/step - loss: 0.8460 - accuracy: 0.6479 - val_loss: 1.0216 - val_accuracy: 0.6211\n",
      "Epoch 95/250\n",
      "449/449 [==============================] - 50s 112ms/step - loss: 0.8438 - accuracy: 0.6461 - val_loss: 1.0064 - val_accuracy: 0.6289\n",
      "Epoch 96/250\n",
      "449/449 [==============================] - 51s 113ms/step - loss: 0.8520 - accuracy: 0.6430 - val_loss: 1.0081 - val_accuracy: 0.6262\n",
      "Epoch 97/250\n",
      "449/449 [==============================] - 50s 110ms/step - loss: 0.8411 - accuracy: 0.6470 - val_loss: 1.0269 - val_accuracy: 0.6266\n",
      "Epoch 98/250\n",
      "449/449 [==============================] - 50s 112ms/step - loss: 0.8528 - accuracy: 0.6438 - val_loss: 1.0066 - val_accuracy: 0.6278\n",
      "Epoch 99/250\n",
      "449/449 [==============================] - 50s 111ms/step - loss: 0.8411 - accuracy: 0.6447 - val_loss: 1.0334 - val_accuracy: 0.6202\n",
      "Epoch 100/250\n",
      "449/449 [==============================] - 50s 112ms/step - loss: 0.8355 - accuracy: 0.6461 - val_loss: 1.0022 - val_accuracy: 0.6247\n",
      "Epoch 101/250\n",
      "449/449 [==============================] - 50s 112ms/step - loss: 0.8270 - accuracy: 0.6539 - val_loss: 1.0601 - val_accuracy: 0.6142\n",
      "Epoch 102/250\n",
      "449/449 [==============================] - 50s 112ms/step - loss: 0.8399 - accuracy: 0.6497 - val_loss: 1.0294 - val_accuracy: 0.6181\n",
      "Epoch 103/250\n",
      "449/449 [==============================] - 51s 113ms/step - loss: 0.8350 - accuracy: 0.6505 - val_loss: 1.0039 - val_accuracy: 0.6271\n",
      "Epoch 104/250\n",
      "449/449 [==============================] - 50s 112ms/step - loss: 0.8424 - accuracy: 0.6500 - val_loss: 1.0321 - val_accuracy: 0.6212\n",
      "Epoch 105/250\n",
      "449/449 [==============================] - 50s 111ms/step - loss: 0.8305 - accuracy: 0.6483 - val_loss: 1.0327 - val_accuracy: 0.6206\n",
      "Epoch 106/250\n",
      "449/449 [==============================] - 50s 112ms/step - loss: 0.8401 - accuracy: 0.6496 - val_loss: 1.0164 - val_accuracy: 0.6264\n",
      "Epoch 107/250\n",
      "449/449 [==============================] - 50s 112ms/step - loss: 0.8395 - accuracy: 0.6482 - val_loss: 1.0132 - val_accuracy: 0.6222\n",
      "Epoch 108/250\n",
      "449/449 [==============================] - 51s 113ms/step - loss: 0.8331 - accuracy: 0.6496 - val_loss: 1.0135 - val_accuracy: 0.6252\n",
      "Epoch 109/250\n",
      "449/449 [==============================] - 51s 113ms/step - loss: 0.8216 - accuracy: 0.6502 - val_loss: 1.0073 - val_accuracy: 0.6284\n",
      "Epoch 110/250\n",
      "449/449 [==============================] - 50s 111ms/step - loss: 0.8318 - accuracy: 0.6523 - val_loss: 1.0071 - val_accuracy: 0.6303\n",
      "Epoch 111/250\n",
      "449/449 [==============================] - 51s 112ms/step - loss: 0.8348 - accuracy: 0.6509 - val_loss: 1.0176 - val_accuracy: 0.6287\n",
      "Epoch 112/250\n",
      "449/449 [==============================] - 50s 111ms/step - loss: 0.8344 - accuracy: 0.6500 - val_loss: 0.9999 - val_accuracy: 0.6340\n",
      "Epoch 113/250\n",
      "449/449 [==============================] - 50s 111ms/step - loss: 0.8331 - accuracy: 0.6526 - val_loss: 1.0223 - val_accuracy: 0.6240\n",
      "Epoch 114/250\n",
      "449/449 [==============================] - 51s 113ms/step - loss: 0.8321 - accuracy: 0.6533 - val_loss: 1.0159 - val_accuracy: 0.6286\n",
      "Epoch 115/250\n",
      "449/449 [==============================] - 50s 111ms/step - loss: 0.8384 - accuracy: 0.6452 - val_loss: 1.0141 - val_accuracy: 0.6291\n",
      "Epoch 116/250\n",
      "449/449 [==============================] - 50s 111ms/step - loss: 0.8259 - accuracy: 0.6515 - val_loss: 0.9973 - val_accuracy: 0.6356\n",
      "Epoch 117/250\n",
      "449/449 [==============================] - 51s 114ms/step - loss: 0.8325 - accuracy: 0.6505 - val_loss: 1.0054 - val_accuracy: 0.6322\n",
      "Epoch 118/250\n",
      "449/449 [==============================] - 51s 113ms/step - loss: 0.8327 - accuracy: 0.6549 - val_loss: 1.0417 - val_accuracy: 0.6201\n",
      "Epoch 119/250\n",
      "449/449 [==============================] - 51s 113ms/step - loss: 0.8413 - accuracy: 0.6512 - val_loss: 1.0070 - val_accuracy: 0.6307\n",
      "Epoch 120/250\n",
      "449/449 [==============================] - 50s 111ms/step - loss: 0.8272 - accuracy: 0.6514 - val_loss: 1.0214 - val_accuracy: 0.6276\n",
      "Epoch 121/250\n",
      "449/449 [==============================] - 50s 111ms/step - loss: 0.8389 - accuracy: 0.6490 - val_loss: 1.0369 - val_accuracy: 0.6247\n",
      "Epoch 122/250\n",
      "449/449 [==============================] - 51s 113ms/step - loss: 0.8254 - accuracy: 0.6538 - val_loss: 1.0043 - val_accuracy: 0.6321\n",
      "Epoch 123/250\n",
      "449/449 [==============================] - 50s 112ms/step - loss: 0.8349 - accuracy: 0.6519 - val_loss: 1.0143 - val_accuracy: 0.6243\n",
      "Epoch 124/250\n",
      "449/449 [==============================] - 51s 114ms/step - loss: 0.8320 - accuracy: 0.6511 - val_loss: 0.9976 - val_accuracy: 0.6361\n",
      "Epoch 125/250\n",
      "449/449 [==============================] - 50s 112ms/step - loss: 0.8330 - accuracy: 0.6539 - val_loss: 1.0213 - val_accuracy: 0.6266\n",
      "Epoch 126/250\n",
      "449/449 [==============================] - 51s 112ms/step - loss: 0.8319 - accuracy: 0.6527 - val_loss: 1.0026 - val_accuracy: 0.6294\n",
      "Epoch 127/250\n",
      "449/449 [==============================] - 50s 112ms/step - loss: 0.8357 - accuracy: 0.6505 - val_loss: 1.0066 - val_accuracy: 0.6328\n",
      "Epoch 128/250\n",
      "449/449 [==============================] - 50s 111ms/step - loss: 0.8216 - accuracy: 0.6521 - val_loss: 1.0216 - val_accuracy: 0.6262\n",
      "Epoch 129/250\n",
      "449/449 [==============================] - 51s 113ms/step - loss: 0.8246 - accuracy: 0.6520 - val_loss: 1.0200 - val_accuracy: 0.6255\n",
      "Epoch 130/250\n",
      "449/449 [==============================] - 50s 112ms/step - loss: 0.8188 - accuracy: 0.6542 - val_loss: 1.0138 - val_accuracy: 0.6259\n",
      "Epoch 131/250\n",
      "449/449 [==============================] - 50s 111ms/step - loss: 0.8399 - accuracy: 0.6520 - val_loss: 1.0010 - val_accuracy: 0.6329\n",
      "Epoch 132/250\n",
      "449/449 [==============================] - 51s 113ms/step - loss: 0.8215 - accuracy: 0.6560 - val_loss: 1.0074 - val_accuracy: 0.6317\n",
      "Epoch 133/250\n",
      "449/449 [==============================] - 51s 113ms/step - loss: 0.8283 - accuracy: 0.6528 - val_loss: 1.0172 - val_accuracy: 0.6289\n",
      "Epoch 134/250\n",
      "449/449 [==============================] - 51s 113ms/step - loss: 0.8299 - accuracy: 0.6563 - val_loss: 1.0001 - val_accuracy: 0.6342\n",
      "Epoch 135/250\n",
      "449/449 [==============================] - 51s 113ms/step - loss: 0.8213 - accuracy: 0.6544 - val_loss: 1.0107 - val_accuracy: 0.6315\n",
      "Epoch 136/250\n",
      "449/449 [==============================] - 51s 114ms/step - loss: 0.8325 - accuracy: 0.6522 - val_loss: 1.0043 - val_accuracy: 0.6336\n",
      "Epoch 137/250\n",
      "449/449 [==============================] - 51s 114ms/step - loss: 0.8191 - accuracy: 0.6525 - val_loss: 1.0305 - val_accuracy: 0.6225\n",
      "Epoch 138/250\n",
      "449/449 [==============================] - 50s 112ms/step - loss: 0.8243 - accuracy: 0.6531 - val_loss: 1.0171 - val_accuracy: 0.6269\n",
      "Epoch 139/250\n",
      "449/449 [==============================] - 52s 115ms/step - loss: 0.8332 - accuracy: 0.6528 - val_loss: 1.0201 - val_accuracy: 0.6315\n",
      "Epoch 140/250\n",
      "449/449 [==============================] - 51s 113ms/step - loss: 0.8355 - accuracy: 0.6529 - val_loss: 1.0123 - val_accuracy: 0.6286\n",
      "Epoch 141/250\n",
      "449/449 [==============================] - 50s 112ms/step - loss: 0.8300 - accuracy: 0.6563 - val_loss: 1.0273 - val_accuracy: 0.6211\n",
      "Epoch 142/250\n",
      "449/449 [==============================] - 50s 112ms/step - loss: 0.8321 - accuracy: 0.6528 - val_loss: 1.0231 - val_accuracy: 0.6245\n",
      "Epoch 143/250\n",
      "449/449 [==============================] - 51s 114ms/step - loss: 0.8144 - accuracy: 0.6587 - val_loss: 1.0314 - val_accuracy: 0.6209\n",
      "Epoch 144/250\n",
      "449/449 [==============================] - 51s 113ms/step - loss: 0.8265 - accuracy: 0.6535 - val_loss: 0.9981 - val_accuracy: 0.6335\n",
      "Epoch 145/250\n",
      "449/449 [==============================] - 50s 111ms/step - loss: 0.8150 - accuracy: 0.6560 - val_loss: 1.0050 - val_accuracy: 0.6275\n",
      "Epoch 146/250\n",
      "449/449 [==============================] - 51s 113ms/step - loss: 0.8151 - accuracy: 0.6578 - val_loss: 1.0028 - val_accuracy: 0.6310\n",
      "Epoch 147/250\n",
      "449/449 [==============================] - 50s 112ms/step - loss: 0.8224 - accuracy: 0.6563 - val_loss: 1.0078 - val_accuracy: 0.6307\n",
      "Epoch 148/250\n",
      "449/449 [==============================] - 50s 112ms/step - loss: 0.8213 - accuracy: 0.6566 - val_loss: 1.0046 - val_accuracy: 0.6307\n",
      "Epoch 149/250\n",
      "449/449 [==============================] - 51s 113ms/step - loss: 0.8151 - accuracy: 0.6563 - val_loss: 1.0330 - val_accuracy: 0.6241\n",
      "Epoch 150/250\n",
      "449/449 [==============================] - 49s 110ms/step - loss: 0.8252 - accuracy: 0.6536 - val_loss: 1.0277 - val_accuracy: 0.6250\n",
      "Epoch 151/250\n",
      "449/449 [==============================] - 51s 113ms/step - loss: 0.8195 - accuracy: 0.6602 - val_loss: 1.0088 - val_accuracy: 0.6312\n",
      "Epoch 152/250\n",
      "449/449 [==============================] - 50s 112ms/step - loss: 0.8105 - accuracy: 0.6575 - val_loss: 1.0319 - val_accuracy: 0.6222\n",
      "Epoch 153/250\n",
      "449/449 [==============================] - 50s 112ms/step - loss: 0.8169 - accuracy: 0.6559 - val_loss: 1.0151 - val_accuracy: 0.6264\n",
      "Epoch 154/250\n",
      "449/449 [==============================] - 50s 112ms/step - loss: 0.8163 - accuracy: 0.6593 - val_loss: 1.0222 - val_accuracy: 0.6251\n",
      "Epoch 155/250\n",
      "449/449 [==============================] - 50s 111ms/step - loss: 0.8179 - accuracy: 0.6577 - val_loss: 1.0197 - val_accuracy: 0.6335\n",
      "Epoch 156/250\n",
      "449/449 [==============================] - 51s 113ms/step - loss: 0.8195 - accuracy: 0.6602 - val_loss: 1.0251 - val_accuracy: 0.6233\n",
      "Epoch 157/250\n",
      "449/449 [==============================] - 51s 114ms/step - loss: 0.8117 - accuracy: 0.6608 - val_loss: 1.0005 - val_accuracy: 0.6321\n",
      "Epoch 158/250\n",
      "449/449 [==============================] - 50s 112ms/step - loss: 0.8165 - accuracy: 0.6600 - val_loss: 1.0169 - val_accuracy: 0.6236\n",
      "Epoch 159/250\n",
      "449/449 [==============================] - 51s 113ms/step - loss: 0.8099 - accuracy: 0.6556 - val_loss: 1.0181 - val_accuracy: 0.6226\n",
      "Epoch 160/250\n",
      "449/449 [==============================] - 50s 112ms/step - loss: 0.8109 - accuracy: 0.6600 - val_loss: 1.0116 - val_accuracy: 0.6279\n",
      "Epoch 161/250\n",
      "449/449 [==============================] - 50s 112ms/step - loss: 0.8065 - accuracy: 0.6628 - val_loss: 1.0038 - val_accuracy: 0.6300\n",
      "Epoch 162/250\n",
      "449/449 [==============================] - 51s 113ms/step - loss: 0.8205 - accuracy: 0.6582 - val_loss: 1.0135 - val_accuracy: 0.6291\n",
      "Epoch 163/250\n",
      "449/449 [==============================] - 50s 112ms/step - loss: 0.8179 - accuracy: 0.6582 - val_loss: 1.0062 - val_accuracy: 0.6272\n",
      "Epoch 164/250\n",
      "449/449 [==============================] - 50s 112ms/step - loss: 0.8137 - accuracy: 0.6570 - val_loss: 1.0176 - val_accuracy: 0.6265\n",
      "Epoch 165/250\n",
      "449/449 [==============================] - 50s 111ms/step - loss: 0.8067 - accuracy: 0.6609 - val_loss: 1.0206 - val_accuracy: 0.6265\n",
      "Epoch 166/250\n",
      "449/449 [==============================] - 50s 111ms/step - loss: 0.8196 - accuracy: 0.6581 - val_loss: 1.0675 - val_accuracy: 0.6140\n",
      "Epoch 167/250\n",
      "449/449 [==============================] - 48s 107ms/step - loss: 0.8130 - accuracy: 0.6621 - val_loss: 1.0141 - val_accuracy: 0.6293\n",
      "Epoch 168/250\n",
      "449/449 [==============================] - 29s 65ms/step - loss: 0.8025 - accuracy: 0.6620 - val_loss: 1.0150 - val_accuracy: 0.6291\n",
      "Epoch 169/250\n",
      "449/449 [==============================] - 29s 65ms/step - loss: 0.8177 - accuracy: 0.6588 - val_loss: 1.0151 - val_accuracy: 0.6328\n",
      "Epoch 170/250\n",
      "449/449 [==============================] - 29s 65ms/step - loss: 0.8129 - accuracy: 0.6593 - val_loss: 1.0090 - val_accuracy: 0.6303\n",
      "Epoch 171/250\n",
      "449/449 [==============================] - 29s 65ms/step - loss: 0.8075 - accuracy: 0.6606 - val_loss: 1.0267 - val_accuracy: 0.6241\n",
      "Epoch 172/250\n",
      "449/449 [==============================] - 29s 65ms/step - loss: 0.8054 - accuracy: 0.6615 - val_loss: 1.0004 - val_accuracy: 0.6329\n",
      "Epoch 173/250\n",
      "449/449 [==============================] - 29s 64ms/step - loss: 0.8118 - accuracy: 0.6598 - val_loss: 1.0492 - val_accuracy: 0.6184\n",
      "Epoch 174/250\n",
      "449/449 [==============================] - 29s 65ms/step - loss: 0.8129 - accuracy: 0.6612 - val_loss: 1.0094 - val_accuracy: 0.6290\n",
      "Epoch 175/250\n",
      "449/449 [==============================] - 29s 65ms/step - loss: 0.8196 - accuracy: 0.6569 - val_loss: 1.0048 - val_accuracy: 0.6310\n",
      "Epoch 176/250\n",
      "449/449 [==============================] - 29s 65ms/step - loss: 0.8143 - accuracy: 0.6607 - val_loss: 1.0056 - val_accuracy: 0.6321\n",
      "Epoch 177/250\n",
      "449/449 [==============================] - 29s 65ms/step - loss: 0.8018 - accuracy: 0.6602 - val_loss: 1.0194 - val_accuracy: 0.6278\n",
      "Epoch 178/250\n",
      "449/449 [==============================] - 29s 64ms/step - loss: 0.8033 - accuracy: 0.6629 - val_loss: 1.0091 - val_accuracy: 0.6311\n",
      "Epoch 179/250\n",
      "449/449 [==============================] - 29s 64ms/step - loss: 0.8133 - accuracy: 0.6598 - val_loss: 1.0055 - val_accuracy: 0.6360\n",
      "Epoch 180/250\n",
      "449/449 [==============================] - 29s 65ms/step - loss: 0.8089 - accuracy: 0.6601 - val_loss: 1.0035 - val_accuracy: 0.6335\n",
      "Epoch 181/250\n",
      "449/449 [==============================] - 29s 65ms/step - loss: 0.8051 - accuracy: 0.6603 - val_loss: 1.0028 - val_accuracy: 0.6307\n",
      "Epoch 182/250\n",
      "449/449 [==============================] - 29s 65ms/step - loss: 0.8134 - accuracy: 0.6597 - val_loss: 1.0236 - val_accuracy: 0.6245\n",
      "Epoch 183/250\n",
      "449/449 [==============================] - 29s 65ms/step - loss: 0.8136 - accuracy: 0.6588 - val_loss: 1.0123 - val_accuracy: 0.6271\n",
      "Epoch 184/250\n",
      "449/449 [==============================] - 29s 66ms/step - loss: 0.8061 - accuracy: 0.6635 - val_loss: 1.0131 - val_accuracy: 0.6301\n",
      "Epoch 185/250\n",
      "449/449 [==============================] - 29s 65ms/step - loss: 0.8048 - accuracy: 0.6624 - val_loss: 1.0376 - val_accuracy: 0.6191\n",
      "Epoch 186/250\n",
      "449/449 [==============================] - 29s 65ms/step - loss: 0.8053 - accuracy: 0.6623 - val_loss: 1.0118 - val_accuracy: 0.6291\n",
      "Epoch 187/250\n",
      "449/449 [==============================] - 29s 65ms/step - loss: 0.8040 - accuracy: 0.6654 - val_loss: 1.0120 - val_accuracy: 0.6305\n",
      "Epoch 188/250\n",
      "449/449 [==============================] - 29s 65ms/step - loss: 0.8111 - accuracy: 0.6584 - val_loss: 1.0670 - val_accuracy: 0.6108\n",
      "Epoch 189/250\n",
      "449/449 [==============================] - 29s 65ms/step - loss: 0.8089 - accuracy: 0.6600 - val_loss: 1.0411 - val_accuracy: 0.6226\n",
      "Epoch 190/250\n",
      "449/449 [==============================] - 29s 65ms/step - loss: 0.8068 - accuracy: 0.6626 - val_loss: 1.0270 - val_accuracy: 0.6216\n",
      "Epoch 191/250\n",
      "449/449 [==============================] - 29s 65ms/step - loss: 0.8073 - accuracy: 0.6600 - val_loss: 1.0008 - val_accuracy: 0.6318\n",
      "Epoch 192/250\n",
      "449/449 [==============================] - 29s 65ms/step - loss: 0.8086 - accuracy: 0.6617 - val_loss: 1.0162 - val_accuracy: 0.6271\n",
      "Epoch 193/250\n",
      "449/449 [==============================] - 29s 65ms/step - loss: 0.8051 - accuracy: 0.6629 - val_loss: 1.0011 - val_accuracy: 0.6347\n",
      "Epoch 194/250\n",
      "449/449 [==============================] - 29s 66ms/step - loss: 0.8144 - accuracy: 0.6612 - val_loss: 1.0438 - val_accuracy: 0.6206\n",
      "Epoch 195/250\n",
      "449/449 [==============================] - 29s 65ms/step - loss: 0.8037 - accuracy: 0.6635 - val_loss: 1.0180 - val_accuracy: 0.6350\n",
      "Epoch 196/250\n",
      "449/449 [==============================] - 29s 65ms/step - loss: 0.7977 - accuracy: 0.6647 - val_loss: 1.0043 - val_accuracy: 0.6351\n",
      "Epoch 197/250\n",
      "449/449 [==============================] - 29s 65ms/step - loss: 0.7967 - accuracy: 0.6630 - val_loss: 1.0164 - val_accuracy: 0.6301\n",
      "Epoch 198/250\n",
      "449/449 [==============================] - 29s 65ms/step - loss: 0.7990 - accuracy: 0.6643 - val_loss: 1.0017 - val_accuracy: 0.6371\n",
      "Epoch 199/250\n",
      "449/449 [==============================] - 29s 65ms/step - loss: 0.8024 - accuracy: 0.6613 - val_loss: 1.0300 - val_accuracy: 0.6283\n",
      "Epoch 200/250\n",
      "449/449 [==============================] - 29s 65ms/step - loss: 0.8027 - accuracy: 0.6648 - val_loss: 1.1187 - val_accuracy: 0.5949\n",
      "Epoch 201/250\n",
      "449/449 [==============================] - 29s 65ms/step - loss: 0.7938 - accuracy: 0.6673 - val_loss: 1.0287 - val_accuracy: 0.6241\n",
      "Epoch 202/250\n",
      "449/449 [==============================] - 29s 65ms/step - loss: 0.7980 - accuracy: 0.6656 - val_loss: 1.0404 - val_accuracy: 0.6213\n",
      "Epoch 203/250\n",
      "449/449 [==============================] - 29s 65ms/step - loss: 0.7963 - accuracy: 0.6668 - val_loss: 1.0329 - val_accuracy: 0.6243\n",
      "Epoch 204/250\n",
      "449/449 [==============================] - 29s 66ms/step - loss: 0.7984 - accuracy: 0.6654 - val_loss: 1.0223 - val_accuracy: 0.6266\n",
      "Epoch 205/250\n",
      "449/449 [==============================] - 29s 65ms/step - loss: 0.7943 - accuracy: 0.6668 - val_loss: 1.0347 - val_accuracy: 0.6218\n",
      "Epoch 206/250\n",
      "449/449 [==============================] - 29s 64ms/step - loss: 0.7985 - accuracy: 0.6671 - val_loss: 1.0375 - val_accuracy: 0.6243\n",
      "Epoch 207/250\n",
      "449/449 [==============================] - 29s 65ms/step - loss: 0.7976 - accuracy: 0.6672 - val_loss: 1.0408 - val_accuracy: 0.6198\n",
      "Epoch 208/250\n",
      "449/449 [==============================] - 29s 65ms/step - loss: 0.8149 - accuracy: 0.6624 - val_loss: 1.0925 - val_accuracy: 0.6023\n",
      "Epoch 209/250\n",
      "449/449 [==============================] - 29s 65ms/step - loss: 0.7920 - accuracy: 0.6680 - val_loss: 0.9991 - val_accuracy: 0.6369\n",
      "Epoch 210/250\n",
      "449/449 [==============================] - 29s 65ms/step - loss: 0.7941 - accuracy: 0.6670 - val_loss: 1.0239 - val_accuracy: 0.6269\n",
      "Epoch 211/250\n",
      "449/449 [==============================] - 29s 65ms/step - loss: 0.8042 - accuracy: 0.6624 - val_loss: 1.0654 - val_accuracy: 0.6138\n",
      "Epoch 212/250\n",
      "449/449 [==============================] - 29s 65ms/step - loss: 0.7995 - accuracy: 0.6678 - val_loss: 1.0141 - val_accuracy: 0.6304\n",
      "Epoch 213/250\n",
      "449/449 [==============================] - 29s 65ms/step - loss: 0.8001 - accuracy: 0.6662 - val_loss: 0.9997 - val_accuracy: 0.6310\n",
      "Epoch 214/250\n",
      "449/449 [==============================] - 29s 64ms/step - loss: 0.8023 - accuracy: 0.6656 - val_loss: 1.0017 - val_accuracy: 0.6357\n",
      "Epoch 215/250\n",
      "449/449 [==============================] - 29s 65ms/step - loss: 0.7980 - accuracy: 0.6665 - val_loss: 1.0043 - val_accuracy: 0.6346\n",
      "Epoch 216/250\n",
      "449/449 [==============================] - 29s 65ms/step - loss: 0.7893 - accuracy: 0.6659 - val_loss: 1.0045 - val_accuracy: 0.6300\n",
      "Epoch 217/250\n",
      "449/449 [==============================] - 29s 65ms/step - loss: 0.7910 - accuracy: 0.6682 - val_loss: 1.0195 - val_accuracy: 0.6339\n",
      "Epoch 218/250\n",
      "449/449 [==============================] - 29s 65ms/step - loss: 0.7998 - accuracy: 0.6666 - val_loss: 1.0162 - val_accuracy: 0.6297\n",
      "Epoch 219/250\n",
      "449/449 [==============================] - 29s 65ms/step - loss: 0.7928 - accuracy: 0.6675 - val_loss: 1.0132 - val_accuracy: 0.6312\n",
      "Epoch 220/250\n",
      "449/449 [==============================] - 29s 65ms/step - loss: 0.8050 - accuracy: 0.6610 - val_loss: 1.0100 - val_accuracy: 0.6340\n",
      "Epoch 221/250\n",
      "449/449 [==============================] - 29s 64ms/step - loss: 0.7930 - accuracy: 0.6687 - val_loss: 1.0158 - val_accuracy: 0.6303\n",
      "Epoch 222/250\n",
      "449/449 [==============================] - 29s 65ms/step - loss: 0.7920 - accuracy: 0.6722 - val_loss: 1.0140 - val_accuracy: 0.6305\n",
      "Epoch 223/250\n",
      "449/449 [==============================] - 29s 65ms/step - loss: 0.7965 - accuracy: 0.6676 - val_loss: 0.9988 - val_accuracy: 0.6383\n",
      "Epoch 224/250\n",
      "449/449 [==============================] - 29s 64ms/step - loss: 0.7916 - accuracy: 0.6721 - val_loss: 0.9983 - val_accuracy: 0.6329\n",
      "Epoch 225/250\n",
      "449/449 [==============================] - 29s 65ms/step - loss: 0.7883 - accuracy: 0.6690 - val_loss: 0.9986 - val_accuracy: 0.6382\n",
      "Epoch 226/250\n",
      "449/449 [==============================] - 29s 65ms/step - loss: 0.7802 - accuracy: 0.6700 - val_loss: 1.0142 - val_accuracy: 0.6318\n",
      "Epoch 227/250\n",
      "449/449 [==============================] - 30s 66ms/step - loss: 0.8097 - accuracy: 0.6656 - val_loss: 1.0524 - val_accuracy: 0.6204\n",
      "Epoch 228/250\n",
      "449/449 [==============================] - 29s 65ms/step - loss: 0.7907 - accuracy: 0.6682 - val_loss: 1.0206 - val_accuracy: 0.6269\n",
      "Epoch 229/250\n",
      "449/449 [==============================] - 29s 65ms/step - loss: 0.7867 - accuracy: 0.6723 - val_loss: 1.0032 - val_accuracy: 0.6340\n",
      "Epoch 230/250\n",
      "449/449 [==============================] - 29s 65ms/step - loss: 0.7865 - accuracy: 0.6721 - val_loss: 1.0317 - val_accuracy: 0.6322\n",
      "Epoch 231/250\n",
      "449/449 [==============================] - 29s 64ms/step - loss: 0.7859 - accuracy: 0.6707 - val_loss: 1.0081 - val_accuracy: 0.6319\n",
      "Epoch 232/250\n",
      "449/449 [==============================] - 29s 65ms/step - loss: 0.8006 - accuracy: 0.6649 - val_loss: 1.0164 - val_accuracy: 0.6337\n",
      "Epoch 233/250\n",
      "449/449 [==============================] - 29s 65ms/step - loss: 0.8013 - accuracy: 0.6643 - val_loss: 1.0002 - val_accuracy: 0.6353\n",
      "Epoch 234/250\n",
      "449/449 [==============================] - 29s 65ms/step - loss: 0.7869 - accuracy: 0.6711 - val_loss: 1.0061 - val_accuracy: 0.6350\n",
      "Epoch 235/250\n",
      "449/449 [==============================] - 29s 66ms/step - loss: 0.7950 - accuracy: 0.6671 - val_loss: 0.9993 - val_accuracy: 0.6364\n",
      "Epoch 236/250\n",
      "449/449 [==============================] - 29s 65ms/step - loss: 0.7965 - accuracy: 0.6662 - val_loss: 1.0057 - val_accuracy: 0.6357\n",
      "Epoch 237/250\n",
      "449/449 [==============================] - 29s 65ms/step - loss: 0.7906 - accuracy: 0.6710 - val_loss: 1.0092 - val_accuracy: 0.6308\n",
      "Epoch 238/250\n",
      "449/449 [==============================] - 29s 65ms/step - loss: 0.7844 - accuracy: 0.6695 - val_loss: 1.0098 - val_accuracy: 0.6369\n",
      "Epoch 239/250\n",
      "449/449 [==============================] - 29s 66ms/step - loss: 0.7972 - accuracy: 0.6692 - val_loss: 1.0537 - val_accuracy: 0.6208\n",
      "Epoch 240/250\n",
      "449/449 [==============================] - 29s 65ms/step - loss: 0.7929 - accuracy: 0.6715 - val_loss: 1.0159 - val_accuracy: 0.6319\n",
      "Epoch 241/250\n",
      "449/449 [==============================] - 29s 65ms/step - loss: 0.7921 - accuracy: 0.6673 - val_loss: 1.0260 - val_accuracy: 0.6297\n",
      "Epoch 242/250\n",
      "449/449 [==============================] - 29s 65ms/step - loss: 0.7900 - accuracy: 0.6699 - val_loss: 1.0126 - val_accuracy: 0.6314\n",
      "Epoch 243/250\n",
      "449/449 [==============================] - 29s 65ms/step - loss: 0.7914 - accuracy: 0.6691 - val_loss: 1.0071 - val_accuracy: 0.6296\n",
      "Epoch 244/250\n",
      "449/449 [==============================] - 30s 66ms/step - loss: 0.7960 - accuracy: 0.6705 - val_loss: 1.0093 - val_accuracy: 0.6337\n",
      "Epoch 245/250\n",
      "449/449 [==============================] - 29s 65ms/step - loss: 0.7851 - accuracy: 0.6707 - val_loss: 1.0993 - val_accuracy: 0.6025\n",
      "Epoch 246/250\n",
      "449/449 [==============================] - 29s 65ms/step - loss: 0.7893 - accuracy: 0.6708 - val_loss: 1.0210 - val_accuracy: 0.6298\n",
      "Epoch 247/250\n",
      "449/449 [==============================] - 29s 65ms/step - loss: 0.7891 - accuracy: 0.6718 - val_loss: 1.0187 - val_accuracy: 0.6300\n",
      "Epoch 248/250\n",
      "449/449 [==============================] - 29s 65ms/step - loss: 0.7825 - accuracy: 0.6709 - val_loss: 1.0226 - val_accuracy: 0.6329\n",
      "Epoch 249/250\n",
      "449/449 [==============================] - 29s 65ms/step - loss: 0.7808 - accuracy: 0.6705 - val_loss: 1.0208 - val_accuracy: 0.6271\n",
      "Epoch 250/250\n",
      "449/449 [==============================] - 29s 65ms/step - loss: 0.7861 - accuracy: 0.6710 - val_loss: 1.0095 - val_accuracy: 0.6328\n"
     ]
    },
    {
     "data": {
      "text/plain": [
       "<keras.callbacks.History at 0x28433029880>"
      ]
     },
     "execution_count": 12,
     "metadata": {},
     "output_type": "execute_result"
    }
   ],
   "source": [
    "model.fit(train,epochs=250,validation_data=test,verbose=1,class_weight=class_weights)"
   ]
  },
  {
   "cell_type": "code",
   "execution_count": 13,
   "id": "9dbf8137",
   "metadata": {},
   "outputs": [
    {
     "name": "stdout",
     "output_type": "stream",
     "text": [
      "Epoch 1/250\n",
      "449/449 [==============================] - 31s 69ms/step - loss: 0.7670 - accuracy: 0.6768 - val_loss: 1.0087 - val_accuracy: 0.6301\n",
      "Epoch 2/250\n",
      "449/449 [==============================] - 32s 70ms/step - loss: 0.7833 - accuracy: 0.6719 - val_loss: 1.0179 - val_accuracy: 0.6332\n",
      "Epoch 3/250\n",
      "449/449 [==============================] - 31s 69ms/step - loss: 0.7840 - accuracy: 0.6738 - val_loss: 1.0220 - val_accuracy: 0.6307\n",
      "Epoch 4/250\n",
      "449/449 [==============================] - 30s 68ms/step - loss: 0.7836 - accuracy: 0.6705 - val_loss: 1.0041 - val_accuracy: 0.6356\n",
      "Epoch 5/250\n",
      "449/449 [==============================] - 30s 67ms/step - loss: 0.7828 - accuracy: 0.6707 - val_loss: 1.0309 - val_accuracy: 0.6266\n",
      "Epoch 6/250\n",
      "449/449 [==============================] - 32s 70ms/step - loss: 0.7833 - accuracy: 0.6702 - val_loss: 1.0245 - val_accuracy: 0.6236\n",
      "Epoch 7/250\n",
      "449/449 [==============================] - 32s 71ms/step - loss: 0.7831 - accuracy: 0.6726 - val_loss: 0.9983 - val_accuracy: 0.6397\n",
      "Epoch 8/250\n",
      "449/449 [==============================] - 31s 70ms/step - loss: 0.7905 - accuracy: 0.6680 - val_loss: 1.0036 - val_accuracy: 0.6364\n",
      "Epoch 9/250\n",
      "449/449 [==============================] - 31s 69ms/step - loss: 0.7880 - accuracy: 0.6717 - val_loss: 1.0122 - val_accuracy: 0.6300\n",
      "Epoch 10/250\n",
      "449/449 [==============================] - 30s 67ms/step - loss: 0.7795 - accuracy: 0.6746 - val_loss: 1.0098 - val_accuracy: 0.6344\n",
      "Epoch 11/250\n",
      "449/449 [==============================] - 30s 68ms/step - loss: 0.7849 - accuracy: 0.6697 - val_loss: 1.0132 - val_accuracy: 0.6328\n",
      "Epoch 12/250\n",
      "449/449 [==============================] - 30s 67ms/step - loss: 0.7799 - accuracy: 0.6719 - val_loss: 0.9987 - val_accuracy: 0.6418\n",
      "Epoch 13/250\n",
      "449/449 [==============================] - 31s 68ms/step - loss: 0.7796 - accuracy: 0.6737 - val_loss: 1.0365 - val_accuracy: 0.6258\n",
      "Epoch 14/250\n",
      "449/449 [==============================] - 31s 68ms/step - loss: 0.7809 - accuracy: 0.6699 - val_loss: 1.0382 - val_accuracy: 0.6243\n",
      "Epoch 15/250\n",
      "449/449 [==============================] - 31s 68ms/step - loss: 0.7845 - accuracy: 0.6711 - val_loss: 1.0074 - val_accuracy: 0.6328\n",
      "Epoch 16/250\n",
      "449/449 [==============================] - 31s 68ms/step - loss: 0.7843 - accuracy: 0.6725 - val_loss: 1.0104 - val_accuracy: 0.6337\n",
      "Epoch 17/250\n",
      "449/449 [==============================] - 31s 69ms/step - loss: 0.7793 - accuracy: 0.6724 - val_loss: 1.0459 - val_accuracy: 0.6245\n",
      "Epoch 18/250\n",
      "449/449 [==============================] - 31s 68ms/step - loss: 0.7842 - accuracy: 0.6761 - val_loss: 0.9975 - val_accuracy: 0.6339\n",
      "Epoch 19/250\n",
      "449/449 [==============================] - 31s 69ms/step - loss: 0.7776 - accuracy: 0.6733 - val_loss: 1.0177 - val_accuracy: 0.6321\n",
      "Epoch 20/250\n",
      "449/449 [==============================] - 31s 69ms/step - loss: 0.7773 - accuracy: 0.6740 - val_loss: 1.0158 - val_accuracy: 0.6276\n",
      "Epoch 21/250\n",
      "449/449 [==============================] - 32s 70ms/step - loss: 0.7746 - accuracy: 0.6742 - val_loss: 1.0018 - val_accuracy: 0.6362\n",
      "Epoch 22/250\n",
      "449/449 [==============================] - 31s 69ms/step - loss: 0.7773 - accuracy: 0.6759 - val_loss: 1.0093 - val_accuracy: 0.6376\n",
      "Epoch 23/250\n",
      "449/449 [==============================] - 31s 69ms/step - loss: 0.7741 - accuracy: 0.6733 - val_loss: 1.0074 - val_accuracy: 0.6319\n",
      "Epoch 24/250\n",
      "449/449 [==============================] - 31s 68ms/step - loss: 0.7799 - accuracy: 0.6730 - val_loss: 1.0386 - val_accuracy: 0.6276\n",
      "Epoch 25/250\n",
      "449/449 [==============================] - 31s 69ms/step - loss: 0.7780 - accuracy: 0.6719 - val_loss: 1.0080 - val_accuracy: 0.6301\n",
      "Epoch 26/250\n",
      "449/449 [==============================] - 31s 69ms/step - loss: 0.7770 - accuracy: 0.6765 - val_loss: 1.0014 - val_accuracy: 0.6397\n",
      "Epoch 27/250\n",
      "449/449 [==============================] - 31s 69ms/step - loss: 0.7783 - accuracy: 0.6723 - val_loss: 1.0242 - val_accuracy: 0.6308\n",
      "Epoch 28/250\n",
      "449/449 [==============================] - 31s 68ms/step - loss: 0.7859 - accuracy: 0.6736 - val_loss: 1.0136 - val_accuracy: 0.6351\n",
      "Epoch 29/250\n",
      "449/449 [==============================] - 31s 68ms/step - loss: 0.7718 - accuracy: 0.6748 - val_loss: 1.0086 - val_accuracy: 0.6339\n",
      "Epoch 30/250\n",
      "449/449 [==============================] - 31s 68ms/step - loss: 0.7697 - accuracy: 0.6772 - val_loss: 1.0262 - val_accuracy: 0.6289\n",
      "Epoch 31/250\n",
      "449/449 [==============================] - 31s 69ms/step - loss: 0.7846 - accuracy: 0.6748 - val_loss: 1.0121 - val_accuracy: 0.6337\n",
      "Epoch 32/250\n",
      "449/449 [==============================] - 31s 69ms/step - loss: 0.7759 - accuracy: 0.6735 - val_loss: 1.0022 - val_accuracy: 0.6403\n",
      "Epoch 33/250\n",
      "449/449 [==============================] - 31s 68ms/step - loss: 0.7713 - accuracy: 0.6749 - val_loss: 1.0027 - val_accuracy: 0.6386\n",
      "Epoch 34/250\n",
      "449/449 [==============================] - 31s 69ms/step - loss: 0.7774 - accuracy: 0.6792 - val_loss: 1.0233 - val_accuracy: 0.6339\n",
      "Epoch 35/250\n",
      "449/449 [==============================] - 31s 69ms/step - loss: 0.7733 - accuracy: 0.6769 - val_loss: 1.0289 - val_accuracy: 0.6290\n",
      "Epoch 36/250\n",
      "449/449 [==============================] - 31s 69ms/step - loss: 0.7729 - accuracy: 0.6810 - val_loss: 1.0075 - val_accuracy: 0.6350\n",
      "Epoch 37/250\n",
      "449/449 [==============================] - 31s 69ms/step - loss: 0.7856 - accuracy: 0.6703 - val_loss: 1.0033 - val_accuracy: 0.6388\n",
      "Epoch 38/250\n",
      "449/449 [==============================] - 31s 68ms/step - loss: 0.7699 - accuracy: 0.6748 - val_loss: 1.0086 - val_accuracy: 0.6364\n",
      "Epoch 39/250\n",
      "449/449 [==============================] - 31s 69ms/step - loss: 0.7816 - accuracy: 0.6722 - val_loss: 1.0150 - val_accuracy: 0.6317\n",
      "Epoch 40/250\n",
      "449/449 [==============================] - 31s 68ms/step - loss: 0.7734 - accuracy: 0.6753 - val_loss: 1.0080 - val_accuracy: 0.6358\n",
      "Epoch 41/250\n",
      "449/449 [==============================] - 31s 69ms/step - loss: 0.7695 - accuracy: 0.6766 - val_loss: 1.0090 - val_accuracy: 0.6369\n",
      "Epoch 42/250\n",
      "449/449 [==============================] - 31s 69ms/step - loss: 0.7804 - accuracy: 0.6769 - val_loss: 1.0461 - val_accuracy: 0.6244\n",
      "Epoch 43/250\n",
      "449/449 [==============================] - 31s 70ms/step - loss: 0.7732 - accuracy: 0.6739 - val_loss: 1.0091 - val_accuracy: 0.6397\n",
      "Epoch 44/250\n",
      "449/449 [==============================] - 31s 69ms/step - loss: 0.7755 - accuracy: 0.6765 - val_loss: 1.0324 - val_accuracy: 0.6293\n",
      "Epoch 45/250\n",
      "449/449 [==============================] - 32s 72ms/step - loss: 0.7824 - accuracy: 0.6728 - val_loss: 1.0622 - val_accuracy: 0.6215\n",
      "Epoch 46/250\n",
      "449/449 [==============================] - 32s 70ms/step - loss: 0.7796 - accuracy: 0.6736 - val_loss: 1.0071 - val_accuracy: 0.6395\n",
      "Epoch 47/250\n",
      "449/449 [==============================] - 31s 69ms/step - loss: 0.7746 - accuracy: 0.6738 - val_loss: 1.0095 - val_accuracy: 0.6414\n",
      "Epoch 48/250\n",
      "449/449 [==============================] - 31s 69ms/step - loss: 0.7674 - accuracy: 0.6752 - val_loss: 1.0182 - val_accuracy: 0.6374\n",
      "Epoch 49/250\n",
      "449/449 [==============================] - 31s 69ms/step - loss: 0.7686 - accuracy: 0.6760 - val_loss: 1.0303 - val_accuracy: 0.6303\n",
      "Epoch 50/250\n",
      "449/449 [==============================] - 31s 68ms/step - loss: 0.7701 - accuracy: 0.6763 - val_loss: 1.0118 - val_accuracy: 0.6364\n",
      "Epoch 51/250\n",
      "449/449 [==============================] - 32s 72ms/step - loss: 0.7738 - accuracy: 0.6778 - val_loss: 1.0098 - val_accuracy: 0.6388\n",
      "Epoch 52/250\n",
      "449/449 [==============================] - 32s 70ms/step - loss: 0.7661 - accuracy: 0.6779 - val_loss: 1.0133 - val_accuracy: 0.6360\n",
      "Epoch 53/250\n",
      "449/449 [==============================] - 32s 71ms/step - loss: 0.7718 - accuracy: 0.6750 - val_loss: 1.0395 - val_accuracy: 0.6284\n",
      "Epoch 54/250\n",
      "449/449 [==============================] - 31s 68ms/step - loss: 0.7683 - accuracy: 0.6793 - val_loss: 1.0281 - val_accuracy: 0.6310\n",
      "Epoch 55/250\n",
      "449/449 [==============================] - 31s 68ms/step - loss: 0.7667 - accuracy: 0.6827 - val_loss: 1.0222 - val_accuracy: 0.6358\n",
      "Epoch 56/250\n",
      "449/449 [==============================] - 30s 68ms/step - loss: 0.7666 - accuracy: 0.6808 - val_loss: 1.0124 - val_accuracy: 0.6378\n",
      "Epoch 57/250\n",
      "449/449 [==============================] - 32s 71ms/step - loss: 0.7724 - accuracy: 0.6776 - val_loss: 0.9934 - val_accuracy: 0.6396\n",
      "Epoch 58/250\n",
      "449/449 [==============================] - 31s 70ms/step - loss: 0.7726 - accuracy: 0.6767 - val_loss: 1.0070 - val_accuracy: 0.6410\n",
      "Epoch 59/250\n",
      "449/449 [==============================] - 32s 72ms/step - loss: 0.7684 - accuracy: 0.6807 - val_loss: 0.9993 - val_accuracy: 0.6424\n",
      "Epoch 60/250\n",
      "449/449 [==============================] - 31s 69ms/step - loss: 0.7736 - accuracy: 0.6751 - val_loss: 1.0280 - val_accuracy: 0.6332\n",
      "Epoch 61/250\n",
      "449/449 [==============================] - 31s 69ms/step - loss: 0.7688 - accuracy: 0.6798 - val_loss: 1.0099 - val_accuracy: 0.6333\n",
      "Epoch 62/250\n",
      "449/449 [==============================] - 31s 70ms/step - loss: 0.7709 - accuracy: 0.6762 - val_loss: 1.0018 - val_accuracy: 0.6441\n",
      "Epoch 63/250\n",
      "449/449 [==============================] - 31s 68ms/step - loss: 0.7677 - accuracy: 0.6808 - val_loss: 1.0129 - val_accuracy: 0.6383\n",
      "Epoch 64/250\n",
      "449/449 [==============================] - 31s 68ms/step - loss: 0.7730 - accuracy: 0.6779 - val_loss: 1.0390 - val_accuracy: 0.6265\n",
      "Epoch 65/250\n",
      "449/449 [==============================] - 33s 73ms/step - loss: 0.7666 - accuracy: 0.6771 - val_loss: 1.0373 - val_accuracy: 0.6247\n",
      "Epoch 66/250\n",
      "449/449 [==============================] - 32s 71ms/step - loss: 0.7620 - accuracy: 0.6803 - val_loss: 1.0255 - val_accuracy: 0.6318\n",
      "Epoch 67/250\n",
      "449/449 [==============================] - 31s 69ms/step - loss: 0.7660 - accuracy: 0.6793 - val_loss: 1.0063 - val_accuracy: 0.6392\n",
      "Epoch 68/250\n",
      "449/449 [==============================] - 31s 69ms/step - loss: 0.7714 - accuracy: 0.6753 - val_loss: 1.0189 - val_accuracy: 0.6381\n",
      "Epoch 69/250\n",
      "449/449 [==============================] - 31s 68ms/step - loss: 0.7669 - accuracy: 0.6791 - val_loss: 1.0114 - val_accuracy: 0.6350\n",
      "Epoch 70/250\n",
      "449/449 [==============================] - 31s 68ms/step - loss: 0.7715 - accuracy: 0.6757 - val_loss: 1.0136 - val_accuracy: 0.6339\n",
      "Epoch 71/250\n",
      "449/449 [==============================] - 31s 69ms/step - loss: 0.7638 - accuracy: 0.6780 - val_loss: 1.0067 - val_accuracy: 0.6421\n",
      "Epoch 72/250\n",
      "449/449 [==============================] - 31s 69ms/step - loss: 0.7650 - accuracy: 0.6823 - val_loss: 1.0131 - val_accuracy: 0.6358\n",
      "Epoch 73/250\n",
      "449/449 [==============================] - 31s 68ms/step - loss: 0.7608 - accuracy: 0.6786 - val_loss: 1.0105 - val_accuracy: 0.6385\n",
      "Epoch 74/250\n",
      "449/449 [==============================] - 31s 69ms/step - loss: 0.7702 - accuracy: 0.6768 - val_loss: 1.0212 - val_accuracy: 0.6422\n",
      "Epoch 75/250\n",
      "449/449 [==============================] - 31s 69ms/step - loss: 0.7693 - accuracy: 0.6791 - val_loss: 1.0020 - val_accuracy: 0.6435\n",
      "Epoch 76/250\n",
      "449/449 [==============================] - 31s 70ms/step - loss: 0.7705 - accuracy: 0.6809 - val_loss: 1.0332 - val_accuracy: 0.6297\n",
      "Epoch 77/250\n",
      "449/449 [==============================] - 32s 70ms/step - loss: 0.7716 - accuracy: 0.6793 - val_loss: 1.0322 - val_accuracy: 0.6308\n",
      "Epoch 78/250\n",
      "449/449 [==============================] - 31s 68ms/step - loss: 0.7579 - accuracy: 0.6845 - val_loss: 1.0082 - val_accuracy: 0.6406\n",
      "Epoch 79/250\n",
      "449/449 [==============================] - 30s 68ms/step - loss: 0.7614 - accuracy: 0.6851 - val_loss: 1.0056 - val_accuracy: 0.6388\n",
      "Epoch 80/250\n",
      "449/449 [==============================] - 31s 68ms/step - loss: 0.7714 - accuracy: 0.6805 - val_loss: 1.0337 - val_accuracy: 0.6282\n",
      "Epoch 81/250\n",
      "449/449 [==============================] - 31s 68ms/step - loss: 0.7706 - accuracy: 0.6774 - val_loss: 1.0246 - val_accuracy: 0.6314\n",
      "Epoch 82/250\n",
      "449/449 [==============================] - 31s 69ms/step - loss: 0.7647 - accuracy: 0.6806 - val_loss: 0.9991 - val_accuracy: 0.6424\n",
      "Epoch 83/250\n",
      "449/449 [==============================] - 30s 67ms/step - loss: 0.7705 - accuracy: 0.6774 - val_loss: 0.9971 - val_accuracy: 0.6436\n",
      "Epoch 84/250\n",
      "449/449 [==============================] - 31s 68ms/step - loss: 0.7619 - accuracy: 0.6824 - val_loss: 1.0129 - val_accuracy: 0.6351\n",
      "Epoch 85/250\n",
      "449/449 [==============================] - 31s 68ms/step - loss: 0.7682 - accuracy: 0.6786 - val_loss: 1.0131 - val_accuracy: 0.6372\n",
      "Epoch 86/250\n",
      "449/449 [==============================] - 30s 68ms/step - loss: 0.7624 - accuracy: 0.6815 - val_loss: 1.0012 - val_accuracy: 0.6374\n",
      "Epoch 87/250\n",
      "449/449 [==============================] - 30s 68ms/step - loss: 0.7730 - accuracy: 0.6782 - val_loss: 0.9981 - val_accuracy: 0.6427\n",
      "Epoch 88/250\n",
      "449/449 [==============================] - 30s 68ms/step - loss: 0.7674 - accuracy: 0.6812 - val_loss: 1.0136 - val_accuracy: 0.6351\n",
      "Epoch 89/250\n",
      "449/449 [==============================] - 30s 67ms/step - loss: 0.7718 - accuracy: 0.6762 - val_loss: 0.9981 - val_accuracy: 0.6421\n",
      "Epoch 90/250\n",
      "449/449 [==============================] - 31s 68ms/step - loss: 0.7619 - accuracy: 0.6787 - val_loss: 1.0041 - val_accuracy: 0.6452\n",
      "Epoch 91/250\n",
      "449/449 [==============================] - 31s 68ms/step - loss: 0.7612 - accuracy: 0.6823 - val_loss: 1.0245 - val_accuracy: 0.6304\n",
      "Epoch 92/250\n",
      "449/449 [==============================] - 31s 70ms/step - loss: 0.7573 - accuracy: 0.6840 - val_loss: 1.0257 - val_accuracy: 0.6319\n",
      "Epoch 93/250\n",
      "449/449 [==============================] - 31s 70ms/step - loss: 0.7638 - accuracy: 0.6820 - val_loss: 1.0039 - val_accuracy: 0.6393\n",
      "Epoch 94/250\n",
      "449/449 [==============================] - 30s 68ms/step - loss: 0.7613 - accuracy: 0.6812 - val_loss: 0.9993 - val_accuracy: 0.6403\n",
      "Epoch 95/250\n",
      "449/449 [==============================] - 31s 68ms/step - loss: 0.7549 - accuracy: 0.6812 - val_loss: 1.0111 - val_accuracy: 0.6371\n",
      "Epoch 96/250\n",
      "449/449 [==============================] - 30s 67ms/step - loss: 0.7623 - accuracy: 0.6793 - val_loss: 1.0079 - val_accuracy: 0.6393\n",
      "Epoch 97/250\n",
      "449/449 [==============================] - 31s 69ms/step - loss: 0.7642 - accuracy: 0.6807 - val_loss: 1.0029 - val_accuracy: 0.6417\n",
      "Epoch 98/250\n",
      "449/449 [==============================] - 30s 68ms/step - loss: 0.7565 - accuracy: 0.6807 - val_loss: 1.0116 - val_accuracy: 0.6365\n",
      "Epoch 99/250\n",
      "449/449 [==============================] - 31s 68ms/step - loss: 0.7551 - accuracy: 0.6800 - val_loss: 1.0074 - val_accuracy: 0.6385\n",
      "Epoch 100/250\n",
      "449/449 [==============================] - 30s 68ms/step - loss: 0.7508 - accuracy: 0.6840 - val_loss: 1.0082 - val_accuracy: 0.6372\n",
      "Epoch 101/250\n",
      "449/449 [==============================] - 30s 68ms/step - loss: 0.7632 - accuracy: 0.6802 - val_loss: 1.0320 - val_accuracy: 0.6311\n",
      "Epoch 102/250\n",
      "449/449 [==============================] - 31s 68ms/step - loss: 0.7569 - accuracy: 0.6854 - val_loss: 1.0055 - val_accuracy: 0.6389\n",
      "Epoch 103/250\n",
      "449/449 [==============================] - 30s 68ms/step - loss: 0.7589 - accuracy: 0.6814 - val_loss: 1.0035 - val_accuracy: 0.6392\n",
      "Epoch 104/250\n",
      "449/449 [==============================] - 32s 71ms/step - loss: 0.7607 - accuracy: 0.6822 - val_loss: 1.0261 - val_accuracy: 0.6312\n",
      "Epoch 105/250\n",
      "449/449 [==============================] - 31s 69ms/step - loss: 0.7706 - accuracy: 0.6816 - val_loss: 1.0098 - val_accuracy: 0.6364\n",
      "Epoch 106/250\n",
      "449/449 [==============================] - 31s 68ms/step - loss: 0.7598 - accuracy: 0.6809 - val_loss: 1.0038 - val_accuracy: 0.6435\n",
      "Epoch 107/250\n",
      "449/449 [==============================] - 32s 71ms/step - loss: 0.7601 - accuracy: 0.6818 - val_loss: 1.0230 - val_accuracy: 0.6332\n",
      "Epoch 108/250\n",
      "449/449 [==============================] - 31s 70ms/step - loss: 0.7519 - accuracy: 0.6813 - val_loss: 1.0285 - val_accuracy: 0.6326\n",
      "Epoch 109/250\n",
      "449/449 [==============================] - 31s 70ms/step - loss: 0.7566 - accuracy: 0.6861 - val_loss: 1.0182 - val_accuracy: 0.6328\n",
      "Epoch 110/250\n",
      "449/449 [==============================] - 32s 70ms/step - loss: 0.7633 - accuracy: 0.6795 - val_loss: 1.0047 - val_accuracy: 0.6413\n",
      "Epoch 111/250\n",
      "449/449 [==============================] - 31s 69ms/step - loss: 0.7589 - accuracy: 0.6845 - val_loss: 1.0224 - val_accuracy: 0.6349\n",
      "Epoch 112/250\n",
      "449/449 [==============================] - 31s 68ms/step - loss: 0.7608 - accuracy: 0.6826 - val_loss: 1.0143 - val_accuracy: 0.6358\n",
      "Epoch 113/250\n",
      "449/449 [==============================] - 31s 68ms/step - loss: 0.7596 - accuracy: 0.6821 - val_loss: 1.0263 - val_accuracy: 0.6321\n",
      "Epoch 114/250\n",
      "449/449 [==============================] - 31s 69ms/step - loss: 0.7533 - accuracy: 0.6813 - val_loss: 1.0160 - val_accuracy: 0.6365\n",
      "Epoch 115/250\n",
      "449/449 [==============================] - 31s 68ms/step - loss: 0.7579 - accuracy: 0.6833 - val_loss: 1.0063 - val_accuracy: 0.6427\n",
      "Epoch 116/250\n",
      "449/449 [==============================] - 31s 69ms/step - loss: 0.7521 - accuracy: 0.6862 - val_loss: 1.0431 - val_accuracy: 0.6290\n",
      "Epoch 117/250\n",
      "449/449 [==============================] - 31s 69ms/step - loss: 0.7577 - accuracy: 0.6808 - val_loss: 1.0076 - val_accuracy: 0.6389\n",
      "Epoch 118/250\n",
      "449/449 [==============================] - 31s 69ms/step - loss: 0.7500 - accuracy: 0.6843 - val_loss: 1.0083 - val_accuracy: 0.6403\n",
      "Epoch 119/250\n",
      "449/449 [==============================] - 31s 69ms/step - loss: 0.7616 - accuracy: 0.6818 - val_loss: 1.0228 - val_accuracy: 0.6378\n",
      "Epoch 120/250\n",
      "449/449 [==============================] - 31s 70ms/step - loss: 0.7486 - accuracy: 0.6863 - val_loss: 1.0128 - val_accuracy: 0.6389\n",
      "Epoch 121/250\n",
      "449/449 [==============================] - 31s 70ms/step - loss: 0.7625 - accuracy: 0.6826 - val_loss: 1.0120 - val_accuracy: 0.6374\n",
      "Epoch 122/250\n",
      "449/449 [==============================] - 31s 70ms/step - loss: 0.7604 - accuracy: 0.6815 - val_loss: 1.0111 - val_accuracy: 0.6371\n",
      "Epoch 123/250\n",
      "449/449 [==============================] - 32s 72ms/step - loss: 0.7483 - accuracy: 0.6865 - val_loss: 1.0035 - val_accuracy: 0.6417\n",
      "Epoch 124/250\n",
      "449/449 [==============================] - 31s 70ms/step - loss: 0.7484 - accuracy: 0.6854 - val_loss: 1.0146 - val_accuracy: 0.6376\n",
      "Epoch 125/250\n",
      "449/449 [==============================] - 31s 69ms/step - loss: 0.7534 - accuracy: 0.6848 - val_loss: 1.0346 - val_accuracy: 0.6365\n",
      "Epoch 126/250\n",
      "449/449 [==============================] - 31s 69ms/step - loss: 0.7586 - accuracy: 0.6835 - val_loss: 1.0111 - val_accuracy: 0.6396\n",
      "Epoch 127/250\n",
      "449/449 [==============================] - 32s 70ms/step - loss: 0.7518 - accuracy: 0.6849 - val_loss: 1.0193 - val_accuracy: 0.6360\n",
      "Epoch 128/250\n",
      "449/449 [==============================] - 31s 70ms/step - loss: 0.7564 - accuracy: 0.6842 - val_loss: 1.0120 - val_accuracy: 0.6422\n",
      "Epoch 129/250\n",
      "449/449 [==============================] - 31s 68ms/step - loss: 0.7550 - accuracy: 0.6842 - val_loss: 1.0181 - val_accuracy: 0.6390\n",
      "Epoch 130/250\n",
      "449/449 [==============================] - 31s 68ms/step - loss: 0.7529 - accuracy: 0.6826 - val_loss: 1.0188 - val_accuracy: 0.6354\n",
      "Epoch 131/250\n",
      "449/449 [==============================] - 31s 69ms/step - loss: 0.7514 - accuracy: 0.6872 - val_loss: 1.0221 - val_accuracy: 0.6385\n",
      "Epoch 132/250\n",
      "449/449 [==============================] - 31s 69ms/step - loss: 0.7541 - accuracy: 0.6839 - val_loss: 1.0121 - val_accuracy: 0.6445\n",
      "Epoch 133/250\n",
      "449/449 [==============================] - 31s 70ms/step - loss: 0.7507 - accuracy: 0.6825 - val_loss: 1.0130 - val_accuracy: 0.6388\n",
      "Epoch 134/250\n",
      "449/449 [==============================] - 31s 69ms/step - loss: 0.7494 - accuracy: 0.6891 - val_loss: 1.0076 - val_accuracy: 0.6418\n",
      "Epoch 135/250\n",
      "449/449 [==============================] - 32s 71ms/step - loss: 0.7513 - accuracy: 0.6824 - val_loss: 1.0281 - val_accuracy: 0.6296\n",
      "Epoch 136/250\n",
      "449/449 [==============================] - 31s 70ms/step - loss: 0.7450 - accuracy: 0.6883 - val_loss: 1.0058 - val_accuracy: 0.6418\n",
      "Epoch 137/250\n",
      "449/449 [==============================] - 31s 68ms/step - loss: 0.7633 - accuracy: 0.6812 - val_loss: 1.0268 - val_accuracy: 0.6367\n",
      "Epoch 138/250\n",
      "449/449 [==============================] - 31s 68ms/step - loss: 0.7511 - accuracy: 0.6849 - val_loss: 1.0012 - val_accuracy: 0.6481\n",
      "Epoch 139/250\n",
      "449/449 [==============================] - 31s 69ms/step - loss: 0.7516 - accuracy: 0.6883 - val_loss: 1.0548 - val_accuracy: 0.6273\n",
      "Epoch 140/250\n",
      "449/449 [==============================] - 31s 70ms/step - loss: 0.7620 - accuracy: 0.6828 - val_loss: 1.0117 - val_accuracy: 0.6403\n",
      "Epoch 141/250\n",
      "449/449 [==============================] - 31s 69ms/step - loss: 0.7605 - accuracy: 0.6848 - val_loss: 1.0224 - val_accuracy: 0.6358\n",
      "Epoch 142/250\n",
      "449/449 [==============================] - 31s 68ms/step - loss: 0.7506 - accuracy: 0.6838 - val_loss: 1.0125 - val_accuracy: 0.6390\n",
      "Epoch 143/250\n",
      "449/449 [==============================] - 31s 68ms/step - loss: 0.7553 - accuracy: 0.6807 - val_loss: 1.0489 - val_accuracy: 0.6266\n",
      "Epoch 144/250\n",
      "449/449 [==============================] - 31s 68ms/step - loss: 0.7521 - accuracy: 0.6859 - val_loss: 1.0039 - val_accuracy: 0.6418\n",
      "Epoch 145/250\n",
      "449/449 [==============================] - 31s 68ms/step - loss: 0.7461 - accuracy: 0.6864 - val_loss: 1.0082 - val_accuracy: 0.6372\n",
      "Epoch 146/250\n",
      "449/449 [==============================] - 31s 68ms/step - loss: 0.7555 - accuracy: 0.6826 - val_loss: 1.0089 - val_accuracy: 0.6413\n",
      "Epoch 147/250\n",
      "449/449 [==============================] - 31s 68ms/step - loss: 0.7461 - accuracy: 0.6887 - val_loss: 1.0427 - val_accuracy: 0.6279\n",
      "Epoch 148/250\n",
      "449/449 [==============================] - 31s 68ms/step - loss: 0.7545 - accuracy: 0.6824 - val_loss: 1.0126 - val_accuracy: 0.6422\n",
      "Epoch 149/250\n",
      "449/449 [==============================] - 31s 68ms/step - loss: 0.7473 - accuracy: 0.6877 - val_loss: 1.0125 - val_accuracy: 0.6403\n",
      "Epoch 150/250\n",
      "449/449 [==============================] - 31s 69ms/step - loss: 0.7523 - accuracy: 0.6835 - val_loss: 1.0087 - val_accuracy: 0.6404\n",
      "Epoch 151/250\n",
      "449/449 [==============================] - 31s 69ms/step - loss: 0.7508 - accuracy: 0.6870 - val_loss: 1.0109 - val_accuracy: 0.6442\n",
      "Epoch 152/250\n",
      "449/449 [==============================] - 31s 70ms/step - loss: 0.7496 - accuracy: 0.6868 - val_loss: 1.0151 - val_accuracy: 0.6400\n",
      "Epoch 153/250\n",
      "449/449 [==============================] - 30s 68ms/step - loss: 0.7444 - accuracy: 0.6871 - val_loss: 1.0110 - val_accuracy: 0.6457\n",
      "Epoch 154/250\n",
      "449/449 [==============================] - 31s 68ms/step - loss: 0.7467 - accuracy: 0.6819 - val_loss: 1.0169 - val_accuracy: 0.6415\n",
      "Epoch 155/250\n",
      "449/449 [==============================] - 31s 68ms/step - loss: 0.7517 - accuracy: 0.6855 - val_loss: 1.0120 - val_accuracy: 0.6389\n",
      "Epoch 156/250\n",
      "449/449 [==============================] - 31s 69ms/step - loss: 0.7485 - accuracy: 0.6849 - val_loss: 1.0136 - val_accuracy: 0.6418\n",
      "Epoch 157/250\n",
      "449/449 [==============================] - 31s 69ms/step - loss: 0.7545 - accuracy: 0.6830 - val_loss: 1.0200 - val_accuracy: 0.6372\n",
      "Epoch 158/250\n",
      "449/449 [==============================] - 31s 69ms/step - loss: 0.7457 - accuracy: 0.6871 - val_loss: 1.0019 - val_accuracy: 0.6413\n",
      "Epoch 159/250\n",
      "449/449 [==============================] - 31s 69ms/step - loss: 0.7436 - accuracy: 0.6877 - val_loss: 1.0171 - val_accuracy: 0.6356\n",
      "Epoch 160/250\n",
      "449/449 [==============================] - 31s 70ms/step - loss: 0.7467 - accuracy: 0.6873 - val_loss: 1.0228 - val_accuracy: 0.6351\n",
      "Epoch 161/250\n",
      "449/449 [==============================] - 31s 69ms/step - loss: 0.7462 - accuracy: 0.6889 - val_loss: 1.0530 - val_accuracy: 0.6248\n",
      "Epoch 162/250\n",
      "449/449 [==============================] - 31s 70ms/step - loss: 0.7452 - accuracy: 0.6863 - val_loss: 1.0078 - val_accuracy: 0.6442\n",
      "Epoch 163/250\n",
      "449/449 [==============================] - 31s 68ms/step - loss: 0.7572 - accuracy: 0.6852 - val_loss: 1.0048 - val_accuracy: 0.6418\n",
      "Epoch 164/250\n",
      "449/449 [==============================] - 31s 69ms/step - loss: 0.7457 - accuracy: 0.6853 - val_loss: 1.0105 - val_accuracy: 0.6376\n",
      "Epoch 165/250\n",
      "449/449 [==============================] - 31s 69ms/step - loss: 0.7461 - accuracy: 0.6859 - val_loss: 1.0333 - val_accuracy: 0.6321\n",
      "Epoch 166/250\n",
      "449/449 [==============================] - 31s 69ms/step - loss: 0.7526 - accuracy: 0.6858 - val_loss: 1.0154 - val_accuracy: 0.6395\n",
      "Epoch 167/250\n",
      "449/449 [==============================] - 31s 68ms/step - loss: 0.7407 - accuracy: 0.6917 - val_loss: 1.0077 - val_accuracy: 0.6424\n",
      "Epoch 168/250\n",
      "449/449 [==============================] - 31s 69ms/step - loss: 0.7401 - accuracy: 0.6908 - val_loss: 1.0094 - val_accuracy: 0.6404\n",
      "Epoch 169/250\n",
      "449/449 [==============================] - 31s 68ms/step - loss: 0.7546 - accuracy: 0.6850 - val_loss: 1.0121 - val_accuracy: 0.6396\n",
      "Epoch 170/250\n",
      "449/449 [==============================] - 31s 69ms/step - loss: 0.7447 - accuracy: 0.6898 - val_loss: 1.0281 - val_accuracy: 0.6343\n",
      "Epoch 171/250\n",
      "449/449 [==============================] - 31s 69ms/step - loss: 0.7542 - accuracy: 0.6873 - val_loss: 1.0252 - val_accuracy: 0.6361\n",
      "Epoch 172/250\n",
      "449/449 [==============================] - 31s 68ms/step - loss: 0.7483 - accuracy: 0.6869 - val_loss: 1.0382 - val_accuracy: 0.6297\n",
      "Epoch 173/250\n",
      "449/449 [==============================] - 31s 68ms/step - loss: 0.7419 - accuracy: 0.6892 - val_loss: 1.0148 - val_accuracy: 0.6390\n",
      "Epoch 174/250\n",
      "449/449 [==============================] - 31s 68ms/step - loss: 0.7375 - accuracy: 0.6912 - val_loss: 1.0202 - val_accuracy: 0.6399\n",
      "Epoch 175/250\n",
      "449/449 [==============================] - 31s 68ms/step - loss: 0.7516 - accuracy: 0.6849 - val_loss: 1.0133 - val_accuracy: 0.6404\n",
      "Epoch 176/250\n",
      "449/449 [==============================] - 31s 68ms/step - loss: 0.7481 - accuracy: 0.6869 - val_loss: 1.0018 - val_accuracy: 0.6457\n",
      "Epoch 177/250\n",
      "449/449 [==============================] - 31s 69ms/step - loss: 0.7378 - accuracy: 0.6905 - val_loss: 1.0320 - val_accuracy: 0.6321\n",
      "Epoch 178/250\n",
      "449/449 [==============================] - 31s 69ms/step - loss: 0.7485 - accuracy: 0.6868 - val_loss: 1.0215 - val_accuracy: 0.6358\n",
      "Epoch 179/250\n",
      "449/449 [==============================] - 31s 68ms/step - loss: 0.7478 - accuracy: 0.6842 - val_loss: 1.0166 - val_accuracy: 0.6424\n",
      "Epoch 180/250\n",
      "449/449 [==============================] - 31s 69ms/step - loss: 0.7471 - accuracy: 0.6847 - val_loss: 1.0203 - val_accuracy: 0.6385\n",
      "Epoch 181/250\n",
      "449/449 [==============================] - 31s 70ms/step - loss: 0.7472 - accuracy: 0.6877 - val_loss: 1.0206 - val_accuracy: 0.6385\n",
      "Epoch 182/250\n",
      "449/449 [==============================] - 31s 68ms/step - loss: 0.7403 - accuracy: 0.6901 - val_loss: 1.0127 - val_accuracy: 0.6365\n",
      "Epoch 183/250\n",
      "449/449 [==============================] - 31s 69ms/step - loss: 0.7477 - accuracy: 0.6866 - val_loss: 1.0141 - val_accuracy: 0.6422\n",
      "Epoch 184/250\n",
      "449/449 [==============================] - 31s 68ms/step - loss: 0.7420 - accuracy: 0.6918 - val_loss: 1.0372 - val_accuracy: 0.6335\n",
      "Epoch 185/250\n",
      "449/449 [==============================] - 30s 68ms/step - loss: 0.7406 - accuracy: 0.6897 - val_loss: 1.0161 - val_accuracy: 0.6395\n",
      "Epoch 186/250\n",
      "449/449 [==============================] - 31s 69ms/step - loss: 0.7460 - accuracy: 0.6870 - val_loss: 1.0081 - val_accuracy: 0.6390\n",
      "Epoch 187/250\n",
      "449/449 [==============================] - 31s 69ms/step - loss: 0.7494 - accuracy: 0.6887 - val_loss: 1.0093 - val_accuracy: 0.6403\n",
      "Epoch 188/250\n",
      "449/449 [==============================] - 31s 68ms/step - loss: 0.7497 - accuracy: 0.6872 - val_loss: 1.0276 - val_accuracy: 0.6383\n",
      "Epoch 189/250\n",
      "449/449 [==============================] - 31s 68ms/step - loss: 0.7427 - accuracy: 0.6841 - val_loss: 1.0075 - val_accuracy: 0.6403\n",
      "Epoch 190/250\n",
      "449/449 [==============================] - 31s 68ms/step - loss: 0.7380 - accuracy: 0.6912 - val_loss: 1.0182 - val_accuracy: 0.6349\n",
      "Epoch 191/250\n",
      "449/449 [==============================] - 31s 69ms/step - loss: 0.7473 - accuracy: 0.6880 - val_loss: 1.0207 - val_accuracy: 0.6403\n",
      "Epoch 192/250\n",
      "449/449 [==============================] - 31s 69ms/step - loss: 0.7420 - accuracy: 0.6908 - val_loss: 1.0112 - val_accuracy: 0.6396\n",
      "Epoch 193/250\n",
      "449/449 [==============================] - 31s 68ms/step - loss: 0.7418 - accuracy: 0.6877 - val_loss: 1.0116 - val_accuracy: 0.6388\n",
      "Epoch 194/250\n",
      "449/449 [==============================] - 31s 69ms/step - loss: 0.7414 - accuracy: 0.6886 - val_loss: 1.0228 - val_accuracy: 0.6381\n",
      "Epoch 195/250\n",
      "449/449 [==============================] - 31s 68ms/step - loss: 0.7333 - accuracy: 0.6897 - val_loss: 1.0171 - val_accuracy: 0.6368\n",
      "Epoch 196/250\n",
      "449/449 [==============================] - 31s 70ms/step - loss: 0.7445 - accuracy: 0.6880 - val_loss: 1.0141 - val_accuracy: 0.6449\n",
      "Epoch 197/250\n",
      "449/449 [==============================] - 31s 69ms/step - loss: 0.7408 - accuracy: 0.6876 - val_loss: 1.0224 - val_accuracy: 0.6385\n",
      "Epoch 198/250\n",
      "449/449 [==============================] - 31s 68ms/step - loss: 0.7475 - accuracy: 0.6889 - val_loss: 1.0170 - val_accuracy: 0.6413\n",
      "Epoch 199/250\n",
      "449/449 [==============================] - 31s 68ms/step - loss: 0.7394 - accuracy: 0.6897 - val_loss: 1.0291 - val_accuracy: 0.6339\n",
      "Epoch 200/250\n",
      "449/449 [==============================] - 31s 68ms/step - loss: 0.7451 - accuracy: 0.6887 - val_loss: 1.0353 - val_accuracy: 0.6283\n",
      "Epoch 201/250\n",
      "449/449 [==============================] - 31s 68ms/step - loss: 0.7396 - accuracy: 0.6918 - val_loss: 1.0120 - val_accuracy: 0.6410\n",
      "Epoch 202/250\n",
      "449/449 [==============================] - 31s 68ms/step - loss: 0.7376 - accuracy: 0.6890 - val_loss: 1.0017 - val_accuracy: 0.6453\n",
      "Epoch 203/250\n",
      "449/449 [==============================] - 31s 69ms/step - loss: 0.7316 - accuracy: 0.6924 - val_loss: 1.0116 - val_accuracy: 0.6450\n",
      "Epoch 204/250\n",
      "449/449 [==============================] - 31s 69ms/step - loss: 0.7492 - accuracy: 0.6893 - val_loss: 1.0166 - val_accuracy: 0.6414\n",
      "Epoch 205/250\n",
      "449/449 [==============================] - 31s 69ms/step - loss: 0.7420 - accuracy: 0.6876 - val_loss: 1.0202 - val_accuracy: 0.6418\n",
      "Epoch 206/250\n",
      "449/449 [==============================] - 31s 68ms/step - loss: 0.7375 - accuracy: 0.6896 - val_loss: 1.0001 - val_accuracy: 0.6456\n",
      "Epoch 207/250\n",
      "449/449 [==============================] - 31s 69ms/step - loss: 0.7356 - accuracy: 0.6895 - val_loss: 1.0197 - val_accuracy: 0.6385\n",
      "Epoch 208/250\n",
      "449/449 [==============================] - 31s 69ms/step - loss: 0.7385 - accuracy: 0.6933 - val_loss: 1.0076 - val_accuracy: 0.6411\n",
      "Epoch 209/250\n",
      "449/449 [==============================] - 31s 69ms/step - loss: 0.7305 - accuracy: 0.6915 - val_loss: 1.0105 - val_accuracy: 0.6397\n",
      "Epoch 210/250\n",
      "449/449 [==============================] - 31s 69ms/step - loss: 0.7419 - accuracy: 0.6910 - val_loss: 1.0207 - val_accuracy: 0.6381\n",
      "Epoch 211/250\n",
      "449/449 [==============================] - 31s 69ms/step - loss: 0.7389 - accuracy: 0.6908 - val_loss: 1.0277 - val_accuracy: 0.6364\n",
      "Epoch 212/250\n",
      "449/449 [==============================] - 31s 69ms/step - loss: 0.7365 - accuracy: 0.6904 - val_loss: 1.0135 - val_accuracy: 0.6439\n",
      "Epoch 213/250\n",
      "449/449 [==============================] - 31s 69ms/step - loss: 0.7382 - accuracy: 0.6889 - val_loss: 1.0186 - val_accuracy: 0.6395\n",
      "Epoch 214/250\n",
      "449/449 [==============================] - 31s 68ms/step - loss: 0.7375 - accuracy: 0.6879 - val_loss: 1.0242 - val_accuracy: 0.6371\n",
      "Epoch 215/250\n",
      "449/449 [==============================] - 31s 68ms/step - loss: 0.7470 - accuracy: 0.6893 - val_loss: 1.0145 - val_accuracy: 0.6365\n",
      "Epoch 216/250\n",
      "449/449 [==============================] - 31s 68ms/step - loss: 0.7432 - accuracy: 0.6897 - val_loss: 1.0198 - val_accuracy: 0.6408\n",
      "Epoch 217/250\n",
      "449/449 [==============================] - 31s 69ms/step - loss: 0.7356 - accuracy: 0.6899 - val_loss: 1.0111 - val_accuracy: 0.6481\n",
      "Epoch 218/250\n",
      "449/449 [==============================] - 31s 69ms/step - loss: 0.7442 - accuracy: 0.6900 - val_loss: 1.0334 - val_accuracy: 0.6342\n",
      "Epoch 219/250\n",
      "449/449 [==============================] - 31s 69ms/step - loss: 0.7468 - accuracy: 0.6904 - val_loss: 1.0039 - val_accuracy: 0.6421\n",
      "Epoch 220/250\n",
      "449/449 [==============================] - 31s 69ms/step - loss: 0.7400 - accuracy: 0.6953 - val_loss: 1.0113 - val_accuracy: 0.6446\n",
      "Epoch 221/250\n",
      "449/449 [==============================] - 31s 69ms/step - loss: 0.7246 - accuracy: 0.6956 - val_loss: 1.0264 - val_accuracy: 0.6360\n",
      "Epoch 222/250\n",
      "449/449 [==============================] - 31s 69ms/step - loss: 0.7420 - accuracy: 0.6897 - val_loss: 1.0230 - val_accuracy: 0.6418\n",
      "Epoch 223/250\n",
      "449/449 [==============================] - 31s 69ms/step - loss: 0.7422 - accuracy: 0.6923 - val_loss: 1.0137 - val_accuracy: 0.6442\n",
      "Epoch 224/250\n",
      "449/449 [==============================] - 31s 69ms/step - loss: 0.7425 - accuracy: 0.6877 - val_loss: 1.0131 - val_accuracy: 0.6413\n",
      "Epoch 225/250\n",
      "449/449 [==============================] - 31s 69ms/step - loss: 0.7295 - accuracy: 0.6943 - val_loss: 1.0211 - val_accuracy: 0.6428\n",
      "Epoch 226/250\n",
      "449/449 [==============================] - 31s 69ms/step - loss: 0.7373 - accuracy: 0.6879 - val_loss: 1.0163 - val_accuracy: 0.6445\n",
      "Epoch 227/250\n",
      "449/449 [==============================] - 31s 69ms/step - loss: 0.7407 - accuracy: 0.6912 - val_loss: 1.0271 - val_accuracy: 0.6379\n",
      "Epoch 228/250\n",
      "449/449 [==============================] - 31s 69ms/step - loss: 0.7396 - accuracy: 0.6950 - val_loss: 1.0259 - val_accuracy: 0.6396\n",
      "Epoch 229/250\n",
      "449/449 [==============================] - 31s 69ms/step - loss: 0.7360 - accuracy: 0.6901 - val_loss: 1.0174 - val_accuracy: 0.6425\n",
      "Epoch 230/250\n",
      "449/449 [==============================] - 32s 71ms/step - loss: 0.7388 - accuracy: 0.6930 - val_loss: 1.0399 - val_accuracy: 0.6326\n",
      "Epoch 231/250\n",
      "449/449 [==============================] - 32s 71ms/step - loss: 0.7368 - accuracy: 0.6916 - val_loss: 1.0120 - val_accuracy: 0.6417\n",
      "Epoch 232/250\n",
      "449/449 [==============================] - 31s 68ms/step - loss: 0.7520 - accuracy: 0.6929 - val_loss: 1.0432 - val_accuracy: 0.6357\n",
      "Epoch 233/250\n",
      "449/449 [==============================] - 31s 69ms/step - loss: 0.7430 - accuracy: 0.6905 - val_loss: 1.0150 - val_accuracy: 0.6364\n",
      "Epoch 234/250\n",
      "449/449 [==============================] - 33s 73ms/step - loss: 0.7395 - accuracy: 0.6904 - val_loss: 1.0117 - val_accuracy: 0.6390\n",
      "Epoch 235/250\n",
      "449/449 [==============================] - 33s 73ms/step - loss: 0.7302 - accuracy: 0.6930 - val_loss: 1.0304 - val_accuracy: 0.6372\n",
      "Epoch 236/250\n",
      "449/449 [==============================] - 32s 71ms/step - loss: 0.7296 - accuracy: 0.6947 - val_loss: 1.0509 - val_accuracy: 0.6265\n",
      "Epoch 237/250\n",
      "449/449 [==============================] - 32s 72ms/step - loss: 0.7335 - accuracy: 0.6931 - val_loss: 1.0075 - val_accuracy: 0.6389\n",
      "Epoch 238/250\n",
      "449/449 [==============================] - 31s 68ms/step - loss: 0.7331 - accuracy: 0.6919 - val_loss: 1.0067 - val_accuracy: 0.6452\n",
      "Epoch 239/250\n",
      "449/449 [==============================] - 31s 69ms/step - loss: 0.7291 - accuracy: 0.6939 - val_loss: 1.0591 - val_accuracy: 0.6286\n",
      "Epoch 240/250\n",
      "449/449 [==============================] - 31s 68ms/step - loss: 0.7365 - accuracy: 0.6923 - val_loss: 1.0105 - val_accuracy: 0.6474\n",
      "Epoch 241/250\n",
      "449/449 [==============================] - 31s 69ms/step - loss: 0.7386 - accuracy: 0.6870 - val_loss: 1.0142 - val_accuracy: 0.6418\n",
      "Epoch 242/250\n",
      "449/449 [==============================] - 31s 69ms/step - loss: 0.7240 - accuracy: 0.6933 - val_loss: 1.0260 - val_accuracy: 0.6399\n",
      "Epoch 243/250\n",
      "449/449 [==============================] - 31s 69ms/step - loss: 0.7272 - accuracy: 0.6965 - val_loss: 1.0298 - val_accuracy: 0.6410\n",
      "Epoch 244/250\n",
      "449/449 [==============================] - 31s 69ms/step - loss: 0.7364 - accuracy: 0.6909 - val_loss: 1.0072 - val_accuracy: 0.6422\n",
      "Epoch 245/250\n",
      "449/449 [==============================] - 31s 69ms/step - loss: 0.7343 - accuracy: 0.6911 - val_loss: 1.0164 - val_accuracy: 0.6414\n",
      "Epoch 246/250\n",
      "449/449 [==============================] - 31s 69ms/step - loss: 0.7389 - accuracy: 0.6933 - val_loss: 1.0639 - val_accuracy: 0.6259\n",
      "Epoch 247/250\n",
      "449/449 [==============================] - 31s 69ms/step - loss: 0.7363 - accuracy: 0.6911 - val_loss: 1.0182 - val_accuracy: 0.6349\n",
      "Epoch 248/250\n",
      "449/449 [==============================] - 31s 69ms/step - loss: 0.7369 - accuracy: 0.6917 - val_loss: 1.0152 - val_accuracy: 0.6408\n",
      "Epoch 249/250\n",
      "449/449 [==============================] - 31s 68ms/step - loss: 0.7338 - accuracy: 0.6947 - val_loss: 1.0253 - val_accuracy: 0.6378\n",
      "Epoch 250/250\n",
      "449/449 [==============================] - 31s 69ms/step - loss: 0.7276 - accuracy: 0.6938 - val_loss: 1.0118 - val_accuracy: 0.6466\n"
     ]
    },
    {
     "data": {
      "text/plain": [
       "<keras.callbacks.History at 0x2843e761f10>"
      ]
     },
     "execution_count": 13,
     "metadata": {},
     "output_type": "execute_result"
    }
   ],
   "source": [
    "model.fit(train,epochs=250,validation_data=test,verbose=1,class_weight=class_weights)"
   ]
  },
  {
   "cell_type": "code",
   "execution_count": 14,
   "id": "43409c9e",
   "metadata": {},
   "outputs": [
    {
     "name": "stdout",
     "output_type": "stream",
     "text": [
      "Epoch 1/1400\n",
      "449/449 [==============================] - 31s 68ms/step - loss: 0.7348 - accuracy: 0.6919 - val_loss: 1.0200 - val_accuracy: 0.6415\n",
      "Epoch 2/1400\n",
      "449/449 [==============================] - 31s 68ms/step - loss: 0.7363 - accuracy: 0.6908 - val_loss: 1.0222 - val_accuracy: 0.6424\n",
      "Epoch 3/1400\n",
      "449/449 [==============================] - 30s 68ms/step - loss: 0.7239 - accuracy: 0.6946 - val_loss: 1.0231 - val_accuracy: 0.6415\n",
      "Epoch 4/1400\n",
      "449/449 [==============================] - 31s 68ms/step - loss: 0.7377 - accuracy: 0.6952 - val_loss: 1.0245 - val_accuracy: 0.6347\n",
      "Epoch 5/1400\n",
      "449/449 [==============================] - 30s 68ms/step - loss: 0.7277 - accuracy: 0.6969 - val_loss: 1.0110 - val_accuracy: 0.6429\n",
      "Epoch 6/1400\n",
      "449/449 [==============================] - 30s 68ms/step - loss: 0.7304 - accuracy: 0.6964 - val_loss: 1.0245 - val_accuracy: 0.6372\n",
      "Epoch 7/1400\n",
      "449/449 [==============================] - 30s 67ms/step - loss: 0.7301 - accuracy: 0.6952 - val_loss: 1.0320 - val_accuracy: 0.6335\n",
      "Epoch 8/1400\n",
      "449/449 [==============================] - 30s 68ms/step - loss: 0.7276 - accuracy: 0.6960 - val_loss: 1.0119 - val_accuracy: 0.6452\n",
      "Epoch 9/1400\n",
      "449/449 [==============================] - 30s 67ms/step - loss: 0.7258 - accuracy: 0.6944 - val_loss: 1.0341 - val_accuracy: 0.6443\n",
      "Epoch 10/1400\n",
      "449/449 [==============================] - 30s 67ms/step - loss: 0.7336 - accuracy: 0.6944 - val_loss: 1.0265 - val_accuracy: 0.6385\n",
      "Epoch 11/1400\n",
      "449/449 [==============================] - 30s 67ms/step - loss: 0.7304 - accuracy: 0.6931 - val_loss: 1.0076 - val_accuracy: 0.6481\n",
      "Epoch 12/1400\n",
      "449/449 [==============================] - 30s 67ms/step - loss: 0.7283 - accuracy: 0.6953 - val_loss: 1.0304 - val_accuracy: 0.6407\n",
      "Epoch 13/1400\n",
      "449/449 [==============================] - 30s 67ms/step - loss: 0.7448 - accuracy: 0.6910 - val_loss: 1.0166 - val_accuracy: 0.6413\n",
      "Epoch 14/1400\n",
      "449/449 [==============================] - 30s 67ms/step - loss: 0.7244 - accuracy: 0.6947 - val_loss: 1.0181 - val_accuracy: 0.6441\n",
      "Epoch 15/1400\n",
      "449/449 [==============================] - 31s 69ms/step - loss: 0.7253 - accuracy: 0.6949 - val_loss: 1.0524 - val_accuracy: 0.6287\n",
      "Epoch 16/1400\n",
      "449/449 [==============================] - 30s 67ms/step - loss: 0.7481 - accuracy: 0.6872 - val_loss: 1.0280 - val_accuracy: 0.6357\n",
      "Epoch 17/1400\n",
      "449/449 [==============================] - 30s 67ms/step - loss: 0.7251 - accuracy: 0.6955 - val_loss: 1.0197 - val_accuracy: 0.6406\n",
      "Epoch 18/1400\n",
      "449/449 [==============================] - 30s 67ms/step - loss: 0.7355 - accuracy: 0.6924 - val_loss: 1.0191 - val_accuracy: 0.6443\n",
      "Epoch 19/1400\n",
      "449/449 [==============================] - 30s 67ms/step - loss: 0.7212 - accuracy: 0.6936 - val_loss: 1.0722 - val_accuracy: 0.6208\n",
      "Epoch 20/1400\n",
      "449/449 [==============================] - 30s 67ms/step - loss: 0.7272 - accuracy: 0.6954 - val_loss: 1.0165 - val_accuracy: 0.6454\n",
      "Epoch 21/1400\n",
      "449/449 [==============================] - 31s 68ms/step - loss: 0.7335 - accuracy: 0.6917 - val_loss: 1.0153 - val_accuracy: 0.6432\n",
      "Epoch 22/1400\n",
      "449/449 [==============================] - 31s 69ms/step - loss: 0.7438 - accuracy: 0.6876 - val_loss: 1.0274 - val_accuracy: 0.6393\n",
      "Epoch 23/1400\n",
      "449/449 [==============================] - 31s 68ms/step - loss: 0.7298 - accuracy: 0.6936 - val_loss: 1.0064 - val_accuracy: 0.6471\n",
      "Epoch 24/1400\n",
      "449/449 [==============================] - 30s 68ms/step - loss: 0.7335 - accuracy: 0.6913 - val_loss: 1.0213 - val_accuracy: 0.6408\n",
      "Epoch 25/1400\n",
      "449/449 [==============================] - 30s 67ms/step - loss: 0.7256 - accuracy: 0.6951 - val_loss: 1.0162 - val_accuracy: 0.6411\n",
      "Epoch 26/1400\n",
      "449/449 [==============================] - 30s 67ms/step - loss: 0.7330 - accuracy: 0.6898 - val_loss: 1.0222 - val_accuracy: 0.6427\n",
      "Epoch 27/1400\n",
      "449/449 [==============================] - 30s 67ms/step - loss: 0.7307 - accuracy: 0.6940 - val_loss: 1.0253 - val_accuracy: 0.6413\n",
      "Epoch 28/1400\n",
      "449/449 [==============================] - 30s 68ms/step - loss: 0.7303 - accuracy: 0.6927 - val_loss: 1.0188 - val_accuracy: 0.6420\n",
      "Epoch 29/1400\n",
      "449/449 [==============================] - 30s 67ms/step - loss: 0.7235 - accuracy: 0.6958 - val_loss: 1.0281 - val_accuracy: 0.6378\n",
      "Epoch 30/1400\n",
      "449/449 [==============================] - 30s 67ms/step - loss: 0.7291 - accuracy: 0.6934 - val_loss: 1.0128 - val_accuracy: 0.6441\n",
      "Epoch 31/1400\n",
      "449/449 [==============================] - 30s 68ms/step - loss: 0.7324 - accuracy: 0.6933 - val_loss: 1.0323 - val_accuracy: 0.6358\n",
      "Epoch 32/1400\n",
      "449/449 [==============================] - 30s 68ms/step - loss: 0.7214 - accuracy: 0.6961 - val_loss: 1.0241 - val_accuracy: 0.6396\n",
      "Epoch 33/1400\n",
      "449/449 [==============================] - 30s 68ms/step - loss: 0.7200 - accuracy: 0.7001 - val_loss: 1.0391 - val_accuracy: 0.6346\n",
      "Epoch 34/1400\n",
      "449/449 [==============================] - 30s 67ms/step - loss: 0.7315 - accuracy: 0.6954 - val_loss: 1.0127 - val_accuracy: 0.6499\n",
      "Epoch 35/1400\n",
      "449/449 [==============================] - 32s 70ms/step - loss: 0.7249 - accuracy: 0.6950 - val_loss: 1.0150 - val_accuracy: 0.6397\n",
      "Epoch 36/1400\n",
      "449/449 [==============================] - 31s 69ms/step - loss: 0.7258 - accuracy: 0.6978 - val_loss: 1.0154 - val_accuracy: 0.6418\n",
      "Epoch 37/1400\n",
      "449/449 [==============================] - 31s 68ms/step - loss: 0.7346 - accuracy: 0.6906 - val_loss: 1.0165 - val_accuracy: 0.6447\n",
      "Epoch 38/1400\n",
      "449/449 [==============================] - 30s 67ms/step - loss: 0.7239 - accuracy: 0.6941 - val_loss: 1.0304 - val_accuracy: 0.6381\n",
      "Epoch 39/1400\n",
      "449/449 [==============================] - 31s 68ms/step - loss: 0.7254 - accuracy: 0.6964 - val_loss: 1.0103 - val_accuracy: 0.6395\n",
      "Epoch 40/1400\n",
      "449/449 [==============================] - 30s 68ms/step - loss: 0.7193 - accuracy: 0.6975 - val_loss: 1.0200 - val_accuracy: 0.6431\n",
      "Epoch 41/1400\n",
      "449/449 [==============================] - 30s 68ms/step - loss: 0.7250 - accuracy: 0.6969 - val_loss: 1.0131 - val_accuracy: 0.6411\n",
      "Epoch 42/1400\n",
      "449/449 [==============================] - 30s 67ms/step - loss: 0.7272 - accuracy: 0.6964 - val_loss: 1.0238 - val_accuracy: 0.6424\n",
      "Epoch 43/1400\n",
      "449/449 [==============================] - 31s 68ms/step - loss: 0.7346 - accuracy: 0.6963 - val_loss: 1.0194 - val_accuracy: 0.6400\n",
      "Epoch 44/1400\n",
      "449/449 [==============================] - 31s 69ms/step - loss: 0.7252 - accuracy: 0.6933 - val_loss: 1.0160 - val_accuracy: 0.6454\n",
      "Epoch 45/1400\n",
      "449/449 [==============================] - 30s 68ms/step - loss: 0.7208 - accuracy: 0.6968 - val_loss: 1.0201 - val_accuracy: 0.6415\n",
      "Epoch 46/1400\n",
      "449/449 [==============================] - 31s 68ms/step - loss: 0.7303 - accuracy: 0.6953 - val_loss: 1.0368 - val_accuracy: 0.6360\n",
      "Epoch 47/1400\n",
      "449/449 [==============================] - 31s 68ms/step - loss: 0.7345 - accuracy: 0.6941 - val_loss: 1.0252 - val_accuracy: 0.6382\n",
      "Epoch 48/1400\n",
      "449/449 [==============================] - 31s 69ms/step - loss: 0.7206 - accuracy: 0.6981 - val_loss: 1.0094 - val_accuracy: 0.6454\n",
      "Epoch 49/1400\n",
      "449/449 [==============================] - 31s 69ms/step - loss: 0.7327 - accuracy: 0.6948 - val_loss: 1.0326 - val_accuracy: 0.6311\n",
      "Epoch 50/1400\n",
      "449/449 [==============================] - 31s 69ms/step - loss: 0.7239 - accuracy: 0.6967 - val_loss: 1.0106 - val_accuracy: 0.6447\n",
      "Epoch 51/1400\n",
      "449/449 [==============================] - 31s 68ms/step - loss: 0.7288 - accuracy: 0.6950 - val_loss: 1.0154 - val_accuracy: 0.6408\n",
      "Epoch 52/1400\n",
      "449/449 [==============================] - 31s 69ms/step - loss: 0.7227 - accuracy: 0.6991 - val_loss: 1.0248 - val_accuracy: 0.6358\n",
      "Epoch 53/1400\n",
      "449/449 [==============================] - 31s 69ms/step - loss: 0.7259 - accuracy: 0.6946 - val_loss: 1.0591 - val_accuracy: 0.6216\n",
      "Epoch 54/1400\n",
      "449/449 [==============================] - 31s 68ms/step - loss: 0.7237 - accuracy: 0.6940 - val_loss: 1.0238 - val_accuracy: 0.6343\n",
      "Epoch 55/1400\n",
      "449/449 [==============================] - 31s 68ms/step - loss: 0.7205 - accuracy: 0.6970 - val_loss: 1.0358 - val_accuracy: 0.6312\n",
      "Epoch 56/1400\n",
      "449/449 [==============================] - 31s 68ms/step - loss: 0.7364 - accuracy: 0.6914 - val_loss: 1.0233 - val_accuracy: 0.6404\n",
      "Epoch 57/1400\n",
      "449/449 [==============================] - 31s 68ms/step - loss: 0.7148 - accuracy: 0.6982 - val_loss: 1.0225 - val_accuracy: 0.6379\n",
      "Epoch 58/1400\n",
      "449/449 [==============================] - 31s 68ms/step - loss: 0.7176 - accuracy: 0.7001 - val_loss: 1.0156 - val_accuracy: 0.6388\n",
      "Epoch 59/1400\n",
      "449/449 [==============================] - 31s 68ms/step - loss: 0.7196 - accuracy: 0.7002 - val_loss: 1.0197 - val_accuracy: 0.6415\n",
      "Epoch 60/1400\n",
      "449/449 [==============================] - 30s 68ms/step - loss: 0.7192 - accuracy: 0.6984 - val_loss: 1.0173 - val_accuracy: 0.6378\n",
      "Epoch 61/1400\n",
      "449/449 [==============================] - 31s 69ms/step - loss: 0.7218 - accuracy: 0.6989 - val_loss: 1.0357 - val_accuracy: 0.6296\n",
      "Epoch 62/1400\n",
      "449/449 [==============================] - 31s 68ms/step - loss: 0.7308 - accuracy: 0.6954 - val_loss: 1.0125 - val_accuracy: 0.6411\n",
      "Epoch 63/1400\n",
      "449/449 [==============================] - 31s 68ms/step - loss: 0.7274 - accuracy: 0.6944 - val_loss: 1.0183 - val_accuracy: 0.6450\n",
      "Epoch 64/1400\n",
      "449/449 [==============================] - 31s 68ms/step - loss: 0.7287 - accuracy: 0.6943 - val_loss: 1.0237 - val_accuracy: 0.6397\n",
      "Epoch 65/1400\n",
      "449/449 [==============================] - 31s 68ms/step - loss: 0.7201 - accuracy: 0.6971 - val_loss: 1.0069 - val_accuracy: 0.6478\n",
      "Epoch 66/1400\n",
      "449/449 [==============================] - 31s 69ms/step - loss: 0.7215 - accuracy: 0.7004 - val_loss: 1.0197 - val_accuracy: 0.6421\n",
      "Epoch 67/1400\n",
      "449/449 [==============================] - 30s 67ms/step - loss: 0.7199 - accuracy: 0.6977 - val_loss: 1.0087 - val_accuracy: 0.6464\n",
      "Epoch 68/1400\n",
      "449/449 [==============================] - 31s 68ms/step - loss: 0.7180 - accuracy: 0.6989 - val_loss: 1.0147 - val_accuracy: 0.6427\n",
      "Epoch 69/1400\n",
      "449/449 [==============================] - 31s 68ms/step - loss: 0.7231 - accuracy: 0.6991 - val_loss: 1.0254 - val_accuracy: 0.6432\n",
      "Epoch 70/1400\n",
      "449/449 [==============================] - 31s 69ms/step - loss: 0.7250 - accuracy: 0.6976 - val_loss: 1.0499 - val_accuracy: 0.6296\n",
      "Epoch 71/1400\n",
      "449/449 [==============================] - 31s 69ms/step - loss: 0.7247 - accuracy: 0.6974 - val_loss: 1.0204 - val_accuracy: 0.6402\n",
      "Epoch 72/1400\n",
      "449/449 [==============================] - 31s 69ms/step - loss: 0.7245 - accuracy: 0.6989 - val_loss: 1.0718 - val_accuracy: 0.6233\n",
      "Epoch 73/1400\n",
      "449/449 [==============================] - 31s 68ms/step - loss: 0.7273 - accuracy: 0.6977 - val_loss: 1.0045 - val_accuracy: 0.6482\n",
      "Epoch 74/1400\n",
      "449/449 [==============================] - 31s 68ms/step - loss: 0.7141 - accuracy: 0.7004 - val_loss: 1.0336 - val_accuracy: 0.6356\n",
      "Epoch 75/1400\n",
      "449/449 [==============================] - 31s 69ms/step - loss: 0.7178 - accuracy: 0.7002 - val_loss: 1.0317 - val_accuracy: 0.6369\n",
      "Epoch 76/1400\n",
      "449/449 [==============================] - 31s 69ms/step - loss: 0.7181 - accuracy: 0.6993 - val_loss: 1.0119 - val_accuracy: 0.6457\n",
      "Epoch 77/1400\n",
      "449/449 [==============================] - 31s 68ms/step - loss: 0.7194 - accuracy: 0.6958 - val_loss: 1.0129 - val_accuracy: 0.6445\n",
      "Epoch 78/1400\n",
      "449/449 [==============================] - 30s 68ms/step - loss: 0.7163 - accuracy: 0.7006 - val_loss: 1.0330 - val_accuracy: 0.6389\n",
      "Epoch 79/1400\n",
      "449/449 [==============================] - 30s 67ms/step - loss: 0.7193 - accuracy: 0.6984 - val_loss: 1.0311 - val_accuracy: 0.6379\n",
      "Epoch 80/1400\n",
      "449/449 [==============================] - 30s 68ms/step - loss: 0.7189 - accuracy: 0.6986 - val_loss: 1.0335 - val_accuracy: 0.6382\n",
      "Epoch 81/1400\n",
      "449/449 [==============================] - 30s 68ms/step - loss: 0.7148 - accuracy: 0.7028 - val_loss: 1.0162 - val_accuracy: 0.6445\n",
      "Epoch 82/1400\n",
      "449/449 [==============================] - 31s 68ms/step - loss: 0.7230 - accuracy: 0.6981 - val_loss: 1.0432 - val_accuracy: 0.6362\n",
      "Epoch 83/1400\n",
      "449/449 [==============================] - 30s 68ms/step - loss: 0.7222 - accuracy: 0.6958 - val_loss: 1.0348 - val_accuracy: 0.6438\n",
      "Epoch 84/1400\n",
      "449/449 [==============================] - 30s 67ms/step - loss: 0.7186 - accuracy: 0.7007 - val_loss: 1.0312 - val_accuracy: 0.6397\n",
      "Epoch 85/1400\n",
      "449/449 [==============================] - 30s 68ms/step - loss: 0.7212 - accuracy: 0.6965 - val_loss: 1.0426 - val_accuracy: 0.6367\n",
      "Epoch 86/1400\n",
      "449/449 [==============================] - 30s 68ms/step - loss: 0.7161 - accuracy: 0.7034 - val_loss: 1.0367 - val_accuracy: 0.6386\n",
      "Epoch 87/1400\n",
      "449/449 [==============================] - 30s 67ms/step - loss: 0.7218 - accuracy: 0.7007 - val_loss: 1.0088 - val_accuracy: 0.6432\n",
      "Epoch 88/1400\n",
      "449/449 [==============================] - 30s 67ms/step - loss: 0.7309 - accuracy: 0.6976 - val_loss: 1.0306 - val_accuracy: 0.6389\n",
      "Epoch 89/1400\n",
      "449/449 [==============================] - 30s 67ms/step - loss: 0.7370 - accuracy: 0.6934 - val_loss: 1.0614 - val_accuracy: 0.6280\n",
      "Epoch 90/1400\n",
      "449/449 [==============================] - 30s 67ms/step - loss: 0.7165 - accuracy: 0.6973 - val_loss: 1.0651 - val_accuracy: 0.6314\n",
      "Epoch 91/1400\n",
      "449/449 [==============================] - 30s 68ms/step - loss: 0.7145 - accuracy: 0.6985 - val_loss: 1.0207 - val_accuracy: 0.6395\n",
      "Epoch 92/1400\n",
      "449/449 [==============================] - 30s 67ms/step - loss: 0.7152 - accuracy: 0.7015 - val_loss: 1.0208 - val_accuracy: 0.6441\n",
      "Epoch 93/1400\n",
      "449/449 [==============================] - 30s 67ms/step - loss: 0.7171 - accuracy: 0.6979 - val_loss: 1.0158 - val_accuracy: 0.6422\n",
      "Epoch 94/1400\n",
      "449/449 [==============================] - 30s 67ms/step - loss: 0.7171 - accuracy: 0.7003 - val_loss: 1.0355 - val_accuracy: 0.6397\n",
      "Epoch 95/1400\n",
      "449/449 [==============================] - 31s 68ms/step - loss: 0.7259 - accuracy: 0.6958 - val_loss: 1.0255 - val_accuracy: 0.6403\n",
      "Epoch 96/1400\n",
      "449/449 [==============================] - 30s 67ms/step - loss: 0.7207 - accuracy: 0.6977 - val_loss: 1.0403 - val_accuracy: 0.6340\n",
      "Epoch 97/1400\n",
      "449/449 [==============================] - 30s 67ms/step - loss: 0.7194 - accuracy: 0.6949 - val_loss: 1.0277 - val_accuracy: 0.6410\n",
      "Epoch 98/1400\n",
      "449/449 [==============================] - 31s 68ms/step - loss: 0.7148 - accuracy: 0.7036 - val_loss: 1.0214 - val_accuracy: 0.6418\n",
      "Epoch 99/1400\n",
      "449/449 [==============================] - 30s 68ms/step - loss: 0.7240 - accuracy: 0.7015 - val_loss: 1.0207 - val_accuracy: 0.6425\n",
      "Epoch 100/1400\n",
      "449/449 [==============================] - 30s 67ms/step - loss: 0.7269 - accuracy: 0.7001 - val_loss: 1.0267 - val_accuracy: 0.6427\n",
      "Epoch 101/1400\n",
      "449/449 [==============================] - 31s 69ms/step - loss: 0.7185 - accuracy: 0.7003 - val_loss: 1.0150 - val_accuracy: 0.6477\n",
      "Epoch 102/1400\n",
      "449/449 [==============================] - 31s 68ms/step - loss: 0.7167 - accuracy: 0.7020 - val_loss: 1.0194 - val_accuracy: 0.6443\n",
      "Epoch 103/1400\n",
      "449/449 [==============================] - 31s 69ms/step - loss: 0.7168 - accuracy: 0.7001 - val_loss: 1.0144 - val_accuracy: 0.6429\n",
      "Epoch 104/1400\n",
      "449/449 [==============================] - 31s 68ms/step - loss: 0.7112 - accuracy: 0.6979 - val_loss: 1.0133 - val_accuracy: 0.6453\n",
      "Epoch 105/1400\n",
      "449/449 [==============================] - 31s 68ms/step - loss: 0.7144 - accuracy: 0.7005 - val_loss: 1.0392 - val_accuracy: 0.6386\n",
      "Epoch 106/1400\n",
      "449/449 [==============================] - 31s 68ms/step - loss: 0.7139 - accuracy: 0.7030 - val_loss: 1.0215 - val_accuracy: 0.6393\n",
      "Epoch 107/1400\n",
      "449/449 [==============================] - 30s 68ms/step - loss: 0.7089 - accuracy: 0.7016 - val_loss: 1.0418 - val_accuracy: 0.6365\n",
      "Epoch 108/1400\n",
      "449/449 [==============================] - 31s 69ms/step - loss: 0.7257 - accuracy: 0.6932 - val_loss: 1.0227 - val_accuracy: 0.6371\n",
      "Epoch 109/1400\n",
      "449/449 [==============================] - 31s 68ms/step - loss: 0.7272 - accuracy: 0.6987 - val_loss: 1.0080 - val_accuracy: 0.6480\n",
      "Epoch 110/1400\n",
      "449/449 [==============================] - 30s 68ms/step - loss: 0.7099 - accuracy: 0.6994 - val_loss: 1.0124 - val_accuracy: 0.6447\n",
      "Epoch 111/1400\n",
      "449/449 [==============================] - 31s 68ms/step - loss: 0.7078 - accuracy: 0.7030 - val_loss: 1.0398 - val_accuracy: 0.6361\n",
      "Epoch 112/1400\n",
      "449/449 [==============================] - 31s 68ms/step - loss: 0.7219 - accuracy: 0.6984 - val_loss: 1.0284 - val_accuracy: 0.6418\n",
      "Epoch 113/1400\n",
      "449/449 [==============================] - 31s 68ms/step - loss: 0.7188 - accuracy: 0.6972 - val_loss: 1.0341 - val_accuracy: 0.6424\n",
      "Epoch 114/1400\n",
      "449/449 [==============================] - 30s 68ms/step - loss: 0.7154 - accuracy: 0.6990 - val_loss: 1.0280 - val_accuracy: 0.6442\n",
      "Epoch 115/1400\n",
      "449/449 [==============================] - 31s 69ms/step - loss: 0.7191 - accuracy: 0.6975 - val_loss: 1.0140 - val_accuracy: 0.6484\n",
      "Epoch 116/1400\n",
      "449/449 [==============================] - 31s 68ms/step - loss: 0.7151 - accuracy: 0.7000 - val_loss: 1.0186 - val_accuracy: 0.6454\n",
      "Epoch 117/1400\n",
      "449/449 [==============================] - 30s 68ms/step - loss: 0.7216 - accuracy: 0.7008 - val_loss: 1.0228 - val_accuracy: 0.6427\n",
      "Epoch 118/1400\n",
      "449/449 [==============================] - 30s 68ms/step - loss: 0.7189 - accuracy: 0.6988 - val_loss: 1.0290 - val_accuracy: 0.6408\n",
      "Epoch 119/1400\n",
      "449/449 [==============================] - 30s 68ms/step - loss: 0.7149 - accuracy: 0.7015 - val_loss: 1.0276 - val_accuracy: 0.6418\n",
      "Epoch 120/1400\n",
      "449/449 [==============================] - 30s 67ms/step - loss: 0.7201 - accuracy: 0.6961 - val_loss: 1.0185 - val_accuracy: 0.6452\n",
      "Epoch 121/1400\n",
      "449/449 [==============================] - 31s 69ms/step - loss: 0.7224 - accuracy: 0.6981 - val_loss: 1.0369 - val_accuracy: 0.6397\n",
      "Epoch 122/1400\n",
      "449/449 [==============================] - 31s 69ms/step - loss: 0.7125 - accuracy: 0.7011 - val_loss: 1.0288 - val_accuracy: 0.6450\n",
      "Epoch 123/1400\n",
      "449/449 [==============================] - 31s 68ms/step - loss: 0.7168 - accuracy: 0.7012 - val_loss: 1.0325 - val_accuracy: 0.6420\n",
      "Epoch 124/1400\n",
      "449/449 [==============================] - 31s 68ms/step - loss: 0.7222 - accuracy: 0.6962 - val_loss: 1.0266 - val_accuracy: 0.6417\n",
      "Epoch 125/1400\n",
      "449/449 [==============================] - 31s 69ms/step - loss: 0.7113 - accuracy: 0.7054 - val_loss: 1.0194 - val_accuracy: 0.6445\n",
      "Epoch 126/1400\n",
      "449/449 [==============================] - 31s 68ms/step - loss: 0.7241 - accuracy: 0.6964 - val_loss: 1.0478 - val_accuracy: 0.6347\n",
      "Epoch 127/1400\n",
      "449/449 [==============================] - 30s 68ms/step - loss: 0.7068 - accuracy: 0.7020 - val_loss: 1.0228 - val_accuracy: 0.6452\n",
      "Epoch 128/1400\n",
      "449/449 [==============================] - 30s 67ms/step - loss: 0.7148 - accuracy: 0.6998 - val_loss: 1.0241 - val_accuracy: 0.6480\n",
      "Epoch 129/1400\n",
      "449/449 [==============================] - 30s 68ms/step - loss: 0.7185 - accuracy: 0.6982 - val_loss: 1.0405 - val_accuracy: 0.6386\n",
      "Epoch 130/1400\n",
      "449/449 [==============================] - 31s 68ms/step - loss: 0.7207 - accuracy: 0.6959 - val_loss: 1.0332 - val_accuracy: 0.6396\n",
      "Epoch 131/1400\n",
      "449/449 [==============================] - 31s 68ms/step - loss: 0.7156 - accuracy: 0.6997 - val_loss: 1.0218 - val_accuracy: 0.6415\n",
      "Epoch 132/1400\n",
      "449/449 [==============================] - 31s 69ms/step - loss: 0.7118 - accuracy: 0.6999 - val_loss: 1.0344 - val_accuracy: 0.6404\n",
      "Epoch 133/1400\n",
      "449/449 [==============================] - 31s 68ms/step - loss: 0.7162 - accuracy: 0.7003 - val_loss: 1.0280 - val_accuracy: 0.6396\n",
      "Epoch 134/1400\n",
      "449/449 [==============================] - 31s 70ms/step - loss: 0.7060 - accuracy: 0.7046 - val_loss: 1.0093 - val_accuracy: 0.6456\n",
      "Epoch 135/1400\n",
      "449/449 [==============================] - 31s 69ms/step - loss: 0.7146 - accuracy: 0.7016 - val_loss: 1.0400 - val_accuracy: 0.6368\n",
      "Epoch 136/1400\n",
      "449/449 [==============================] - 31s 68ms/step - loss: 0.7066 - accuracy: 0.7028 - val_loss: 1.0107 - val_accuracy: 0.6452\n",
      "Epoch 137/1400\n",
      "449/449 [==============================] - 31s 68ms/step - loss: 0.7154 - accuracy: 0.7049 - val_loss: 1.0267 - val_accuracy: 0.6428\n",
      "Epoch 138/1400\n",
      "449/449 [==============================] - 30s 68ms/step - loss: 0.7077 - accuracy: 0.7022 - val_loss: 1.0171 - val_accuracy: 0.6421\n",
      "Epoch 139/1400\n",
      "449/449 [==============================] - 30s 68ms/step - loss: 0.7118 - accuracy: 0.7042 - val_loss: 1.0214 - val_accuracy: 0.6445\n",
      "Epoch 140/1400\n",
      "449/449 [==============================] - 31s 68ms/step - loss: 0.7085 - accuracy: 0.7008 - val_loss: 1.0457 - val_accuracy: 0.6388\n",
      "Epoch 141/1400\n",
      "449/449 [==============================] - 31s 68ms/step - loss: 0.7091 - accuracy: 0.7044 - val_loss: 1.0301 - val_accuracy: 0.6408\n",
      "Epoch 142/1400\n",
      "449/449 [==============================] - 31s 68ms/step - loss: 0.7111 - accuracy: 0.7011 - val_loss: 1.0524 - val_accuracy: 0.6351\n",
      "Epoch 143/1400\n",
      "449/449 [==============================] - 30s 68ms/step - loss: 0.7064 - accuracy: 0.7005 - val_loss: 1.0245 - val_accuracy: 0.6442\n",
      "Epoch 144/1400\n",
      "449/449 [==============================] - 31s 68ms/step - loss: 0.7102 - accuracy: 0.7044 - val_loss: 1.0249 - val_accuracy: 0.6427\n",
      "Epoch 145/1400\n",
      "449/449 [==============================] - 31s 69ms/step - loss: 0.7127 - accuracy: 0.7008 - val_loss: 1.0408 - val_accuracy: 0.6368\n",
      "Epoch 146/1400\n",
      "449/449 [==============================] - 31s 68ms/step - loss: 0.7048 - accuracy: 0.7028 - val_loss: 1.0436 - val_accuracy: 0.6340\n",
      "Epoch 147/1400\n",
      "449/449 [==============================] - 31s 68ms/step - loss: 0.7109 - accuracy: 0.7038 - val_loss: 1.0366 - val_accuracy: 0.6381\n",
      "Epoch 148/1400\n",
      "449/449 [==============================] - 31s 68ms/step - loss: 0.7095 - accuracy: 0.7041 - val_loss: 1.0137 - val_accuracy: 0.6482\n",
      "Epoch 149/1400\n",
      "449/449 [==============================] - 31s 68ms/step - loss: 0.7079 - accuracy: 0.7039 - val_loss: 1.0256 - val_accuracy: 0.6408\n",
      "Epoch 150/1400\n",
      "449/449 [==============================] - 31s 68ms/step - loss: 0.7148 - accuracy: 0.6977 - val_loss: 1.0323 - val_accuracy: 0.6399\n",
      "Epoch 151/1400\n",
      "449/449 [==============================] - 31s 68ms/step - loss: 0.7173 - accuracy: 0.6977 - val_loss: 1.0322 - val_accuracy: 0.6447\n",
      "Epoch 152/1400\n",
      "449/449 [==============================] - 31s 68ms/step - loss: 0.7080 - accuracy: 0.6999 - val_loss: 1.0116 - val_accuracy: 0.6477\n",
      "Epoch 153/1400\n",
      "449/449 [==============================] - 31s 68ms/step - loss: 0.7219 - accuracy: 0.7000 - val_loss: 1.0165 - val_accuracy: 0.6507\n",
      "Epoch 154/1400\n",
      "449/449 [==============================] - 31s 69ms/step - loss: 0.7129 - accuracy: 0.7026 - val_loss: 1.0266 - val_accuracy: 0.6435\n",
      "Epoch 155/1400\n",
      "449/449 [==============================] - 31s 68ms/step - loss: 0.7133 - accuracy: 0.7016 - val_loss: 1.0284 - val_accuracy: 0.6442\n",
      "Epoch 156/1400\n",
      "449/449 [==============================] - 30s 68ms/step - loss: 0.7139 - accuracy: 0.7022 - val_loss: 1.0390 - val_accuracy: 0.6378\n",
      "Epoch 157/1400\n",
      "449/449 [==============================] - 30s 68ms/step - loss: 0.7104 - accuracy: 0.7030 - val_loss: 1.0196 - val_accuracy: 0.6442\n",
      "Epoch 158/1400\n",
      "449/449 [==============================] - 31s 68ms/step - loss: 0.7121 - accuracy: 0.7034 - val_loss: 1.0176 - val_accuracy: 0.6456\n",
      "Epoch 159/1400\n",
      "449/449 [==============================] - 31s 68ms/step - loss: 0.7201 - accuracy: 0.6990 - val_loss: 1.0338 - val_accuracy: 0.6397\n",
      "Epoch 160/1400\n",
      "449/449 [==============================] - 31s 68ms/step - loss: 0.7225 - accuracy: 0.6990 - val_loss: 1.0306 - val_accuracy: 0.6414\n",
      "Epoch 161/1400\n",
      "449/449 [==============================] - 31s 69ms/step - loss: 0.6985 - accuracy: 0.7055 - val_loss: 1.0299 - val_accuracy: 0.6388\n",
      "Epoch 162/1400\n",
      "449/449 [==============================] - 31s 68ms/step - loss: 0.7072 - accuracy: 0.7051 - val_loss: 1.0249 - val_accuracy: 0.6481\n",
      "Epoch 163/1400\n",
      "449/449 [==============================] - 31s 68ms/step - loss: 0.7132 - accuracy: 0.6995 - val_loss: 1.0098 - val_accuracy: 0.6482\n",
      "Epoch 164/1400\n",
      "449/449 [==============================] - 31s 68ms/step - loss: 0.7100 - accuracy: 0.7013 - val_loss: 1.0146 - val_accuracy: 0.6471\n",
      "Epoch 165/1400\n",
      "449/449 [==============================] - 31s 69ms/step - loss: 0.7174 - accuracy: 0.7030 - val_loss: 1.0311 - val_accuracy: 0.6388\n",
      "Epoch 166/1400\n",
      "449/449 [==============================] - 31s 68ms/step - loss: 0.7121 - accuracy: 0.6999 - val_loss: 1.0218 - val_accuracy: 0.6443\n",
      "Epoch 167/1400\n",
      "449/449 [==============================] - 30s 68ms/step - loss: 0.7118 - accuracy: 0.7018 - val_loss: 1.0311 - val_accuracy: 0.6392\n",
      "Epoch 168/1400\n",
      "449/449 [==============================] - 30s 68ms/step - loss: 0.7132 - accuracy: 0.7014 - val_loss: 1.0265 - val_accuracy: 0.6422\n",
      "Epoch 169/1400\n",
      "449/449 [==============================] - 30s 68ms/step - loss: 0.7262 - accuracy: 0.6969 - val_loss: 1.0509 - val_accuracy: 0.6364\n",
      "Epoch 170/1400\n",
      "449/449 [==============================] - 31s 68ms/step - loss: 0.7105 - accuracy: 0.7026 - val_loss: 1.0167 - val_accuracy: 0.6520\n",
      "Epoch 171/1400\n",
      "449/449 [==============================] - 31s 70ms/step - loss: 0.7154 - accuracy: 0.7023 - val_loss: 1.0324 - val_accuracy: 0.6376\n",
      "Epoch 172/1400\n",
      "449/449 [==============================] - 30s 67ms/step - loss: 0.7266 - accuracy: 0.6998 - val_loss: 1.0275 - val_accuracy: 0.6421\n",
      "Epoch 173/1400\n",
      "449/449 [==============================] - 30s 67ms/step - loss: 0.7098 - accuracy: 0.7023 - val_loss: 1.0176 - val_accuracy: 0.6450\n",
      "Epoch 174/1400\n",
      "449/449 [==============================] - 30s 67ms/step - loss: 0.7187 - accuracy: 0.6997 - val_loss: 1.0215 - val_accuracy: 0.6456\n",
      "Epoch 175/1400\n",
      "449/449 [==============================] - 30s 67ms/step - loss: 0.7264 - accuracy: 0.6961 - val_loss: 1.0333 - val_accuracy: 0.6417\n",
      "Epoch 176/1400\n",
      "449/449 [==============================] - 30s 68ms/step - loss: 0.7104 - accuracy: 0.6999 - val_loss: 1.0132 - val_accuracy: 0.6498\n",
      "Epoch 177/1400\n",
      "449/449 [==============================] - 31s 69ms/step - loss: 0.7058 - accuracy: 0.7040 - val_loss: 1.0180 - val_accuracy: 0.6464\n",
      "Epoch 178/1400\n",
      "449/449 [==============================] - 30s 67ms/step - loss: 0.7186 - accuracy: 0.6984 - val_loss: 1.0232 - val_accuracy: 0.6466\n",
      "Epoch 179/1400\n",
      "449/449 [==============================] - 30s 67ms/step - loss: 0.7108 - accuracy: 0.7019 - val_loss: 1.0188 - val_accuracy: 0.6441\n",
      "Epoch 180/1400\n",
      "449/449 [==============================] - 30s 67ms/step - loss: 0.7093 - accuracy: 0.7000 - val_loss: 1.0214 - val_accuracy: 0.6421\n",
      "Epoch 181/1400\n",
      "449/449 [==============================] - 31s 68ms/step - loss: 0.7170 - accuracy: 0.7063 - val_loss: 1.0469 - val_accuracy: 0.6342\n",
      "Epoch 182/1400\n",
      "449/449 [==============================] - 30s 68ms/step - loss: 0.7109 - accuracy: 0.7049 - val_loss: 1.0168 - val_accuracy: 0.6509\n",
      "Epoch 183/1400\n",
      "449/449 [==============================] - 30s 68ms/step - loss: 0.7126 - accuracy: 0.7013 - val_loss: 1.0277 - val_accuracy: 0.6441\n",
      "Epoch 184/1400\n",
      "449/449 [==============================] - 30s 68ms/step - loss: 0.7174 - accuracy: 0.7034 - val_loss: 1.0144 - val_accuracy: 0.6492\n",
      "Epoch 185/1400\n",
      "449/449 [==============================] - 30s 67ms/step - loss: 0.7042 - accuracy: 0.7037 - val_loss: 1.0366 - val_accuracy: 0.6371\n",
      "Epoch 186/1400\n",
      "449/449 [==============================] - 31s 68ms/step - loss: 0.7117 - accuracy: 0.7021 - val_loss: 1.0237 - val_accuracy: 0.6454\n",
      "Epoch 187/1400\n",
      "449/449 [==============================] - 30s 67ms/step - loss: 0.7121 - accuracy: 0.7011 - val_loss: 1.0138 - val_accuracy: 0.6459\n",
      "Epoch 188/1400\n",
      "449/449 [==============================] - 30s 68ms/step - loss: 0.7084 - accuracy: 0.7024 - val_loss: 1.0208 - val_accuracy: 0.6503\n",
      "Epoch 189/1400\n",
      "449/449 [==============================] - 31s 68ms/step - loss: 0.7109 - accuracy: 0.7031 - val_loss: 1.0294 - val_accuracy: 0.6407\n",
      "Epoch 190/1400\n",
      "449/449 [==============================] - 30s 67ms/step - loss: 0.7128 - accuracy: 0.7016 - val_loss: 1.0231 - val_accuracy: 0.6439\n",
      "Epoch 191/1400\n",
      "449/449 [==============================] - 30s 67ms/step - loss: 0.7140 - accuracy: 0.6994 - val_loss: 1.0208 - val_accuracy: 0.6441\n",
      "Epoch 192/1400\n",
      "449/449 [==============================] - 30s 67ms/step - loss: 0.7070 - accuracy: 0.7055 - val_loss: 1.0223 - val_accuracy: 0.6459\n",
      "Epoch 193/1400\n",
      "449/449 [==============================] - 31s 68ms/step - loss: 0.7178 - accuracy: 0.6985 - val_loss: 1.0381 - val_accuracy: 0.6399\n",
      "Epoch 194/1400\n",
      "449/449 [==============================] - 30s 67ms/step - loss: 0.7069 - accuracy: 0.7000 - val_loss: 1.0190 - val_accuracy: 0.6506\n",
      "Epoch 195/1400\n",
      "449/449 [==============================] - 31s 69ms/step - loss: 0.7141 - accuracy: 0.7012 - val_loss: 1.0937 - val_accuracy: 0.6212\n",
      "Epoch 196/1400\n",
      "449/449 [==============================] - 31s 69ms/step - loss: 0.7071 - accuracy: 0.7026 - val_loss: 1.0333 - val_accuracy: 0.6421\n",
      "Epoch 197/1400\n",
      "449/449 [==============================] - 30s 67ms/step - loss: 0.7096 - accuracy: 0.7034 - val_loss: 1.0211 - val_accuracy: 0.6510\n",
      "Epoch 198/1400\n",
      "449/449 [==============================] - 30s 67ms/step - loss: 0.7131 - accuracy: 0.7038 - val_loss: 1.0355 - val_accuracy: 0.6428\n",
      "Epoch 199/1400\n",
      "449/449 [==============================] - 30s 67ms/step - loss: 0.7075 - accuracy: 0.7023 - val_loss: 1.0295 - val_accuracy: 0.6429\n",
      "Epoch 200/1400\n",
      "449/449 [==============================] - 30s 68ms/step - loss: 0.7152 - accuracy: 0.6992 - val_loss: 1.0301 - val_accuracy: 0.6420\n",
      "Epoch 201/1400\n",
      "449/449 [==============================] - 30s 68ms/step - loss: 0.7230 - accuracy: 0.6996 - val_loss: 1.0206 - val_accuracy: 0.6466\n",
      "Epoch 202/1400\n",
      "449/449 [==============================] - 30s 67ms/step - loss: 0.7066 - accuracy: 0.7046 - val_loss: 1.0237 - val_accuracy: 0.6489\n",
      "Epoch 203/1400\n",
      "449/449 [==============================] - 31s 68ms/step - loss: 0.7101 - accuracy: 0.7021 - val_loss: 1.0205 - val_accuracy: 0.6474\n",
      "Epoch 204/1400\n",
      "449/449 [==============================] - 30s 68ms/step - loss: 0.7021 - accuracy: 0.7039 - val_loss: 1.0265 - val_accuracy: 0.6447\n",
      "Epoch 205/1400\n",
      "449/449 [==============================] - 30s 67ms/step - loss: 0.7095 - accuracy: 0.7052 - val_loss: 1.0243 - val_accuracy: 0.6464\n",
      "Epoch 206/1400\n",
      "449/449 [==============================] - 30s 67ms/step - loss: 0.7120 - accuracy: 0.7044 - val_loss: 1.0320 - val_accuracy: 0.6392\n",
      "Epoch 207/1400\n",
      "449/449 [==============================] - 30s 67ms/step - loss: 0.6959 - accuracy: 0.7073 - val_loss: 1.0238 - val_accuracy: 0.6470\n",
      "Epoch 208/1400\n",
      "449/449 [==============================] - 31s 68ms/step - loss: 0.7126 - accuracy: 0.7035 - val_loss: 1.0229 - val_accuracy: 0.6471\n",
      "Epoch 209/1400\n",
      "449/449 [==============================] - 30s 67ms/step - loss: 0.6998 - accuracy: 0.7024 - val_loss: 1.0274 - val_accuracy: 0.6442\n",
      "Epoch 210/1400\n",
      "449/449 [==============================] - 30s 67ms/step - loss: 0.7084 - accuracy: 0.7037 - val_loss: 1.0503 - val_accuracy: 0.6321\n",
      "Epoch 211/1400\n",
      "449/449 [==============================] - 30s 67ms/step - loss: 0.7168 - accuracy: 0.7026 - val_loss: 1.0252 - val_accuracy: 0.6418\n",
      "Epoch 212/1400\n",
      "449/449 [==============================] - 30s 68ms/step - loss: 0.7079 - accuracy: 0.6991 - val_loss: 1.0249 - val_accuracy: 0.6442\n",
      "Epoch 213/1400\n",
      "449/449 [==============================] - 30s 68ms/step - loss: 0.7041 - accuracy: 0.7047 - val_loss: 1.0276 - val_accuracy: 0.6449\n",
      "Epoch 214/1400\n",
      "449/449 [==============================] - 30s 68ms/step - loss: 0.7067 - accuracy: 0.7075 - val_loss: 1.0508 - val_accuracy: 0.6390\n",
      "Epoch 215/1400\n",
      "449/449 [==============================] - 30s 67ms/step - loss: 0.7073 - accuracy: 0.7050 - val_loss: 1.0571 - val_accuracy: 0.6271\n",
      "Epoch 216/1400\n",
      "449/449 [==============================] - 30s 68ms/step - loss: 0.7121 - accuracy: 0.7046 - val_loss: 1.0283 - val_accuracy: 0.6438\n",
      "Epoch 217/1400\n",
      "449/449 [==============================] - 30s 68ms/step - loss: 0.7113 - accuracy: 0.7036 - val_loss: 1.0284 - val_accuracy: 0.6442\n",
      "Epoch 218/1400\n",
      "449/449 [==============================] - 30s 68ms/step - loss: 0.6995 - accuracy: 0.7090 - val_loss: 1.0506 - val_accuracy: 0.6346\n",
      "Epoch 219/1400\n",
      "449/449 [==============================] - 30s 68ms/step - loss: 0.6989 - accuracy: 0.7094 - val_loss: 1.0298 - val_accuracy: 0.6422\n",
      "Epoch 220/1400\n",
      "449/449 [==============================] - 30s 67ms/step - loss: 0.7049 - accuracy: 0.7069 - val_loss: 1.0531 - val_accuracy: 0.6351\n",
      "Epoch 221/1400\n",
      "449/449 [==============================] - 30s 67ms/step - loss: 0.7024 - accuracy: 0.7069 - val_loss: 1.0276 - val_accuracy: 0.6457\n",
      "Epoch 222/1400\n",
      "449/449 [==============================] - 30s 67ms/step - loss: 0.7109 - accuracy: 0.7027 - val_loss: 1.0260 - val_accuracy: 0.6442\n",
      "Epoch 223/1400\n",
      "449/449 [==============================] - 30s 67ms/step - loss: 0.7037 - accuracy: 0.7037 - val_loss: 1.0533 - val_accuracy: 0.6325\n",
      "Epoch 224/1400\n",
      "449/449 [==============================] - 30s 67ms/step - loss: 0.7112 - accuracy: 0.7020 - val_loss: 1.0268 - val_accuracy: 0.6450\n",
      "Epoch 225/1400\n",
      "449/449 [==============================] - 30s 67ms/step - loss: 0.7060 - accuracy: 0.7054 - val_loss: 1.0207 - val_accuracy: 0.6477\n",
      "Epoch 226/1400\n",
      "449/449 [==============================] - 30s 67ms/step - loss: 0.7101 - accuracy: 0.7045 - val_loss: 1.0759 - val_accuracy: 0.6225\n",
      "Epoch 227/1400\n",
      "449/449 [==============================] - 30s 67ms/step - loss: 0.7042 - accuracy: 0.7086 - val_loss: 1.0327 - val_accuracy: 0.6454\n",
      "Epoch 228/1400\n",
      "449/449 [==============================] - 30s 67ms/step - loss: 0.7016 - accuracy: 0.7051 - val_loss: 1.0291 - val_accuracy: 0.6432\n",
      "Epoch 229/1400\n",
      "449/449 [==============================] - 30s 67ms/step - loss: 0.7090 - accuracy: 0.7036 - val_loss: 1.0300 - val_accuracy: 0.6438\n",
      "Epoch 230/1400\n",
      "449/449 [==============================] - 30s 67ms/step - loss: 0.7053 - accuracy: 0.7069 - val_loss: 1.0230 - val_accuracy: 0.6482\n",
      "Epoch 231/1400\n",
      "449/449 [==============================] - 30s 67ms/step - loss: 0.7015 - accuracy: 0.7032 - val_loss: 1.0333 - val_accuracy: 0.6441\n",
      "Epoch 232/1400\n",
      "449/449 [==============================] - 31s 68ms/step - loss: 0.7042 - accuracy: 0.7078 - val_loss: 1.0330 - val_accuracy: 0.6424\n",
      "Epoch 233/1400\n",
      "449/449 [==============================] - 31s 69ms/step - loss: 0.7087 - accuracy: 0.7040 - val_loss: 1.0232 - val_accuracy: 0.6466\n",
      "Epoch 234/1400\n",
      "449/449 [==============================] - 30s 67ms/step - loss: 0.7152 - accuracy: 0.7051 - val_loss: 1.0191 - val_accuracy: 0.6486\n",
      "Epoch 235/1400\n",
      "449/449 [==============================] - 31s 68ms/step - loss: 0.7088 - accuracy: 0.7077 - val_loss: 1.0144 - val_accuracy: 0.6485\n",
      "Epoch 236/1400\n",
      "449/449 [==============================] - 33s 73ms/step - loss: 0.6993 - accuracy: 0.7032 - val_loss: 1.0249 - val_accuracy: 0.6429\n",
      "Epoch 237/1400\n",
      "449/449 [==============================] - 32s 70ms/step - loss: 0.7002 - accuracy: 0.7086 - val_loss: 1.0143 - val_accuracy: 0.6500\n",
      "Epoch 238/1400\n",
      "449/449 [==============================] - 31s 70ms/step - loss: 0.7039 - accuracy: 0.7038 - val_loss: 1.0312 - val_accuracy: 0.6436\n",
      "Epoch 239/1400\n",
      "449/449 [==============================] - 32s 72ms/step - loss: 0.7006 - accuracy: 0.7068 - val_loss: 1.0265 - val_accuracy: 0.6468\n",
      "Epoch 240/1400\n",
      "449/449 [==============================] - 32s 71ms/step - loss: 0.6997 - accuracy: 0.7050 - val_loss: 1.0202 - val_accuracy: 0.6509\n",
      "Epoch 241/1400\n",
      "449/449 [==============================] - 33s 73ms/step - loss: 0.7115 - accuracy: 0.7021 - val_loss: 1.0236 - val_accuracy: 0.6456\n",
      "Epoch 242/1400\n",
      "449/449 [==============================] - 32s 71ms/step - loss: 0.7001 - accuracy: 0.7027 - val_loss: 1.0196 - val_accuracy: 0.6480\n",
      "Epoch 243/1400\n",
      "449/449 [==============================] - 32s 70ms/step - loss: 0.7111 - accuracy: 0.7064 - val_loss: 1.0224 - val_accuracy: 0.6460\n",
      "Epoch 244/1400\n",
      "449/449 [==============================] - 32s 71ms/step - loss: 0.7062 - accuracy: 0.7061 - val_loss: 1.0399 - val_accuracy: 0.6372\n",
      "Epoch 245/1400\n",
      "449/449 [==============================] - 32s 72ms/step - loss: 0.7056 - accuracy: 0.7043 - val_loss: 1.0346 - val_accuracy: 0.6382\n",
      "Epoch 246/1400\n",
      "449/449 [==============================] - 33s 73ms/step - loss: 0.7067 - accuracy: 0.7039 - val_loss: 1.0257 - val_accuracy: 0.6454\n",
      "Epoch 247/1400\n",
      "449/449 [==============================] - 31s 69ms/step - loss: 0.7017 - accuracy: 0.7054 - val_loss: 1.0223 - val_accuracy: 0.6477\n",
      "Epoch 248/1400\n",
      "449/449 [==============================] - 32s 71ms/step - loss: 0.7084 - accuracy: 0.7037 - val_loss: 1.0318 - val_accuracy: 0.6418\n",
      "Epoch 249/1400\n",
      "449/449 [==============================] - 32s 71ms/step - loss: 0.7153 - accuracy: 0.7029 - val_loss: 1.0241 - val_accuracy: 0.6467\n",
      "Epoch 250/1400\n",
      "449/449 [==============================] - 31s 70ms/step - loss: 0.7122 - accuracy: 0.7067 - val_loss: 1.0252 - val_accuracy: 0.6446\n",
      "Epoch 251/1400\n",
      "449/449 [==============================] - 31s 70ms/step - loss: 0.7085 - accuracy: 0.7047 - val_loss: 1.0268 - val_accuracy: 0.6418\n",
      "Epoch 252/1400\n",
      "449/449 [==============================] - 31s 70ms/step - loss: 0.7089 - accuracy: 0.7016 - val_loss: 1.0181 - val_accuracy: 0.6466\n",
      "Epoch 253/1400\n",
      "449/449 [==============================] - 32s 72ms/step - loss: 0.7009 - accuracy: 0.7043 - val_loss: 1.0116 - val_accuracy: 0.6471\n",
      "Epoch 254/1400\n",
      "449/449 [==============================] - 32s 72ms/step - loss: 0.7104 - accuracy: 0.7017 - val_loss: 1.0335 - val_accuracy: 0.6410\n",
      "Epoch 255/1400\n",
      "449/449 [==============================] - 31s 70ms/step - loss: 0.7038 - accuracy: 0.7079 - val_loss: 1.0269 - val_accuracy: 0.6395\n",
      "Epoch 256/1400\n",
      "449/449 [==============================] - 31s 70ms/step - loss: 0.7031 - accuracy: 0.7080 - val_loss: 1.0398 - val_accuracy: 0.6395\n",
      "Epoch 257/1400\n",
      "449/449 [==============================] - 31s 70ms/step - loss: 0.7114 - accuracy: 0.7018 - val_loss: 1.0231 - val_accuracy: 0.6484\n",
      "Epoch 258/1400\n",
      "449/449 [==============================] - 31s 70ms/step - loss: 0.7004 - accuracy: 0.7046 - val_loss: 1.0423 - val_accuracy: 0.6389\n",
      "Epoch 259/1400\n",
      "449/449 [==============================] - 31s 70ms/step - loss: 0.6927 - accuracy: 0.7106 - val_loss: 1.0247 - val_accuracy: 0.6446\n",
      "Epoch 260/1400\n",
      "449/449 [==============================] - 31s 69ms/step - loss: 0.7100 - accuracy: 0.7040 - val_loss: 1.0310 - val_accuracy: 0.6422\n",
      "Epoch 261/1400\n",
      "449/449 [==============================] - 34s 76ms/step - loss: 0.7093 - accuracy: 0.7072 - val_loss: 1.0465 - val_accuracy: 0.6350\n",
      "Epoch 262/1400\n",
      "449/449 [==============================] - 34s 75ms/step - loss: 0.7068 - accuracy: 0.7040 - val_loss: 1.0490 - val_accuracy: 0.6321\n",
      "Epoch 263/1400\n",
      "449/449 [==============================] - 33s 74ms/step - loss: 0.7030 - accuracy: 0.7062 - val_loss: 1.0285 - val_accuracy: 0.6382\n",
      "Epoch 264/1400\n",
      "449/449 [==============================] - 32s 71ms/step - loss: 0.7153 - accuracy: 0.7025 - val_loss: 1.0298 - val_accuracy: 0.6406\n",
      "Epoch 265/1400\n",
      "449/449 [==============================] - 32s 72ms/step - loss: 0.7065 - accuracy: 0.7058 - val_loss: 1.0419 - val_accuracy: 0.6367\n",
      "Epoch 266/1400\n",
      "449/449 [==============================] - 33s 73ms/step - loss: 0.7050 - accuracy: 0.7085 - val_loss: 1.0442 - val_accuracy: 0.6358\n",
      "Epoch 267/1400\n",
      "449/449 [==============================] - 33s 73ms/step - loss: 0.6923 - accuracy: 0.7130 - val_loss: 1.0246 - val_accuracy: 0.6443\n",
      "Epoch 268/1400\n",
      "449/449 [==============================] - 32s 72ms/step - loss: 0.6986 - accuracy: 0.7070 - val_loss: 1.0294 - val_accuracy: 0.6392\n",
      "Epoch 269/1400\n",
      "449/449 [==============================] - 33s 72ms/step - loss: 0.7051 - accuracy: 0.7034 - val_loss: 1.0307 - val_accuracy: 0.6431\n",
      "Epoch 270/1400\n",
      "449/449 [==============================] - 33s 73ms/step - loss: 0.6949 - accuracy: 0.7042 - val_loss: 1.0458 - val_accuracy: 0.6367\n",
      "Epoch 271/1400\n",
      "449/449 [==============================] - 30s 67ms/step - loss: 0.7012 - accuracy: 0.7035 - val_loss: 1.0303 - val_accuracy: 0.6450\n",
      "Epoch 272/1400\n",
      "449/449 [==============================] - 30s 67ms/step - loss: 0.6964 - accuracy: 0.7085 - val_loss: 1.0234 - val_accuracy: 0.6466\n",
      "Epoch 273/1400\n",
      "449/449 [==============================] - 32s 71ms/step - loss: 0.6994 - accuracy: 0.7071 - val_loss: 1.0238 - val_accuracy: 0.6485\n",
      "Epoch 274/1400\n",
      "449/449 [==============================] - 33s 73ms/step - loss: 0.7107 - accuracy: 0.7075 - val_loss: 1.0512 - val_accuracy: 0.6378\n",
      "Epoch 275/1400\n",
      "449/449 [==============================] - 33s 73ms/step - loss: 0.7040 - accuracy: 0.7059 - val_loss: 1.0524 - val_accuracy: 0.6375\n",
      "Epoch 276/1400\n",
      "449/449 [==============================] - 32s 70ms/step - loss: 0.6940 - accuracy: 0.7089 - val_loss: 1.0267 - val_accuracy: 0.6443\n",
      "Epoch 277/1400\n",
      "449/449 [==============================] - 32s 71ms/step - loss: 0.6984 - accuracy: 0.7101 - val_loss: 1.0303 - val_accuracy: 0.6420\n",
      "Epoch 278/1400\n",
      "449/449 [==============================] - 32s 71ms/step - loss: 0.6938 - accuracy: 0.7094 - val_loss: 1.0227 - val_accuracy: 0.6482\n",
      "Epoch 279/1400\n",
      "449/449 [==============================] - 34s 77ms/step - loss: 0.7054 - accuracy: 0.7041 - val_loss: 1.0266 - val_accuracy: 0.6452\n",
      "Epoch 280/1400\n",
      "449/449 [==============================] - 51s 114ms/step - loss: 0.6975 - accuracy: 0.7058 - val_loss: 1.0334 - val_accuracy: 0.6438\n",
      "Epoch 281/1400\n",
      "449/449 [==============================] - 52s 115ms/step - loss: 0.7044 - accuracy: 0.7095 - val_loss: 1.0247 - val_accuracy: 0.6441\n",
      "Epoch 282/1400\n",
      "449/449 [==============================] - 45s 100ms/step - loss: 0.6985 - accuracy: 0.7065 - val_loss: 1.0388 - val_accuracy: 0.6397\n",
      "Epoch 283/1400\n",
      "449/449 [==============================] - 31s 69ms/step - loss: 0.7014 - accuracy: 0.7074 - val_loss: 1.0177 - val_accuracy: 0.6492\n",
      "Epoch 284/1400\n",
      "108/449 [======>.......................] - ETA: 21s - loss: 0.6885 - accuracy: 0.7105"
     ]
    },
    {
     "ename": "KeyboardInterrupt",
     "evalue": "",
     "output_type": "error",
     "traceback": [
      "\u001b[1;31m---------------------------------------------------------------------------\u001b[0m",
      "\u001b[1;31mKeyboardInterrupt\u001b[0m                         Traceback (most recent call last)",
      "\u001b[1;32mC:\\Users\\ADMINI~1\\AppData\\Local\\Temp/ipykernel_13340/2107484229.py\u001b[0m in \u001b[0;36m<module>\u001b[1;34m\u001b[0m\n\u001b[1;32m----> 1\u001b[1;33m \u001b[0mmodel\u001b[0m\u001b[1;33m.\u001b[0m\u001b[0mfit\u001b[0m\u001b[1;33m(\u001b[0m\u001b[0mtrain\u001b[0m\u001b[1;33m,\u001b[0m\u001b[0mepochs\u001b[0m\u001b[1;33m=\u001b[0m\u001b[1;36m1400\u001b[0m\u001b[1;33m,\u001b[0m\u001b[0mvalidation_data\u001b[0m\u001b[1;33m=\u001b[0m\u001b[0mtest\u001b[0m\u001b[1;33m,\u001b[0m\u001b[0mverbose\u001b[0m\u001b[1;33m=\u001b[0m\u001b[1;36m1\u001b[0m\u001b[1;33m,\u001b[0m\u001b[0mclass_weight\u001b[0m\u001b[1;33m=\u001b[0m\u001b[0mclass_weights\u001b[0m\u001b[1;33m)\u001b[0m\u001b[1;33m\u001b[0m\u001b[1;33m\u001b[0m\u001b[0m\n\u001b[0m",
      "\u001b[1;32m~\\anaconda3\\envs\\tf\\lib\\site-packages\\keras\\utils\\traceback_utils.py\u001b[0m in \u001b[0;36merror_handler\u001b[1;34m(*args, **kwargs)\u001b[0m\n\u001b[0;32m     62\u001b[0m     \u001b[0mfiltered_tb\u001b[0m \u001b[1;33m=\u001b[0m \u001b[1;32mNone\u001b[0m\u001b[1;33m\u001b[0m\u001b[1;33m\u001b[0m\u001b[0m\n\u001b[0;32m     63\u001b[0m     \u001b[1;32mtry\u001b[0m\u001b[1;33m:\u001b[0m\u001b[1;33m\u001b[0m\u001b[1;33m\u001b[0m\u001b[0m\n\u001b[1;32m---> 64\u001b[1;33m       \u001b[1;32mreturn\u001b[0m \u001b[0mfn\u001b[0m\u001b[1;33m(\u001b[0m\u001b[1;33m*\u001b[0m\u001b[0margs\u001b[0m\u001b[1;33m,\u001b[0m \u001b[1;33m**\u001b[0m\u001b[0mkwargs\u001b[0m\u001b[1;33m)\u001b[0m\u001b[1;33m\u001b[0m\u001b[1;33m\u001b[0m\u001b[0m\n\u001b[0m\u001b[0;32m     65\u001b[0m     \u001b[1;32mexcept\u001b[0m \u001b[0mException\u001b[0m \u001b[1;32mas\u001b[0m \u001b[0me\u001b[0m\u001b[1;33m:\u001b[0m  \u001b[1;31m# pylint: disable=broad-except\u001b[0m\u001b[1;33m\u001b[0m\u001b[1;33m\u001b[0m\u001b[0m\n\u001b[0;32m     66\u001b[0m       \u001b[0mfiltered_tb\u001b[0m \u001b[1;33m=\u001b[0m \u001b[0m_process_traceback_frames\u001b[0m\u001b[1;33m(\u001b[0m\u001b[0me\u001b[0m\u001b[1;33m.\u001b[0m\u001b[0m__traceback__\u001b[0m\u001b[1;33m)\u001b[0m\u001b[1;33m\u001b[0m\u001b[1;33m\u001b[0m\u001b[0m\n",
      "\u001b[1;32m~\\anaconda3\\envs\\tf\\lib\\site-packages\\keras\\engine\\training.py\u001b[0m in \u001b[0;36mfit\u001b[1;34m(self, x, y, batch_size, epochs, verbose, callbacks, validation_split, validation_data, shuffle, class_weight, sample_weight, initial_epoch, steps_per_epoch, validation_steps, validation_batch_size, validation_freq, max_queue_size, workers, use_multiprocessing)\u001b[0m\n\u001b[0;32m   1382\u001b[0m                 _r=1):\n\u001b[0;32m   1383\u001b[0m               \u001b[0mcallbacks\u001b[0m\u001b[1;33m.\u001b[0m\u001b[0mon_train_batch_begin\u001b[0m\u001b[1;33m(\u001b[0m\u001b[0mstep\u001b[0m\u001b[1;33m)\u001b[0m\u001b[1;33m\u001b[0m\u001b[1;33m\u001b[0m\u001b[0m\n\u001b[1;32m-> 1384\u001b[1;33m               \u001b[0mtmp_logs\u001b[0m \u001b[1;33m=\u001b[0m \u001b[0mself\u001b[0m\u001b[1;33m.\u001b[0m\u001b[0mtrain_function\u001b[0m\u001b[1;33m(\u001b[0m\u001b[0miterator\u001b[0m\u001b[1;33m)\u001b[0m\u001b[1;33m\u001b[0m\u001b[1;33m\u001b[0m\u001b[0m\n\u001b[0m\u001b[0;32m   1385\u001b[0m               \u001b[1;32mif\u001b[0m \u001b[0mdata_handler\u001b[0m\u001b[1;33m.\u001b[0m\u001b[0mshould_sync\u001b[0m\u001b[1;33m:\u001b[0m\u001b[1;33m\u001b[0m\u001b[1;33m\u001b[0m\u001b[0m\n\u001b[0;32m   1386\u001b[0m                 \u001b[0mcontext\u001b[0m\u001b[1;33m.\u001b[0m\u001b[0masync_wait\u001b[0m\u001b[1;33m(\u001b[0m\u001b[1;33m)\u001b[0m\u001b[1;33m\u001b[0m\u001b[1;33m\u001b[0m\u001b[0m\n",
      "\u001b[1;32m~\\anaconda3\\envs\\tf\\lib\\site-packages\\tensorflow\\python\\util\\traceback_utils.py\u001b[0m in \u001b[0;36merror_handler\u001b[1;34m(*args, **kwargs)\u001b[0m\n\u001b[0;32m    148\u001b[0m     \u001b[0mfiltered_tb\u001b[0m \u001b[1;33m=\u001b[0m \u001b[1;32mNone\u001b[0m\u001b[1;33m\u001b[0m\u001b[1;33m\u001b[0m\u001b[0m\n\u001b[0;32m    149\u001b[0m     \u001b[1;32mtry\u001b[0m\u001b[1;33m:\u001b[0m\u001b[1;33m\u001b[0m\u001b[1;33m\u001b[0m\u001b[0m\n\u001b[1;32m--> 150\u001b[1;33m       \u001b[1;32mreturn\u001b[0m \u001b[0mfn\u001b[0m\u001b[1;33m(\u001b[0m\u001b[1;33m*\u001b[0m\u001b[0margs\u001b[0m\u001b[1;33m,\u001b[0m \u001b[1;33m**\u001b[0m\u001b[0mkwargs\u001b[0m\u001b[1;33m)\u001b[0m\u001b[1;33m\u001b[0m\u001b[1;33m\u001b[0m\u001b[0m\n\u001b[0m\u001b[0;32m    151\u001b[0m     \u001b[1;32mexcept\u001b[0m \u001b[0mException\u001b[0m \u001b[1;32mas\u001b[0m \u001b[0me\u001b[0m\u001b[1;33m:\u001b[0m\u001b[1;33m\u001b[0m\u001b[1;33m\u001b[0m\u001b[0m\n\u001b[0;32m    152\u001b[0m       \u001b[0mfiltered_tb\u001b[0m \u001b[1;33m=\u001b[0m \u001b[0m_process_traceback_frames\u001b[0m\u001b[1;33m(\u001b[0m\u001b[0me\u001b[0m\u001b[1;33m.\u001b[0m\u001b[0m__traceback__\u001b[0m\u001b[1;33m)\u001b[0m\u001b[1;33m\u001b[0m\u001b[1;33m\u001b[0m\u001b[0m\n",
      "\u001b[1;32m~\\anaconda3\\envs\\tf\\lib\\site-packages\\tensorflow\\python\\eager\\def_function.py\u001b[0m in \u001b[0;36m__call__\u001b[1;34m(self, *args, **kwds)\u001b[0m\n\u001b[0;32m    913\u001b[0m \u001b[1;33m\u001b[0m\u001b[0m\n\u001b[0;32m    914\u001b[0m       \u001b[1;32mwith\u001b[0m \u001b[0mOptionalXlaContext\u001b[0m\u001b[1;33m(\u001b[0m\u001b[0mself\u001b[0m\u001b[1;33m.\u001b[0m\u001b[0m_jit_compile\u001b[0m\u001b[1;33m)\u001b[0m\u001b[1;33m:\u001b[0m\u001b[1;33m\u001b[0m\u001b[1;33m\u001b[0m\u001b[0m\n\u001b[1;32m--> 915\u001b[1;33m         \u001b[0mresult\u001b[0m \u001b[1;33m=\u001b[0m \u001b[0mself\u001b[0m\u001b[1;33m.\u001b[0m\u001b[0m_call\u001b[0m\u001b[1;33m(\u001b[0m\u001b[1;33m*\u001b[0m\u001b[0margs\u001b[0m\u001b[1;33m,\u001b[0m \u001b[1;33m**\u001b[0m\u001b[0mkwds\u001b[0m\u001b[1;33m)\u001b[0m\u001b[1;33m\u001b[0m\u001b[1;33m\u001b[0m\u001b[0m\n\u001b[0m\u001b[0;32m    916\u001b[0m \u001b[1;33m\u001b[0m\u001b[0m\n\u001b[0;32m    917\u001b[0m       \u001b[0mnew_tracing_count\u001b[0m \u001b[1;33m=\u001b[0m \u001b[0mself\u001b[0m\u001b[1;33m.\u001b[0m\u001b[0mexperimental_get_tracing_count\u001b[0m\u001b[1;33m(\u001b[0m\u001b[1;33m)\u001b[0m\u001b[1;33m\u001b[0m\u001b[1;33m\u001b[0m\u001b[0m\n",
      "\u001b[1;32m~\\anaconda3\\envs\\tf\\lib\\site-packages\\tensorflow\\python\\eager\\def_function.py\u001b[0m in \u001b[0;36m_call\u001b[1;34m(self, *args, **kwds)\u001b[0m\n\u001b[0;32m    945\u001b[0m       \u001b[1;31m# In this case we have created variables on the first call, so we run the\u001b[0m\u001b[1;33m\u001b[0m\u001b[1;33m\u001b[0m\u001b[0m\n\u001b[0;32m    946\u001b[0m       \u001b[1;31m# defunned version which is guaranteed to never create variables.\u001b[0m\u001b[1;33m\u001b[0m\u001b[1;33m\u001b[0m\u001b[0m\n\u001b[1;32m--> 947\u001b[1;33m       \u001b[1;32mreturn\u001b[0m \u001b[0mself\u001b[0m\u001b[1;33m.\u001b[0m\u001b[0m_stateless_fn\u001b[0m\u001b[1;33m(\u001b[0m\u001b[1;33m*\u001b[0m\u001b[0margs\u001b[0m\u001b[1;33m,\u001b[0m \u001b[1;33m**\u001b[0m\u001b[0mkwds\u001b[0m\u001b[1;33m)\u001b[0m  \u001b[1;31m# pylint: disable=not-callable\u001b[0m\u001b[1;33m\u001b[0m\u001b[1;33m\u001b[0m\u001b[0m\n\u001b[0m\u001b[0;32m    948\u001b[0m     \u001b[1;32melif\u001b[0m \u001b[0mself\u001b[0m\u001b[1;33m.\u001b[0m\u001b[0m_stateful_fn\u001b[0m \u001b[1;32mis\u001b[0m \u001b[1;32mnot\u001b[0m \u001b[1;32mNone\u001b[0m\u001b[1;33m:\u001b[0m\u001b[1;33m\u001b[0m\u001b[1;33m\u001b[0m\u001b[0m\n\u001b[0;32m    949\u001b[0m       \u001b[1;31m# Release the lock early so that multiple threads can perform the call\u001b[0m\u001b[1;33m\u001b[0m\u001b[1;33m\u001b[0m\u001b[0m\n",
      "\u001b[1;32m~\\anaconda3\\envs\\tf\\lib\\site-packages\\tensorflow\\python\\eager\\function.py\u001b[0m in \u001b[0;36m__call__\u001b[1;34m(self, *args, **kwargs)\u001b[0m\n\u001b[0;32m   2954\u001b[0m       (graph_function,\n\u001b[0;32m   2955\u001b[0m        filtered_flat_args) = self._maybe_define_function(args, kwargs)\n\u001b[1;32m-> 2956\u001b[1;33m     return graph_function._call_flat(\n\u001b[0m\u001b[0;32m   2957\u001b[0m         filtered_flat_args, captured_inputs=graph_function.captured_inputs)  # pylint: disable=protected-access\n\u001b[0;32m   2958\u001b[0m \u001b[1;33m\u001b[0m\u001b[0m\n",
      "\u001b[1;32m~\\anaconda3\\envs\\tf\\lib\\site-packages\\tensorflow\\python\\eager\\function.py\u001b[0m in \u001b[0;36m_call_flat\u001b[1;34m(self, args, captured_inputs, cancellation_manager)\u001b[0m\n\u001b[0;32m   1851\u001b[0m         and executing_eagerly):\n\u001b[0;32m   1852\u001b[0m       \u001b[1;31m# No tape is watching; skip to running the function.\u001b[0m\u001b[1;33m\u001b[0m\u001b[1;33m\u001b[0m\u001b[0m\n\u001b[1;32m-> 1853\u001b[1;33m       return self._build_call_outputs(self._inference_function.call(\n\u001b[0m\u001b[0;32m   1854\u001b[0m           ctx, args, cancellation_manager=cancellation_manager))\n\u001b[0;32m   1855\u001b[0m     forward_backward = self._select_forward_and_backward_functions(\n",
      "\u001b[1;32m~\\anaconda3\\envs\\tf\\lib\\site-packages\\tensorflow\\python\\eager\\function.py\u001b[0m in \u001b[0;36mcall\u001b[1;34m(self, ctx, args, cancellation_manager)\u001b[0m\n\u001b[0;32m    497\u001b[0m       \u001b[1;32mwith\u001b[0m \u001b[0m_InterpolateFunctionError\u001b[0m\u001b[1;33m(\u001b[0m\u001b[0mself\u001b[0m\u001b[1;33m)\u001b[0m\u001b[1;33m:\u001b[0m\u001b[1;33m\u001b[0m\u001b[1;33m\u001b[0m\u001b[0m\n\u001b[0;32m    498\u001b[0m         \u001b[1;32mif\u001b[0m \u001b[0mcancellation_manager\u001b[0m \u001b[1;32mis\u001b[0m \u001b[1;32mNone\u001b[0m\u001b[1;33m:\u001b[0m\u001b[1;33m\u001b[0m\u001b[1;33m\u001b[0m\u001b[0m\n\u001b[1;32m--> 499\u001b[1;33m           outputs = execute.execute(\n\u001b[0m\u001b[0;32m    500\u001b[0m               \u001b[0mstr\u001b[0m\u001b[1;33m(\u001b[0m\u001b[0mself\u001b[0m\u001b[1;33m.\u001b[0m\u001b[0msignature\u001b[0m\u001b[1;33m.\u001b[0m\u001b[0mname\u001b[0m\u001b[1;33m)\u001b[0m\u001b[1;33m,\u001b[0m\u001b[1;33m\u001b[0m\u001b[1;33m\u001b[0m\u001b[0m\n\u001b[0;32m    501\u001b[0m               \u001b[0mnum_outputs\u001b[0m\u001b[1;33m=\u001b[0m\u001b[0mself\u001b[0m\u001b[1;33m.\u001b[0m\u001b[0m_num_outputs\u001b[0m\u001b[1;33m,\u001b[0m\u001b[1;33m\u001b[0m\u001b[1;33m\u001b[0m\u001b[0m\n",
      "\u001b[1;32m~\\anaconda3\\envs\\tf\\lib\\site-packages\\tensorflow\\python\\eager\\execute.py\u001b[0m in \u001b[0;36mquick_execute\u001b[1;34m(op_name, num_outputs, inputs, attrs, ctx, name)\u001b[0m\n\u001b[0;32m     52\u001b[0m   \u001b[1;32mtry\u001b[0m\u001b[1;33m:\u001b[0m\u001b[1;33m\u001b[0m\u001b[1;33m\u001b[0m\u001b[0m\n\u001b[0;32m     53\u001b[0m     \u001b[0mctx\u001b[0m\u001b[1;33m.\u001b[0m\u001b[0mensure_initialized\u001b[0m\u001b[1;33m(\u001b[0m\u001b[1;33m)\u001b[0m\u001b[1;33m\u001b[0m\u001b[1;33m\u001b[0m\u001b[0m\n\u001b[1;32m---> 54\u001b[1;33m     tensors = pywrap_tfe.TFE_Py_Execute(ctx._handle, device_name, op_name,\n\u001b[0m\u001b[0;32m     55\u001b[0m                                         inputs, attrs, num_outputs)\n\u001b[0;32m     56\u001b[0m   \u001b[1;32mexcept\u001b[0m \u001b[0mcore\u001b[0m\u001b[1;33m.\u001b[0m\u001b[0m_NotOkStatusException\u001b[0m \u001b[1;32mas\u001b[0m \u001b[0me\u001b[0m\u001b[1;33m:\u001b[0m\u001b[1;33m\u001b[0m\u001b[1;33m\u001b[0m\u001b[0m\n",
      "\u001b[1;31mKeyboardInterrupt\u001b[0m: "
     ]
    }
   ],
   "source": [
    "model.fit(train,epochs=1400,validation_data=test,verbose=1,class_weight=class_weights)"
   ]
  },
  {
   "cell_type": "code",
   "execution_count": 50,
   "id": "bf4de45e",
   "metadata": {},
   "outputs": [
    {
     "name": "stdout",
     "output_type": "stream",
     "text": [
      "Epoch 1/1400\n",
      "108/449 [======>.......................] - ETA: 22s - loss: 0.6905 - accuracy: 0.7063"
     ]
    },
    {
     "ename": "KeyboardInterrupt",
     "evalue": "",
     "output_type": "error",
     "traceback": [
      "\u001b[1;31m---------------------------------------------------------------------------\u001b[0m",
      "\u001b[1;31mKeyboardInterrupt\u001b[0m                         Traceback (most recent call last)",
      "\u001b[1;32mC:\\Users\\ADMINI~1\\AppData\\Local\\Temp/ipykernel_13340/2107484229.py\u001b[0m in \u001b[0;36m<module>\u001b[1;34m\u001b[0m\n\u001b[1;32m----> 1\u001b[1;33m \u001b[0mmodel\u001b[0m\u001b[1;33m.\u001b[0m\u001b[0mfit\u001b[0m\u001b[1;33m(\u001b[0m\u001b[0mtrain\u001b[0m\u001b[1;33m,\u001b[0m\u001b[0mepochs\u001b[0m\u001b[1;33m=\u001b[0m\u001b[1;36m1400\u001b[0m\u001b[1;33m,\u001b[0m\u001b[0mvalidation_data\u001b[0m\u001b[1;33m=\u001b[0m\u001b[0mtest\u001b[0m\u001b[1;33m,\u001b[0m\u001b[0mverbose\u001b[0m\u001b[1;33m=\u001b[0m\u001b[1;36m1\u001b[0m\u001b[1;33m,\u001b[0m\u001b[0mclass_weight\u001b[0m\u001b[1;33m=\u001b[0m\u001b[0mclass_weights\u001b[0m\u001b[1;33m)\u001b[0m\u001b[1;33m\u001b[0m\u001b[1;33m\u001b[0m\u001b[0m\n\u001b[0m",
      "\u001b[1;32m~\\anaconda3\\envs\\tf\\lib\\site-packages\\keras\\utils\\traceback_utils.py\u001b[0m in \u001b[0;36merror_handler\u001b[1;34m(*args, **kwargs)\u001b[0m\n\u001b[0;32m     62\u001b[0m     \u001b[0mfiltered_tb\u001b[0m \u001b[1;33m=\u001b[0m \u001b[1;32mNone\u001b[0m\u001b[1;33m\u001b[0m\u001b[1;33m\u001b[0m\u001b[0m\n\u001b[0;32m     63\u001b[0m     \u001b[1;32mtry\u001b[0m\u001b[1;33m:\u001b[0m\u001b[1;33m\u001b[0m\u001b[1;33m\u001b[0m\u001b[0m\n\u001b[1;32m---> 64\u001b[1;33m       \u001b[1;32mreturn\u001b[0m \u001b[0mfn\u001b[0m\u001b[1;33m(\u001b[0m\u001b[1;33m*\u001b[0m\u001b[0margs\u001b[0m\u001b[1;33m,\u001b[0m \u001b[1;33m**\u001b[0m\u001b[0mkwargs\u001b[0m\u001b[1;33m)\u001b[0m\u001b[1;33m\u001b[0m\u001b[1;33m\u001b[0m\u001b[0m\n\u001b[0m\u001b[0;32m     65\u001b[0m     \u001b[1;32mexcept\u001b[0m \u001b[0mException\u001b[0m \u001b[1;32mas\u001b[0m \u001b[0me\u001b[0m\u001b[1;33m:\u001b[0m  \u001b[1;31m# pylint: disable=broad-except\u001b[0m\u001b[1;33m\u001b[0m\u001b[1;33m\u001b[0m\u001b[0m\n\u001b[0;32m     66\u001b[0m       \u001b[0mfiltered_tb\u001b[0m \u001b[1;33m=\u001b[0m \u001b[0m_process_traceback_frames\u001b[0m\u001b[1;33m(\u001b[0m\u001b[0me\u001b[0m\u001b[1;33m.\u001b[0m\u001b[0m__traceback__\u001b[0m\u001b[1;33m)\u001b[0m\u001b[1;33m\u001b[0m\u001b[1;33m\u001b[0m\u001b[0m\n",
      "\u001b[1;32m~\\anaconda3\\envs\\tf\\lib\\site-packages\\keras\\engine\\training.py\u001b[0m in \u001b[0;36mfit\u001b[1;34m(self, x, y, batch_size, epochs, verbose, callbacks, validation_split, validation_data, shuffle, class_weight, sample_weight, initial_epoch, steps_per_epoch, validation_steps, validation_batch_size, validation_freq, max_queue_size, workers, use_multiprocessing)\u001b[0m\n\u001b[0;32m   1382\u001b[0m                 _r=1):\n\u001b[0;32m   1383\u001b[0m               \u001b[0mcallbacks\u001b[0m\u001b[1;33m.\u001b[0m\u001b[0mon_train_batch_begin\u001b[0m\u001b[1;33m(\u001b[0m\u001b[0mstep\u001b[0m\u001b[1;33m)\u001b[0m\u001b[1;33m\u001b[0m\u001b[1;33m\u001b[0m\u001b[0m\n\u001b[1;32m-> 1384\u001b[1;33m               \u001b[0mtmp_logs\u001b[0m \u001b[1;33m=\u001b[0m \u001b[0mself\u001b[0m\u001b[1;33m.\u001b[0m\u001b[0mtrain_function\u001b[0m\u001b[1;33m(\u001b[0m\u001b[0miterator\u001b[0m\u001b[1;33m)\u001b[0m\u001b[1;33m\u001b[0m\u001b[1;33m\u001b[0m\u001b[0m\n\u001b[0m\u001b[0;32m   1385\u001b[0m               \u001b[1;32mif\u001b[0m \u001b[0mdata_handler\u001b[0m\u001b[1;33m.\u001b[0m\u001b[0mshould_sync\u001b[0m\u001b[1;33m:\u001b[0m\u001b[1;33m\u001b[0m\u001b[1;33m\u001b[0m\u001b[0m\n\u001b[0;32m   1386\u001b[0m                 \u001b[0mcontext\u001b[0m\u001b[1;33m.\u001b[0m\u001b[0masync_wait\u001b[0m\u001b[1;33m(\u001b[0m\u001b[1;33m)\u001b[0m\u001b[1;33m\u001b[0m\u001b[1;33m\u001b[0m\u001b[0m\n",
      "\u001b[1;32m~\\anaconda3\\envs\\tf\\lib\\site-packages\\tensorflow\\python\\util\\traceback_utils.py\u001b[0m in \u001b[0;36merror_handler\u001b[1;34m(*args, **kwargs)\u001b[0m\n\u001b[0;32m    148\u001b[0m     \u001b[0mfiltered_tb\u001b[0m \u001b[1;33m=\u001b[0m \u001b[1;32mNone\u001b[0m\u001b[1;33m\u001b[0m\u001b[1;33m\u001b[0m\u001b[0m\n\u001b[0;32m    149\u001b[0m     \u001b[1;32mtry\u001b[0m\u001b[1;33m:\u001b[0m\u001b[1;33m\u001b[0m\u001b[1;33m\u001b[0m\u001b[0m\n\u001b[1;32m--> 150\u001b[1;33m       \u001b[1;32mreturn\u001b[0m \u001b[0mfn\u001b[0m\u001b[1;33m(\u001b[0m\u001b[1;33m*\u001b[0m\u001b[0margs\u001b[0m\u001b[1;33m,\u001b[0m \u001b[1;33m**\u001b[0m\u001b[0mkwargs\u001b[0m\u001b[1;33m)\u001b[0m\u001b[1;33m\u001b[0m\u001b[1;33m\u001b[0m\u001b[0m\n\u001b[0m\u001b[0;32m    151\u001b[0m     \u001b[1;32mexcept\u001b[0m \u001b[0mException\u001b[0m \u001b[1;32mas\u001b[0m \u001b[0me\u001b[0m\u001b[1;33m:\u001b[0m\u001b[1;33m\u001b[0m\u001b[1;33m\u001b[0m\u001b[0m\n\u001b[0;32m    152\u001b[0m       \u001b[0mfiltered_tb\u001b[0m \u001b[1;33m=\u001b[0m \u001b[0m_process_traceback_frames\u001b[0m\u001b[1;33m(\u001b[0m\u001b[0me\u001b[0m\u001b[1;33m.\u001b[0m\u001b[0m__traceback__\u001b[0m\u001b[1;33m)\u001b[0m\u001b[1;33m\u001b[0m\u001b[1;33m\u001b[0m\u001b[0m\n",
      "\u001b[1;32m~\\anaconda3\\envs\\tf\\lib\\site-packages\\tensorflow\\python\\eager\\def_function.py\u001b[0m in \u001b[0;36m__call__\u001b[1;34m(self, *args, **kwds)\u001b[0m\n\u001b[0;32m    913\u001b[0m \u001b[1;33m\u001b[0m\u001b[0m\n\u001b[0;32m    914\u001b[0m       \u001b[1;32mwith\u001b[0m \u001b[0mOptionalXlaContext\u001b[0m\u001b[1;33m(\u001b[0m\u001b[0mself\u001b[0m\u001b[1;33m.\u001b[0m\u001b[0m_jit_compile\u001b[0m\u001b[1;33m)\u001b[0m\u001b[1;33m:\u001b[0m\u001b[1;33m\u001b[0m\u001b[1;33m\u001b[0m\u001b[0m\n\u001b[1;32m--> 915\u001b[1;33m         \u001b[0mresult\u001b[0m \u001b[1;33m=\u001b[0m \u001b[0mself\u001b[0m\u001b[1;33m.\u001b[0m\u001b[0m_call\u001b[0m\u001b[1;33m(\u001b[0m\u001b[1;33m*\u001b[0m\u001b[0margs\u001b[0m\u001b[1;33m,\u001b[0m \u001b[1;33m**\u001b[0m\u001b[0mkwds\u001b[0m\u001b[1;33m)\u001b[0m\u001b[1;33m\u001b[0m\u001b[1;33m\u001b[0m\u001b[0m\n\u001b[0m\u001b[0;32m    916\u001b[0m \u001b[1;33m\u001b[0m\u001b[0m\n\u001b[0;32m    917\u001b[0m       \u001b[0mnew_tracing_count\u001b[0m \u001b[1;33m=\u001b[0m \u001b[0mself\u001b[0m\u001b[1;33m.\u001b[0m\u001b[0mexperimental_get_tracing_count\u001b[0m\u001b[1;33m(\u001b[0m\u001b[1;33m)\u001b[0m\u001b[1;33m\u001b[0m\u001b[1;33m\u001b[0m\u001b[0m\n",
      "\u001b[1;32m~\\anaconda3\\envs\\tf\\lib\\site-packages\\tensorflow\\python\\eager\\def_function.py\u001b[0m in \u001b[0;36m_call\u001b[1;34m(self, *args, **kwds)\u001b[0m\n\u001b[0;32m    945\u001b[0m       \u001b[1;31m# In this case we have created variables on the first call, so we run the\u001b[0m\u001b[1;33m\u001b[0m\u001b[1;33m\u001b[0m\u001b[0m\n\u001b[0;32m    946\u001b[0m       \u001b[1;31m# defunned version which is guaranteed to never create variables.\u001b[0m\u001b[1;33m\u001b[0m\u001b[1;33m\u001b[0m\u001b[0m\n\u001b[1;32m--> 947\u001b[1;33m       \u001b[1;32mreturn\u001b[0m \u001b[0mself\u001b[0m\u001b[1;33m.\u001b[0m\u001b[0m_stateless_fn\u001b[0m\u001b[1;33m(\u001b[0m\u001b[1;33m*\u001b[0m\u001b[0margs\u001b[0m\u001b[1;33m,\u001b[0m \u001b[1;33m**\u001b[0m\u001b[0mkwds\u001b[0m\u001b[1;33m)\u001b[0m  \u001b[1;31m# pylint: disable=not-callable\u001b[0m\u001b[1;33m\u001b[0m\u001b[1;33m\u001b[0m\u001b[0m\n\u001b[0m\u001b[0;32m    948\u001b[0m     \u001b[1;32melif\u001b[0m \u001b[0mself\u001b[0m\u001b[1;33m.\u001b[0m\u001b[0m_stateful_fn\u001b[0m \u001b[1;32mis\u001b[0m \u001b[1;32mnot\u001b[0m \u001b[1;32mNone\u001b[0m\u001b[1;33m:\u001b[0m\u001b[1;33m\u001b[0m\u001b[1;33m\u001b[0m\u001b[0m\n\u001b[0;32m    949\u001b[0m       \u001b[1;31m# Release the lock early so that multiple threads can perform the call\u001b[0m\u001b[1;33m\u001b[0m\u001b[1;33m\u001b[0m\u001b[0m\n",
      "\u001b[1;32m~\\anaconda3\\envs\\tf\\lib\\site-packages\\tensorflow\\python\\eager\\function.py\u001b[0m in \u001b[0;36m__call__\u001b[1;34m(self, *args, **kwargs)\u001b[0m\n\u001b[0;32m   2954\u001b[0m       (graph_function,\n\u001b[0;32m   2955\u001b[0m        filtered_flat_args) = self._maybe_define_function(args, kwargs)\n\u001b[1;32m-> 2956\u001b[1;33m     return graph_function._call_flat(\n\u001b[0m\u001b[0;32m   2957\u001b[0m         filtered_flat_args, captured_inputs=graph_function.captured_inputs)  # pylint: disable=protected-access\n\u001b[0;32m   2958\u001b[0m \u001b[1;33m\u001b[0m\u001b[0m\n",
      "\u001b[1;32m~\\anaconda3\\envs\\tf\\lib\\site-packages\\tensorflow\\python\\eager\\function.py\u001b[0m in \u001b[0;36m_call_flat\u001b[1;34m(self, args, captured_inputs, cancellation_manager)\u001b[0m\n\u001b[0;32m   1851\u001b[0m         and executing_eagerly):\n\u001b[0;32m   1852\u001b[0m       \u001b[1;31m# No tape is watching; skip to running the function.\u001b[0m\u001b[1;33m\u001b[0m\u001b[1;33m\u001b[0m\u001b[0m\n\u001b[1;32m-> 1853\u001b[1;33m       return self._build_call_outputs(self._inference_function.call(\n\u001b[0m\u001b[0;32m   1854\u001b[0m           ctx, args, cancellation_manager=cancellation_manager))\n\u001b[0;32m   1855\u001b[0m     forward_backward = self._select_forward_and_backward_functions(\n",
      "\u001b[1;32m~\\anaconda3\\envs\\tf\\lib\\site-packages\\tensorflow\\python\\eager\\function.py\u001b[0m in \u001b[0;36mcall\u001b[1;34m(self, ctx, args, cancellation_manager)\u001b[0m\n\u001b[0;32m    497\u001b[0m       \u001b[1;32mwith\u001b[0m \u001b[0m_InterpolateFunctionError\u001b[0m\u001b[1;33m(\u001b[0m\u001b[0mself\u001b[0m\u001b[1;33m)\u001b[0m\u001b[1;33m:\u001b[0m\u001b[1;33m\u001b[0m\u001b[1;33m\u001b[0m\u001b[0m\n\u001b[0;32m    498\u001b[0m         \u001b[1;32mif\u001b[0m \u001b[0mcancellation_manager\u001b[0m \u001b[1;32mis\u001b[0m \u001b[1;32mNone\u001b[0m\u001b[1;33m:\u001b[0m\u001b[1;33m\u001b[0m\u001b[1;33m\u001b[0m\u001b[0m\n\u001b[1;32m--> 499\u001b[1;33m           outputs = execute.execute(\n\u001b[0m\u001b[0;32m    500\u001b[0m               \u001b[0mstr\u001b[0m\u001b[1;33m(\u001b[0m\u001b[0mself\u001b[0m\u001b[1;33m.\u001b[0m\u001b[0msignature\u001b[0m\u001b[1;33m.\u001b[0m\u001b[0mname\u001b[0m\u001b[1;33m)\u001b[0m\u001b[1;33m,\u001b[0m\u001b[1;33m\u001b[0m\u001b[1;33m\u001b[0m\u001b[0m\n\u001b[0;32m    501\u001b[0m               \u001b[0mnum_outputs\u001b[0m\u001b[1;33m=\u001b[0m\u001b[0mself\u001b[0m\u001b[1;33m.\u001b[0m\u001b[0m_num_outputs\u001b[0m\u001b[1;33m,\u001b[0m\u001b[1;33m\u001b[0m\u001b[1;33m\u001b[0m\u001b[0m\n",
      "\u001b[1;32m~\\anaconda3\\envs\\tf\\lib\\site-packages\\tensorflow\\python\\eager\\execute.py\u001b[0m in \u001b[0;36mquick_execute\u001b[1;34m(op_name, num_outputs, inputs, attrs, ctx, name)\u001b[0m\n\u001b[0;32m     52\u001b[0m   \u001b[1;32mtry\u001b[0m\u001b[1;33m:\u001b[0m\u001b[1;33m\u001b[0m\u001b[1;33m\u001b[0m\u001b[0m\n\u001b[0;32m     53\u001b[0m     \u001b[0mctx\u001b[0m\u001b[1;33m.\u001b[0m\u001b[0mensure_initialized\u001b[0m\u001b[1;33m(\u001b[0m\u001b[1;33m)\u001b[0m\u001b[1;33m\u001b[0m\u001b[1;33m\u001b[0m\u001b[0m\n\u001b[1;32m---> 54\u001b[1;33m     tensors = pywrap_tfe.TFE_Py_Execute(ctx._handle, device_name, op_name,\n\u001b[0m\u001b[0;32m     55\u001b[0m                                         inputs, attrs, num_outputs)\n\u001b[0;32m     56\u001b[0m   \u001b[1;32mexcept\u001b[0m \u001b[0mcore\u001b[0m\u001b[1;33m.\u001b[0m\u001b[0m_NotOkStatusException\u001b[0m \u001b[1;32mas\u001b[0m \u001b[0me\u001b[0m\u001b[1;33m:\u001b[0m\u001b[1;33m\u001b[0m\u001b[1;33m\u001b[0m\u001b[0m\n",
      "\u001b[1;31mKeyboardInterrupt\u001b[0m: "
     ]
    }
   ],
   "source": [
    "model.fit(train,epochs=1400,validation_data=test,verbose=1,class_weight=class_weights)"
   ]
  },
  {
   "cell_type": "code",
   "execution_count": 19,
   "id": "92bea2db",
   "metadata": {},
   "outputs": [],
   "source": [
    "train_dir= './train'\n",
    "validation_dir= './test'"
   ]
  },
  {
   "cell_type": "code",
   "execution_count": 20,
   "id": "3a54b1cd",
   "metadata": {},
   "outputs": [
    {
     "name": "stdout",
     "output_type": "stream",
     "text": [
      "Found 28709 images belonging to 7 classes.\n",
      "Found 7178 images belonging to 7 classes.\n"
     ]
    }
   ],
   "source": [
    "train_datagen = tf.keras.preprocessing.image.ImageDataGenerator(\n",
    "                    rescale=1./255,\n",
    "\t\t\t\t\trotation_range=30,\n",
    "\t\t\t\t\tshear_range=0.3,\n",
    "\t\t\t\t\tzoom_range=0.3,\n",
    "\t\t\t\t\twidth_shift_range=0.4,\n",
    "\t\t\t\t\theight_shift_range=0.4,\n",
    "\t\t\t\t\thorizontal_flip=True,\n",
    "\t\t\t\t\tfill_mode='nearest')\n",
    "validation_datagen = tf.keras.preprocessing.image.ImageDataGenerator(rescale=1./255)\n",
    "train_generator = train_datagen.flow_from_directory(\n",
    "        train_dir,\n",
    "        target_size=(48,48),\n",
    "        batch_size=28709,\n",
    "        color_mode = \"grayscale\",\n",
    "        shuffle=True,\n",
    "        class_mode='categorical')\n",
    "validation_generator = validation_datagen.flow_from_directory(\n",
    "        validation_dir,\n",
    "        target_size=(48, 48),\n",
    "        batch_size=7178,\n",
    "        color_mode = \"grayscale\",\n",
    "        shuffle=True,\n",
    "        class_mode='categorical')"
   ]
  },
  {
   "cell_type": "code",
   "execution_count": 21,
   "id": "6b618920",
   "metadata": {},
   "outputs": [],
   "source": [
    "train_images,train_labels = next(train_generator)\n",
    "test_images,test_labels = next(validation_generator)\n"
   ]
  },
  {
   "cell_type": "code",
   "execution_count": 22,
   "id": "cf9ff54c",
   "metadata": {},
   "outputs": [],
   "source": [
    "preds = model.predict(test_images)"
   ]
  },
  {
   "cell_type": "code",
   "execution_count": 23,
   "id": "48785238",
   "metadata": {},
   "outputs": [
    {
     "data": {
      "text/plain": [
       "array([5, 3, 5, ..., 6, 6, 3], dtype=int64)"
      ]
     },
     "execution_count": 23,
     "metadata": {},
     "output_type": "execute_result"
    }
   ],
   "source": [
    "test_labels_new = np.array([np.argmax(test_labels[i]) for i in range(7178)])\n",
    "test_labels_new"
   ]
  },
  {
   "cell_type": "code",
   "execution_count": 24,
   "id": "4f771b13",
   "metadata": {},
   "outputs": [
    {
     "data": {
      "text/plain": [
       "array([5, 3, 5, ..., 6, 6, 3], dtype=int64)"
      ]
     },
     "execution_count": 24,
     "metadata": {},
     "output_type": "execute_result"
    }
   ],
   "source": [
    "preds_labels_new = np.array([np.argmax(preds[i]) for i in range(7178)])\n",
    "preds_labels_new"
   ]
  },
  {
   "cell_type": "code",
   "execution_count": 25,
   "id": "b3930b93",
   "metadata": {},
   "outputs": [
    {
     "name": "stderr",
     "output_type": "stream",
     "text": [
      "C:\\Users\\ADMINI~1\\AppData\\Local\\Temp/ipykernel_13340/4044041814.py:1: DeprecationWarning: Calling np.sum(generator) is deprecated, and in the future will give a different result. Use np.sum(np.fromiter(generator)) or the python sum builtin instead.\n",
      "  np.sum(preds_labels_new[i]==test_labels_new[i] for i in range(7178))\n"
     ]
    },
    {
     "data": {
      "text/plain": [
       "4619"
      ]
     },
     "execution_count": 25,
     "metadata": {},
     "output_type": "execute_result"
    }
   ],
   "source": [
    "np.sum(preds_labels_new[i]==test_labels_new[i] for i in range(7178))"
   ]
  },
  {
   "cell_type": "code",
   "execution_count": 26,
   "id": "c0092457",
   "metadata": {},
   "outputs": [
    {
     "data": {
      "image/png": "[encoded data removed]",
      "text/plain": [
       "<Figure size 432x288 with 2 Axes>"
      ]
     },
     "metadata": {
      "needs_background": "light"
     },
     "output_type": "display_data"
    }
   ],
   "source": [
    "from sklearn.metrics import confusion_matrix , classification_report ,ConfusionMatrixDisplay\n",
    "CLASS_LABELS  = [0,1,2,3,4,5,6]\n",
    "cm_data = confusion_matrix(test_labels_new , preds_labels_new,labels=CLASS_LABELS)\n",
    "disp = ConfusionMatrixDisplay(confusion_matrix=cm_data,\n",
    "                              display_labels=CLASS_LABELS)\n",
    "disp.plot()\n",
    "plt.show()"
   ]
  },
  {
   "cell_type": "code",
   "execution_count": 27,
   "id": "dad3cc02",
   "metadata": {},
   "outputs": [
    {
     "data": {
      "text/plain": [
       "0.643494009473391"
      ]
     },
     "execution_count": 27,
     "metadata": {},
     "output_type": "execute_result"
    }
   ],
   "source": [
    "# accuracy of class 2: 41.4%\n",
    "# accuracy of class 5: 49.2%\n",
    "# if the accuracies of class2 and class5 improve to 60%, the whole accuracy will improve to \n",
    "# nearly 70%, if the accuracies of class2 and class5 improve to 72%\n",
    "# is there a way to train another model which emphasizes the accuracy of class 2 and class 5\n",
    "# for example, to largely increase the weight of class 2 and class 5\n",
    "# put large penalty when class 2 and class 5 are misclassified and other classes are misclassified to be class 2 and class 5\n",
    "\n",
    "4619/7178"
   ]
  },
  {
   "cell_type": "code",
   "execution_count": 34,
   "id": "fe927601",
   "metadata": {},
   "outputs": [],
   "source": [
    "train_path_2= './train_3'\n",
    "test_path_2='./test_3'"
   ]
  },
  {
   "cell_type": "code",
   "execution_count": 35,
   "id": "26d50b10",
   "metadata": {},
   "outputs": [
    {
     "name": "stdout",
     "output_type": "stream",
     "text": [
      "Found 17887 images belonging to 4 classes.\n",
      "Found 4462 images belonging to 4 classes.\n"
     ]
    }
   ],
   "source": [
    "train_datagen_2 = ImageDataGenerator(rescale=1.0/255,\n",
    "                                   zoom_range= 0.2,\n",
    "                                   horizontal_flip=True,\n",
    "                                   shear_range=0.2)\n",
    "\n",
    "test_datagen_2 = ImageDataGenerator(rescale=1.0/255)\n",
    "\n",
    "#Read our images to the data augmentations\n",
    "#Generates batches of augmented data\n",
    "train_2 = train_datagen_2.flow_from_directory(train_path_2,\n",
    "                                          color_mode = 'grayscale',\n",
    "                                          target_size = (48, 48),\n",
    "                                          batch_size = 64,\n",
    "                                          shuffle=True,\n",
    "                                          class_mode = 'categorical')\n",
    "\n",
    "\n",
    "\n",
    "test_2 = test_datagen_2.flow_from_directory(test_path_2,\n",
    "                                        color_mode = 'grayscale',\n",
    "                                        target_size = (48, 48),\n",
    "                                        batch_size = 64,\n",
    "                                        shuffle=True,\n",
    "                                        class_mode = 'categorical')"
   ]
  },
  {
   "cell_type": "code",
   "execution_count": 44,
   "id": "c1eaabcf",
   "metadata": {},
   "outputs": [
    {
     "name": "stdout",
     "output_type": "stream",
     "text": [
      "Model: \"sequential_3\"\n",
      "_________________________________________________________________\n",
      " Layer (type)                Output Shape              Param #   \n",
      "=================================================================\n",
      " conv2d_12 (Conv2D)          (None, 46, 46, 32)        320       \n",
      "                                                                 \n",
      " max_pooling2d_12 (MaxPoolin  (None, 23, 23, 32)       0         \n",
      " g2D)                                                            \n",
      "                                                                 \n",
      " batch_normalization_15 (Bat  (None, 23, 23, 32)       128       \n",
      " chNormalization)                                                \n",
      "                                                                 \n",
      " dropout_15 (Dropout)        (None, 23, 23, 32)        0         \n",
      "                                                                 \n",
      " conv2d_13 (Conv2D)          (None, 21, 21, 64)        18496     \n",
      "                                                                 \n",
      " max_pooling2d_13 (MaxPoolin  (None, 10, 10, 64)       0         \n",
      " g2D)                                                            \n",
      "                                                                 \n",
      " batch_normalization_16 (Bat  (None, 10, 10, 64)       256       \n",
      " chNormalization)                                                \n",
      "                                                                 \n",
      " dropout_16 (Dropout)        (None, 10, 10, 64)        0         \n",
      "                                                                 \n",
      " conv2d_14 (Conv2D)          (None, 8, 8, 256)         147712    \n",
      "                                                                 \n",
      " max_pooling2d_14 (MaxPoolin  (None, 4, 4, 256)        0         \n",
      " g2D)                                                            \n",
      "                                                                 \n",
      " batch_normalization_17 (Bat  (None, 4, 4, 256)        1024      \n",
      " chNormalization)                                                \n",
      "                                                                 \n",
      " dropout_17 (Dropout)        (None, 4, 4, 256)         0         \n",
      "                                                                 \n",
      " flatten_3 (Flatten)         (None, 4096)              0         \n",
      "                                                                 \n",
      " dense_6 (Dense)             (None, 64)                262208    \n",
      "                                                                 \n",
      " batch_normalization_18 (Bat  (None, 64)               256       \n",
      " chNormalization)                                                \n",
      "                                                                 \n",
      " dropout_18 (Dropout)        (None, 64)                0         \n",
      "                                                                 \n",
      " dense_7 (Dense)             (None, 4)                 260       \n",
      "                                                                 \n",
      "=================================================================\n",
      "Total params: 430,660\n",
      "Trainable params: 429,828\n",
      "Non-trainable params: 832\n",
      "_________________________________________________________________\n"
     ]
    }
   ],
   "source": [
    "model2 = tf.keras.models.Sequential()\n",
    "model2.add(layers.Conv2D(32,(3,3),strides=(1,1),padding=\"valid\",activation=\"relu\",input_shape=(48,48,1)))\n",
    "model2.add(layers.MaxPool2D(2,2))\n",
    "model2.add(BatchNormalization())\n",
    "model2.add(Dropout(0.1))\n",
    "\n",
    "model2.add(layers.Conv2D(64,(3,3),activation=\"relu\"))\n",
    "model2.add(layers.MaxPool2D(2,2))\n",
    "model2.add(BatchNormalization())\n",
    "model2.add(Dropout(0.1))\n",
    "\n",
    "\n",
    "model2.add(layers.Conv2D(256,(3,3),activation=\"relu\"))\n",
    "model2.add(layers.MaxPool2D(2,2))\n",
    "model2.add(BatchNormalization())\n",
    "model2.add(Dropout(0.1))\n",
    "\n",
    "model2.add(layers.Flatten())\n",
    "model2.add(layers.Dense(64,activation=\"relu\"))\n",
    "model2.add(BatchNormalization())\n",
    "model2.add(Dropout(0.2))\n",
    "\n",
    "\n",
    "model2.add(layers.Dense(4,activation=\"softmax\"))\n",
    "\n",
    "loss = tf.keras.losses.SparseCategoricalCrossentropy(from_logits=True)\n",
    "optim = tf.keras.optimizers.Adam(lr=0.001)\n",
    "metrics = [\"accuracy\"]\n",
    "model2.compile(optimizer = optim, loss=loss,metrics=metrics)\n",
    "batch_size = 64\n",
    "epochs = 50\n",
    "\n",
    "model2.summary()"
   ]
  },
  {
   "cell_type": "code",
   "execution_count": 47,
   "id": "18b2e892",
   "metadata": {},
   "outputs": [],
   "source": [
    "class_weights = class_weight.compute_class_weight(class_weight='balanced', \n",
    "                                                  classes=np.unique(train.classes), \n",
    "                                                  y=train.classes)\n",
    "class_weights = dict(zip(np.unique(train.classes),class_weights))\n",
    "\n",
    "filepath = '/my_best_model.epoch{epoch:02d}-loss{val_loss:.2f}.hdf5' #saves our best model to this location with custom name\n",
    "callbacks = [tf.keras.callbacks.ReduceLROnPlateau(monitor='val_loss', factor=0.2,patience=5, min_delta=0.0001, verbose=1),\n",
    "             tf.keras.callbacks.ModelCheckpoint(filepath=filepath, monitor='val_loss',verbose=1, save_best_only=True, mode='min'),\n",
    "             tf.keras.callbacks.EarlyStopping(monitor='val_loss', min_delta=0, patience=30, verbose=1,restore_best_weights=True)]\n",
    "\n",
    "\n",
    "model2.compile(optimizer=tf.keras.optimizers.Adam(learning_rate=0.001),\n",
    "              loss='categorical_crossentropy',\n",
    "              metrics=['accuracy'])"
   ]
  },
  {
   "cell_type": "code",
   "execution_count": 48,
   "id": "1827ce17",
   "metadata": {},
   "outputs": [
    {
     "name": "stdout",
     "output_type": "stream",
     "text": [
      "Epoch 1/50\n",
      "280/280 [==============================] - 23s 78ms/step - loss: 2.3015 - accuracy: 0.2502 - val_loss: 2.4967 - val_accuracy: 0.2324\n",
      "Epoch 2/50\n",
      "280/280 [==============================] - 22s 77ms/step - loss: 2.1340 - accuracy: 0.2597 - val_loss: 2.0704 - val_accuracy: 0.2512\n",
      "Epoch 3/50\n",
      "280/280 [==============================] - 22s 77ms/step - loss: 2.0600 - accuracy: 0.2675 - val_loss: 1.8679 - val_accuracy: 0.2766\n",
      "Epoch 4/50\n",
      "280/280 [==============================] - 22s 78ms/step - loss: 2.0095 - accuracy: 0.2770 - val_loss: 1.6108 - val_accuracy: 0.2958\n",
      "Epoch 5/50\n",
      "280/280 [==============================] - 22s 78ms/step - loss: 1.9772 - accuracy: 0.2795 - val_loss: 1.9351 - val_accuracy: 0.2689\n",
      "Epoch 6/50\n",
      "280/280 [==============================] - 22s 77ms/step - loss: 1.9335 - accuracy: 0.2853 - val_loss: 1.7849 - val_accuracy: 0.2678\n",
      "Epoch 7/50\n",
      "280/280 [==============================] - 22s 78ms/step - loss: 1.8929 - accuracy: 0.2919 - val_loss: 1.6351 - val_accuracy: 0.3283\n",
      "Epoch 8/50\n",
      "280/280 [==============================] - 22s 77ms/step - loss: 1.8727 - accuracy: 0.3022 - val_loss: 1.7689 - val_accuracy: 0.2976\n",
      "Epoch 9/50\n",
      "280/280 [==============================] - 22s 78ms/step - loss: 1.8459 - accuracy: 0.3108 - val_loss: 1.8163 - val_accuracy: 0.2703\n",
      "Epoch 10/50\n",
      "280/280 [==============================] - 22s 78ms/step - loss: 1.8136 - accuracy: 0.3184 - val_loss: 1.5785 - val_accuracy: 0.3595\n",
      "Epoch 11/50\n",
      "280/280 [==============================] - 22s 78ms/step - loss: 1.7979 - accuracy: 0.3250 - val_loss: 1.6249 - val_accuracy: 0.3528\n",
      "Epoch 12/50\n",
      "280/280 [==============================] - 22s 79ms/step - loss: 1.7572 - accuracy: 0.3333 - val_loss: 1.5368 - val_accuracy: 0.3678\n",
      "Epoch 13/50\n",
      "280/280 [==============================] - 22s 78ms/step - loss: 1.7448 - accuracy: 0.3413 - val_loss: 1.6445 - val_accuracy: 0.3317\n",
      "Epoch 14/50\n",
      "280/280 [==============================] - 22s 79ms/step - loss: 1.7128 - accuracy: 0.3535 - val_loss: 1.7051 - val_accuracy: 0.3351\n",
      "Epoch 15/50\n",
      "280/280 [==============================] - 22s 80ms/step - loss: 1.7329 - accuracy: 0.3498 - val_loss: 1.6065 - val_accuracy: 0.3061\n",
      "Epoch 16/50\n",
      "280/280 [==============================] - 22s 79ms/step - loss: 1.6847 - accuracy: 0.3646 - val_loss: 1.6630 - val_accuracy: 0.3310\n",
      "Epoch 17/50\n",
      "280/280 [==============================] - 22s 79ms/step - loss: 1.6390 - accuracy: 0.3821 - val_loss: 1.7524 - val_accuracy: 0.3245\n",
      "Epoch 18/50\n",
      "280/280 [==============================] - 22s 79ms/step - loss: 1.6529 - accuracy: 0.3751 - val_loss: 1.4646 - val_accuracy: 0.4043\n",
      "Epoch 19/50\n",
      "280/280 [==============================] - 22s 78ms/step - loss: 1.6035 - accuracy: 0.3976 - val_loss: 1.4474 - val_accuracy: 0.4119\n",
      "Epoch 20/50\n",
      "280/280 [==============================] - 22s 79ms/step - loss: 1.6056 - accuracy: 0.3973 - val_loss: 1.8976 - val_accuracy: 0.3306\n",
      "Epoch 21/50\n",
      "280/280 [==============================] - 22s 78ms/step - loss: 1.5809 - accuracy: 0.4047 - val_loss: 1.5386 - val_accuracy: 0.3971\n",
      "Epoch 22/50\n",
      "280/280 [==============================] - 22s 80ms/step - loss: 1.5476 - accuracy: 0.4174 - val_loss: 1.4538 - val_accuracy: 0.4189\n",
      "Epoch 23/50\n",
      "280/280 [==============================] - 22s 80ms/step - loss: 1.5570 - accuracy: 0.4214 - val_loss: 1.6750 - val_accuracy: 0.3494\n",
      "Epoch 24/50\n",
      "280/280 [==============================] - 22s 79ms/step - loss: 1.5484 - accuracy: 0.4203 - val_loss: 1.4346 - val_accuracy: 0.4207\n",
      "Epoch 25/50\n",
      "280/280 [==============================] - 22s 78ms/step - loss: 1.5111 - accuracy: 0.4308 - val_loss: 1.4152 - val_accuracy: 0.4458\n",
      "Epoch 26/50\n",
      "280/280 [==============================] - 22s 78ms/step - loss: 1.5120 - accuracy: 0.4388 - val_loss: 1.4701 - val_accuracy: 0.4144\n",
      "Epoch 27/50\n",
      "280/280 [==============================] - 23s 81ms/step - loss: 1.4787 - accuracy: 0.4451 - val_loss: 1.5029 - val_accuracy: 0.4043\n",
      "Epoch 28/50\n",
      "280/280 [==============================] - 22s 78ms/step - loss: 1.4759 - accuracy: 0.4447 - val_loss: 1.4338 - val_accuracy: 0.4126\n",
      "Epoch 29/50\n",
      "280/280 [==============================] - 22s 79ms/step - loss: 1.4688 - accuracy: 0.4482 - val_loss: 1.4877 - val_accuracy: 0.4032\n",
      "Epoch 30/50\n",
      "280/280 [==============================] - 23s 81ms/step - loss: 1.4588 - accuracy: 0.4528 - val_loss: 1.5284 - val_accuracy: 0.4135\n",
      "Epoch 31/50\n",
      "280/280 [==============================] - 23s 80ms/step - loss: 1.4316 - accuracy: 0.4632 - val_loss: 1.5208 - val_accuracy: 0.4231\n",
      "Epoch 32/50\n",
      "280/280 [==============================] - 23s 81ms/step - loss: 1.4358 - accuracy: 0.4634 - val_loss: 1.5345 - val_accuracy: 0.4126\n",
      "Epoch 33/50\n",
      "280/280 [==============================] - 23s 84ms/step - loss: 1.4098 - accuracy: 0.4735 - val_loss: 1.4157 - val_accuracy: 0.4621\n",
      "Epoch 34/50\n",
      "280/280 [==============================] - 23s 83ms/step - loss: 1.3877 - accuracy: 0.4814 - val_loss: 1.4333 - val_accuracy: 0.4603\n",
      "Epoch 35/50\n",
      "280/280 [==============================] - 23s 82ms/step - loss: 1.3871 - accuracy: 0.4828 - val_loss: 1.5157 - val_accuracy: 0.4435\n",
      "Epoch 36/50\n",
      "280/280 [==============================] - 23s 83ms/step - loss: 1.3707 - accuracy: 0.4832 - val_loss: 1.4046 - val_accuracy: 0.4236\n",
      "Epoch 37/50\n",
      "280/280 [==============================] - 24s 84ms/step - loss: 1.3576 - accuracy: 0.4907 - val_loss: 1.5164 - val_accuracy: 0.4384\n",
      "Epoch 38/50\n",
      "280/280 [==============================] - 38s 136ms/step - loss: 1.3707 - accuracy: 0.4935 - val_loss: 1.4673 - val_accuracy: 0.4305\n",
      "Epoch 39/50\n",
      "280/280 [==============================] - 38s 137ms/step - loss: 1.3449 - accuracy: 0.4936 - val_loss: 1.4307 - val_accuracy: 0.4671\n",
      "Epoch 40/50\n",
      "280/280 [==============================] - 34s 119ms/step - loss: 1.3338 - accuracy: 0.4968 - val_loss: 1.4306 - val_accuracy: 0.4225\n",
      "Epoch 41/50\n",
      "280/280 [==============================] - 24s 87ms/step - loss: 1.3284 - accuracy: 0.5027 - val_loss: 1.3566 - val_accuracy: 0.4406\n",
      "Epoch 42/50\n",
      "280/280 [==============================] - 22s 77ms/step - loss: 1.2995 - accuracy: 0.5111 - val_loss: 1.3496 - val_accuracy: 0.4834\n",
      "Epoch 43/50\n",
      "280/280 [==============================] - 22s 78ms/step - loss: 1.3084 - accuracy: 0.5134 - val_loss: 1.4030 - val_accuracy: 0.4635\n",
      "Epoch 44/50\n",
      "280/280 [==============================] - 22s 78ms/step - loss: 1.3006 - accuracy: 0.5150 - val_loss: 1.5662 - val_accuracy: 0.4377\n",
      "Epoch 45/50\n",
      "280/280 [==============================] - 27s 95ms/step - loss: 1.2672 - accuracy: 0.5203 - val_loss: 1.5280 - val_accuracy: 0.4429\n",
      "Epoch 46/50\n",
      "280/280 [==============================] - 22s 78ms/step - loss: 1.2711 - accuracy: 0.5212 - val_loss: 1.4655 - val_accuracy: 0.4715\n",
      "Epoch 47/50\n",
      "280/280 [==============================] - 26s 91ms/step - loss: 1.2758 - accuracy: 0.5279 - val_loss: 1.3829 - val_accuracy: 0.4731\n",
      "Epoch 48/50\n",
      "280/280 [==============================] - 23s 82ms/step - loss: 1.2643 - accuracy: 0.5288 - val_loss: 1.3598 - val_accuracy: 0.4682\n",
      "Epoch 49/50\n",
      "280/280 [==============================] - 24s 84ms/step - loss: 1.2555 - accuracy: 0.5344 - val_loss: 1.3320 - val_accuracy: 0.4888\n",
      "Epoch 50/50\n",
      "280/280 [==============================] - 22s 80ms/step - loss: 1.2466 - accuracy: 0.5303 - val_loss: 1.3603 - val_accuracy: 0.4892\n"
     ]
    },
    {
     "data": {
      "text/plain": [
       "<keras.callbacks.History at 0x284410a30d0>"
      ]
     },
     "execution_count": 48,
     "metadata": {},
     "output_type": "execute_result"
    }
   ],
   "source": [
    "model2.fit(train_2,epochs=50,validation_data=test_2,verbose=1,class_weight=class_weights)"
   ]
  },
  {
   "cell_type": "code",
   "execution_count": 49,
   "id": "c1055501",
   "metadata": {},
   "outputs": [
    {
     "name": "stdout",
     "output_type": "stream",
     "text": [
      "Epoch 1/50\n",
      "280/280 [==============================] - 39s 139ms/step - loss: 1.2385 - accuracy: 0.5360 - val_loss: 1.3620 - val_accuracy: 0.4686\n",
      "Epoch 2/50\n",
      "280/280 [==============================] - 35s 126ms/step - loss: 1.2305 - accuracy: 0.5328 - val_loss: 1.4513 - val_accuracy: 0.4648\n",
      "Epoch 3/50\n",
      "280/280 [==============================] - 27s 97ms/step - loss: 1.2568 - accuracy: 0.5265 - val_loss: 1.5004 - val_accuracy: 0.4458\n",
      "Epoch 4/50\n",
      "280/280 [==============================] - 22s 80ms/step - loss: 1.2288 - accuracy: 0.5337 - val_loss: 1.4370 - val_accuracy: 0.4733\n",
      "Epoch 5/50\n",
      "280/280 [==============================] - 22s 79ms/step - loss: 1.2057 - accuracy: 0.5425 - val_loss: 1.4430 - val_accuracy: 0.4471\n",
      "Epoch 6/50\n",
      "280/280 [==============================] - 23s 80ms/step - loss: 1.2060 - accuracy: 0.5478 - val_loss: 1.3774 - val_accuracy: 0.4709\n",
      "Epoch 7/50\n",
      "280/280 [==============================] - 23s 81ms/step - loss: 1.1909 - accuracy: 0.5530 - val_loss: 1.6132 - val_accuracy: 0.4350\n",
      "Epoch 8/50\n",
      "280/280 [==============================] - 23s 80ms/step - loss: 1.1807 - accuracy: 0.5568 - val_loss: 1.3285 - val_accuracy: 0.4957\n",
      "Epoch 9/50\n",
      "280/280 [==============================] - 23s 81ms/step - loss: 1.1859 - accuracy: 0.5493 - val_loss: 1.3809 - val_accuracy: 0.4789\n",
      "Epoch 10/50\n",
      "280/280 [==============================] - 22s 80ms/step - loss: 1.1941 - accuracy: 0.5508 - val_loss: 1.3632 - val_accuracy: 0.4724\n",
      "Epoch 11/50\n",
      "280/280 [==============================] - 23s 81ms/step - loss: 1.1821 - accuracy: 0.5571 - val_loss: 1.5012 - val_accuracy: 0.4601\n",
      "Epoch 12/50\n",
      "280/280 [==============================] - 23s 81ms/step - loss: 1.1662 - accuracy: 0.5588 - val_loss: 1.4101 - val_accuracy: 0.4883\n",
      "Epoch 13/50\n",
      "280/280 [==============================] - 22s 80ms/step - loss: 1.1663 - accuracy: 0.5605 - val_loss: 1.4895 - val_accuracy: 0.4632\n",
      "Epoch 14/50\n",
      "280/280 [==============================] - 23s 80ms/step - loss: 1.1477 - accuracy: 0.5605 - val_loss: 1.4731 - val_accuracy: 0.4529\n",
      "Epoch 15/50\n",
      "280/280 [==============================] - 22s 78ms/step - loss: 1.1143 - accuracy: 0.5738 - val_loss: 1.5422 - val_accuracy: 0.4550\n",
      "Epoch 16/50\n",
      " 75/280 [=======>......................] - ETA: 14s - loss: 1.1169 - accuracy: 0.5672"
     ]
    },
    {
     "ename": "KeyboardInterrupt",
     "evalue": "",
     "output_type": "error",
     "traceback": [
      "\u001b[1;31m---------------------------------------------------------------------------\u001b[0m",
      "\u001b[1;31mKeyboardInterrupt\u001b[0m                         Traceback (most recent call last)",
      "\u001b[1;32mC:\\Users\\ADMINI~1\\AppData\\Local\\Temp/ipykernel_13340/3547193475.py\u001b[0m in \u001b[0;36m<module>\u001b[1;34m\u001b[0m\n\u001b[1;32m----> 1\u001b[1;33m \u001b[0mmodel2\u001b[0m\u001b[1;33m.\u001b[0m\u001b[0mfit\u001b[0m\u001b[1;33m(\u001b[0m\u001b[0mtrain_2\u001b[0m\u001b[1;33m,\u001b[0m\u001b[0mepochs\u001b[0m\u001b[1;33m=\u001b[0m\u001b[1;36m50\u001b[0m\u001b[1;33m,\u001b[0m\u001b[0mvalidation_data\u001b[0m\u001b[1;33m=\u001b[0m\u001b[0mtest_2\u001b[0m\u001b[1;33m,\u001b[0m\u001b[0mverbose\u001b[0m\u001b[1;33m=\u001b[0m\u001b[1;36m1\u001b[0m\u001b[1;33m,\u001b[0m\u001b[0mclass_weight\u001b[0m\u001b[1;33m=\u001b[0m\u001b[0mclass_weights\u001b[0m\u001b[1;33m)\u001b[0m\u001b[1;33m\u001b[0m\u001b[1;33m\u001b[0m\u001b[0m\n\u001b[0m",
      "\u001b[1;32m~\\anaconda3\\envs\\tf\\lib\\site-packages\\keras\\utils\\traceback_utils.py\u001b[0m in \u001b[0;36merror_handler\u001b[1;34m(*args, **kwargs)\u001b[0m\n\u001b[0;32m     62\u001b[0m     \u001b[0mfiltered_tb\u001b[0m \u001b[1;33m=\u001b[0m \u001b[1;32mNone\u001b[0m\u001b[1;33m\u001b[0m\u001b[1;33m\u001b[0m\u001b[0m\n\u001b[0;32m     63\u001b[0m     \u001b[1;32mtry\u001b[0m\u001b[1;33m:\u001b[0m\u001b[1;33m\u001b[0m\u001b[1;33m\u001b[0m\u001b[0m\n\u001b[1;32m---> 64\u001b[1;33m       \u001b[1;32mreturn\u001b[0m \u001b[0mfn\u001b[0m\u001b[1;33m(\u001b[0m\u001b[1;33m*\u001b[0m\u001b[0margs\u001b[0m\u001b[1;33m,\u001b[0m \u001b[1;33m**\u001b[0m\u001b[0mkwargs\u001b[0m\u001b[1;33m)\u001b[0m\u001b[1;33m\u001b[0m\u001b[1;33m\u001b[0m\u001b[0m\n\u001b[0m\u001b[0;32m     65\u001b[0m     \u001b[1;32mexcept\u001b[0m \u001b[0mException\u001b[0m \u001b[1;32mas\u001b[0m \u001b[0me\u001b[0m\u001b[1;33m:\u001b[0m  \u001b[1;31m# pylint: disable=broad-except\u001b[0m\u001b[1;33m\u001b[0m\u001b[1;33m\u001b[0m\u001b[0m\n\u001b[0;32m     66\u001b[0m       \u001b[0mfiltered_tb\u001b[0m \u001b[1;33m=\u001b[0m \u001b[0m_process_traceback_frames\u001b[0m\u001b[1;33m(\u001b[0m\u001b[0me\u001b[0m\u001b[1;33m.\u001b[0m\u001b[0m__traceback__\u001b[0m\u001b[1;33m)\u001b[0m\u001b[1;33m\u001b[0m\u001b[1;33m\u001b[0m\u001b[0m\n",
      "\u001b[1;32m~\\anaconda3\\envs\\tf\\lib\\site-packages\\keras\\engine\\training.py\u001b[0m in \u001b[0;36mfit\u001b[1;34m(self, x, y, batch_size, epochs, verbose, callbacks, validation_split, validation_data, shuffle, class_weight, sample_weight, initial_epoch, steps_per_epoch, validation_steps, validation_batch_size, validation_freq, max_queue_size, workers, use_multiprocessing)\u001b[0m\n\u001b[0;32m   1382\u001b[0m                 _r=1):\n\u001b[0;32m   1383\u001b[0m               \u001b[0mcallbacks\u001b[0m\u001b[1;33m.\u001b[0m\u001b[0mon_train_batch_begin\u001b[0m\u001b[1;33m(\u001b[0m\u001b[0mstep\u001b[0m\u001b[1;33m)\u001b[0m\u001b[1;33m\u001b[0m\u001b[1;33m\u001b[0m\u001b[0m\n\u001b[1;32m-> 1384\u001b[1;33m               \u001b[0mtmp_logs\u001b[0m \u001b[1;33m=\u001b[0m \u001b[0mself\u001b[0m\u001b[1;33m.\u001b[0m\u001b[0mtrain_function\u001b[0m\u001b[1;33m(\u001b[0m\u001b[0miterator\u001b[0m\u001b[1;33m)\u001b[0m\u001b[1;33m\u001b[0m\u001b[1;33m\u001b[0m\u001b[0m\n\u001b[0m\u001b[0;32m   1385\u001b[0m               \u001b[1;32mif\u001b[0m \u001b[0mdata_handler\u001b[0m\u001b[1;33m.\u001b[0m\u001b[0mshould_sync\u001b[0m\u001b[1;33m:\u001b[0m\u001b[1;33m\u001b[0m\u001b[1;33m\u001b[0m\u001b[0m\n\u001b[0;32m   1386\u001b[0m                 \u001b[0mcontext\u001b[0m\u001b[1;33m.\u001b[0m\u001b[0masync_wait\u001b[0m\u001b[1;33m(\u001b[0m\u001b[1;33m)\u001b[0m\u001b[1;33m\u001b[0m\u001b[1;33m\u001b[0m\u001b[0m\n",
      "\u001b[1;32m~\\anaconda3\\envs\\tf\\lib\\site-packages\\tensorflow\\python\\util\\traceback_utils.py\u001b[0m in \u001b[0;36merror_handler\u001b[1;34m(*args, **kwargs)\u001b[0m\n\u001b[0;32m    148\u001b[0m     \u001b[0mfiltered_tb\u001b[0m \u001b[1;33m=\u001b[0m \u001b[1;32mNone\u001b[0m\u001b[1;33m\u001b[0m\u001b[1;33m\u001b[0m\u001b[0m\n\u001b[0;32m    149\u001b[0m     \u001b[1;32mtry\u001b[0m\u001b[1;33m:\u001b[0m\u001b[1;33m\u001b[0m\u001b[1;33m\u001b[0m\u001b[0m\n\u001b[1;32m--> 150\u001b[1;33m       \u001b[1;32mreturn\u001b[0m \u001b[0mfn\u001b[0m\u001b[1;33m(\u001b[0m\u001b[1;33m*\u001b[0m\u001b[0margs\u001b[0m\u001b[1;33m,\u001b[0m \u001b[1;33m**\u001b[0m\u001b[0mkwargs\u001b[0m\u001b[1;33m)\u001b[0m\u001b[1;33m\u001b[0m\u001b[1;33m\u001b[0m\u001b[0m\n\u001b[0m\u001b[0;32m    151\u001b[0m     \u001b[1;32mexcept\u001b[0m \u001b[0mException\u001b[0m \u001b[1;32mas\u001b[0m \u001b[0me\u001b[0m\u001b[1;33m:\u001b[0m\u001b[1;33m\u001b[0m\u001b[1;33m\u001b[0m\u001b[0m\n\u001b[0;32m    152\u001b[0m       \u001b[0mfiltered_tb\u001b[0m \u001b[1;33m=\u001b[0m \u001b[0m_process_traceback_frames\u001b[0m\u001b[1;33m(\u001b[0m\u001b[0me\u001b[0m\u001b[1;33m.\u001b[0m\u001b[0m__traceback__\u001b[0m\u001b[1;33m)\u001b[0m\u001b[1;33m\u001b[0m\u001b[1;33m\u001b[0m\u001b[0m\n",
      "\u001b[1;32m~\\anaconda3\\envs\\tf\\lib\\site-packages\\tensorflow\\python\\eager\\def_function.py\u001b[0m in \u001b[0;36m__call__\u001b[1;34m(self, *args, **kwds)\u001b[0m\n\u001b[0;32m    913\u001b[0m \u001b[1;33m\u001b[0m\u001b[0m\n\u001b[0;32m    914\u001b[0m       \u001b[1;32mwith\u001b[0m \u001b[0mOptionalXlaContext\u001b[0m\u001b[1;33m(\u001b[0m\u001b[0mself\u001b[0m\u001b[1;33m.\u001b[0m\u001b[0m_jit_compile\u001b[0m\u001b[1;33m)\u001b[0m\u001b[1;33m:\u001b[0m\u001b[1;33m\u001b[0m\u001b[1;33m\u001b[0m\u001b[0m\n\u001b[1;32m--> 915\u001b[1;33m         \u001b[0mresult\u001b[0m \u001b[1;33m=\u001b[0m \u001b[0mself\u001b[0m\u001b[1;33m.\u001b[0m\u001b[0m_call\u001b[0m\u001b[1;33m(\u001b[0m\u001b[1;33m*\u001b[0m\u001b[0margs\u001b[0m\u001b[1;33m,\u001b[0m \u001b[1;33m**\u001b[0m\u001b[0mkwds\u001b[0m\u001b[1;33m)\u001b[0m\u001b[1;33m\u001b[0m\u001b[1;33m\u001b[0m\u001b[0m\n\u001b[0m\u001b[0;32m    916\u001b[0m \u001b[1;33m\u001b[0m\u001b[0m\n\u001b[0;32m    917\u001b[0m       \u001b[0mnew_tracing_count\u001b[0m \u001b[1;33m=\u001b[0m \u001b[0mself\u001b[0m\u001b[1;33m.\u001b[0m\u001b[0mexperimental_get_tracing_count\u001b[0m\u001b[1;33m(\u001b[0m\u001b[1;33m)\u001b[0m\u001b[1;33m\u001b[0m\u001b[1;33m\u001b[0m\u001b[0m\n",
      "\u001b[1;32m~\\anaconda3\\envs\\tf\\lib\\site-packages\\tensorflow\\python\\eager\\def_function.py\u001b[0m in \u001b[0;36m_call\u001b[1;34m(self, *args, **kwds)\u001b[0m\n\u001b[0;32m    945\u001b[0m       \u001b[1;31m# In this case we have created variables on the first call, so we run the\u001b[0m\u001b[1;33m\u001b[0m\u001b[1;33m\u001b[0m\u001b[0m\n\u001b[0;32m    946\u001b[0m       \u001b[1;31m# defunned version which is guaranteed to never create variables.\u001b[0m\u001b[1;33m\u001b[0m\u001b[1;33m\u001b[0m\u001b[0m\n\u001b[1;32m--> 947\u001b[1;33m       \u001b[1;32mreturn\u001b[0m \u001b[0mself\u001b[0m\u001b[1;33m.\u001b[0m\u001b[0m_stateless_fn\u001b[0m\u001b[1;33m(\u001b[0m\u001b[1;33m*\u001b[0m\u001b[0margs\u001b[0m\u001b[1;33m,\u001b[0m \u001b[1;33m**\u001b[0m\u001b[0mkwds\u001b[0m\u001b[1;33m)\u001b[0m  \u001b[1;31m# pylint: disable=not-callable\u001b[0m\u001b[1;33m\u001b[0m\u001b[1;33m\u001b[0m\u001b[0m\n\u001b[0m\u001b[0;32m    948\u001b[0m     \u001b[1;32melif\u001b[0m \u001b[0mself\u001b[0m\u001b[1;33m.\u001b[0m\u001b[0m_stateful_fn\u001b[0m \u001b[1;32mis\u001b[0m \u001b[1;32mnot\u001b[0m \u001b[1;32mNone\u001b[0m\u001b[1;33m:\u001b[0m\u001b[1;33m\u001b[0m\u001b[1;33m\u001b[0m\u001b[0m\n\u001b[0;32m    949\u001b[0m       \u001b[1;31m# Release the lock early so that multiple threads can perform the call\u001b[0m\u001b[1;33m\u001b[0m\u001b[1;33m\u001b[0m\u001b[0m\n",
      "\u001b[1;32m~\\anaconda3\\envs\\tf\\lib\\site-packages\\tensorflow\\python\\eager\\function.py\u001b[0m in \u001b[0;36m__call__\u001b[1;34m(self, *args, **kwargs)\u001b[0m\n\u001b[0;32m   2954\u001b[0m       (graph_function,\n\u001b[0;32m   2955\u001b[0m        filtered_flat_args) = self._maybe_define_function(args, kwargs)\n\u001b[1;32m-> 2956\u001b[1;33m     return graph_function._call_flat(\n\u001b[0m\u001b[0;32m   2957\u001b[0m         filtered_flat_args, captured_inputs=graph_function.captured_inputs)  # pylint: disable=protected-access\n\u001b[0;32m   2958\u001b[0m \u001b[1;33m\u001b[0m\u001b[0m\n",
      "\u001b[1;32m~\\anaconda3\\envs\\tf\\lib\\site-packages\\tensorflow\\python\\eager\\function.py\u001b[0m in \u001b[0;36m_call_flat\u001b[1;34m(self, args, captured_inputs, cancellation_manager)\u001b[0m\n\u001b[0;32m   1851\u001b[0m         and executing_eagerly):\n\u001b[0;32m   1852\u001b[0m       \u001b[1;31m# No tape is watching; skip to running the function.\u001b[0m\u001b[1;33m\u001b[0m\u001b[1;33m\u001b[0m\u001b[0m\n\u001b[1;32m-> 1853\u001b[1;33m       return self._build_call_outputs(self._inference_function.call(\n\u001b[0m\u001b[0;32m   1854\u001b[0m           ctx, args, cancellation_manager=cancellation_manager))\n\u001b[0;32m   1855\u001b[0m     forward_backward = self._select_forward_and_backward_functions(\n",
      "\u001b[1;32m~\\anaconda3\\envs\\tf\\lib\\site-packages\\tensorflow\\python\\eager\\function.py\u001b[0m in \u001b[0;36mcall\u001b[1;34m(self, ctx, args, cancellation_manager)\u001b[0m\n\u001b[0;32m    497\u001b[0m       \u001b[1;32mwith\u001b[0m \u001b[0m_InterpolateFunctionError\u001b[0m\u001b[1;33m(\u001b[0m\u001b[0mself\u001b[0m\u001b[1;33m)\u001b[0m\u001b[1;33m:\u001b[0m\u001b[1;33m\u001b[0m\u001b[1;33m\u001b[0m\u001b[0m\n\u001b[0;32m    498\u001b[0m         \u001b[1;32mif\u001b[0m \u001b[0mcancellation_manager\u001b[0m \u001b[1;32mis\u001b[0m \u001b[1;32mNone\u001b[0m\u001b[1;33m:\u001b[0m\u001b[1;33m\u001b[0m\u001b[1;33m\u001b[0m\u001b[0m\n\u001b[1;32m--> 499\u001b[1;33m           outputs = execute.execute(\n\u001b[0m\u001b[0;32m    500\u001b[0m               \u001b[0mstr\u001b[0m\u001b[1;33m(\u001b[0m\u001b[0mself\u001b[0m\u001b[1;33m.\u001b[0m\u001b[0msignature\u001b[0m\u001b[1;33m.\u001b[0m\u001b[0mname\u001b[0m\u001b[1;33m)\u001b[0m\u001b[1;33m,\u001b[0m\u001b[1;33m\u001b[0m\u001b[1;33m\u001b[0m\u001b[0m\n\u001b[0;32m    501\u001b[0m               \u001b[0mnum_outputs\u001b[0m\u001b[1;33m=\u001b[0m\u001b[0mself\u001b[0m\u001b[1;33m.\u001b[0m\u001b[0m_num_outputs\u001b[0m\u001b[1;33m,\u001b[0m\u001b[1;33m\u001b[0m\u001b[1;33m\u001b[0m\u001b[0m\n",
      "\u001b[1;32m~\\anaconda3\\envs\\tf\\lib\\site-packages\\tensorflow\\python\\eager\\execute.py\u001b[0m in \u001b[0;36mquick_execute\u001b[1;34m(op_name, num_outputs, inputs, attrs, ctx, name)\u001b[0m\n\u001b[0;32m     52\u001b[0m   \u001b[1;32mtry\u001b[0m\u001b[1;33m:\u001b[0m\u001b[1;33m\u001b[0m\u001b[1;33m\u001b[0m\u001b[0m\n\u001b[0;32m     53\u001b[0m     \u001b[0mctx\u001b[0m\u001b[1;33m.\u001b[0m\u001b[0mensure_initialized\u001b[0m\u001b[1;33m(\u001b[0m\u001b[1;33m)\u001b[0m\u001b[1;33m\u001b[0m\u001b[1;33m\u001b[0m\u001b[0m\n\u001b[1;32m---> 54\u001b[1;33m     tensors = pywrap_tfe.TFE_Py_Execute(ctx._handle, device_name, op_name,\n\u001b[0m\u001b[0;32m     55\u001b[0m                                         inputs, attrs, num_outputs)\n\u001b[0;32m     56\u001b[0m   \u001b[1;32mexcept\u001b[0m \u001b[0mcore\u001b[0m\u001b[1;33m.\u001b[0m\u001b[0m_NotOkStatusException\u001b[0m \u001b[1;32mas\u001b[0m \u001b[0me\u001b[0m\u001b[1;33m:\u001b[0m\u001b[1;33m\u001b[0m\u001b[1;33m\u001b[0m\u001b[0m\n",
      "\u001b[1;31mKeyboardInterrupt\u001b[0m: "
     ]
    }
   ],
   "source": [
    "model2.fit(train_2,epochs=50,validation_data=test_2,verbose=1,class_weight=class_weights)"
   ]
  },
  {
   "cell_type": "code",
   "execution_count": 8,
   "id": "c349f474",
   "metadata": {},
   "outputs": [
    {
     "data": {
      "image/png": "[encoded data removed]",
      "text/plain": [
       "<Figure size 432x288 with 1 Axes>"
      ]
     },
     "metadata": {
      "needs_background": "light"
     },
     "output_type": "display_data"
    }
   ],
   "source": [
    "x = [1,2,3,4,5,6,7,15,25,60,80,100,140,200,300,500,700,1500]\n",
    "train = [20.13,24.65,29.17,32.52,35.26,37.29,38.83,47.27,52.14,59.61,61.77,63.21,65.7,67.43,69.48,70,71,73]\n",
    "test = [24.19,32.31,37.49,37.84,40.37,43.47,44.29,52.4,56.56,60.94,62.25,63.03,64.15,63.57,64.46,65.07,64.7,64.8]\n",
    "fig, ax = plt.subplots()\n",
    "ax.set_xlabel(\"n_iterations\")\n",
    "ax.set_ylabel(\"accuracy\")\n",
    "ax.set_title(\"Accuracy vs number of iterations\")\n",
    "ax.plot(x, train,  label=\"train\")\n",
    "ax.plot(x, test,  label=\"test\" )\n",
    "ax.legend()\n",
    "plt.show()"
   ]
  },
  {
   "cell_type": "code",
   "execution_count": 9,
   "id": "b3159f06",
   "metadata": {},
   "outputs": [
    {
     "data": {
      "image/png": "[encoded data removed]",
      "text/plain": [
       "<Figure size 432x288 with 1 Axes>"
      ]
     },
     "metadata": {
      "needs_background": "light"
     },
     "output_type": "display_data"
    }
   ],
   "source": [
    "x = [1,2,3,5,6,10,15,20,30,35,42,45,50]\n",
    "train = [38.3,51.6,54.9,55.2,57.8,61.8,65,70,75.7,80,85.6,87,89]\n",
    "test = [13.4,38.5,54.7,54.7,56.6,58,54.4,60,62.8,59.7,64,62.1,60.8]\n",
    "fig, ax = plt.subplots()\n",
    "ax.set_xlabel(\"n_iterations\")\n",
    "ax.set_ylabel(\"accuracy\")\n",
    "ax.set_title(\"Accuracy vs number of iterations\")\n",
    "ax.plot(x, train,  label=\"train\")\n",
    "ax.plot(x, test,  label=\"test\" )\n",
    "ax.legend()\n",
    "plt.show()"
   ]
  },
  {
   "cell_type": "code",
   "execution_count": null,
   "id": "80cc3270",
   "metadata": {},
   "outputs": [],
   "source": []
  }
 ],
 "metadata": {
  "kernelspec": {
   "display_name": "Python 3 (ipykernel)",
   "language": "python",
   "name": "python3"
  },
  "language_info": {
   "codemirror_mode": {
    "name": "ipython",
    "version": 3
   },
   "file_extension": ".py",
   "mimetype": "text/x-python",
   "name": "python",
   "nbconvert_exporter": "python",
   "pygments_lexer": "ipython3",
   "version": "3.9.7"
  }
 },
 "nbformat": 4,
 "nbformat_minor": 5
}
